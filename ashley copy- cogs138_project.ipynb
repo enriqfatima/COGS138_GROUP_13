{
 "cells": [
  {
   "cell_type": "markdown",
   "metadata": {},
   "source": [
    "# COGS 138 Final Project"
   ]
  },
  {
   "cell_type": "markdown",
   "metadata": {},
   "source": [
    "## Names"
   ]
  },
  {
   "cell_type": "markdown",
   "metadata": {},
   "source": [
    "- Fatima Enriquez\n",
    "- Ashley Chavarria\n",
    "- Tiffany Gunawan\n",
    "- Hiroki Ito"
   ]
  },
  {
   "cell_type": "markdown",
   "metadata": {},
   "source": [
    "## Reseach Question"
   ]
  },
  {
   "cell_type": "markdown",
   "metadata": {},
   "source": [
    "How does the pattern of brain atrophy differ between patients with Alzheimer’s disease and healthy controls, and can these differences be used to prototype a predictive model to predict disease progression?"
   ]
  },
  {
   "cell_type": "markdown",
   "metadata": {},
   "source": [
    "## Background & Prior Work"
   ]
  },
  {
   "cell_type": "markdown",
   "metadata": {},
   "source": [
    "Our group’s decision to focus on brain atrophy in Alzheimer’s patients is per our discussion for a need to create better diagnostic and prognostic tools in managing this debilitating condition. Alzheimer's is a very common type of dementia with progressive symptoms, starting with mild memory loss and possibly leading to the loss of ability to carry on a conversation and respond to your general surroundings. According to the CDC, scientists do not fully know what causes Alzheimer’s disease, but there are multiple factors that can affect each person differently: age, family history, changes in the brain, and possibly education, diet, and environment. Most of what is known are the symptoms of Alzheimer’s, typically regarding memory problems being the first warning sign followed by difficulty completing familiar tasks, misplacing things, and changes in mood and behavior. [(CDC, 2020)](https://www.cdc.gov/aging/aginginfo/alzheimers.htm)\n",
    "\n",
    "From what we knew before, there is no single test that can determine if a person is living with Alzheimer’s. Doctors employ a range of diagnostic methods for diagnosing including an integration of medical history, neurological exams, cognitive assessments, brain imaging, and blood examinations to make an accurate diagnosis. Recently, however, there has been a new usage of biomarkers to help diagnose Alzheimer’s disease, particularly focusing on brain imaging. According to the National Institute on Aging, brain scans are allowing doctors to see different factors that may help in diagnosis via CT, MRI, and PET scan. [(NIA, 2022)](https://www.nia.nih.gov/health/alzheimers-symptoms-and-diagnosis/how-biomarkers-help-diagnose-dementia#types_biomarkers_tests) Our group specifically wanted to focus on MRI for this project due to its versatility. \n",
    "    \n",
    "Magnetic resonance imaging is a noninvasive technique that uses magnetic fields and radio waves to produce detailed images of body structures, and similar to CT scans, MRIs can show areas of the brain that have shrunk. Additionally, repeated MRIs can show a person’s brain changes over time, which may lead to evidence of shrinkage and can be used in many diagnoses. [(John Hopkins Medicine, 2024)](https://www.hopkinsmedicine.org/health/treatment-tests-and-therapies/magnetic-resonance-imaging-mri) This has our group wondering, if MRIs can be used to note shrinkage in the brain, and according to the NIA, Alzheimer’s results as neuronal death which can affect the brain via tissue death and shrinkage, then we can possibly use MRI as a predictive method for Alzheimer's disease."
   ]
  },
  {
   "cell_type": "markdown",
   "metadata": {},
   "source": [
    "For this project, we chose to separate it into two parts. \n",
    "\n",
    "1. Comparisons in normal brain volume and demented brain volume\n",
    "2. Computer vision application of multiple fMRI images of patients to prototype a predictive model for the prediction of Alzheimer's Disease"
   ]
  },
  {
   "cell_type": "markdown",
   "metadata": {},
   "source": [
    "## Installations"
   ]
  },
  {
   "cell_type": "code",
   "execution_count": 1,
   "metadata": {
    "scrolled": true
   },
   "outputs": [],
   "source": [
    "#pip install Pillow"
   ]
  },
  {
   "cell_type": "code",
   "execution_count": 2,
   "metadata": {},
   "outputs": [
    {
     "name": "stdout",
     "output_type": "stream",
     "text": [
<<<<<<< Updated upstream
      "Defaulting to user installation because normal site-packages is not writeable\n",
      "Requirement already satisfied: opencv-python in ./.local/lib/python3.9/site-packages (4.9.0.80)\n",
      "Requirement already satisfied: numpy>=1.19.3 in ./.local/lib/python3.9/site-packages (from opencv-python) (1.26.4)\n",
=======
      "Requirement already satisfied: opencv-python in c:\\users\\tiffa\\anaconda3\\lib\\site-packages (4.9.0.80)\n",
      "Requirement already satisfied: numpy>=1.21.2 in c:\\users\\tiffa\\anaconda3\\lib\\site-packages (from opencv-python) (1.23.5)\n",
>>>>>>> Stashed changes
      "Note: you may need to restart the kernel to use updated packages.\n"
     ]
    }
   ],
   "source": [
    "pip install opencv-python"
   ]
  },
  {
   "cell_type": "markdown",
   "metadata": {},
   "source": [
    "## Imports: "
   ]
  },
  {
   "cell_type": "code",
   "execution_count": 3,
   "metadata": {},
   "outputs": [
    {
     "name": "stderr",
     "output_type": "stream",
     "text": [
      "/opt/conda/lib/python3.9/site-packages/scipy/__init__.py:146: UserWarning: A NumPy version >=1.16.5 and <1.23.0 is required for this version of SciPy (detected version 1.26.4\n",
      "  warnings.warn(f\"A NumPy version >={np_minversion} and <{np_maxversion}\"\n"
     ]
    }
   ],
   "source": [
    "import pandas as pd\n",
    "import numpy as np\n",
    "import matplotlib.pyplot as plt\n",
    "import seaborn as sns\n",
    "import sklearn\n",
    "\n",
    "from PIL import Image\n",
    "import glob, os\n",
    "\n",
    "from pathlib import Path\n",
    "import imghdr\n",
    "\n",
    "import cv2\n",
    "from pathlib import Path"
   ]
  },
  {
   "cell_type": "markdown",
   "metadata": {},
   "source": [
    "## Data Overview: "
   ]
  },
  {
   "cell_type": "markdown",
   "metadata": {},
   "source": [
    "The dataset below is the exact same as the oasis datasets..."
   ]
  },
  {
   "cell_type": "markdown",
   "metadata": {},
   "source": [
    "#### Dataset #1\n",
    "- Name: Oasis_cross_sectional\n",
    "- Link to dataset: https://sites.wustl.edu/oasisbrains/home/oasis-1/\n",
    "- Number of observations: 436\n",
    "- Number of variables: 12\n",
    "- Variables of interest: gender (M/F), volume (eTIV, nWBV)"
   ]
  },
  {
   "cell_type": "code",
   "execution_count": 4,
   "metadata": {},
   "outputs": [],
   "source": [
    "oasis_cross_sectional=pd.read_csv('Datasets\\oasis_cross-sectional.csv')"
   ]
  },
  {
   "cell_type": "code",
   "execution_count": 5,
   "metadata": {
    "scrolled": false
   },
   "outputs": [
    {
     "data": {
      "text/html": [
       "<div>\n",
       "<style scoped>\n",
       "    .dataframe tbody tr th:only-of-type {\n",
       "        vertical-align: middle;\n",
       "    }\n",
       "\n",
       "    .dataframe tbody tr th {\n",
       "        vertical-align: top;\n",
       "    }\n",
       "\n",
       "    .dataframe thead th {\n",
       "        text-align: right;\n",
       "    }\n",
       "</style>\n",
       "<table border=\"1\" class=\"dataframe\">\n",
       "  <thead>\n",
       "    <tr style=\"text-align: right;\">\n",
       "      <th></th>\n",
       "      <th>ID</th>\n",
       "      <th>M/F</th>\n",
       "      <th>Hand</th>\n",
       "      <th>Age</th>\n",
       "      <th>Educ</th>\n",
       "      <th>SES</th>\n",
       "      <th>MMSE</th>\n",
       "      <th>CDR</th>\n",
       "      <th>eTIV</th>\n",
       "      <th>nWBV</th>\n",
       "      <th>ASF</th>\n",
       "      <th>Delay</th>\n",
       "    </tr>\n",
       "  </thead>\n",
       "  <tbody>\n",
       "    <tr>\n",
       "      <th>0</th>\n",
       "      <td>OAS1_0001_MR1</td>\n",
       "      <td>F</td>\n",
       "      <td>R</td>\n",
       "      <td>74</td>\n",
       "      <td>2.0</td>\n",
       "      <td>3.0</td>\n",
       "      <td>29.0</td>\n",
       "      <td>0.0</td>\n",
       "      <td>1344</td>\n",
       "      <td>0.743</td>\n",
       "      <td>1.306</td>\n",
       "      <td>NaN</td>\n",
       "    </tr>\n",
       "    <tr>\n",
       "      <th>1</th>\n",
       "      <td>OAS1_0002_MR1</td>\n",
       "      <td>F</td>\n",
       "      <td>R</td>\n",
       "      <td>55</td>\n",
       "      <td>4.0</td>\n",
       "      <td>1.0</td>\n",
       "      <td>29.0</td>\n",
       "      <td>0.0</td>\n",
       "      <td>1147</td>\n",
       "      <td>0.810</td>\n",
       "      <td>1.531</td>\n",
       "      <td>NaN</td>\n",
       "    </tr>\n",
       "    <tr>\n",
       "      <th>2</th>\n",
       "      <td>OAS1_0003_MR1</td>\n",
       "      <td>F</td>\n",
       "      <td>R</td>\n",
       "      <td>73</td>\n",
       "      <td>4.0</td>\n",
       "      <td>3.0</td>\n",
       "      <td>27.0</td>\n",
       "      <td>0.5</td>\n",
       "      <td>1454</td>\n",
       "      <td>0.708</td>\n",
       "      <td>1.207</td>\n",
       "      <td>NaN</td>\n",
       "    </tr>\n",
       "    <tr>\n",
       "      <th>3</th>\n",
       "      <td>OAS1_0004_MR1</td>\n",
       "      <td>M</td>\n",
       "      <td>R</td>\n",
       "      <td>28</td>\n",
       "      <td>NaN</td>\n",
       "      <td>NaN</td>\n",
       "      <td>NaN</td>\n",
       "      <td>NaN</td>\n",
       "      <td>1588</td>\n",
       "      <td>0.803</td>\n",
       "      <td>1.105</td>\n",
       "      <td>NaN</td>\n",
       "    </tr>\n",
       "    <tr>\n",
       "      <th>4</th>\n",
       "      <td>OAS1_0005_MR1</td>\n",
       "      <td>M</td>\n",
       "      <td>R</td>\n",
       "      <td>18</td>\n",
       "      <td>NaN</td>\n",
       "      <td>NaN</td>\n",
       "      <td>NaN</td>\n",
       "      <td>NaN</td>\n",
       "      <td>1737</td>\n",
       "      <td>0.848</td>\n",
       "      <td>1.010</td>\n",
       "      <td>NaN</td>\n",
       "    </tr>\n",
       "  </tbody>\n",
       "</table>\n",
       "</div>"
      ],
      "text/plain": [
       "              ID M/F Hand  Age  Educ  SES  MMSE  CDR  eTIV   nWBV    ASF  \\\n",
       "0  OAS1_0001_MR1   F    R   74   2.0  3.0  29.0  0.0  1344  0.743  1.306   \n",
       "1  OAS1_0002_MR1   F    R   55   4.0  1.0  29.0  0.0  1147  0.810  1.531   \n",
       "2  OAS1_0003_MR1   F    R   73   4.0  3.0  27.0  0.5  1454  0.708  1.207   \n",
       "3  OAS1_0004_MR1   M    R   28   NaN  NaN   NaN  NaN  1588  0.803  1.105   \n",
       "4  OAS1_0005_MR1   M    R   18   NaN  NaN   NaN  NaN  1737  0.848  1.010   \n",
       "\n",
       "   Delay  \n",
       "0    NaN  \n",
       "1    NaN  \n",
       "2    NaN  \n",
       "3    NaN  \n",
       "4    NaN  "
      ]
     },
     "execution_count": 5,
     "metadata": {},
     "output_type": "execute_result"
    }
   ],
   "source": [
    "oasis_cross_sectional.head()"
   ]
  },
  {
   "cell_type": "code",
   "execution_count": 6,
   "metadata": {
    "scrolled": false
   },
   "outputs": [
    {
     "data": {
      "text/plain": [
       "(436, 12)"
      ]
     },
     "execution_count": 6,
     "metadata": {},
     "output_type": "execute_result"
    }
   ],
   "source": [
    "oasis_cross_sectional.shape"
   ]
  },
  {
   "cell_type": "code",
   "execution_count": 7,
   "metadata": {
    "scrolled": true
   },
   "outputs": [
    {
     "data": {
      "text/plain": [
       "ID        object\n",
       "M/F       object\n",
       "Hand      object\n",
       "Age        int64\n",
       "Educ     float64\n",
       "SES      float64\n",
       "MMSE     float64\n",
       "CDR      float64\n",
       "eTIV       int64\n",
       "nWBV     float64\n",
       "ASF      float64\n",
       "Delay    float64\n",
       "dtype: object"
      ]
     },
     "execution_count": 7,
     "metadata": {},
     "output_type": "execute_result"
    }
   ],
   "source": [
    "oasis_cross_sectional.dtypes"
   ]
  },
  {
   "cell_type": "code",
   "execution_count": 8,
   "metadata": {
    "scrolled": true
   },
   "outputs": [
    {
     "data": {
      "text/html": [
       "<div>\n",
       "<style scoped>\n",
       "    .dataframe tbody tr th:only-of-type {\n",
       "        vertical-align: middle;\n",
       "    }\n",
       "\n",
       "    .dataframe tbody tr th {\n",
       "        vertical-align: top;\n",
       "    }\n",
       "\n",
       "    .dataframe thead th {\n",
       "        text-align: right;\n",
       "    }\n",
       "</style>\n",
       "<table border=\"1\" class=\"dataframe\">\n",
       "  <thead>\n",
       "    <tr style=\"text-align: right;\">\n",
       "      <th></th>\n",
       "      <th>Age</th>\n",
       "      <th>Educ</th>\n",
       "      <th>SES</th>\n",
       "      <th>MMSE</th>\n",
       "      <th>CDR</th>\n",
       "      <th>eTIV</th>\n",
       "      <th>nWBV</th>\n",
       "      <th>ASF</th>\n",
       "      <th>Delay</th>\n",
       "    </tr>\n",
       "  </thead>\n",
       "  <tbody>\n",
       "    <tr>\n",
       "      <th>count</th>\n",
       "      <td>436.000000</td>\n",
       "      <td>235.000000</td>\n",
       "      <td>216.000000</td>\n",
       "      <td>235.00000</td>\n",
       "      <td>235.000000</td>\n",
       "      <td>436.000000</td>\n",
       "      <td>436.000000</td>\n",
       "      <td>436.000000</td>\n",
       "      <td>20.00000</td>\n",
       "    </tr>\n",
       "    <tr>\n",
       "      <th>mean</th>\n",
       "      <td>51.357798</td>\n",
       "      <td>3.178723</td>\n",
       "      <td>2.490741</td>\n",
       "      <td>27.06383</td>\n",
       "      <td>0.285106</td>\n",
       "      <td>1481.919725</td>\n",
       "      <td>0.791670</td>\n",
       "      <td>1.198894</td>\n",
       "      <td>20.55000</td>\n",
       "    </tr>\n",
       "    <tr>\n",
       "      <th>std</th>\n",
       "      <td>25.269862</td>\n",
       "      <td>1.311510</td>\n",
       "      <td>1.120593</td>\n",
       "      <td>3.69687</td>\n",
       "      <td>0.383405</td>\n",
       "      <td>158.740866</td>\n",
       "      <td>0.059937</td>\n",
       "      <td>0.128682</td>\n",
       "      <td>23.86249</td>\n",
       "    </tr>\n",
       "    <tr>\n",
       "      <th>min</th>\n",
       "      <td>18.000000</td>\n",
       "      <td>1.000000</td>\n",
       "      <td>1.000000</td>\n",
       "      <td>14.00000</td>\n",
       "      <td>0.000000</td>\n",
       "      <td>1123.000000</td>\n",
       "      <td>0.644000</td>\n",
       "      <td>0.881000</td>\n",
       "      <td>1.00000</td>\n",
       "    </tr>\n",
       "    <tr>\n",
       "      <th>25%</th>\n",
       "      <td>23.000000</td>\n",
       "      <td>2.000000</td>\n",
       "      <td>2.000000</td>\n",
       "      <td>26.00000</td>\n",
       "      <td>0.000000</td>\n",
       "      <td>1367.750000</td>\n",
       "      <td>0.742750</td>\n",
       "      <td>1.111750</td>\n",
       "      <td>2.75000</td>\n",
       "    </tr>\n",
       "    <tr>\n",
       "      <th>50%</th>\n",
       "      <td>54.000000</td>\n",
       "      <td>3.000000</td>\n",
       "      <td>2.000000</td>\n",
       "      <td>29.00000</td>\n",
       "      <td>0.000000</td>\n",
       "      <td>1475.500000</td>\n",
       "      <td>0.809000</td>\n",
       "      <td>1.190000</td>\n",
       "      <td>11.00000</td>\n",
       "    </tr>\n",
       "    <tr>\n",
       "      <th>75%</th>\n",
       "      <td>74.000000</td>\n",
       "      <td>4.000000</td>\n",
       "      <td>3.000000</td>\n",
       "      <td>30.00000</td>\n",
       "      <td>0.500000</td>\n",
       "      <td>1579.250000</td>\n",
       "      <td>0.842000</td>\n",
       "      <td>1.284250</td>\n",
       "      <td>30.75000</td>\n",
       "    </tr>\n",
       "    <tr>\n",
       "      <th>max</th>\n",
       "      <td>96.000000</td>\n",
       "      <td>5.000000</td>\n",
       "      <td>5.000000</td>\n",
       "      <td>30.00000</td>\n",
       "      <td>2.000000</td>\n",
       "      <td>1992.000000</td>\n",
       "      <td>0.893000</td>\n",
       "      <td>1.563000</td>\n",
       "      <td>89.00000</td>\n",
       "    </tr>\n",
       "  </tbody>\n",
       "</table>\n",
       "</div>"
      ],
      "text/plain": [
       "              Age        Educ         SES       MMSE         CDR         eTIV  \\\n",
       "count  436.000000  235.000000  216.000000  235.00000  235.000000   436.000000   \n",
       "mean    51.357798    3.178723    2.490741   27.06383    0.285106  1481.919725   \n",
       "std     25.269862    1.311510    1.120593    3.69687    0.383405   158.740866   \n",
       "min     18.000000    1.000000    1.000000   14.00000    0.000000  1123.000000   \n",
       "25%     23.000000    2.000000    2.000000   26.00000    0.000000  1367.750000   \n",
       "50%     54.000000    3.000000    2.000000   29.00000    0.000000  1475.500000   \n",
       "75%     74.000000    4.000000    3.000000   30.00000    0.500000  1579.250000   \n",
       "max     96.000000    5.000000    5.000000   30.00000    2.000000  1992.000000   \n",
       "\n",
       "             nWBV         ASF     Delay  \n",
       "count  436.000000  436.000000  20.00000  \n",
       "mean     0.791670    1.198894  20.55000  \n",
       "std      0.059937    0.128682  23.86249  \n",
       "min      0.644000    0.881000   1.00000  \n",
       "25%      0.742750    1.111750   2.75000  \n",
       "50%      0.809000    1.190000  11.00000  \n",
       "75%      0.842000    1.284250  30.75000  \n",
       "max      0.893000    1.563000  89.00000  "
      ]
     },
     "execution_count": 8,
     "metadata": {},
     "output_type": "execute_result"
    }
   ],
   "source": [
    "oasis_cross_sectional.describe()"
   ]
  },
  {
   "cell_type": "code",
   "execution_count": 9,
   "metadata": {
    "scrolled": true
   },
   "outputs": [
    {
     "data": {
      "text/html": [
       "<div>\n",
       "<style scoped>\n",
       "    .dataframe tbody tr th:only-of-type {\n",
       "        vertical-align: middle;\n",
       "    }\n",
       "\n",
       "    .dataframe tbody tr th {\n",
       "        vertical-align: top;\n",
       "    }\n",
       "\n",
       "    .dataframe thead th {\n",
       "        text-align: right;\n",
       "    }\n",
       "</style>\n",
       "<table border=\"1\" class=\"dataframe\">\n",
       "  <thead>\n",
       "    <tr style=\"text-align: right;\">\n",
       "      <th></th>\n",
       "      <th>ID</th>\n",
       "      <th>M/F</th>\n",
       "      <th>nWBV</th>\n",
       "    </tr>\n",
       "  </thead>\n",
       "  <tbody>\n",
       "    <tr>\n",
       "      <th>134</th>\n",
       "      <td>OAS1_0144_MR1</td>\n",
       "      <td>M</td>\n",
       "      <td>0.865</td>\n",
       "    </tr>\n",
       "    <tr>\n",
       "      <th>119</th>\n",
       "      <td>OAS1_0129_MR1</td>\n",
       "      <td>M</td>\n",
       "      <td>0.846</td>\n",
       "    </tr>\n",
       "    <tr>\n",
       "      <th>121</th>\n",
       "      <td>OAS1_0131_MR1</td>\n",
       "      <td>M</td>\n",
       "      <td>0.824</td>\n",
       "    </tr>\n",
       "    <tr>\n",
       "      <th>122</th>\n",
       "      <td>OAS1_0132_MR1</td>\n",
       "      <td>M</td>\n",
       "      <td>0.850</td>\n",
       "    </tr>\n",
       "    <tr>\n",
       "      <th>300</th>\n",
       "      <td>OAS1_0332_MR1</td>\n",
       "      <td>M</td>\n",
       "      <td>0.762</td>\n",
       "    </tr>\n",
       "  </tbody>\n",
       "</table>\n",
       "</div>"
      ],
      "text/plain": [
       "                ID M/F   nWBV\n",
       "134  OAS1_0144_MR1   M  0.865\n",
       "119  OAS1_0129_MR1   M  0.846\n",
       "121  OAS1_0131_MR1   M  0.824\n",
       "122  OAS1_0132_MR1   M  0.850\n",
       "300  OAS1_0332_MR1   M  0.762"
      ]
     },
     "execution_count": 9,
     "metadata": {},
     "output_type": "execute_result"
    }
   ],
   "source": [
    "# Since we only care about sex and brain volume, we will drop all other columns\n",
    "# We will also arrange our dataset on the 'M/F' column for easier merging\n",
    "\n",
    "oasis_cross_sectional=oasis_cross_sectional.drop(columns=['Age','Hand', 'Educ', 'SES', 'MMSE', 'CDR', 'ASF', 'Delay', 'eTIV'])\n",
    "oasis_cross_sectional=oasis_cross_sectional.sort_values('M/F', ascending=False)\n",
    "oasis_cross_sectional.head()"
   ]
  },
  {
   "cell_type": "code",
   "execution_count": 10,
   "metadata": {},
   "outputs": [
    {
     "data": {
      "text/html": [
       "<div>\n",
       "<style scoped>\n",
       "    .dataframe tbody tr th:only-of-type {\n",
       "        vertical-align: middle;\n",
       "    }\n",
       "\n",
       "    .dataframe tbody tr th {\n",
       "        vertical-align: top;\n",
       "    }\n",
       "\n",
       "    .dataframe thead th {\n",
       "        text-align: right;\n",
       "    }\n",
       "</style>\n",
       "<table border=\"1\" class=\"dataframe\">\n",
       "  <thead>\n",
       "    <tr style=\"text-align: right;\">\n",
       "      <th></th>\n",
       "      <th>nWBV</th>\n",
       "    </tr>\n",
       "  </thead>\n",
       "  <tbody>\n",
       "    <tr>\n",
       "      <th>count</th>\n",
       "      <td>436.000000</td>\n",
       "    </tr>\n",
       "    <tr>\n",
       "      <th>mean</th>\n",
       "      <td>0.791670</td>\n",
       "    </tr>\n",
       "    <tr>\n",
       "      <th>std</th>\n",
       "      <td>0.059937</td>\n",
       "    </tr>\n",
       "    <tr>\n",
       "      <th>min</th>\n",
       "      <td>0.644000</td>\n",
       "    </tr>\n",
       "    <tr>\n",
       "      <th>25%</th>\n",
       "      <td>0.742750</td>\n",
       "    </tr>\n",
       "    <tr>\n",
       "      <th>50%</th>\n",
       "      <td>0.809000</td>\n",
       "    </tr>\n",
       "    <tr>\n",
       "      <th>75%</th>\n",
       "      <td>0.842000</td>\n",
       "    </tr>\n",
       "    <tr>\n",
       "      <th>max</th>\n",
       "      <td>0.893000</td>\n",
       "    </tr>\n",
       "  </tbody>\n",
       "</table>\n",
       "</div>"
      ],
      "text/plain": [
       "             nWBV\n",
       "count  436.000000\n",
       "mean     0.791670\n",
       "std      0.059937\n",
       "min      0.644000\n",
       "25%      0.742750\n",
       "50%      0.809000\n",
       "75%      0.842000\n",
       "max      0.893000"
      ]
     },
     "execution_count": 10,
     "metadata": {},
     "output_type": "execute_result"
    }
   ],
   "source": [
    "# Descriptive statistics for nWBV\n",
    "# Note the lowest brain volume detected was 0.644 and the max was 0.89 between male and female\n",
    "\n",
    "oasis_cross_sectional.describe(include=[np.number])"
   ]
  },
  {
   "cell_type": "markdown",
   "metadata": {},
   "source": [
    "#### Dataset #2\n",
    "- Name: Oasis_longitudinal_demographics\n",
    "- Link to dataset: https://sites.wustl.edu/oasisbrains/home/oasis-2/\n",
    "- Number of observations: 373\n",
    "- Number of variables: 15\n",
    "- Variables of interst: demented/nondemented (Group), gender (M/F), age (Age), volume (eTIV, nWBV)"
   ]
  },
  {
   "cell_type": "code",
   "execution_count": 11,
   "metadata": {},
   "outputs": [],
   "source": [
    "oasis_longitudinal_demographics=pd.read_csv('Datasets\\oasis_longitudinal_demographics.csv')"
   ]
  },
  {
   "cell_type": "code",
   "execution_count": 12,
   "metadata": {
    "scrolled": false
   },
   "outputs": [
    {
     "data": {
      "text/html": [
       "<div>\n",
       "<style scoped>\n",
       "    .dataframe tbody tr th:only-of-type {\n",
       "        vertical-align: middle;\n",
       "    }\n",
       "\n",
       "    .dataframe tbody tr th {\n",
       "        vertical-align: top;\n",
       "    }\n",
       "\n",
       "    .dataframe thead th {\n",
       "        text-align: right;\n",
       "    }\n",
       "</style>\n",
       "<table border=\"1\" class=\"dataframe\">\n",
       "  <thead>\n",
       "    <tr style=\"text-align: right;\">\n",
       "      <th></th>\n",
       "      <th>Subject ID</th>\n",
       "      <th>MRI ID</th>\n",
       "      <th>Group</th>\n",
       "      <th>Visit</th>\n",
       "      <th>MR Delay</th>\n",
       "      <th>M/F</th>\n",
       "      <th>Hand</th>\n",
       "      <th>Age</th>\n",
       "      <th>EDUC</th>\n",
       "      <th>SES</th>\n",
       "      <th>MMSE</th>\n",
       "      <th>CDR</th>\n",
       "      <th>eTIV</th>\n",
       "      <th>nWBV</th>\n",
       "      <th>ASF</th>\n",
       "    </tr>\n",
       "  </thead>\n",
       "  <tbody>\n",
       "    <tr>\n",
       "      <th>0</th>\n",
       "      <td>OAS2_0001</td>\n",
       "      <td>OAS2_0001_MR1</td>\n",
       "      <td>Nondemented</td>\n",
       "      <td>1</td>\n",
       "      <td>0</td>\n",
       "      <td>M</td>\n",
       "      <td>R</td>\n",
       "      <td>87</td>\n",
       "      <td>14</td>\n",
       "      <td>2.0</td>\n",
       "      <td>27.0</td>\n",
       "      <td>0.0</td>\n",
       "      <td>1987</td>\n",
       "      <td>0.696</td>\n",
       "      <td>0.883</td>\n",
       "    </tr>\n",
       "    <tr>\n",
       "      <th>1</th>\n",
       "      <td>OAS2_0001</td>\n",
       "      <td>OAS2_0001_MR2</td>\n",
       "      <td>Nondemented</td>\n",
       "      <td>2</td>\n",
       "      <td>457</td>\n",
       "      <td>M</td>\n",
       "      <td>R</td>\n",
       "      <td>88</td>\n",
       "      <td>14</td>\n",
       "      <td>2.0</td>\n",
       "      <td>30.0</td>\n",
       "      <td>0.0</td>\n",
       "      <td>2004</td>\n",
       "      <td>0.681</td>\n",
       "      <td>0.876</td>\n",
       "    </tr>\n",
       "    <tr>\n",
       "      <th>2</th>\n",
       "      <td>OAS2_0002</td>\n",
       "      <td>OAS2_0002_MR1</td>\n",
       "      <td>Demented</td>\n",
       "      <td>1</td>\n",
       "      <td>0</td>\n",
       "      <td>M</td>\n",
       "      <td>R</td>\n",
       "      <td>75</td>\n",
       "      <td>12</td>\n",
       "      <td>NaN</td>\n",
       "      <td>23.0</td>\n",
       "      <td>0.5</td>\n",
       "      <td>1678</td>\n",
       "      <td>0.736</td>\n",
       "      <td>1.046</td>\n",
       "    </tr>\n",
       "    <tr>\n",
       "      <th>3</th>\n",
       "      <td>OAS2_0002</td>\n",
       "      <td>OAS2_0002_MR2</td>\n",
       "      <td>Demented</td>\n",
       "      <td>2</td>\n",
       "      <td>560</td>\n",
       "      <td>M</td>\n",
       "      <td>R</td>\n",
       "      <td>76</td>\n",
       "      <td>12</td>\n",
       "      <td>NaN</td>\n",
       "      <td>28.0</td>\n",
       "      <td>0.5</td>\n",
       "      <td>1738</td>\n",
       "      <td>0.713</td>\n",
       "      <td>1.010</td>\n",
       "    </tr>\n",
       "    <tr>\n",
       "      <th>4</th>\n",
       "      <td>OAS2_0002</td>\n",
       "      <td>OAS2_0002_MR3</td>\n",
       "      <td>Demented</td>\n",
       "      <td>3</td>\n",
       "      <td>1895</td>\n",
       "      <td>M</td>\n",
       "      <td>R</td>\n",
       "      <td>80</td>\n",
       "      <td>12</td>\n",
       "      <td>NaN</td>\n",
       "      <td>22.0</td>\n",
       "      <td>0.5</td>\n",
       "      <td>1698</td>\n",
       "      <td>0.701</td>\n",
       "      <td>1.034</td>\n",
       "    </tr>\n",
       "  </tbody>\n",
       "</table>\n",
       "</div>"
      ],
      "text/plain": [
       "  Subject ID         MRI ID        Group  Visit  MR Delay M/F Hand  Age  EDUC  \\\n",
       "0  OAS2_0001  OAS2_0001_MR1  Nondemented      1         0   M    R   87    14   \n",
       "1  OAS2_0001  OAS2_0001_MR2  Nondemented      2       457   M    R   88    14   \n",
       "2  OAS2_0002  OAS2_0002_MR1     Demented      1         0   M    R   75    12   \n",
       "3  OAS2_0002  OAS2_0002_MR2     Demented      2       560   M    R   76    12   \n",
       "4  OAS2_0002  OAS2_0002_MR3     Demented      3      1895   M    R   80    12   \n",
       "\n",
       "   SES  MMSE  CDR  eTIV   nWBV    ASF  \n",
       "0  2.0  27.0  0.0  1987  0.696  0.883  \n",
       "1  2.0  30.0  0.0  2004  0.681  0.876  \n",
       "2  NaN  23.0  0.5  1678  0.736  1.046  \n",
       "3  NaN  28.0  0.5  1738  0.713  1.010  \n",
       "4  NaN  22.0  0.5  1698  0.701  1.034  "
      ]
     },
     "execution_count": 12,
     "metadata": {},
     "output_type": "execute_result"
    }
   ],
   "source": [
    "oasis_longitudinal_demographics.head()"
   ]
  },
  {
   "cell_type": "code",
   "execution_count": 13,
   "metadata": {
    "scrolled": true
   },
   "outputs": [
    {
     "data": {
      "text/plain": [
       "(373, 15)"
      ]
     },
     "execution_count": 13,
     "metadata": {},
     "output_type": "execute_result"
    }
   ],
   "source": [
    "oasis_longitudinal_demographics.shape"
   ]
  },
  {
   "cell_type": "code",
   "execution_count": 14,
   "metadata": {
    "scrolled": true
   },
   "outputs": [
    {
     "data": {
      "text/plain": [
       "Subject ID     object\n",
       "MRI ID         object\n",
       "Group          object\n",
       "Visit           int64\n",
       "MR Delay        int64\n",
       "M/F            object\n",
       "Hand           object\n",
       "Age             int64\n",
       "EDUC            int64\n",
       "SES           float64\n",
       "MMSE          float64\n",
       "CDR           float64\n",
       "eTIV            int64\n",
       "nWBV          float64\n",
       "ASF           float64\n",
       "dtype: object"
      ]
     },
     "execution_count": 14,
     "metadata": {},
     "output_type": "execute_result"
    }
   ],
   "source": [
    "oasis_longitudinal_demographics.dtypes"
   ]
  },
  {
   "cell_type": "code",
   "execution_count": 15,
   "metadata": {
    "scrolled": true
   },
   "outputs": [
    {
     "data": {
      "text/html": [
       "<div>\n",
       "<style scoped>\n",
       "    .dataframe tbody tr th:only-of-type {\n",
       "        vertical-align: middle;\n",
       "    }\n",
       "\n",
       "    .dataframe tbody tr th {\n",
       "        vertical-align: top;\n",
       "    }\n",
       "\n",
       "    .dataframe thead th {\n",
       "        text-align: right;\n",
       "    }\n",
       "</style>\n",
       "<table border=\"1\" class=\"dataframe\">\n",
       "  <thead>\n",
       "    <tr style=\"text-align: right;\">\n",
       "      <th></th>\n",
       "      <th>Visit</th>\n",
       "      <th>MR Delay</th>\n",
       "      <th>Age</th>\n",
       "      <th>EDUC</th>\n",
       "      <th>SES</th>\n",
       "      <th>MMSE</th>\n",
       "      <th>CDR</th>\n",
       "      <th>eTIV</th>\n",
       "      <th>nWBV</th>\n",
       "      <th>ASF</th>\n",
       "    </tr>\n",
       "  </thead>\n",
       "  <tbody>\n",
       "    <tr>\n",
       "      <th>count</th>\n",
       "      <td>373.000000</td>\n",
       "      <td>373.000000</td>\n",
       "      <td>373.000000</td>\n",
       "      <td>373.000000</td>\n",
       "      <td>354.000000</td>\n",
       "      <td>371.000000</td>\n",
       "      <td>373.000000</td>\n",
       "      <td>373.000000</td>\n",
       "      <td>373.000000</td>\n",
       "      <td>373.000000</td>\n",
       "    </tr>\n",
       "    <tr>\n",
       "      <th>mean</th>\n",
       "      <td>1.882038</td>\n",
       "      <td>595.104558</td>\n",
       "      <td>77.013405</td>\n",
       "      <td>14.597855</td>\n",
       "      <td>2.460452</td>\n",
       "      <td>27.342318</td>\n",
       "      <td>0.290885</td>\n",
       "      <td>1488.128686</td>\n",
       "      <td>0.729568</td>\n",
       "      <td>1.195461</td>\n",
       "    </tr>\n",
       "    <tr>\n",
       "      <th>std</th>\n",
       "      <td>0.922843</td>\n",
       "      <td>635.485118</td>\n",
       "      <td>7.640957</td>\n",
       "      <td>2.876339</td>\n",
       "      <td>1.134005</td>\n",
       "      <td>3.683244</td>\n",
       "      <td>0.374557</td>\n",
       "      <td>176.139286</td>\n",
       "      <td>0.037135</td>\n",
       "      <td>0.138092</td>\n",
       "    </tr>\n",
       "    <tr>\n",
       "      <th>min</th>\n",
       "      <td>1.000000</td>\n",
       "      <td>0.000000</td>\n",
       "      <td>60.000000</td>\n",
       "      <td>6.000000</td>\n",
       "      <td>1.000000</td>\n",
       "      <td>4.000000</td>\n",
       "      <td>0.000000</td>\n",
       "      <td>1106.000000</td>\n",
       "      <td>0.644000</td>\n",
       "      <td>0.876000</td>\n",
       "    </tr>\n",
       "    <tr>\n",
       "      <th>25%</th>\n",
       "      <td>1.000000</td>\n",
       "      <td>0.000000</td>\n",
       "      <td>71.000000</td>\n",
       "      <td>12.000000</td>\n",
       "      <td>2.000000</td>\n",
       "      <td>27.000000</td>\n",
       "      <td>0.000000</td>\n",
       "      <td>1357.000000</td>\n",
       "      <td>0.700000</td>\n",
       "      <td>1.099000</td>\n",
       "    </tr>\n",
       "    <tr>\n",
       "      <th>50%</th>\n",
       "      <td>2.000000</td>\n",
       "      <td>552.000000</td>\n",
       "      <td>77.000000</td>\n",
       "      <td>15.000000</td>\n",
       "      <td>2.000000</td>\n",
       "      <td>29.000000</td>\n",
       "      <td>0.000000</td>\n",
       "      <td>1470.000000</td>\n",
       "      <td>0.729000</td>\n",
       "      <td>1.194000</td>\n",
       "    </tr>\n",
       "    <tr>\n",
       "      <th>75%</th>\n",
       "      <td>2.000000</td>\n",
       "      <td>873.000000</td>\n",
       "      <td>82.000000</td>\n",
       "      <td>16.000000</td>\n",
       "      <td>3.000000</td>\n",
       "      <td>30.000000</td>\n",
       "      <td>0.500000</td>\n",
       "      <td>1597.000000</td>\n",
       "      <td>0.756000</td>\n",
       "      <td>1.293000</td>\n",
       "    </tr>\n",
       "    <tr>\n",
       "      <th>max</th>\n",
       "      <td>5.000000</td>\n",
       "      <td>2639.000000</td>\n",
       "      <td>98.000000</td>\n",
       "      <td>23.000000</td>\n",
       "      <td>5.000000</td>\n",
       "      <td>30.000000</td>\n",
       "      <td>2.000000</td>\n",
       "      <td>2004.000000</td>\n",
       "      <td>0.837000</td>\n",
       "      <td>1.587000</td>\n",
       "    </tr>\n",
       "  </tbody>\n",
       "</table>\n",
       "</div>"
      ],
      "text/plain": [
       "            Visit     MR Delay         Age        EDUC         SES  \\\n",
       "count  373.000000   373.000000  373.000000  373.000000  354.000000   \n",
       "mean     1.882038   595.104558   77.013405   14.597855    2.460452   \n",
       "std      0.922843   635.485118    7.640957    2.876339    1.134005   \n",
       "min      1.000000     0.000000   60.000000    6.000000    1.000000   \n",
       "25%      1.000000     0.000000   71.000000   12.000000    2.000000   \n",
       "50%      2.000000   552.000000   77.000000   15.000000    2.000000   \n",
       "75%      2.000000   873.000000   82.000000   16.000000    3.000000   \n",
       "max      5.000000  2639.000000   98.000000   23.000000    5.000000   \n",
       "\n",
       "             MMSE         CDR         eTIV        nWBV         ASF  \n",
       "count  371.000000  373.000000   373.000000  373.000000  373.000000  \n",
       "mean    27.342318    0.290885  1488.128686    0.729568    1.195461  \n",
       "std      3.683244    0.374557   176.139286    0.037135    0.138092  \n",
       "min      4.000000    0.000000  1106.000000    0.644000    0.876000  \n",
       "25%     27.000000    0.000000  1357.000000    0.700000    1.099000  \n",
       "50%     29.000000    0.000000  1470.000000    0.729000    1.194000  \n",
       "75%     30.000000    0.500000  1597.000000    0.756000    1.293000  \n",
       "max     30.000000    2.000000  2004.000000    0.837000    1.587000  "
      ]
     },
     "execution_count": 15,
     "metadata": {},
     "output_type": "execute_result"
    }
   ],
   "source": [
    "oasis_longitudinal_demographics.describe()"
   ]
  },
  {
   "cell_type": "code",
   "execution_count": 16,
   "metadata": {
    "scrolled": false
   },
   "outputs": [
    {
     "data": {
      "text/html": [
       "<div>\n",
       "<style scoped>\n",
       "    .dataframe tbody tr th:only-of-type {\n",
       "        vertical-align: middle;\n",
       "    }\n",
       "\n",
       "    .dataframe tbody tr th {\n",
       "        vertical-align: top;\n",
       "    }\n",
       "\n",
       "    .dataframe thead th {\n",
       "        text-align: right;\n",
       "    }\n",
       "</style>\n",
       "<table border=\"1\" class=\"dataframe\">\n",
       "  <thead>\n",
       "    <tr style=\"text-align: right;\">\n",
       "      <th></th>\n",
       "      <th>MRI ID</th>\n",
       "      <th>M/F</th>\n",
       "      <th>nWBV</th>\n",
       "    </tr>\n",
       "  </thead>\n",
       "  <tbody>\n",
       "    <tr>\n",
       "      <th>2</th>\n",
       "      <td>OAS2_0002_MR1</td>\n",
       "      <td>M</td>\n",
       "      <td>0.736</td>\n",
       "    </tr>\n",
       "    <tr>\n",
       "      <th>123</th>\n",
       "      <td>OAS2_0058_MR1</td>\n",
       "      <td>M</td>\n",
       "      <td>0.707</td>\n",
       "    </tr>\n",
       "    <tr>\n",
       "      <th>261</th>\n",
       "      <td>OAS2_0127_MR1</td>\n",
       "      <td>M</td>\n",
       "      <td>0.729</td>\n",
       "    </tr>\n",
       "    <tr>\n",
       "      <th>257</th>\n",
       "      <td>OAS2_0124_MR2</td>\n",
       "      <td>M</td>\n",
       "      <td>0.750</td>\n",
       "    </tr>\n",
       "    <tr>\n",
       "      <th>256</th>\n",
       "      <td>OAS2_0124_MR1</td>\n",
       "      <td>M</td>\n",
       "      <td>0.749</td>\n",
       "    </tr>\n",
       "  </tbody>\n",
       "</table>\n",
       "</div>"
      ],
      "text/plain": [
       "            MRI ID M/F   nWBV\n",
       "2    OAS2_0002_MR1   M  0.736\n",
       "123  OAS2_0058_MR1   M  0.707\n",
       "261  OAS2_0127_MR1   M  0.729\n",
       "257  OAS2_0124_MR2   M  0.750\n",
       "256  OAS2_0124_MR1   M  0.749"
      ]
     },
     "execution_count": 16,
     "metadata": {},
     "output_type": "execute_result"
    }
   ],
   "source": [
    "# Since we only care about sex and brain volume, we will drop all other columns\n",
    "# Removing rows of nondemented patients, as our focus is on people who are already demented\n",
    "# We will also arrange our dataset on the 'M/F' column for easier merging\n",
    "\n",
    "oasis_longitudinal_demographics=oasis_longitudinal_demographics[oasis_longitudinal_demographics['Group'] != 'Nondemented']\n",
    "oasis_longitudinal_demographics=oasis_longitudinal_demographics.drop(columns=['Subject ID', 'Group','Age', 'Visit', 'MR Delay', 'Hand', 'EDUC', 'SES', 'MMSE', 'CDR', 'ASF', 'eTIV'])\n",
    "oasis_longitudinal_demographics=oasis_longitudinal_demographics.sort_values('M/F', ascending=False)\n",
    "oasis_longitudinal_demographics.head()"
   ]
  },
  {
   "cell_type": "code",
   "execution_count": 17,
   "metadata": {},
   "outputs": [],
   "source": [
    "# Renaming columns to match\n",
    "\n",
    "oasis_longitudinal_demographics=oasis_longitudinal_demographics.rename(columns={'MRI ID':'ID'})"
   ]
  },
  {
   "cell_type": "code",
   "execution_count": 18,
   "metadata": {
    "scrolled": false
   },
   "outputs": [
    {
     "data": {
      "text/html": [
       "<div>\n",
       "<style scoped>\n",
       "    .dataframe tbody tr th:only-of-type {\n",
       "        vertical-align: middle;\n",
       "    }\n",
       "\n",
       "    .dataframe tbody tr th {\n",
       "        vertical-align: top;\n",
       "    }\n",
       "\n",
       "    .dataframe thead th {\n",
       "        text-align: right;\n",
       "    }\n",
       "</style>\n",
       "<table border=\"1\" class=\"dataframe\">\n",
       "  <thead>\n",
       "    <tr style=\"text-align: right;\">\n",
       "      <th></th>\n",
       "      <th>nWBV</th>\n",
       "    </tr>\n",
       "  </thead>\n",
       "  <tbody>\n",
       "    <tr>\n",
       "      <th>count</th>\n",
       "      <td>183.000000</td>\n",
       "    </tr>\n",
       "    <tr>\n",
       "      <th>mean</th>\n",
       "      <td>0.717803</td>\n",
       "    </tr>\n",
       "    <tr>\n",
       "      <th>std</th>\n",
       "      <td>0.032696</td>\n",
       "    </tr>\n",
       "    <tr>\n",
       "      <th>min</th>\n",
       "      <td>0.646000</td>\n",
       "    </tr>\n",
       "    <tr>\n",
       "      <th>25%</th>\n",
       "      <td>0.695000</td>\n",
       "    </tr>\n",
       "    <tr>\n",
       "      <th>50%</th>\n",
       "      <td>0.713000</td>\n",
       "    </tr>\n",
       "    <tr>\n",
       "      <th>75%</th>\n",
       "      <td>0.738000</td>\n",
       "    </tr>\n",
       "    <tr>\n",
       "      <th>max</th>\n",
       "      <td>0.806000</td>\n",
       "    </tr>\n",
       "  </tbody>\n",
       "</table>\n",
       "</div>"
      ],
      "text/plain": [
       "             nWBV\n",
       "count  183.000000\n",
       "mean     0.717803\n",
       "std      0.032696\n",
       "min      0.646000\n",
       "25%      0.695000\n",
       "50%      0.713000\n",
       "75%      0.738000\n",
       "max      0.806000"
      ]
     },
     "execution_count": 18,
     "metadata": {},
     "output_type": "execute_result"
    }
   ],
   "source": [
    "# Descriptive statistics for nWBV\n",
    "# Note the lowest brain volume detected was 0.646 and the max was 0.81 between male and female\n",
    "\n",
    "oasis_longitudinal_demographics.describe(include=[np.number])"
   ]
  },
  {
   "cell_type": "markdown",
   "metadata": {},
   "source": [
    "In the cell below, to make the dataset easier to work with, we will merge the dataset between the 'M/F' and 'nWBV' columns. This will give us a combined view fo teh gender and normalied brain volume data, allowing streamlined analysis and comparisons across these attributes."
   ]
  },
  {
   "cell_type": "code",
   "execution_count": 19,
   "metadata": {
    "scrolled": false
   },
   "outputs": [
    {
     "data": {
      "text/html": [
       "<div>\n",
       "<style scoped>\n",
       "    .dataframe tbody tr th:only-of-type {\n",
       "        vertical-align: middle;\n",
       "    }\n",
       "\n",
       "    .dataframe tbody tr th {\n",
       "        vertical-align: top;\n",
       "    }\n",
       "\n",
       "    .dataframe thead th {\n",
       "        text-align: right;\n",
       "    }\n",
       "</style>\n",
       "<table border=\"1\" class=\"dataframe\">\n",
       "  <thead>\n",
       "    <tr style=\"text-align: right;\">\n",
       "      <th></th>\n",
       "      <th>ID_x</th>\n",
       "      <th>M/F</th>\n",
       "      <th>nWBV</th>\n",
       "      <th>ID_y</th>\n",
       "    </tr>\n",
       "  </thead>\n",
       "  <tbody>\n",
       "    <tr>\n",
       "      <th>0</th>\n",
       "      <td>OAS1_0134_MR1</td>\n",
       "      <td>M</td>\n",
       "      <td>0.665</td>\n",
       "      <td>OAS2_0162_MR2</td>\n",
       "    </tr>\n",
       "    <tr>\n",
       "      <th>1</th>\n",
       "      <td>OAS1_0351_MR1</td>\n",
       "      <td>M</td>\n",
       "      <td>0.665</td>\n",
       "      <td>OAS2_0162_MR2</td>\n",
       "    </tr>\n",
       "    <tr>\n",
       "      <th>2</th>\n",
       "      <td>OAS1_0399_MR1</td>\n",
       "      <td>M</td>\n",
       "      <td>0.706</td>\n",
       "      <td>OAS2_0058_MR2</td>\n",
       "    </tr>\n",
       "    <tr>\n",
       "      <th>3</th>\n",
       "      <td>OAS1_0399_MR1</td>\n",
       "      <td>M</td>\n",
       "      <td>0.706</td>\n",
       "      <td>OAS2_0037_MR4</td>\n",
       "    </tr>\n",
       "    <tr>\n",
       "      <th>4</th>\n",
       "      <td>OAS1_0138_MR1</td>\n",
       "      <td>M</td>\n",
       "      <td>0.706</td>\n",
       "      <td>OAS2_0058_MR2</td>\n",
       "    </tr>\n",
       "    <tr>\n",
       "      <th>...</th>\n",
       "      <td>...</td>\n",
       "      <td>...</td>\n",
       "      <td>...</td>\n",
       "      <td>...</td>\n",
       "    </tr>\n",
       "    <tr>\n",
       "      <th>121</th>\n",
       "      <td>OAS1_0221_MR1</td>\n",
       "      <td>F</td>\n",
       "      <td>0.696</td>\n",
       "      <td>OAS2_0018_MR4</td>\n",
       "    </tr>\n",
       "    <tr>\n",
       "      <th>122</th>\n",
       "      <td>OAS1_0221_MR1</td>\n",
       "      <td>F</td>\n",
       "      <td>0.696</td>\n",
       "      <td>OAS2_0079_MR3</td>\n",
       "    </tr>\n",
       "    <tr>\n",
       "      <th>123</th>\n",
       "      <td>OAS1_0221_MR1</td>\n",
       "      <td>F</td>\n",
       "      <td>0.696</td>\n",
       "      <td>OAS2_0031_MR3</td>\n",
       "    </tr>\n",
       "    <tr>\n",
       "      <th>124</th>\n",
       "      <td>OAS1_0210_MR1</td>\n",
       "      <td>F</td>\n",
       "      <td>0.722</td>\n",
       "      <td>OAS2_0106_MR1</td>\n",
       "    </tr>\n",
       "    <tr>\n",
       "      <th>125</th>\n",
       "      <td>OAS1_0210_MR1</td>\n",
       "      <td>F</td>\n",
       "      <td>0.722</td>\n",
       "      <td>OAS2_0103_MR2</td>\n",
       "    </tr>\n",
       "  </tbody>\n",
       "</table>\n",
       "<p>126 rows × 4 columns</p>\n",
       "</div>"
      ],
      "text/plain": [
       "              ID_x M/F   nWBV           ID_y\n",
       "0    OAS1_0134_MR1   M  0.665  OAS2_0162_MR2\n",
       "1    OAS1_0351_MR1   M  0.665  OAS2_0162_MR2\n",
       "2    OAS1_0399_MR1   M  0.706  OAS2_0058_MR2\n",
       "3    OAS1_0399_MR1   M  0.706  OAS2_0037_MR4\n",
       "4    OAS1_0138_MR1   M  0.706  OAS2_0058_MR2\n",
       "..             ...  ..    ...            ...\n",
       "121  OAS1_0221_MR1   F  0.696  OAS2_0018_MR4\n",
       "122  OAS1_0221_MR1   F  0.696  OAS2_0079_MR3\n",
       "123  OAS1_0221_MR1   F  0.696  OAS2_0031_MR3\n",
       "124  OAS1_0210_MR1   F  0.722  OAS2_0106_MR1\n",
       "125  OAS1_0210_MR1   F  0.722  OAS2_0103_MR2\n",
       "\n",
       "[126 rows x 4 columns]"
      ]
     },
     "execution_count": 19,
     "metadata": {},
     "output_type": "execute_result"
    }
   ],
   "source": [
    "# Merging the two datasets on sex and brain volume\n",
    "\n",
    "brain_volume = pd.merge(oasis_cross_sectional, oasis_longitudinal_demographics, on=['M/F', 'nWBV'])\n",
    "brain_volume"
   ]
  },
  {
   "cell_type": "markdown",
   "metadata": {},
   "source": [
    "#### Dataset: Dementia\n"
   ]
  },
  {
   "cell_type": "code",
   "execution_count": 20,
   "metadata": {},
   "outputs": [
    {
     "data": {
      "text/html": [
       "<div>\n",
       "<style scoped>\n",
       "    .dataframe tbody tr th:only-of-type {\n",
       "        vertical-align: middle;\n",
       "    }\n",
       "\n",
       "    .dataframe tbody tr th {\n",
       "        vertical-align: top;\n",
       "    }\n",
       "\n",
       "    .dataframe thead th {\n",
       "        text-align: right;\n",
       "    }\n",
       "</style>\n",
       "<table border=\"1\" class=\"dataframe\">\n",
       "  <thead>\n",
       "    <tr style=\"text-align: right;\">\n",
       "      <th></th>\n",
       "      <th>Subject ID</th>\n",
       "      <th>MRI ID</th>\n",
       "      <th>Group</th>\n",
       "      <th>Visit</th>\n",
       "      <th>MR Delay</th>\n",
       "      <th>M/F</th>\n",
       "      <th>Hand</th>\n",
       "      <th>Age</th>\n",
       "      <th>EDUC</th>\n",
       "      <th>SES</th>\n",
       "      <th>MMSE</th>\n",
       "      <th>CDR</th>\n",
       "      <th>eTIV</th>\n",
       "      <th>nWBV</th>\n",
       "      <th>ASF</th>\n",
       "    </tr>\n",
       "  </thead>\n",
       "  <tbody>\n",
       "    <tr>\n",
       "      <th>0</th>\n",
       "      <td>OAS2_0001</td>\n",
       "      <td>OAS2_0001_MR1</td>\n",
       "      <td>Nondemented</td>\n",
       "      <td>1</td>\n",
       "      <td>0</td>\n",
       "      <td>M</td>\n",
       "      <td>R</td>\n",
       "      <td>87</td>\n",
       "      <td>14</td>\n",
       "      <td>2.0</td>\n",
       "      <td>27.0</td>\n",
       "      <td>0.0</td>\n",
       "      <td>1987</td>\n",
       "      <td>0.696</td>\n",
       "      <td>0.883</td>\n",
       "    </tr>\n",
       "    <tr>\n",
       "      <th>1</th>\n",
       "      <td>OAS2_0001</td>\n",
       "      <td>OAS2_0001_MR2</td>\n",
       "      <td>Nondemented</td>\n",
       "      <td>2</td>\n",
       "      <td>457</td>\n",
       "      <td>M</td>\n",
       "      <td>R</td>\n",
       "      <td>88</td>\n",
       "      <td>14</td>\n",
       "      <td>2.0</td>\n",
       "      <td>30.0</td>\n",
       "      <td>0.0</td>\n",
       "      <td>2004</td>\n",
       "      <td>0.681</td>\n",
       "      <td>0.876</td>\n",
       "    </tr>\n",
       "    <tr>\n",
       "      <th>2</th>\n",
       "      <td>OAS2_0002</td>\n",
       "      <td>OAS2_0002_MR1</td>\n",
       "      <td>Demented</td>\n",
       "      <td>1</td>\n",
       "      <td>0</td>\n",
       "      <td>M</td>\n",
       "      <td>R</td>\n",
       "      <td>75</td>\n",
       "      <td>12</td>\n",
       "      <td>NaN</td>\n",
       "      <td>23.0</td>\n",
       "      <td>0.5</td>\n",
       "      <td>1678</td>\n",
       "      <td>0.736</td>\n",
       "      <td>1.046</td>\n",
       "    </tr>\n",
       "    <tr>\n",
       "      <th>3</th>\n",
       "      <td>OAS2_0002</td>\n",
       "      <td>OAS2_0002_MR2</td>\n",
       "      <td>Demented</td>\n",
       "      <td>2</td>\n",
       "      <td>560</td>\n",
       "      <td>M</td>\n",
       "      <td>R</td>\n",
       "      <td>76</td>\n",
       "      <td>12</td>\n",
       "      <td>NaN</td>\n",
       "      <td>28.0</td>\n",
       "      <td>0.5</td>\n",
       "      <td>1738</td>\n",
       "      <td>0.713</td>\n",
       "      <td>1.010</td>\n",
       "    </tr>\n",
       "    <tr>\n",
       "      <th>4</th>\n",
       "      <td>OAS2_0002</td>\n",
       "      <td>OAS2_0002_MR3</td>\n",
       "      <td>Demented</td>\n",
       "      <td>3</td>\n",
       "      <td>1895</td>\n",
       "      <td>M</td>\n",
       "      <td>R</td>\n",
       "      <td>80</td>\n",
       "      <td>12</td>\n",
       "      <td>NaN</td>\n",
       "      <td>22.0</td>\n",
       "      <td>0.5</td>\n",
       "      <td>1698</td>\n",
       "      <td>0.701</td>\n",
       "      <td>1.034</td>\n",
       "    </tr>\n",
       "  </tbody>\n",
       "</table>\n",
       "</div>"
      ],
      "text/plain": [
       "  Subject ID         MRI ID        Group  Visit  MR Delay M/F Hand  Age  EDUC  \\\n",
       "0  OAS2_0001  OAS2_0001_MR1  Nondemented      1         0   M    R   87    14   \n",
       "1  OAS2_0001  OAS2_0001_MR2  Nondemented      2       457   M    R   88    14   \n",
       "2  OAS2_0002  OAS2_0002_MR1     Demented      1         0   M    R   75    12   \n",
       "3  OAS2_0002  OAS2_0002_MR2     Demented      2       560   M    R   76    12   \n",
       "4  OAS2_0002  OAS2_0002_MR3     Demented      3      1895   M    R   80    12   \n",
       "\n",
       "   SES  MMSE  CDR  eTIV   nWBV    ASF  \n",
       "0  2.0  27.0  0.0  1987  0.696  0.883  \n",
       "1  2.0  30.0  0.0  2004  0.681  0.876  \n",
       "2  NaN  23.0  0.5  1678  0.736  1.046  \n",
       "3  NaN  28.0  0.5  1738  0.713  1.010  \n",
       "4  NaN  22.0  0.5  1698  0.701  1.034  "
      ]
     },
     "execution_count": 20,
     "metadata": {},
     "output_type": "execute_result"
    }
   ],
   "source": [
    "dementia_dataset = pd.read_csv('Datasets/dementia_dataset.csv') \n",
    "dementia_dataset.head()"
   ]
  },
  {
   "cell_type": "code",
   "execution_count": 21,
   "metadata": {},
   "outputs": [],
   "source": [
    "# moderate demented: \n",
    "for filename in os.listdir('Datasets/Moderate_Demented'):\n",
    "    if filename.endswith('.jpg'):\n",
    "        #print(filename)\n",
    "        pass"
   ]
  },
  {
   "cell_type": "code",
   "execution_count": 22,
   "metadata": {},
   "outputs": [],
   "source": [
    "# non-demented\n",
    "for filename in os.listdir('Datasets/Non_Demented'):\n",
    "    if filename.endswith('.jpg'):\n",
    "        #print(filename)\n",
    "        pass"
   ]
  },
  {
   "cell_type": "code",
   "execution_count": 23,
   "metadata": {},
   "outputs": [],
   "source": [
    "# mild-demented: \n",
    "for filename in os.listdir('Datasets/Mild_Demented_Dataset/Mild_Demented_1-25/Mild_Demented_1-25'):\n",
    "    if filename.endswith('.jpg'):\n",
    "        # print(filename)\n",
    "        pass"
   ]
  },
  {
   "cell_type": "code",
   "execution_count": 24,
   "metadata": {},
   "outputs": [],
   "source": [
    "# very-demented: \n",
    "for filename in os.listdir('Datasets/Very_Mild_Demented'):\n",
    "    if filename.endswith('.jpg'):\n",
    "        # print(filename)\n",
    "        pass"
   ]
  },
  {
   "cell_type": "markdown",
   "metadata": {},
   "source": [
    "## Exploratory Analysis"
   ]
  },
  {
   "cell_type": "code",
<<<<<<< Updated upstream
   "execution_count": 30,
=======
   "execution_count": 25,
>>>>>>> Stashed changes
   "metadata": {},
   "outputs": [
    {
     "data": {
      "image/png": "iVBORw0KGgoAAAANSUhEUgAAA90AAAJOCAYAAACqS2TfAAAAOXRFWHRTb2Z0d2FyZQBNYXRwbG90bGliIHZlcnNpb24zLjcuMCwgaHR0cHM6Ly9tYXRwbG90bGliLm9yZy88F64QAAAACXBIWXMAAA9hAAAPYQGoP6dpAABMAUlEQVR4nO3deZidg90+8PvExCRIQhISIYkltcWudpXYay8ltQfxlhe1RIvUa4ki6NsWVVQtae1qX0qpXdE3dtqILZIQKUETWYwkc35/9Mr8TJMwM+bJmRmfz3XlqvMs59zn9JvJued5znNK5XK5HAAAAKDZtat0AAAAAGirlG4AAAAoiNINAAAABVG6AQAAoCBKNwAAABRE6QYAAICCKN0AAABQEKUbAAAACqJ0AwAAQEGUboA2bOTIkSmVSimVSnn00UfnWV8ul9OvX7+USqUMHDhwoedrjIEDB9Y9l1KplPbt22eFFVbIkCFDMm7cuGZ/vEcffXSBr1tjffjhh1l00UWzzz77LHCbqVOnZrHFFstuu+3W4Ps944wzUiqVvna+Sigi+9zZOPjgg+e7/swzz6zb5p133mn0/c/9+9SUfZtq7us0efLkQh/n4IMPzhJLLFFv2Rf/zrVr1y6dOnVKv379svfee+eWW25JbW1toZkA2gqlG+AboFOnTrnyyivnWf7YY4/lrbfeSqdOnSqQqvFWWmmlPP3003n66afz0EMP5cQTT8w999yT73znO5kxY0azPtb666+fp59+Ouuvv/7Xvq+ll146u+22W+6444588skn893mxhtvzMyZMzNkyJCv/XitwWGHHZann3662e+3U6dO+eMf/5hPP/203vJyuZyRI0emc+fOzf6Ybdncv3NPPfVU7rjjjpx88smZOXNm9t577wwcODBTpkypdESAFk/pBvgG+MEPfpBbb701U6dOrbf8yiuvzKabbpo+ffpUKFnjdOzYMZtsskk22WSTbLnlljnyyCMzYsSITJgwIU8++eSX7tvYUt65c+dssskmzVbShgwZkpqamlx33XXzXX/VVVelR48e2XnnnZvl8Vq65ZdfPptsskmz3+/uu++ecrmcG2+8sd7yhx9+OGPHjs0PfvCDZn/MtuyLf+e22WabHHbYYbnnnnty1VVX5YknnsgPf/jDSkcEaPGUboBvgH333TdJcsMNN9QtmzJlSm699dYceuih893n888/z1lnnZXVVlst1dXVWXrppXPIIYfkww8/rLfdTTfdlO233z7LLrtsOnbsmNVXXz0nn3xypk+fXm+7uaevvvnmm9lpp52yxBJLpHfv3jnhhBNSU1PT5OfWpUuXJEn79u3rls09Jff555/PXnvtlaWWWiorr7xykuTZZ5/NPvvskxVWWCEdO3bMCiuskH333XeeU9Tnd3r513kOO+ywQ5ZffvlcffXV86wbPXp0/va3v+Wggw5KVVVVkn+X8HXWWScdOnRI165ds8cee2T06NFf+XqUSqWcccYZ8yxfYYUV6p12PfdU6Ycffjj/9V//lW7duqVz58456KCDMn369EyaNCmDBg3KkksumWWXXTY//vGPM2vWrHr32dAZmZ/5nV6+wgorZJdddsn999+f9ddfPx07dsxqq62Wq6666ivvb64uXbpkjz32mGefq666KptvvnlWWWWVefZ58MEHs/vuu2f55ZdPhw4d0q9fvxx++OENPqX7L3/5S7bZZpt07tw5iy22WDbffPM89NBD9bb58MMP88Mf/jC9e/eue60233zz/OUvf2nQY0yYMCF77rlnOnfunC5duuSAAw6o9zoPGTIkXbt2ne8vl7beeuv079+/QY/TUIccckh22mmn/PGPfyzk4x0AbYnSDfAN0Llz5+y11171isgNN9yQdu3azffIX21tbXbfffece+652W+//XLvvffm3HPPzYMPPpiBAwdm5syZddu+8cYb2WmnnXLllVfm/vvvz3HHHZebb745u+666zz3O2vWrOy2227ZZpttcuedd+bQQw/Nr371q5x33nkNfi6zZ8/O7NmzM2PGjPzf//1fzjzzzKy00krZbLPN5tl2zz33TL9+/fLHP/4xl112WZLknXfeyaqrrpoLLrggf/7zn3Peeefl/fffz4YbbtigktXU59CuXbscfPDBef755/PSSy/VWze3iM/9BciIESMyZMiQ9O/fP7fddlsuvPDCvPzyy9l0003zxhtvNOh1aqjDDjssXbp0yY033pj/+Z//yfXXX5//+q//ys4775x11lknt9xySwYPHpxf/OIX+fWvf123X2NmpDFeeumlnHDCCTn++ONz5513Zu21186QIUPy+OOPN/g+hgwZkmeeeabulxT/+te/ctttty3w1P233norm266aS699NI88MADOe200/K3v/0tW2yxxTy/aPhP1157bbbffvt07tw5v//973PzzTena9eu2WGHHeoV7wMPPDB33HFHTjvttDzwwAO54oorsu222+ajjz5q0HPaY4890q9fv9xyyy0544wzcscdd2SHHXaoy3fsscfmk08+yfXXX19vv3/84x955JFHctRRRzXocRpjt912S7lczhNPPNHs9w3QppQBaLOuvvrqcpLyqFGjyo888kg5SfnVV18tl8vl8oYbblg++OCDy+Vyudy/f//ygAED6va74YYbyknKt956a737GzVqVDlJ+ZJLLpnv49XW1pZnzZpVfuyxx8pJyi+99FLdusGDB5eTlG+++eZ6++y0007lVVdd9Sufy4ABA8pJ5vmzyiqrlEePHl1v29NPP72cpHzaaad95f3Onj27PG3atPLiiy9evvDCC+uWz329HnnkkWZ7Dm+//Xa5VCqVjznmmLpls2bNKvfs2bO8+eabl8vlcvmTTz4pd+zYsbzTTjvV23f8+PHl6urq8n777TfP8/yiJOXTTz99nsfu27dvefDgwXW3587Gj370o3rbfe973ysnKf/yl7+st3zdddctr7/++nW3mzojX5a9b9++5Q4dOpTHjRtXt2zmzJnlrl27lg8//PAvvb9y+d/P/aijjirX1taWV1xxxfKPf/zjcrlcLv/mN78pL7HEEuVPP/20/POf/7ycpDx27Nj53sfcGR43blw5SfnOO++sWzf3NZu77/Tp08tdu3Yt77rrrvXuY86cOeV11lmnvNFGG9UtW2KJJcrHHXfcVz6H/zT3dTr++OPrLb/uuuvKScrXXntt3bIBAwaU11133Xrb/fd//3e5c+fO5U8//fRLH2fw4MHlxRdfvN6yAQMGlPv377/Afe67775ykvJ5553X0KcD8I3kSDfAN8SAAQOy8sor56qrrsorr7ySUaNGLfDU8nvuuSdLLrlkdt1117ojy7Nnz866666bnj171jvl+u23385+++2Xnj17ZpFFFkn79u0zYMCAJJnndOhSqTTPEfC11167waenrrzyyhk1alRGjRqVp59+Otdff306duyYbbbZZr5HgL///e/Ps2zatGk56aST0q9fv1RVVaWqqipLLLFEpk+f3uDTt5v6HFZcccVstdVWue666/L5558nSe67775MmjSp7v+Lp59+OjNnzpznCty9e/fO1ltvPc9py1/XLrvsUu/26quvniTzfLZ89dVXr/ccGzMjjbHuuuvWu8ZAhw4dssoqqzTqFOa5VzC/5pprMnv27Fx55ZUZNGjQPFfnnuuDDz7IEUcckd69e6eqqirt27dP3759k8w7w1/01FNP5eOPP87gwYPrvQa1tbX57ne/m1GjRtV9zGKjjTbKyJEjc9ZZZ+WZZ575yiPo/2n//fevd3vQoEGpqqrKI488Urfs2GOPzYsvvpi//vWvSf59RfxrrrkmgwcPXuBz/zrK5XKz3ydAW1RV6QAALBylUimHHHJILrroonz22WdZZZVV8p3vfGe+2/7zn//Mv/71ryy66KLzXT/3NOxp06blO9/5Tjp06JCzzjorq6yyShZbbLG6z5/+5ynGiy22WDp06FBvWXV1dT777LMGPYcOHTrk29/+dt3tTTbZJAMHDsxyyy2X0047rd5n1pNk2WWXnec+9ttvvzz00EM59dRTs+GGG6Zz584plUrZaaedGnRK9Nd9DkOGDMn++++fu+66K3vttVeuvvrqLLHEEhk0aFCS1J1uPL/svXr1yoMPPtigx2morl271rs99//z+S3/4nNs6Iw0Vrdu3eZZVl1d3ejT1Q855JAMHz4855xzTp5//vl6p8Z/UW1tbbbffvtMnDgxp556atZaa60svvjiqa2tzSabbPKlj/vPf/4zSbLXXnstcJuPP/44iy++eG666aacddZZueKKK3LqqadmiSWWyB577JHzzz8/PXv2/Mrn85/bVFVVpVu3bvVOT999992zwgor5De/+U0233zzjBw5MtOnTy/k1PIkdb8I6dWrVyH3D9BWKN0A3yAHH3xwTjvttFx22WU5++yzF7hd9+7d061bt9x///3zXT/3K8YefvjhTJw4MY8++mjd0e3k35+hXViWXXbZdO/efZ7PSSeZ50JdU6ZMyT333JPTTz89J598ct3ympqafPzxx4VnTf79OfOllloqV111VQYMGJB77rknBx10UN2RyLml8/33359n34kTJ6Z79+5fev/V1dXzvahbQz873FANnZFK6d27d7bddtsMHz48q6666nw/858kr776al566aWMHDkygwcPrlv+5ptvfuVjzP3/4te//vUCr8Teo0ePum0vuOCCXHDBBRk/fnzuuuuunHzyyfnggw8W+Bp+0aRJk7LccsvV3Z49e3Y++uijer+kaNeuXY466qj89Kc/zS9+8Ytccskl2WabbbLqqqt+5f03xV133ZVSqZQtt9yykPsHaCuUboBvkOWWWy4/+clP8tprr9UrGP9pl112yY033pg5c+Zk4403XuB2c0ttdXV1veW//e1vmydwA7z77ruZPHly1lhjja/ctlQqpVwuz5P3iiuuyJw5c4qKWE+HDh2y33775bLLLst5552XWbNm1TvNf9NNN03Hjh1z7bXXZu+9965b/u677+bhhx/+0qOqyb+vAP7yyy/XW/bwww9n2rRpzfo8GjojlXTCCSekY8eO9V7H//R1ZnjzzTfPkksumX/84x85+uijG5yrT58+Ofroo/PQQw/VnQr+Va677rpssMEGdbdvvvnmzJ49OwMHDqy33WGHHZYzzjgj+++/f8aMGdOoixQ2xtVXX5377rsv++23X6v5ykGASlG6Ab5hzj333K/cZp999sl1112XnXbaKccee2w22mijtG/fPu+++24eeeSR7L777tljjz2y2WabZamllsoRRxyR008/Pe3bt891110336POzWHmzJl55plnkiRz5szJ2LFjc/755ydJjjvuuK/cv3Pnztlyyy3z85//PN27d88KK6yQxx57LFdeeWWWXHLJQjLPz5AhQ/Kb3/wmv/zlL7PaaqvVOwq75JJL5tRTT81Pf/rTHHTQQdl3333z0UcfZfjw4enQoUNOP/30L73vAw88MKeeempOO+20DBgwIP/4xz9y8cUX1321WnNp6IxU0vbbb5/tt9/+S7dZbbXVsvLKK+fkk09OuVxO165dc/fddzfoNP4lllgiv/71rzN48OB8/PHH2WuvvbLMMsvkww8/zEsvvZQPP/wwl156aaZMmZKtttoq++23X1ZbbbV06tQpo0aNyv33358999yzQc/ltttuS1VVVbbbbrv8/e9/z6mnnpp11lmn7mMJcy255JI56KCDcumll6Zv377z/RaBxvji37mZM2fm7bffzh133JF77rknAwYMqPtWAAAWTOkGYB6LLLJI7rrrrlx44YW55pprMmLEiFRVVWX55ZfPgAEDstZaayX596nQ9957b0444YQccMABWXzxxbP77rvnpptuyvrrr9/sud5+++1suummSf59Km3Pnj2zzjrr5Ne//nW909u/zPXXX59jjz02J554YmbPnp3NN988Dz744DwXDivSeuutl/XWWy8vvPDCfC9mN2zYsCyzzDK56KKLctNNN6Vjx44ZOHBgzjnnnHzrW9/60vv+yU9+kqlTp2bkyJH53//932y00Ua5+eabs/vuuzfrc2jojLR07du3z913351jjz02hx9+eKqqqrLtttvmL3/5S4OO4B5wwAHp06dPzj///Bx++OH59NNPs8wyy2Tdddetuxhehw4dsvHGG+eaa67JO++8k1mzZqVPnz456aSTcuKJJzYo52233ZYzzjgjl156ad3F/C644IL5fqb+Bz/4QS699NL893//d9q1+3rXzP3i37nFF188PXr0yPrrr58//vGP2XPPPb/2/QN8E5TKLj0JANBmnHDCCbn00kszYcKE+V6YDoCFy5FuAIA24Jlnnsnrr7+eSy65JIcffrjCDdBCONINANAGlEqlLLbYYtlpp53qvooOgMpzpBsAoA1wHAWgZXL1CwAAACiI0g0AAAAFUboBAACgIG3+M921tbWZOHFiOnXqlFKpVOk4AAAAtAHlcjmffvppevXqlXbtFnw8u82X7okTJ6Z3796VjgEAAEAbNGHChCy//PILXN/mS3enTp2S/PuF6Ny5c4XTAAAA0BZMnTo1vXv3ruucC9LmS/fcU8o7d+6sdAMAANCsvupjzC6kBgAAAAVRugEAAKAgSjcAAAAUROkGAACAgijdAAAAUBClGwAAAAqidAMAAEBBlG4AAAAoiNINAAAABVG6AQAAoCBKNwAAABRE6QYAAICCKN0AAABQEKUbAAAACqJ0AwAAQEGUbgAAAChIRUv3448/nl133TW9evVKqVTKHXfcMc82o0ePzm677ZYuXbqkU6dO2WSTTTJ+/PiFHxYAAAAaqaKle/r06VlnnXVy8cUXz3f9W2+9lS222CKrrbZaHn300bz00ks59dRT06FDh4WcFAAAABqvVC6Xy5UOkSSlUim33357vve979Ut22effdK+fftcc801Tb7fqVOnpkuXLpkyZUo6d+7cDEkBAAD4pmto12yxn+mura3Nvffem1VWWSU77LBDlllmmWy88cbzPQUdAAAAWqKqSgdYkA8++CDTpk3Lueeem7POOivnnXde7r///uy555555JFHMmDAgPnuV1NTk5qamrrbU6dOXViRARps/PjxmTx5cqVjtBndu3dPnz59Kh0DAGAeLbZ019bWJkl23333HH/88UmSddddN0899VQuu+yyBZbuESNGZPjw4QstJ0BjjR8/Pquutno+mzmj0lHajA4dF8uY10Yr3gBAi9NiS3f37t1TVVWVNdZYo97y1VdfPU8++eQC9xs2bFiGDh1ad3vq1Knp3bt3YTkBGmvy5Mn5bOaMdNvlhLTv5ufT1zXrown56J5fZPLkyUo3ANDitNjSveiii2bDDTfMmDFj6i1//fXX07dv3wXuV11dnerq6qLjAXxt7bv1TnXPfpWOAQBAgSpauqdNm5Y333yz7vbYsWPz4osvpmvXrunTp09+8pOf5Ac/+EG23HLLbLXVVrn//vtz991359FHH61caAAAAGigipbuZ599NltttVXd7bmnhQ8ePDgjR47MHnvskcsuuywjRozIMccck1VXXTW33nprtthii0pFBgAAgAaraOkeOHBgvuprwg899NAceuihCykRAAAANJ8W+z3dAAAA0Nop3QAAAFAQpRsAAAAKonQDAABAQZRuAAAAKIjSDQAAAAVRugEAAKAgSjcAAAAUROkGAACAgijdAAAAUBClGwAAAAqidAMAAEBBlG4AAAAoiNINAAAABVG6AQAAoCBKNwAAABRE6QYAAICCKN0AAABQEKUbAAAACqJ0AwAAQEGUbgAAACiI0g0AAAAFUboBAACgIEo3AAAAFETpBgAAgIIo3QAAAFAQpRsAAAAKonQDAABAQZRuAAAAKIjSDQAAAAVRugEAAKAgSjcAAAAUROkGAACAgijdAAAAUBClGwAAAAqidAMAAEBBlG4AAAAoiNINAAAABVG6AQAAoCBKNwAAABRE6QYAAICCKN0AAABQEKUbAAAACqJ0AwAAQEGUbgAAACiI0g0AAAAFUboBAACgIBUt3Y8//nh23XXX9OrVK6VSKXfccccCtz388MNTKpVywQUXLLR8AAAA8HVUtHRPnz4966yzTi6++OIv3e6OO+7I3/72t/Tq1WshJQMAAICvr6qSD77jjjtmxx13/NJt3nvvvRx99NH585//nJ133nkhJQMAAICvr0V/pru2tjYHHnhgfvKTn6R///6VjgMAAACNUtEj3V/lvPPOS1VVVY455pgG71NTU5Oampq621OnTi0iGgAAAHylFnuk+7nnnsuFF16YkSNHplQqNXi/ESNGpEuXLnV/evfuXWBKAAAAWLAWW7qfeOKJfPDBB+nTp0+qqqpSVVWVcePG5YQTTsgKK6ywwP2GDRuWKVOm1P2ZMGHCwgsNAAAAX9BiTy8/8MADs+2229ZbtsMOO+TAAw/MIYccssD9qqurU11dXXQ8AAAA+EoVLd3Tpk3Lm2++WXd77NixefHFF9O1a9f06dMn3bp1q7d9+/bt07Nnz6y66qoLOyoAAAA0WkVL97PPPputttqq7vbQoUOTJIMHD87IkSMrlAoAAACaR0VL98CBA1Mulxu8/TvvvFNcGAAAAGhmLfZCagAAANDaKd0AAABQEKUbAAAACqJ0AwAAQEGUbgAAACiI0g0AAAAFUboBAACgIEo3AAAAFETpBgAAgIIo3QAAAFAQpRsAAAAKonQDAABAQZRuAAAAKIjSDQAAAAVRugEAAKAgSjcAAAAUROkGAACAgijdAAAAUBClGwAAAAqidAMAAEBBlG4AAAAoiNINAAAABVG6AQAAoCBKNwAAABRE6QYAAICCKN0AAABQEKUbAAAACqJ0AwAAQEGUbgAAACiI0g0AAAAFUboBAACgIEo3AAAAFETpBgAAgIIo3QAAAFAQpRsAAAAKonQDAABAQZRuAAAAKIjSDQAAAAVRugEAAKAgSjcAAAAUROkGAACAgijdAAAAUBClGwAAAAqidAMAAEBBlG4AAAAoiNINAAAABVG6AQAAoCAVLd2PP/54dt111/Tq1SulUil33HFH3bpZs2blpJNOylprrZXFF188vXr1ykEHHZSJEydWLjAAAAA0QkVL9/Tp07POOuvk4osvnmfdjBkz8vzzz+fUU0/N888/n9tuuy2vv/56dttttwokBQAAgMarquSD77jjjtlxxx3nu65Lly558MEH6y379a9/nY022ijjx49Pnz59FkZEAAAAaLJW9ZnuKVOmpFQqZckll6x0FAAAAPhKFT3S3RifffZZTj755Oy3337p3LnzArerqalJTU1N3e2pU6cujHgAAAAwj1ZxpHvWrFnZZ599Ultbm0suueRLtx0xYkS6dOlS96d3794LKSUAAADU1+JL96xZszJo0KCMHTs2Dz744Jce5U6SYcOGZcqUKXV/JkyYsJCSAgAAQH0t+vTyuYX7jTfeyCOPPJJu3bp95T7V1dWprq5eCOkAAADgy1W0dE+bNi1vvvlm3e2xY8fmxRdfTNeuXdOrV6/stddeef7553PPPfdkzpw5mTRpUpKka9euWXTRRSsVGwAAABqkoqX72WefzVZbbVV3e+jQoUmSwYMH54wzzshdd92VJFl33XXr7ffII49k4MCBCysmAAAANElFS/fAgQNTLpcXuP7L1gEAAEBL1+IvpAYAAACtldINAAAABVG6AQAAoCBKNwAAABRE6QYAAICCKN0AAABQEKUbAAAACqJ0AwAAQEGUbgAAACiI0g0AAAAFUboBAACgIEo3AAAAFETpBgAAgIIo3QAAAFAQpRsAAAAKonQDAABAQZRuAAAAKIjSDQAAAAVRugEAAKAgSjcAAAAUROkGAACAgijdAAAAUBClGwAAAAqidAMAAEBBlG4AAAAoiNINAAAABVG6AQAAoCBKNwAAABRE6QYAAICCKN0AAABQEKUbAAAACqJ0AwAAQEG+Vun+7LPPmisHAAAAtDmNLt21tbX52c9+luWWWy5LLLFE3n777STJqaeemiuvvLLZAwIAAEBr1ejSfdZZZ2XkyJE5//zzs+iii9YtX2uttXLFFVc0azgAAABozRpduv/whz/k8ssvz/77759FFlmkbvnaa6+d1157rVnDAQAAQGvW6NL93nvvpV+/fvMsr62tzaxZs5olFAAAALQFjS7d/fv3zxNPPDHP8j/+8Y9Zb731miUUAAAAtAVVjd3h9NNPz4EHHpj33nsvtbW1ue222zJmzJj84Q9/yD333FNERgAAAGiVGn2ke9ddd81NN92UP/3pTymVSjnttNMyevTo3H333dluu+2KyAgAAACtUqOPdCfJDjvskB122KG5swAAAECb0qTSPde0adNSW1tbb1nnzp2/ViAAAABoKxp9evnYsWOz8847Z/HFF0+XLl2y1FJLZamllsqSSy6ZpZZaqoiMAAAA0Co1+kj3/vvvnyS56qqr0qNHj5RKpWYPBQAAAG1Bo0v3yy+/nOeeey6rrrpqEXkAAACgzWj06eUbbrhhJkyYUEQWAAAAaFMafaT7iiuuyBFHHJH33nsva665Ztq3b19v/dprr91s4QAAAKA1a3Tp/vDDD/PWW2/lkEMOqVtWKpVSLpdTKpUyZ86cZg0IAAAArVWjTy8/9NBDs9566+Xpp5/O22+/nbFjx9b738Z4/PHHs+uuu6ZXr14plUq544476q0vl8s544wz0qtXr3Ts2DEDBw7M3//+98ZGBgAAgIpo9JHucePG5a677kq/fv2+9oNPnz4966yzTg455JB8//vfn2f9+eefn1/+8pcZOXJkVllllZx11lnZbrvtMmbMmHTq1OlrPz4AAAAUqdGle+utt85LL73ULKV7xx13zI477jjfdeVyORdccEFOOeWU7LnnnkmS3//+9+nRo0euv/76HH744V/78QEAAKBIjS7du+66a44//vi88sorWWuttea5kNpuu+3WLMHGjh2bSZMmZfvtt69bVl1dnQEDBuSpp55aYOmuqalJTU1N3e2pU6c2Sx4AAABorEaX7iOOOCJJcuaZZ86zrjkvpDZp0qQkSY8ePeot79GjR8aNG7fA/UaMGJHhw4c3SwYAAAD4Ohp9IbXa2toF/iniyuWlUqne7blXSV+QYcOGZcqUKXV/fKc4AAAAldLoI90LS8+ePZP8+4j3sssuW7f8gw8+mOfo9xdVV1enurq68HwAAADwVRpduud3WvkXnXbaaU0O80UrrrhievbsmQcffDDrrbdekuTzzz/PY489lvPOO69ZHgMAAACK1OjSffvtt9e7PWvWrIwdOzZVVVVZeeWVG1W6p02bljfffLPu9tixY/Piiy+ma9eu6dOnT4477ricc845+da3vpVvfetbOeecc7LYYotlv/32a2xsAAAAWOgaXbpfeOGFeZZNnTo1Bx98cPbYY49G3dezzz6brbbaqu720KFDkySDBw/OyJEjc+KJJ2bmzJk58sgj88knn2TjjTfOAw884Du6AQAAaBWa5TPdnTt3zplnnplddtklBx54YIP3GzhwYMrl8gLXl0qlnHHGGTnjjDOaISUAAAAsXI2+evmC/Otf/8qUKVOa6+4AAACg1Wv0ke6LLrqo3u1yuZz3338/11xzTb773e82WzAAAABo7Rpdun/1q1/Vu92uXbssvfTSGTx4cIYNG9ZswQAAAKC1a3TpHjt2bBE5AAAAoM1pts90AwAAAPU16Ej3nnvu2eA7vO2225ocBgAAANqSBpXuLl26FJ0DAAAA2pwGle6rr7666BwAAADQ5jT6QmpzffjhhxkzZkxKpVJWWWWVLL300s2ZCwAAAFq9Rl9Ibfr06Tn00EOz7LLLZsstt8x3vvOd9OrVK0OGDMmMGTOKyAgAAACtUqNL99ChQ/PYY4/l7rvvzr/+9a/861//yp133pnHHnssJ5xwQhEZAQAAoFVq9Onlt956a2655ZYMHDiwbtlOO+2Ujh07ZtCgQbn00kubMx8AAAC0Wo0+0j1jxoz06NFjnuXLLLOM08sBAADgCxpdujfddNOcfvrp+eyzz+qWzZw5M8OHD8+mm27arOEAAACgNWv06eUXXHBBdtxxxyy//PJZZ511UiqV8uKLL6ZDhw7585//XERGAAAAaJUaXLovuOCCHHTQQVlrrbXyxhtv5Nprr81rr72WcrmcffbZJ/vvv386duxYZFYAAABoVRpcuocPH56TTz45u+22Ww477LAcdthhKZVKRWYDAACAVq3Bn+meNGlSrrzyynz88cfZcccd07dv35x++ul55513CowHAAAArVeDS3d1dXX233///OUvf8lbb72VQw45JH/4wx/Sr1+/bLvttrnxxhtTU1NTZFYAAABoVRp99fIkWWGFFTJ8+PCMHTs2999/f3r06JEhQ4akV69ezZ0PAAAAWq0mle56d9CuXUqlUsrlcmpra5sjEwAAALQJTSrd48aNy/Dhw7Piiitm++23z8SJE/O73/0u77//fnPnAwAAgFarwVcv/+yzz3LrrbfmqquuymOPPZZll102gwcPzqGHHpqVVlqpyIwAAADQKjW4dPfs2TOfffZZdtlll9x9993ZYYcd0q7d1z47HQAAANqsBpfu0047LQcddFC6d+9eZB4AAABoMxpcuocOHVpkDgAAAGhznB8OAAAABVG6AQAAoCBKNwAAABRE6QYAAICCNPhCanPNmTMnI0eOzEMPPZQPPvggtbW19dY//PDDzRYOAAAAWrNGl+5jjz02I0eOzM4775w111wzpVKpiFwAAADQ6jW6dN944425+eabs9NOOxWRBwAAANqMRn+me9FFF02/fv2KyAIAAABtSqNL9wknnJALL7ww5XK5iDwAAADQZjT69PInn3wyjzzySO677770798/7du3r7f+tttua7ZwAAAA0Jo1unQvueSS2WOPPYrIAgAAAG1Ko0v31VdfXUQOAAAAaHMa/ZluAAAAoGEadKR7/fXXz0MPPZSllloq66233pd+N/fzzz/fbOEAAACgNWtQ6d59991TXV2dJPne975XZB4AAABoMxpUuk8//fT5/jcAAACwYD7TDQAAAAVp9NXL58yZk1/96le5+eabM378+Hz++ef11n/88cfNFg4AAABas0Yf6R4+fHh++ctfZtCgQZkyZUqGDh2aPffcM+3atcsZZ5xRQEQAAABonRpduq+77rr87ne/y49//ONUVVVl3333zRVXXJHTTjstzzzzTBEZAQAAoFVqdOmeNGlS1lprrSTJEksskSlTpiRJdtlll9x7773Nmw4AAABasUaX7uWXXz7vv/9+kqRfv3554IEHkiSjRo2q+1qx5jJ79uz8z//8T1ZcccV07NgxK620Us4888zU1tY26+MAAABAERp9IbU99tgjDz30UDbeeOMce+yx2XfffXPllVdm/PjxOf7445s13HnnnZfLLrssv//979O/f/88++yzOeSQQ9KlS5cce+yxzfpYAAAA0NwaXbrPPffcuv/ea6+90rt37/z1r39Nv379sttuuzVruKeffjq77757dt555yTJCiuskBtuuCHPPvtssz4OAAAAFKFRpXvWrFn54Q9/mFNPPTUrrbRSkmTjjTfOxhtvXEi4LbbYIpdddllef/31rLLKKnnppZfy5JNP5oILLljgPjU1Nampqam7PXXq1EKywTfN+PHjM3ny5ErHaBNGjx5d6QgAACwkjSrd7du3z+23355TTz21qDz1nHTSSZkyZUpWW221LLLIIpkzZ07OPvvs7LvvvgvcZ8SIERk+fPhCyQffFOPHj8+qq62ez2bOqHQUAABoVZr0me477rgjQ4cOLSJPPTfddFOuvfbaXH/99enfv39efPHFHHfccenVq1cGDx48332GDRtWL9vUqVPTu3fvwrNCWzZ58uR8NnNGuu1yQtp38/fp65r59rOZ8sS1lY4BAMBC0OjS3a9fv/zsZz/LU089lQ022CCLL754vfXHHHNMs4X7yU9+kpNPPjn77LNPkmSttdbKuHHjMmLEiAWW7urq6ma/ijrwb+279U51z36VjtHqzfpoQqUjAACwkDS6dF9xxRVZcskl89xzz+W5556rt65UKjVr6Z4xY0batav/rWaLLLKIrwwDAACgVWh06R47dmwROeZr1113zdlnn50+ffqkf//+eeGFF/LLX/4yhx566ELLAAAAAE3V6NK9MP3617/OqaeemiOPPDIffPBBevXqlcMPPzynnXZapaMBAADAV2r31Zv8f2+88UZuvfXWuqPd9957b7bccstsuOGGOfvss1Mul5s1XKdOnXLBBRdk3LhxmTlzZt56662cddZZWXTRRZv1cQAAAKAIDT7Sffvtt2fQoEFp165dSqVSLr/88vzwhz/MVlttlc6dO+eMM85IVVVVTjrppCLzAgAAQKvR4CPdZ599dk488cR89tlnufTSS3PEEUfk3HPPzX333Zd77rknv/nNbzJy5MgCowIAAEDr0uDSPWbMmBx66KEplUoZPHhwPv/882y77bZ167fffvuMGzeukJAAAADQGjW4dE+fPj2dOnX6907t2qVjx45ZbLHF6tZ37NgxNTU1zZ8QAAAAWqkGl+5SqZRSqbTA2wAAAEB9Db6QWrlcziqrrFJXtKdNm5b11lsv7dq1q1sPAAAA/H8NLt1XX311kTkAAACgzWlw6R48eHCROQAAAKDNafBnugEAAIDGUboBAACgIEo3AAAAFETpBgAAgIIo3QAAAFCQBl+9fK45c+Zk5MiReeihh/LBBx+ktra23vqHH3642cIBAABAa9bo0n3sscdm5MiR2XnnnbPmmmumVCoVkQsAAABavUaX7htvvDE333xzdtpppyLyAAAAQJvR6M90L7roounXr18RWQAAAKBNaXTpPuGEE3LhhRemXC4XkQcAAADajEafXv7kk0/mkUceyX333Zf+/funffv29dbfdtttzRYOAAAAWrNGl+4ll1wye+yxRxFZAAAAoE1pdOm++uqri8gBAAAAbU6jSzcAAA0zfvz4TJ48udIx2ozu3bunT58+lY4B0ChNKt233HJLbr755owfPz6ff/55vXXPP/98swQDAGjNxo8fn1VXWz2fzZxR6ShtRoeOi2XMa6MVb6BVaXTpvuiii3LKKadk8ODBufPOO3PIIYfkrbfeyqhRo3LUUUcVkREAoNWZPHlyPps5I912OSHtu/WudJxWb9ZHE/LRPb/I5MmTlW6gVWl06b7kkkty+eWXZ999983vf//7nHjiiVlppZVy2mmn5eOPPy4iIwBAq9W+W+9U9+xX6RgAVEijv6d7/Pjx2WyzzZIkHTt2zKeffpokOfDAA3PDDTc0bzoAAABoxRpdunv27JmPPvooSdK3b98888wzSZKxY8emXC43bzoAAABoxRpdurfeeuvcfffdSZIhQ4bk+OOPz3bbbZcf/OAHvr8bAAAAvqDRn+m+/PLLU1tbmyQ54ogj0rVr1zz55JPZddddc8QRRzR7QAAAAGitGl2627Vrl3bt/v8B8kGDBmXQoEHNGgoAAADagkafXp4kTzzxRA444IBsuummee+995Ik11xzTZ588slmDQcAAACtWaNL96233poddtghHTt2zAsvvJCampokyaeffppzzjmn2QMCAABAa9Xo0n3WWWflsssuy+9+97u0b9++bvlmm22W559/vlnDAQAAQGvW6NI9ZsyYbLnllvMs79y5c/71r381RyYAAABoExpdupdddtm8+eab8yx/8skns9JKKzVLKAAAAGgLGl26Dz/88Bx77LH529/+llKplIkTJ+a6667Lj3/84xx55JFFZAQAAIBWqdFfGXbiiSdmypQp2WqrrfLZZ59lyy23THV1dX784x/n6KOPLiIjAAAAtEqNLt1JcvbZZ+eUU07JP/7xj9TW1maNNdbIEkss0dzZAAAAoFVrUulOksUWWyzf/va3mzMLAAAAtCkNLt2HHnpog7a76qqrmhwGAAAA2pIGl+6RI0emb9++WW+99VIul4vMBAAAAG1Cg0v3EUcckRtvvDFvv/12Dj300BxwwAHp2rVrkdkAAACgVWvwV4Zdcsklef/993PSSSfl7rvvTu/evTNo0KD8+c9/duQbAAAA5qNR39NdXV2dfffdNw8++GD+8Y9/pH///jnyyCPTt2/fTJs2raiMAAAA0Co1qnR/UalUSqlUSrlcTm1tbXNmAgAAgDahUaW7pqYmN9xwQ7bbbrusuuqqeeWVV3LxxRdn/PjxvqcbAAAA/kODL6R25JFH5sYbb0yfPn1yyCGH5MYbb0y3bt2KzAYAAACtWoNL92WXXZY+ffpkxRVXzGOPPZbHHntsvtvddtttzRYuSd57772cdNJJue+++zJz5sysssoqufLKK7PBBhs06+MAAABAc2tw6T7ooINSKpWKzDKPTz75JJtvvnm22mqr3HfffVlmmWXy1ltvZckll1yoOQAAAKApGly6R44cWWCM+TvvvPPSu3fvXH311XXLVlhhhYWeAwAAAJqiwaW7Eu66667ssMMO2XvvvfPYY49lueWWy5FHHpn/+q//WuA+NTU1qampqbs9derUhREVANqM8ePHZ/LkyZWO0eqNHj260hEAaAFadOl+++23c+mll2bo0KH56U9/mv/7v//LMccck+rq6hx00EHz3WfEiBEZPnz4Qk4KAG3D+PHjs+pqq+ezmTMqHQUA2oQWXbpra2vz7W9/O+ecc06SZL311svf//73XHrppQss3cOGDcvQoUPrbk+dOjW9e/deKHkBoLWbPHlyPps5I912OSHtu/n38+uY+fazmfLEtZWOAUCFtejSveyyy2aNNdaot2z11VfPrbfeusB9qqurU11dXXQ0AGjT2nfrneqe/Sodo1Wb9dGESkcAoAVoV+kAX2bzzTfPmDFj6i17/fXX07dv3wolAgAAgIZr0aX7+OOPzzPPPJNzzjknb775Zq6//vpcfvnlOeqooyodDQAAAL5Siy7dG264YW6//fbccMMNWXPNNfOzn/0sF1xwQfbff/9KRwMAAICv1KI/050ku+yyS3bZZZdKxwAAAIBGa9FHugEAAKA1U7oBAACgIEo3AAAAFETpBgAAgIIo3QAAAFAQpRsAAAAKonQDAABAQZRuAAAAKIjSDQAAAAVRugEAAKAgSjcAAAAUROkGAACAgijdAAAAUBClGwAAAAqidAMAAEBBlG4AAAAoiNINAAAABVG6AQAAoCBKNwAAABRE6QYAAICCKN0AAABQEKUbAAAACqJ0AwAAQEGUbgAAACiI0g0AAAAFUboBAACgIEo3AAAAFETpBgAAgIIo3QAAAFAQpRsAAAAKonQDAABAQZRuAAAAKIjSDQAAAAVRugEAAKAgSjcAAAAUROkGAACAgijdAAAAUBClGwAAAAqidAMAAEBBlG4AAAAoiNINAAAABVG6AQAAoCBKNwAAABRE6QYAAICCKN0AAABQEKUbAAAACqJ0AwAAQEFaVekeMWJESqVSjjvuuEpHAQAAgK/Uakr3qFGjcvnll2fttdeudBQAAABokFZRuqdNm5b9998/v/vd77LUUktVOg4AAAA0SKso3UcddVR23nnnbLvttpWOAgAAAA1WVekAX+XGG2/M888/n1GjRjVo+5qamtTU1NTdnjp1alHRmt348eMzefLkSsdoM2pqalJdXV3pGG3C6NGjKx0BvpI5bR5eRwBoXi26dE+YMCHHHntsHnjggXTo0KFB+4wYMSLDhw8vOFnzGz9+fFZdbfV8NnNGpaO0HaV2Sbm20imAgs2Z9klSKuWAAw6odBQAgHm06NL93HPP5YMPPsgGG2xQt2zOnDl5/PHHc/HFF6empiaLLLJIvX2GDRuWoUOH1t2eOnVqevfuvdAyN9XkyZPz2cwZ6bbLCWnfreXnbelmvv1spjxxrdezmcx9PaElqq2ZlpTL/r43E3/fAaB5tejSvc022+SVV16pt+yQQw7JaqutlpNOOmmewp0k1dXVrfqU4vbdeqe6Z79Kx2j1Zn00IYnXs7nMfT2hJfP3vXn4+w4AzatFl+5OnTplzTXXrLds8cUXT7du3eZZDgAAAC1Nq7h6OQAAALRGLfpI9/w8+uijlY4AAAAADeJINwAAABRE6QYAAICCKN0AAABQEKUbAAAACqJ0AwAAQEGUbgAAACiI0g0AAAAFUboBAACgIEo3AAAAFETpBgAAgIIo3QAAAFAQpRsAAAAKonQDAABAQZRuAAAAKIjSDQAAAAVRugEAAKAgSjcAAAAUROkGAACAgijdAAAAUBClGwAAAAqidAMAAEBBlG4AAAAoiNINAAAABVG6AQAAoCBKNwAAABRE6QYAAICCKN0AAABQEKUbAAAACqJ0AwAAQEGUbgAAACiI0g0AAAAFUboBAACgIEo3AAAAFETpBgAAgIIo3QAAAFAQpRsAAAAKonQDAABAQZRuAAAAKIjSDQAAAAVRugEAAKAgSjcAAAAUROkGAACAgijdAAAAUBClGwAAAAqidAMAAEBBlG4AAAAoiNINAAAABWnRpXvEiBHZcMMN06lTpyyzzDL53ve+lzFjxlQ6FgAAADRIiy7djz32WI466qg888wzefDBBzN79uxsv/32mT59eqWjAQAAwFeqqnSAL3P//ffXu3311VdnmWWWyXPPPZctt9yyQqkAAACgYVr0ke7/NGXKlCRJ165dK5wEAAAAvlqLPtL9ReVyOUOHDs0WW2yRNddcc4Hb1dTUpKampu721KlTF0Y8AADgG2z8+PGZPHlypWO0Gd27d0+fPn0qHaNZtJrSffTRR+fll1/Ok08++aXbjRgxIsOHD19IqQAAgG+68ePHZ9XVVs9nM2dUOkqb0aHjYhnz2ug2UbxbRen+0Y9+lLvuuiuPP/54ll9++S/ddtiwYRk6dGjd7alTp6Z3795FRwQAAL6hJk+enM9mzki3XU5I+266x9c166MJ+eieX2Ty5MlKd9HK5XJ+9KMf5fbbb8+jjz6aFVdc8Sv3qa6uTnV19UJIBwAA8P+179Y71T37VToGLUyLLt1HHXVUrr/++tx5553p1KlTJk2alCTp0qVLOnbsWOF0AAAA8OVa9NXLL7300kyZMiUDBw7MsssuW/fnpptuqnQ0AAAA+Eot+kh3uVyudAQAAABoshZ9pBsAAABaM6UbAAAACqJ0AwAAQEGUbgAAACiI0g0AAAAFUboBAACgIEo3AAAAFETpBgAAgIIo3QAAAFAQpRsAAAAKonQDAABAQZRuAAAAKIjSDQAAAAVRugEAAKAgSjcAAAAUROkGAACAgijdAAAAUBClGwAAAAqidAMAAEBBlG4AAAAoiNINAAAABVG6AQAAoCBVlQ4AAAANNXr06EpHaDO6d++ePn36VDoGtHlKNwAALd6caZ8kpVIOOOCASkdpMzp0XCxjXhuteEPBlG4AAFq82pppSbmcbruckPbdelc6Tqs366MJ+eieX2Ty5MlKNxRM6QYAoNVo3613qnv2q3QMgAZzITUAAAAoiNINAAAABVG6AQAAoCBKNwAAABRE6QYAAICCKN0AAABQEKUbAAAACqJ0AwAAQEGUbgAAACiI0g0AAAAFUboBAACgIEo3AAAAFETpBgAAgIIo3QAAAFAQpRsAAAAKonQDAABAQZRuAAAAKIjSDQAAAAVRugEAAKAgSjcAAAAUROkGAACAgrSK0n3JJZdkxRVXTIcOHbLBBhvkiSeeqHQkAAAA+EotvnTfdNNNOe6443LKKafkhRdeyHe+853suOOOGT9+fKWjAQAAwJdq8aX7l7/8ZYYMGZLDDjssq6++ei644IL07t07l156aaWjAQAAwJdq0aX7888/z3PPPZftt9++3vLtt98+Tz31VIVSAQAAQMNUVTrAl5k8eXLmzJmTHj161Fveo0ePTJo0ab771NTUpKampu72lClTkiRTp04tLmgzmDZtWpKkZtKbqf38swqnaf1mfTQhidezuXg9m5fXs3l5PZuX17P5eC2bl9ezec36+N0kyXPPPVf3PpSmGzNmTBLz2Vzmzue0adNadI+bm61cLn/pdqXyV21RQRMnTsxyyy2Xp556Kptuumnd8rPPPjvXXHNNXnvttXn2OeOMMzJ8+PCFGRMAAIBvqAkTJmT55Zdf4PoWfaS7e/fuWWSRReY5qv3BBx/Mc/R7rmHDhmXo0KF1t2tra/Pxxx+nW7duKZVKdcunTp2a3r17Z8KECencuXMxT4A2yezQFOaGpjA3NIW5oanMDk3xTZ6bcrmcTz/9NL169frS7Vp06V500UWzwQYb5MEHH8wee+xRt/zBBx/M7rvvPt99qqurU11dXW/ZkksuucDH6Ny58zduOGgeZoemMDc0hbmhKcwNTWV2aIpv6tx06dLlK7dp0aU7SYYOHZoDDzww3/72t7Ppppvm8ssvz/jx43PEEUdUOhoAAAB8qRZfun/wgx/ko48+yplnnpn3338/a665Zv70pz+lb9++lY4GAAAAX6rFl+4kOfLII3PkkUc2631WV1fn9NNPn+dUdPgqZoemMDc0hbmhKcwNTWV2aApz89Va9NXLAQAAoDVrV+kAAAAA0FYp3QAAAFAQpRsAAAAKonQDAABAQdpc6a6tra10BFop1xQEoKXzbxWN5b0xX4efOc2jTZXuN998M3/4wx/y/vvvVzoKrcjUqVPz8ccfZ+LEiZWOQitTW1ubOXPm1FvmHyegCP/85z/zwQcfpFQq+TlDg3lvTFN5f9y82kzpfvnll7Pxxhvn1Vdfzeeff57Em1++2quvvprdd989m2++efbcc89ceeWVlY5EKzF69OgceeSR2WGHHXLqqafmzjvvTBJviPlSb731Vs4555wcdNBB+cMf/pD33nuv0pFoBcaNG5fVVlsthx9+eCZMmJBSqeToJV/Je2Oayvvj5tcmSvfEiRPz/e9/P4cddlj+93//N3379k2S1NTU1G3jhwz/afTo0dlyyy2z4YYbZtiwYVlvvfVy6623ZsaMGXXzYm6Yn9deey2bbbZZpk2blhVXXDF//etfc/zxx+fUU09Nongzf6+++mq+853v5Kmnnsr777+fo446KhdffHESp3/y5d5+++26M2uGDRuWCRMmpF27dn7OsEDeG9NU3h8Xo6rSAZrD6NGj06NHj5xzzjmZNWtWhg0blldeeSXV1dUZMGBATjjhhLo3waVSqdJxaQE+//zznHvuudlnn31y/vnnJ0mWXnrpXHzxxZkyZUr++c9/ZsUVVzQ3zKNcLufyyy/P9ttvn2uvvTZJ8u677+aWW27JT3/609TU1OT88883M9QzYcKEDBo0KAcddFDOPffcJMlNN92UQw89NEOGDEm/fv0qnJCWrFevXllppZWy8cYb509/+lNOPvnkXHDBBVl66aXz+eefZ9FFF610RFoY741pCu+Pi9MmjnSPGTMmc+bMySKLLJIdd9wxr776ajbYYIP06dMnp512Wo455pgkMRjUqaqqyltvvVXvjcozzzyTF154IVtssUW22267HH300UnMDfWVSqW8+eabmT17dt2y5ZdfPkOGDMn//u//5sorr8yvfvWrCiakpZkzZ07uv//+rLHGGvnRj36Ucrmc2tra7LDDDunbt28++uijSkekBZszZ046d+6crl275qijjsqQIUPy7rvvZtiwYfnud7+b4cOHz3NtCfDemKbw/rg4beJI94Ybbpif//znOe+889KuXbtcfvnl6dOnT2bPnp0tttgixxxzTL773e9mp512qnRUWog5c+Zko402yl//+tcMHz48U6ZMyW9/+9tcffXV6dGjR/75z39myJAhWXvttfPDH/6w0nFpYbbccsvcfvvtef3117PKKqskSTp16pRBgwblnXfeyR133JF99903PXv2rHBSWoJFFlkkffr0ybrrrpvlllsuyb/frHTq1Cmff/553n333Wy88cYVTklLVFtbm0UWWSTLLrtsOnTokJdeeimHHnpoqqqqcvLJJ+fjjz/OUUcdlUUWWSS1tbVp165NHEuhGXhvTFN8/vnn3h8XpFX+dH7//ffzf//3f3W3l1122ay99tq57bbb8umnn6ZPnz5J/v3bmq233jrdunXLu+++W6m4tBBfnJv27dtn3333zZZbbpm33norTz/9dH7+859n0KBBGTBgQHbeeeesvfbaeeuttyqcmpZgzJgx+fGPf1x3e/3118/EiRNz3XXX5eOPP65b3r179+y+++555plnMnbs2EpEpQUZM2ZMhg4dmiTZYYcd8j//8z9J6n8WrkOHDvWK0u23354XXnhh4QalRfniz5t27dqltra2bmb+/ve/J0kefvjhzJgxI/3798/tt9+ecePGKdzfcP/571TPnj29N6ZBvjg7HTp08P64IK3uJ/TLL7+cLbfcMo899ljdD4vll18+Bx54YN5666387W9/y7333lu3/TLLLJPll18+1dXVlYpMC/DFuZkwYUKSf/8WeMSIEbnyyisze/bsem+EF1988XTq1CldunSpVGRaiJdffjmbb755Lr300rzyyitJkq233jonnHBCzj777Fx22WX1vk7jW9/6VlZfffVKxaWFmDs3v/3tb+vmZu7F0uZeeXru0e7OnTsnSYYNG5bBgwdnqaWWqlhuKuuLP2/mFuy5n5v83ve+lyQZMmRIHnjggTz++OM58sgjM2rUqJxzzjn1PvLCN8sX5+bVV19NkvTu3TuDBw/23pgvNb/3OBtuuGHOO+8874+bWasq3W+99Va23Xbb7Lrrrhk6dGiWX375unV77bVXfvOb36RPnz455ZRT8tvf/jajRo3KiSeemFdffTUDBgyoYHIq6T/npnfv3nXrqqqqUiqV0r9//4wePTovvfRSpkyZklNOOSUvv/xyBg0aVMHkVNpLL72UjTfeOIMGDUr37t1z00031a07+uijc/755+fcc8/N8OHDc++992bcuHH5+c9/nsmTJ2eFFVaoXHAqakFz88UjkXOPYE6fPj2ff/55hg8fnosuuigPP/yw2fmG+s+5ueGGG5L8++MJSbLooovm6KOPzp///OfcfffdWXvttTNkyJAMHTo0w4YNS1VVm/jEII30n3Nz44031q3bc88989vf/jZ9+/b13ph5fNl7nOTfZ4X2798/r732mvfHzaHcivzsZz8rf//73y+Xy+XynDlzypdcckl5+PDh5TPPPLM8Z86ccrlcLv/5z38uH3LIIeXFF1+8vOaaa5bXXHPN8vPPP1/J2FTYgubm7LPPLs+ePbtcLpfL11xzTXn11VcvL7vssuVvf/vb5b59+5qbb7jnn3++3LFjx/LJJ59cLpfL5REjRpRXWmml8quvvlpvu2uuuaa87bbblhdbbLHyGmusYXa+4Ro6N+VyuTxr1qzyJptsUl599dXLHTp0KD/77LMLOy4tREPmpra2tvyrX/2q/Nxzz5XL5XLd+x6+uRr68+aBBx7w3ph6Gjo71157rffHzaRULreeL1o7/PDD07Vr14wYMSIbb7xxOnTokJqamkyaNCmLLLJIHnnkkfTp0yc1NTX55JNPMmfOnCy22GJO1fuG+7K5qaqqysMPP5w+ffrkiSeeyNixY9O+fftsscUW9Y6I883y3nvvZZNNNsl+++2X8847L0nyxBNPZJ999sk555yTwYMH1/uansmTJ2fSpEmZNWtWevXqlR49elQyPhXSkLmZezXhcrmc6dOnZ7PNNsuECRPy+OOPZ6211qrwM6ASGjs3rhhM0rC5mTVrVtq3b5/k3x9v+eCDD7w3ptGz8/TTT+eNN97w/vhralWl+4c//GHefffdDB48OCNHjsxNN92UqqqqfPrpp9lzzz0zc+bMPP/885WOSQvzVXMzY8YMFy6inkmTJmXUqFHZdddd6y0/7LDD8uijj+all17K4osv7mrB1NPQufmiW265JWussUbWWGONhRmVFqQpcwMNnZu5v6jxCxvm8h6nMlrFKzn39wIHHHBApkyZkgsvvDC9e/dO586d06FDh/To0SO/+tWvMnny5Dz77LMVTktL0dC5+eijjzJq1KgKp6WlKJfL6dmzZ71/jOZeAOuAAw5Iktx///0VyUbL1Zi5+eLVqPfaay+F+xussXMDSePmZu7PGoWbxHucSmoVpXvuD4o11lgj3/rWt/Lss89m3LhxSf7/hWk6duyYJZZYIosttljFctKyNGZuHEVgrvm9MZk7LwMGDEj37t0zcuTIesuhsXPjDTCJnzc0jbmhqcxO5bSaV7NcLqd79+4ZPnx4dtlllzz++OP57//+7yTJxx9/nDvuuCMdOnTI0ksvXeGktCTmhuYyZ86clEqlnHHGGXnuuefqff0KLIi5oSnMDU1hbmgqs1O8Fle6Z8+enVmzZtVbNvf7TGtra9O3b99cdNFF+dGPfpQ777wzSy21VLbbbrv85je/yZVXXqk8fUOZG5pqQbPzn+Z+bc9aa62VRRZZJE888YTTPb/BzA1NYW5oCnNDU5mdlqNFXUjtH//4R4YPH56JEyemX79+2X777bPvvvsmSd2VO+d+qH/GjBmZMmVK/vSnP6VXr15ZY4010rdv3wo/AyrB3NBUDZmd+fn973+fb3/72+nfv//CjEsLYW5oCnNDU5gbmsrstCwtpnS//vrr2WijjbLrrrvmW9/6Vh566KF8+umnWWeddXL11VcnSb2v6IHE3NB0TZmd2bNnp6qqqlKRaQHMDU1hbmgKc0NTmZ0WaCF+J/gC1dbWlk855ZTyXnvtVbds+vTp5Ysvvri81lprlQcNGlRv+6uuuqo8fvz4hR2TFsbc0FRmh6YwNzSFuaEpzA1NZXZaphbxme5SqZT33nsvkyZNqlu22GKL5dBDD82xxx6bN954I8OGDUuSPPXUUznnnHPy05/+NHPmzKlUZFoAc0NTmR2awtzQFOaGpjA3NJXZaZkqfg5BuVxOqVTK+uuvnzFjxuS1117LaqutluTfX+e099575/XXX88jjzySTz75JJtttllOPPHEbLvttgv8LAJtn7mhqcwOTWFuaApzQ1OYG5rK7LRgFTzKXs+bb75Z7t69e/mQQw4pT506td66iRMnltu1a1e+5ZZbKpSOlsrc0FRmh6YwNzSFuaEpzA1NZXZanhZxenmSrLzyyrn55ptz/fXXZ9iwYZk8eXLdukUXXTTrrbdeunXrVsGEtETmhqYyOzSFuaEpzA1NYW5oKrPT8lT89PIv2mqrrfLHP/4xe++9dyZOnJi99947a6+9dq655pq8++67WXnllSsdkRbI3NBUZoemMDc0hbmhKcwNTWV2WpYW85VhX/T8889n6NChGTt2bKqqqtK+ffvccMMNWW+99SodjRbM3NBUZoemMDc0hbmhKcwNTWV2WoYWWbqTZOrUqfn4448zbdq09OzZM927d690JFoBc0NTmR2awtzQFOaGpjA3NJXZqbwWW7oBAACgtWsxF1IDAACAtkbpBgAAgIIo3QAAAFAQpRsAAAAKonQDAABAQZRuAAAAKIjSDQAAAAVRugEAAKAgSjcAAAAUROkGgG+ogw8+ON/73vfq/rtUKqVUKqV9+/bp0aNHtttuu1x11VWpra2tbFAAaMWUbgAgSfLd734377//ft55553cd9992WqrrXLsscdml112yezZsysdDwBapapKBwAAWobq6ur07NkzSbLccstl/fXXzyabbJJtttkmI0eOzGGHHVbhhADQ+jjSDQAs0NZbb5111lknt912W6WjAECrpHQDAF9qtdVWyzvvvFPpGADQKindAMCXKpfLKZVKlY4BAK2S0g0AfKnRo0dnxRVXrHQMAGiVlG4AYIEefvjhvPLKK/n+979f6SgA0Cq5ejkAkCSpqanJpEmTMmfOnPzzn//M/fffnxEjRmSXXXbJQQcdVOl4ANAqKd0AQJLk/vvvz7LLLpuqqqostdRSWWeddXLRRRdl8ODBadfOyXEA0BSlcrlcrnQIAAAAaIv82hoAAAAKonQDAABAQZRuAAAAKIjSDQAAAAVRugEAAKAgSjcAAAAUROkGAACAgijdAAAAUBClGwAAAAqidAMAAEBBlG4AAAAoiNINAAAABfl/6uzplatlAYgAAAAASUVORK5CYII=",
      "text/plain": [
       "<Figure size 1000x600 with 1 Axes>"
      ]
     },
     "metadata": {},
     "output_type": "display_data"
    }
   ],
   "source": [
    "male_data=brain_volume[brain_volume['M/F']=='M']\n",
    "mean_nWBV=male_data.groupby(['ID_x', 'ID_y'])['nWBV'].mean()\n",
    "plt.figure(figsize=(10, 6))\n",
    "mean_nWBV.plot(kind='hist', edgecolor='black')\n",
    "plt.xlabel('ID')\n",
    "plt.ylabel('Mean Brain Volume')\n",
    "plt.title('Mean Brain Volume in Males by ID')\n",
    "plt.xticks(rotation=45, ha='right')\n",
    "plt.tight_layout()\n",
    "plt.show()"
   ]
  },
  {
   "cell_type": "code",
<<<<<<< Updated upstream
   "execution_count": 31,
=======
   "execution_count": 26,
>>>>>>> Stashed changes
   "metadata": {
    "scrolled": false
   },
   "outputs": [
    {
     "data": {
      "image/png": "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",
      "text/plain": [
       "<Figure size 1000x600 with 1 Axes>"
      ]
     },
     "metadata": {},
     "output_type": "display_data"
    }
   ],
   "source": [
    "female_data=brain_volume[brain_volume['M/F']=='F']\n",
    "mean_nWBV=female_data.groupby(['ID_x', 'ID_y'])['nWBV'].mean()\n",
    "plt.figure(figsize=(10, 6))\n",
    "mean_nWBV.plot(kind='hist', edgecolor='black')\n",
    "plt.xlabel('ID')\n",
    "plt.ylabel('Mean Brain Volume')\n",
    "plt.title('Mean Brain Volume in Females by ID')\n",
    "plt.xticks(rotation=45, ha='right')\n",
    "plt.tight_layout()\n",
    "plt.show()"
   ]
  },
  {
   "cell_type": "code",
<<<<<<< Updated upstream
   "execution_count": 40,
=======
   "execution_count": 27,
>>>>>>> Stashed changes
   "metadata": {},
   "outputs": [],
   "source": [
    "# Plotting distribution of SES\n",
    "def univariate_mul(var):\n",
    "    fig = plt.figure(figsize=(16,12))\n",
    "    cmap=plt.cm.Blues\n",
    "    cmap1=plt.cm.coolwarm_r\n",
    "    ax1 = fig.add_subplot(221)\n",
    "    ax2 = fig.add_subplot(212)\n",
    "    brain_volume[var].plot(kind='hist',ax=ax1, grid=True)\n",
    "    ax1.set_title('Histogram of '+var, fontsize=14)\n",
    "    \n",
    "    ax2=sns.distplot(brain_volume[[var]],hist=False)\n",
    "    ax2.set_title('Distribution of '+ var)\n",
    "    plt.show()"
   ]
  },
  {
   "cell_type": "code",
<<<<<<< Updated upstream
   "execution_count": 48,
=======
   "execution_count": 28,
>>>>>>> Stashed changes
   "metadata": {},
   "outputs": [
    {
     "name": "stderr",
     "output_type": "stream",
     "text": [
      "C:\\Users\\tiffa\\AppData\\Local\\Temp\\ipykernel_13364\\1187809244.py:11: UserWarning: \n",
      "\n",
      "`distplot` is a deprecated function and will be removed in seaborn v0.14.0.\n",
      "\n",
      "Please adapt your code to use either `displot` (a figure-level function with\n",
      "similar flexibility) or `kdeplot` (an axes-level function for kernel density plots).\n",
      "\n",
      "For a guide to updating your code to use the new functions, please see\n",
      "https://gist.github.com/mwaskom/de44147ed2974457ad6372750bbe5751\n",
      "\n",
      "  ax2=sns.distplot(brain_volume[[var]],hist=False)\n"
     ]
    },
    {
     "data": {
      "image/png": "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",
      "text/plain": [
       "<Figure size 1600x1200 with 2 Axes>"
      ]
     },
     "metadata": {},
     "output_type": "display_data"
    },
    {
     "data": {
      "text/plain": [
       "count    52.000000\n",
       "mean      0.711327\n",
       "std       0.025152\n",
       "min       0.665000\n",
       "25%       0.695000\n",
       "50%       0.709000\n",
       "75%       0.728000\n",
       "max       0.783000\n",
       "Name: nWBV, dtype: float64"
      ]
     },
     "execution_count": 28,
     "metadata": {},
     "output_type": "execute_result"
    }
   ],
   "source": [
    "# From the univariate analysis, we can see that males with dementia commonly have a brain volume of 0.70 +/- (x)\n",
    "\n",
    "univariate_mul('nWBV')\n",
    "male_data['nWBV'].describe()"
   ]
  },
  {
   "cell_type": "code",
<<<<<<< Updated upstream
   "execution_count": 47,
=======
   "execution_count": 29,
>>>>>>> Stashed changes
   "metadata": {},
   "outputs": [
    {
     "name": "stderr",
     "output_type": "stream",
     "text": [
      "C:\\Users\\tiffa\\AppData\\Local\\Temp\\ipykernel_13364\\1187809244.py:11: UserWarning: \n",
      "\n",
      "`distplot` is a deprecated function and will be removed in seaborn v0.14.0.\n",
      "\n",
      "Please adapt your code to use either `displot` (a figure-level function with\n",
      "similar flexibility) or `kdeplot` (an axes-level function for kernel density plots).\n",
      "\n",
      "For a guide to updating your code to use the new functions, please see\n",
      "https://gist.github.com/mwaskom/de44147ed2974457ad6372750bbe5751\n",
      "\n",
      "  ax2=sns.distplot(brain_volume[[var]],hist=False)\n"
     ]
    },
    {
     "data": {
      "image/png": "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",
      "text/plain": [
       "<Figure size 1600x1200 with 2 Axes>"
      ]
     },
     "metadata": {},
     "output_type": "display_data"
    },
    {
     "data": {
      "text/plain": [
       "count    74.000000\n",
       "mean      0.730446\n",
       "std       0.025915\n",
       "min       0.683000\n",
       "25%       0.708000\n",
       "50%       0.733000\n",
       "75%       0.751000\n",
       "max       0.777000\n",
       "Name: nWBV, dtype: float64"
      ]
     },
     "execution_count": 29,
     "metadata": {},
     "output_type": "execute_result"
    }
   ],
   "source": [
    "# From the univariate analysis, we can see that females with dementia commonly have a brain volume of 0.70 +/- (x)\n",
    "\n",
    "univariate_mul('nWBV')\n",
    "female_data['nWBV'].describe()"
   ]
  },
  {
   "cell_type": "code",
   "execution_count": null,
   "metadata": {},
   "outputs": [],
   "source": []
  },
  {
   "cell_type": "code",
<<<<<<< Updated upstream
   "execution_count": 23,
=======
   "execution_count": 30,
>>>>>>> Stashed changes
   "metadata": {},
   "outputs": [],
   "source": [
    "## derived from -- https://medium.com/@mangesh8374/working-with-image-dataset-to-build-cnn-model-in-tensorflow-f3dba0f72bfa\n",
    "\n",
    "data_dir = 'D:\\Millet Classification\\Millet_Dataset'\n",
    "file_extensions = [\".png\", \".jpg\", \".jpeg\"]  # image file extensions from the downloaded images\n",
    "file_types_accepted_by_tf = [\"bmp\", \"gif\", \"jpeg\", \"png\"] # image extensions accepted by TensorFlow\n",
    "for filepath in Path(data_dir).rglob(\"*\"):\n",
    "    if filepath.suffix.lower() in file_extensions:\n",
    "        img_type = imghdr.what(filepath)\n",
    "        if img_type is None:\n",
    "            print(f\"{filepath} is not an image\")\n",
    "        elif img_type not in file_types_accepted_by_tf:\n",
    "            print(f\"{filepath} is a {img_type}, not accepted by TensorFlow\")\n",
    "            \n",
    "data_dir = 'D:\\Millet Classification\\Millet_Dataset'\n",
    "\n",
    "def jpg_to_jpeg(data_dir):\n",
    "    for dir_name in os.listdir(data_dir):\n",
    "        files = os.path.join(data_dir,dir_name)\n",
    "        for filepaths in os.listdir(files):\n",
    "            file_names = os.path.join(files,filepaths)\n",
    "            if file_names.endswith(\".jpg\") or file_names.endswith(\".JPG\"):\n",
    "                img = cv2.imread(str(file_names))\n",
    "                cv2.imwrite(file_names[0:-4]+\".jpeg\", img)\n",
    "                os.remove(file_names)"
   ]
  },
  {
   "cell_type": "markdown",
   "metadata": {},
   "source": [
    "##### source: \n",
    "https://stackoverflow.com/questions/51178166/iterate-through-folder-with-pillow-image-open"
   ]
  },
  {
   "cell_type": "markdown",
   "metadata": {},
   "source": [
    "save below for when images are finished uploading"
   ]
  },
  {
   "cell_type": "code",
<<<<<<< Updated upstream
   "execution_count": 24,
=======
   "execution_count": 31,
>>>>>>> Stashed changes
   "metadata": {},
   "outputs": [],
   "source": [
    "#directory_path_1='oasis_cross_section.csv'\n",
    "#for filename in os.listdir(directory_path_1):\n",
    "#    if filename.endswith('.jpg'):\n",
    "#        print(filename)\n",
    "        \n",
    "#directory_path_2='oasis_longitudinal_demographics.csv'\n",
    "#for filename in os.listdir(directory_path_2):\n",
    "#    if filename.endswith('.jpg'):\n",
    "#        print(filename)"
   ]
  },
  {
   "cell_type": "markdown",
   "metadata": {},
   "source": [
    "##### source: \n",
    "https://stackoverflow.com/questions/51178166/iterate-through-folder-with-pillow-image-open\n",
    "\n",
    "!! CAUTION !!\n",
    "\n",
    "Need to remove the # from img.show() and all files from the folder will open"
   ]
  },
  {
   "cell_type": "code",
<<<<<<< Updated upstream
   "execution_count": 25,
=======
   "execution_count": 32,
>>>>>>> Stashed changes
   "metadata": {},
   "outputs": [],
   "source": [
    "images = glob.glob(\"Datasets/Moderate_Demented/*.jpg\")\n",
    "for image in images:\n",
    "    with open(image, 'rb') as file:\n",
    "        img = Image.open(file)\n",
    "        # img.show()\n"
   ]
  },
  {
   "cell_type": "code",
<<<<<<< Updated upstream
   "execution_count": 26,
=======
   "execution_count": 33,
>>>>>>> Stashed changes
   "metadata": {
    "scrolled": true
   },
   "outputs": [
    {
     "name": "stdout",
     "output_type": "stream",
     "text": [
      "Requirement already satisfied: tensorflow in c:\\users\\tiffa\\anaconda3\\lib\\site-packages (2.16.1)\n",
      "Requirement already satisfied: tensorflow-intel==2.16.1 in c:\\users\\tiffa\\anaconda3\\lib\\site-packages (from tensorflow) (2.16.1)\n",
      "Requirement already satisfied: keras>=3.0.0 in c:\\users\\tiffa\\anaconda3\\lib\\site-packages (from tensorflow-intel==2.16.1->tensorflow) (3.3.3)\n",
      "Requirement already satisfied: numpy<2.0.0,>=1.23.5 in c:\\users\\tiffa\\anaconda3\\lib\\site-packages (from tensorflow-intel==2.16.1->tensorflow) (1.23.5)\n",
      "Requirement already satisfied: libclang>=13.0.0 in c:\\users\\tiffa\\anaconda3\\lib\\site-packages (from tensorflow-intel==2.16.1->tensorflow) (18.1.1)\n",
      "Requirement already satisfied: six>=1.12.0 in c:\\users\\tiffa\\anaconda3\\lib\\site-packages (from tensorflow-intel==2.16.1->tensorflow) (1.16.0)\n",
      "Requirement already satisfied: setuptools in c:\\users\\tiffa\\anaconda3\\lib\\site-packages (from tensorflow-intel==2.16.1->tensorflow) (65.6.3)\n",
      "Requirement already satisfied: typing-extensions>=3.6.6 in c:\\users\\tiffa\\anaconda3\\lib\\site-packages (from tensorflow-intel==2.16.1->tensorflow) (4.4.0)\n",
      "Requirement already satisfied: grpcio<2.0,>=1.24.3 in c:\\users\\tiffa\\anaconda3\\lib\\site-packages (from tensorflow-intel==2.16.1->tensorflow) (1.64.0)\n",
      "Requirement already satisfied: requests<3,>=2.21.0 in c:\\users\\tiffa\\anaconda3\\lib\\site-packages (from tensorflow-intel==2.16.1->tensorflow) (2.28.1)\n",
      "Requirement already satisfied: flatbuffers>=23.5.26 in c:\\users\\tiffa\\anaconda3\\lib\\site-packages (from tensorflow-intel==2.16.1->tensorflow) (24.3.25)\n",
      "Requirement already satisfied: h5py>=3.10.0 in c:\\users\\tiffa\\anaconda3\\lib\\site-packages (from tensorflow-intel==2.16.1->tensorflow) (3.11.0)\n",
      "Requirement already satisfied: wrapt>=1.11.0 in c:\\users\\tiffa\\anaconda3\\lib\\site-packages (from tensorflow-intel==2.16.1->tensorflow) (1.14.1)\n",
      "Requirement already satisfied: packaging in c:\\users\\tiffa\\anaconda3\\lib\\site-packages (from tensorflow-intel==2.16.1->tensorflow) (22.0)\n",
      "Requirement already satisfied: absl-py>=1.0.0 in c:\\users\\tiffa\\anaconda3\\lib\\site-packages (from tensorflow-intel==2.16.1->tensorflow) (2.1.0)\n",
      "Requirement already satisfied: astunparse>=1.6.0 in c:\\users\\tiffa\\anaconda3\\lib\\site-packages (from tensorflow-intel==2.16.1->tensorflow) (1.6.3)\n",
      "Requirement already satisfied: gast!=0.5.0,!=0.5.1,!=0.5.2,>=0.2.1 in c:\\users\\tiffa\\anaconda3\\lib\\site-packages (from tensorflow-intel==2.16.1->tensorflow) (0.5.4)\n",
      "Requirement already satisfied: tensorboard<2.17,>=2.16 in c:\\users\\tiffa\\anaconda3\\lib\\site-packages (from tensorflow-intel==2.16.1->tensorflow) (2.16.2)\n",
      "Requirement already satisfied: protobuf!=4.21.0,!=4.21.1,!=4.21.2,!=4.21.3,!=4.21.4,!=4.21.5,<5.0.0dev,>=3.20.3 in c:\\users\\tiffa\\anaconda3\\lib\\site-packages (from tensorflow-intel==2.16.1->tensorflow) (4.25.3)\n",
      "Requirement already satisfied: termcolor>=1.1.0 in c:\\users\\tiffa\\anaconda3\\lib\\site-packages (from tensorflow-intel==2.16.1->tensorflow) (2.4.0)\n",
      "Requirement already satisfied: opt-einsum>=2.3.2 in c:\\users\\tiffa\\anaconda3\\lib\\site-packages (from tensorflow-intel==2.16.1->tensorflow) (3.3.0)\n",
      "Requirement already satisfied: google-pasta>=0.1.1 in c:\\users\\tiffa\\anaconda3\\lib\\site-packages (from tensorflow-intel==2.16.1->tensorflow) (0.2.0)\n",
      "Requirement already satisfied: tensorflow-io-gcs-filesystem>=0.23.1 in c:\\users\\tiffa\\anaconda3\\lib\\site-packages (from tensorflow-intel==2.16.1->tensorflow) (0.31.0)\n",
      "Requirement already satisfied: ml-dtypes~=0.3.1 in c:\\users\\tiffa\\anaconda3\\lib\\site-packages (from tensorflow-intel==2.16.1->tensorflow) (0.3.2)\n",
      "Requirement already satisfied: wheel<1.0,>=0.23.0 in c:\\users\\tiffa\\anaconda3\\lib\\site-packages (from astunparse>=1.6.0->tensorflow-intel==2.16.1->tensorflow) (0.38.4)\n",
      "Requirement already satisfied: optree in c:\\users\\tiffa\\anaconda3\\lib\\site-packages (from keras>=3.0.0->tensorflow-intel==2.16.1->tensorflow) (0.11.0)\n",
      "Requirement already satisfied: namex in c:\\users\\tiffa\\anaconda3\\lib\\site-packages (from keras>=3.0.0->tensorflow-intel==2.16.1->tensorflow) (0.0.8)\n",
      "Requirement already satisfied: rich in c:\\users\\tiffa\\anaconda3\\lib\\site-packages (from keras>=3.0.0->tensorflow-intel==2.16.1->tensorflow) (13.7.1)\n",
      "Requirement already satisfied: urllib3<1.27,>=1.21.1 in c:\\users\\tiffa\\anaconda3\\lib\\site-packages (from requests<3,>=2.21.0->tensorflow-intel==2.16.1->tensorflow) (1.26.14)\n",
      "Requirement already satisfied: idna<4,>=2.5 in c:\\users\\tiffa\\anaconda3\\lib\\site-packages (from requests<3,>=2.21.0->tensorflow-intel==2.16.1->tensorflow) (3.4)\n",
      "Requirement already satisfied: certifi>=2017.4.17 in c:\\users\\tiffa\\anaconda3\\lib\\site-packages (from requests<3,>=2.21.0->tensorflow-intel==2.16.1->tensorflow) (2022.12.7)\n",
      "Requirement already satisfied: charset-normalizer<3,>=2 in c:\\users\\tiffa\\anaconda3\\lib\\site-packages (from requests<3,>=2.21.0->tensorflow-intel==2.16.1->tensorflow) (2.0.4)\n",
      "Requirement already satisfied: werkzeug>=1.0.1 in c:\\users\\tiffa\\anaconda3\\lib\\site-packages (from tensorboard<2.17,>=2.16->tensorflow-intel==2.16.1->tensorflow) (2.2.2)\n",
      "Requirement already satisfied: tensorboard-data-server<0.8.0,>=0.7.0 in c:\\users\\tiffa\\anaconda3\\lib\\site-packages (from tensorboard<2.17,>=2.16->tensorflow-intel==2.16.1->tensorflow) (0.7.2)\n",
      "Requirement already satisfied: markdown>=2.6.8 in c:\\users\\tiffa\\anaconda3\\lib\\site-packages (from tensorboard<2.17,>=2.16->tensorflow-intel==2.16.1->tensorflow) (3.4.1)\n",
      "Requirement already satisfied: MarkupSafe>=2.1.1 in c:\\users\\tiffa\\anaconda3\\lib\\site-packages (from werkzeug>=1.0.1->tensorboard<2.17,>=2.16->tensorflow-intel==2.16.1->tensorflow) (2.1.1)\n",
      "Requirement already satisfied: markdown-it-py>=2.2.0 in c:\\users\\tiffa\\anaconda3\\lib\\site-packages (from rich->keras>=3.0.0->tensorflow-intel==2.16.1->tensorflow) (3.0.0)\n",
      "Requirement already satisfied: pygments<3.0.0,>=2.13.0 in c:\\users\\tiffa\\anaconda3\\lib\\site-packages (from rich->keras>=3.0.0->tensorflow-intel==2.16.1->tensorflow) (2.18.0)\n",
      "Requirement already satisfied: mdurl~=0.1 in c:\\users\\tiffa\\anaconda3\\lib\\site-packages (from markdown-it-py>=2.2.0->rich->keras>=3.0.0->tensorflow-intel==2.16.1->tensorflow) (0.1.2)\n",
      "Note: you may need to restart the kernel to use updated packages.\n"
     ]
    }
   ],
   "source": [
    "pip install tensorflow"
   ]
  },
  {
   "cell_type": "code",
<<<<<<< Updated upstream
   "execution_count": 27,
=======
   "execution_count": 34,
>>>>>>> Stashed changes
   "metadata": {},
   "outputs": [],
   "source": [
    "from tensorflow import keras\n",
    "import keras\n",
    "from keras.datasets import mnist\n",
    "from keras.models import Sequential\n",
    "from keras.layers import Dense, Dropout, Flatten\n",
    "from keras.layers import Conv2D, MaxPooling2D\n",
    "import numpy as np"
   ]
  },
  {
   "cell_type": "code",
   "execution_count": 35,
   "metadata": {},
<<<<<<< Updated upstream
   "outputs": [],
   "source": [
    "print(\"hello\")"
=======
   "outputs": [
    {
     "ename": "ValueError",
     "evalue": "seek of closed file",
     "output_type": "error",
     "traceback": [
      "\u001b[1;31m---------------------------------------------------------------------------\u001b[0m",
      "\u001b[1;31mValueError\u001b[0m                                Traceback (most recent call last)",
      "Cell \u001b[1;32mIn[35], line 1\u001b[0m\n\u001b[1;32m----> 1\u001b[0m \u001b[43mkeras\u001b[49m\u001b[38;5;241;43m.\u001b[39;49m\u001b[43mutils\u001b[49m\u001b[38;5;241;43m.\u001b[39;49m\u001b[43mimg_to_array\u001b[49m\u001b[43m(\u001b[49m\u001b[43mimg\u001b[49m\u001b[43m,\u001b[49m\u001b[43m \u001b[49m\u001b[43mdata_format\u001b[49m\u001b[38;5;241;43m=\u001b[39;49m\u001b[38;5;28;43;01mNone\u001b[39;49;00m\u001b[43m,\u001b[49m\u001b[43m \u001b[49m\u001b[43mdtype\u001b[49m\u001b[38;5;241;43m=\u001b[39;49m\u001b[38;5;28;43;01mNone\u001b[39;49;00m\u001b[43m)\u001b[49m\n\u001b[0;32m      2\u001b[0m img_data \u001b[38;5;241m=\u001b[39m np\u001b[38;5;241m.\u001b[39mrandom\u001b[38;5;241m.\u001b[39mrandom(size\u001b[38;5;241m=\u001b[39m(\u001b[38;5;241m100\u001b[39m, \u001b[38;5;241m100\u001b[39m, \u001b[38;5;241m3\u001b[39m))\n\u001b[0;32m      3\u001b[0m img \u001b[38;5;241m=\u001b[39m keras\u001b[38;5;241m.\u001b[39mutils\u001b[38;5;241m.\u001b[39marray_to_img(img_data)\n",
      "File \u001b[1;32mc:\\Users\\tiffa\\anaconda3\\lib\\site-packages\\keras\\src\\utils\\image_utils.py:148\u001b[0m, in \u001b[0;36mimg_to_array\u001b[1;34m(img, data_format, dtype)\u001b[0m\n\u001b[0;32m    144\u001b[0m     dtype \u001b[38;5;241m=\u001b[39m backend\u001b[38;5;241m.\u001b[39mfloatx()\n\u001b[0;32m    145\u001b[0m \u001b[38;5;66;03m# NumPy array x has format (height, width, channel)\u001b[39;00m\n\u001b[0;32m    146\u001b[0m \u001b[38;5;66;03m# or (channel, height, width)\u001b[39;00m\n\u001b[0;32m    147\u001b[0m \u001b[38;5;66;03m# but original PIL image has format (width, height, channel)\u001b[39;00m\n\u001b[1;32m--> 148\u001b[0m x \u001b[38;5;241m=\u001b[39m \u001b[43mnp\u001b[49m\u001b[38;5;241;43m.\u001b[39;49m\u001b[43masarray\u001b[49m\u001b[43m(\u001b[49m\u001b[43mimg\u001b[49m\u001b[43m,\u001b[49m\u001b[43m \u001b[49m\u001b[43mdtype\u001b[49m\u001b[38;5;241;43m=\u001b[39;49m\u001b[43mdtype\u001b[49m\u001b[43m)\u001b[49m\n\u001b[0;32m    149\u001b[0m \u001b[38;5;28;01mif\u001b[39;00m \u001b[38;5;28mlen\u001b[39m(x\u001b[38;5;241m.\u001b[39mshape) \u001b[38;5;241m==\u001b[39m \u001b[38;5;241m3\u001b[39m:\n\u001b[0;32m    150\u001b[0m     \u001b[38;5;28;01mif\u001b[39;00m data_format \u001b[38;5;241m==\u001b[39m \u001b[38;5;124m\"\u001b[39m\u001b[38;5;124mchannels_first\u001b[39m\u001b[38;5;124m\"\u001b[39m:\n",
      "File \u001b[1;32mc:\\Users\\tiffa\\anaconda3\\lib\\site-packages\\PIL\\Image.py:701\u001b[0m, in \u001b[0;36mImage.__array_interface__\u001b[1;34m(self)\u001b[0m\n\u001b[0;32m    699\u001b[0m         new[\u001b[38;5;124m\"\u001b[39m\u001b[38;5;124mdata\u001b[39m\u001b[38;5;124m\"\u001b[39m] \u001b[38;5;241m=\u001b[39m \u001b[38;5;28mself\u001b[39m\u001b[38;5;241m.\u001b[39mtobytes(\u001b[38;5;124m\"\u001b[39m\u001b[38;5;124mraw\u001b[39m\u001b[38;5;124m\"\u001b[39m, \u001b[38;5;124m\"\u001b[39m\u001b[38;5;124mL\u001b[39m\u001b[38;5;124m\"\u001b[39m)\n\u001b[0;32m    700\u001b[0m     \u001b[38;5;28;01melse\u001b[39;00m:\n\u001b[1;32m--> 701\u001b[0m         new[\u001b[38;5;124m\"\u001b[39m\u001b[38;5;124mdata\u001b[39m\u001b[38;5;124m\"\u001b[39m] \u001b[38;5;241m=\u001b[39m \u001b[38;5;28;43mself\u001b[39;49m\u001b[38;5;241;43m.\u001b[39;49m\u001b[43mtobytes\u001b[49m\u001b[43m(\u001b[49m\u001b[43m)\u001b[49m\n\u001b[0;32m    702\u001b[0m \u001b[38;5;28;01mexcept\u001b[39;00m \u001b[38;5;167;01mException\u001b[39;00m \u001b[38;5;28;01mas\u001b[39;00m e:\n\u001b[0;32m    703\u001b[0m     \u001b[38;5;28;01mif\u001b[39;00m \u001b[38;5;129;01mnot\u001b[39;00m \u001b[38;5;28misinstance\u001b[39m(e, (\u001b[38;5;167;01mMemoryError\u001b[39;00m, \u001b[38;5;167;01mRecursionError\u001b[39;00m)):\n",
      "File \u001b[1;32mc:\\Users\\tiffa\\anaconda3\\lib\\site-packages\\PIL\\Image.py:758\u001b[0m, in \u001b[0;36mImage.tobytes\u001b[1;34m(self, encoder_name, *args)\u001b[0m\n\u001b[0;32m    755\u001b[0m \u001b[38;5;28;01mif\u001b[39;00m encoder_name \u001b[38;5;241m==\u001b[39m \u001b[38;5;124m\"\u001b[39m\u001b[38;5;124mraw\u001b[39m\u001b[38;5;124m\"\u001b[39m \u001b[38;5;129;01mand\u001b[39;00m args \u001b[38;5;241m==\u001b[39m ():\n\u001b[0;32m    756\u001b[0m     args \u001b[38;5;241m=\u001b[39m \u001b[38;5;28mself\u001b[39m\u001b[38;5;241m.\u001b[39mmode\n\u001b[1;32m--> 758\u001b[0m \u001b[38;5;28;43mself\u001b[39;49m\u001b[38;5;241;43m.\u001b[39;49m\u001b[43mload\u001b[49m\u001b[43m(\u001b[49m\u001b[43m)\u001b[49m\n\u001b[0;32m    760\u001b[0m \u001b[38;5;28;01mif\u001b[39;00m \u001b[38;5;28mself\u001b[39m\u001b[38;5;241m.\u001b[39mwidth \u001b[38;5;241m==\u001b[39m \u001b[38;5;241m0\u001b[39m \u001b[38;5;129;01mor\u001b[39;00m \u001b[38;5;28mself\u001b[39m\u001b[38;5;241m.\u001b[39mheight \u001b[38;5;241m==\u001b[39m \u001b[38;5;241m0\u001b[39m:\n\u001b[0;32m    761\u001b[0m     \u001b[38;5;28;01mreturn\u001b[39;00m \u001b[38;5;124mb\u001b[39m\u001b[38;5;124m\"\u001b[39m\u001b[38;5;124m\"\u001b[39m\n",
      "File \u001b[1;32mc:\\Users\\tiffa\\anaconda3\\lib\\site-packages\\PIL\\ImageFile.py:236\u001b[0m, in \u001b[0;36mImageFile.load\u001b[1;34m(self)\u001b[0m\n\u001b[0;32m    229\u001b[0m \u001b[38;5;28mself\u001b[39m\u001b[38;5;241m.\u001b[39mtile \u001b[38;5;241m=\u001b[39m [\n\u001b[0;32m    230\u001b[0m     \u001b[38;5;28mlist\u001b[39m(tiles)[\u001b[38;5;241m-\u001b[39m\u001b[38;5;241m1\u001b[39m]\n\u001b[0;32m    231\u001b[0m     \u001b[38;5;28;01mfor\u001b[39;00m _, tiles \u001b[38;5;129;01min\u001b[39;00m itertools\u001b[38;5;241m.\u001b[39mgroupby(\n\u001b[0;32m    232\u001b[0m         \u001b[38;5;28mself\u001b[39m\u001b[38;5;241m.\u001b[39mtile, \u001b[38;5;28;01mlambda\u001b[39;00m tile: (tile[\u001b[38;5;241m0\u001b[39m], tile[\u001b[38;5;241m1\u001b[39m], tile[\u001b[38;5;241m3\u001b[39m])\n\u001b[0;32m    233\u001b[0m     )\n\u001b[0;32m    234\u001b[0m ]\n\u001b[0;32m    235\u001b[0m \u001b[38;5;28;01mfor\u001b[39;00m decoder_name, extents, offset, args \u001b[38;5;129;01min\u001b[39;00m \u001b[38;5;28mself\u001b[39m\u001b[38;5;241m.\u001b[39mtile:\n\u001b[1;32m--> 236\u001b[0m     \u001b[43mseek\u001b[49m\u001b[43m(\u001b[49m\u001b[43moffset\u001b[49m\u001b[43m)\u001b[49m\n\u001b[0;32m    237\u001b[0m     decoder \u001b[38;5;241m=\u001b[39m Image\u001b[38;5;241m.\u001b[39m_getdecoder(\n\u001b[0;32m    238\u001b[0m         \u001b[38;5;28mself\u001b[39m\u001b[38;5;241m.\u001b[39mmode, decoder_name, args, \u001b[38;5;28mself\u001b[39m\u001b[38;5;241m.\u001b[39mdecoderconfig\n\u001b[0;32m    239\u001b[0m     )\n\u001b[0;32m    240\u001b[0m     \u001b[38;5;28;01mtry\u001b[39;00m:\n",
      "\u001b[1;31mValueError\u001b[0m: seek of closed file"
     ]
    }
   ],
   "source": [
    "keras.utils.img_to_array(img, data_format=None, dtype=None)\n",
    "img_data = np.random.random(size=(100, 100, 3))\n",
    "img = keras.utils.array_to_img(img_data)\n",
    "array = keras.utils.image.img_to_array(img)\n",
    "\n",
    "\n",
    "images = glob.glob(\"Datasets/Moderate_Demented/*.jpg\")\n",
    "for image in images:\n",
    "    with open(image, 'rb') as file:\n",
    "        img = Image.open(file)\n",
    "        # img.show()\n",
    "        # change \n",
    "\n",
    "images = glob.glob(\"Datasets/Moderate_Demented/*.jpg\")\n",
    "for image in images:\n",
    "    with open(image, 'rb') as file:\n",
    "        img = Image.open(file)\n",
    "        # img.show()\n",
    "        # change \n",
    "\n"
>>>>>>> Stashed changes
   ]
  }
 ],
 "metadata": {
  "kernelspec": {
   "display_name": "Python 3 (ipykernel)",
   "language": "python",
   "name": "python3"
  },
  "language_info": {
   "codemirror_mode": {
    "name": "ipython",
    "version": 3
   },
   "file_extension": ".py",
   "mimetype": "text/x-python",
   "name": "python",
   "nbconvert_exporter": "python",
   "pygments_lexer": "ipython3",
   "version": "3.9.5"
  }
 },
 "nbformat": 4,
 "nbformat_minor": 2
}
