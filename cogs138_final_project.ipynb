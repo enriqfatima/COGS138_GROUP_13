{
 "cells": [
  {
   "cell_type": "markdown",
   "metadata": {},
   "source": [
    "# COGS 138 Final Project"
   ]
  },
  {
   "cell_type": "markdown",
   "metadata": {},
   "source": [
    "## Names"
   ]
  },
  {
   "cell_type": "markdown",
   "metadata": {},
   "source": [
    "- Fatima Enriquez\n",
    "- Ashley Chavarria\n",
    "- Tiffany Gunawan\n",
    "- Hiroki Ito"
   ]
  },
  {
   "cell_type": "markdown",
   "metadata": {},
   "source": [
    "## Reseach Question"
   ]
  },
  {
   "cell_type": "markdown",
   "metadata": {},
   "source": [
    "How does the pattern of brain atrophy differ between patients with Alzheimer’s disease and healthy controls, and can these differences be used to prototype a predictive model to predict disease progression?"
   ]
  },
  {
   "cell_type": "markdown",
   "metadata": {},
   "source": [
    "## Background & Prior Work"
   ]
  },
  {
   "cell_type": "markdown",
   "metadata": {},
   "source": [
    "Our group’s decision to focus on brain atrophy in Alzheimer’s patients is per our discussion for a need to create better diagnostic and prognostic tools in managing this debilitating condition. Alzheimer's is a very common type of dementia with progressive symptoms, starting with mild memory loss and possibly leading to the loss of ability to carry on a conversation and respond to your general surroundings. According to the CDC, scientists do not fully know what causes Alzheimer’s disease, but there are multiple factors that can affect each person differently: age, family history, changes in the brain, and possibly education, diet, and environment. Most of what is known are the symptoms of Alzheimer’s, typically regarding memory problems being the first warning sign followed by difficulty completing familiar tasks, misplacing things, and changes in mood and behavior. [(CDC, 2020)](https://www.cdc.gov/aging/aginginfo/alzheimers.htm)\n",
    "\n",
    "From what we knew before, there is no single test that can determine if a person is living with Alzheimer’s. Doctors employ a range of diagnostic methods for diagnosing including an integration of medical history, neurological exams, cognitive assessments, brain imaging, and blood examinations to make an accurate diagnosis. Recently, however, there has been a new usage of biomarkers to help diagnose Alzheimer’s disease, particularly focusing on brain imaging. According to the National Institute on Aging, brain scans are allowing doctors to see different factors that may help in diagnosis via CT, MRI, and PET scan. [(NIA, 2022)](https://www.nia.nih.gov/health/alzheimers-symptoms-and-diagnosis/how-biomarkers-help-diagnose-dementia#types_biomarkers_tests) Our group specifically wanted to focus on MRI for this project due to its versatility. \n",
    "    \n",
    "Magnetic resonance imaging is a noninvasive technique that uses magnetic fields and radio waves to produce detailed images of body structures, and similar to CT scans, MRIs can show areas of the brain that have shrunk. Additionally, repeated MRIs can show a person’s brain changes over time, which may lead to evidence of shrinkage and can be used in many diagnoses. [(John Hopkins Medicine, 2024)](https://www.hopkinsmedicine.org/health/treatment-tests-and-therapies/magnetic-resonance-imaging-mri) This has our group wondering, if MRIs can be used to note shrinkage in the brain, and according to the NIA, Alzheimer’s results as neuronal death which can affect the brain via tissue death and shrinkage, then we can possibly use MRI as a predictive method for Alzheimer's disease."
   ]
  },
  {
   "cell_type": "markdown",
   "metadata": {},
   "source": [
    "For this project, we chose to separate it into two parts. \n",
    "\n",
    "1. Comparisons in normal brain volume and demented brain volume\n",
    "2. Computer vision application of multiple fMRI images of patients to prototype a predictive model for the prediction of Alzheimer's Disease"
   ]
  },
  {
   "cell_type": "markdown",
   "metadata": {},
   "source": [
    "## Installations"
   ]
  },
  {
   "cell_type": "code",
   "execution_count": 1,
   "metadata": {
    "scrolled": true
   },
   "outputs": [],
   "source": [
    "# pip install seaborn\n",
    "# pip install Pillow\n",
    "# pip install opencv-python\n",
    "# pip install tensorflow"
   ]
  },
  {
   "cell_type": "markdown",
   "metadata": {},
   "source": [
    "## Imports: "
   ]
  },
  {
   "cell_type": "code",
   "execution_count": 47,
   "metadata": {},
   "outputs": [],
   "source": [
    "import pandas as pd\n",
    "import numpy as np\n",
    "from numpy import asarray\n",
    "import matplotlib.pyplot as plt\n",
    "import sklearn\n",
    "import seaborn as sns\n",
    "import tensorflow as tf\n",
    "\n",
    "from PIL import Image\n",
    "import glob, os\n",
    "\n",
    "from pathlib import Path\n",
    "import imghdr\n",
    "\n",
    "import cv2\n",
    "from pathlib import Path\n",
    "\n",
    "from tensorflow import keras\n",
    "from keras.datasets import mnist\n",
    "from keras.models import Sequential\n",
    "from keras.layers import Dense, Dropout, Flatten\n",
    "from tensorflow.keras import datasets, layers, models\n",
    "from keras.layers import Conv2D, MaxPooling2D\n",
    "from tensorflow.keras.preprocessing.image import load_img\n",
    "from tensorflow.keras.preprocessing.image import img_to_array\n",
    "\n",
    "\n"
   ]
  },
  {
   "cell_type": "markdown",
   "metadata": {},
   "source": [
    "## Data Overview: "
   ]
  },
  {
   "cell_type": "markdown",
   "metadata": {},
   "source": [
    "The dataset below is the exact same as the oasis datasets..."
   ]
  },
  {
   "cell_type": "markdown",
   "metadata": {},
   "source": [
    "#### Dataset #1\n",
    "- Name: Oasis_cross_sectional\n",
    "- Link to dataset: https://sites.wustl.edu/oasisbrains/home/oasis-1/\n",
    "- Number of observations: 436\n",
    "- Number of variables: 12\n",
    "- Variables of interest: gender (M/F), volume (eTIV, nWBV)"
   ]
  },
  {
   "cell_type": "code",
   "execution_count": 3,
   "metadata": {},
   "outputs": [],
   "source": [
    "oasis_cross_sectional=pd.read_csv('Datasets/oasis_cross-sectional.csv')"
   ]
  },
  {
   "cell_type": "code",
   "execution_count": 4,
   "metadata": {
    "scrolled": false
   },
   "outputs": [
    {
     "data": {
      "text/html": [
       "<div>\n",
       "<style scoped>\n",
       "    .dataframe tbody tr th:only-of-type {\n",
       "        vertical-align: middle;\n",
       "    }\n",
       "\n",
       "    .dataframe tbody tr th {\n",
       "        vertical-align: top;\n",
       "    }\n",
       "\n",
       "    .dataframe thead th {\n",
       "        text-align: right;\n",
       "    }\n",
       "</style>\n",
       "<table border=\"1\" class=\"dataframe\">\n",
       "  <thead>\n",
       "    <tr style=\"text-align: right;\">\n",
       "      <th></th>\n",
       "      <th>ID</th>\n",
       "      <th>M/F</th>\n",
       "      <th>Hand</th>\n",
       "      <th>Age</th>\n",
       "      <th>Educ</th>\n",
       "      <th>SES</th>\n",
       "      <th>MMSE</th>\n",
       "      <th>CDR</th>\n",
       "      <th>eTIV</th>\n",
       "      <th>nWBV</th>\n",
       "      <th>ASF</th>\n",
       "      <th>Delay</th>\n",
       "    </tr>\n",
       "  </thead>\n",
       "  <tbody>\n",
       "    <tr>\n",
       "      <th>0</th>\n",
       "      <td>OAS1_0001_MR1</td>\n",
       "      <td>F</td>\n",
       "      <td>R</td>\n",
       "      <td>74</td>\n",
       "      <td>2.0</td>\n",
       "      <td>3.0</td>\n",
       "      <td>29.0</td>\n",
       "      <td>0.0</td>\n",
       "      <td>1344</td>\n",
       "      <td>0.743</td>\n",
       "      <td>1.306</td>\n",
       "      <td>NaN</td>\n",
       "    </tr>\n",
       "    <tr>\n",
       "      <th>1</th>\n",
       "      <td>OAS1_0002_MR1</td>\n",
       "      <td>F</td>\n",
       "      <td>R</td>\n",
       "      <td>55</td>\n",
       "      <td>4.0</td>\n",
       "      <td>1.0</td>\n",
       "      <td>29.0</td>\n",
       "      <td>0.0</td>\n",
       "      <td>1147</td>\n",
       "      <td>0.810</td>\n",
       "      <td>1.531</td>\n",
       "      <td>NaN</td>\n",
       "    </tr>\n",
       "    <tr>\n",
       "      <th>2</th>\n",
       "      <td>OAS1_0003_MR1</td>\n",
       "      <td>F</td>\n",
       "      <td>R</td>\n",
       "      <td>73</td>\n",
       "      <td>4.0</td>\n",
       "      <td>3.0</td>\n",
       "      <td>27.0</td>\n",
       "      <td>0.5</td>\n",
       "      <td>1454</td>\n",
       "      <td>0.708</td>\n",
       "      <td>1.207</td>\n",
       "      <td>NaN</td>\n",
       "    </tr>\n",
       "    <tr>\n",
       "      <th>3</th>\n",
       "      <td>OAS1_0004_MR1</td>\n",
       "      <td>M</td>\n",
       "      <td>R</td>\n",
       "      <td>28</td>\n",
       "      <td>NaN</td>\n",
       "      <td>NaN</td>\n",
       "      <td>NaN</td>\n",
       "      <td>NaN</td>\n",
       "      <td>1588</td>\n",
       "      <td>0.803</td>\n",
       "      <td>1.105</td>\n",
       "      <td>NaN</td>\n",
       "    </tr>\n",
       "    <tr>\n",
       "      <th>4</th>\n",
       "      <td>OAS1_0005_MR1</td>\n",
       "      <td>M</td>\n",
       "      <td>R</td>\n",
       "      <td>18</td>\n",
       "      <td>NaN</td>\n",
       "      <td>NaN</td>\n",
       "      <td>NaN</td>\n",
       "      <td>NaN</td>\n",
       "      <td>1737</td>\n",
       "      <td>0.848</td>\n",
       "      <td>1.010</td>\n",
       "      <td>NaN</td>\n",
       "    </tr>\n",
       "  </tbody>\n",
       "</table>\n",
       "</div>"
      ],
      "text/plain": [
       "              ID M/F Hand  Age  Educ  SES  MMSE  CDR  eTIV   nWBV    ASF  \\\n",
       "0  OAS1_0001_MR1   F    R   74   2.0  3.0  29.0  0.0  1344  0.743  1.306   \n",
       "1  OAS1_0002_MR1   F    R   55   4.0  1.0  29.0  0.0  1147  0.810  1.531   \n",
       "2  OAS1_0003_MR1   F    R   73   4.0  3.0  27.0  0.5  1454  0.708  1.207   \n",
       "3  OAS1_0004_MR1   M    R   28   NaN  NaN   NaN  NaN  1588  0.803  1.105   \n",
       "4  OAS1_0005_MR1   M    R   18   NaN  NaN   NaN  NaN  1737  0.848  1.010   \n",
       "\n",
       "   Delay  \n",
       "0    NaN  \n",
       "1    NaN  \n",
       "2    NaN  \n",
       "3    NaN  \n",
       "4    NaN  "
      ]
     },
     "execution_count": 4,
     "metadata": {},
     "output_type": "execute_result"
    }
   ],
   "source": [
    "oasis_cross_sectional.head()"
   ]
  },
  {
   "cell_type": "code",
   "execution_count": 5,
   "metadata": {
    "scrolled": false
   },
   "outputs": [
    {
     "data": {
      "text/plain": [
       "(436, 12)"
      ]
     },
     "execution_count": 5,
     "metadata": {},
     "output_type": "execute_result"
    }
   ],
   "source": [
    "oasis_cross_sectional.shape"
   ]
  },
  {
   "cell_type": "code",
   "execution_count": 6,
   "metadata": {
    "scrolled": true
   },
   "outputs": [
    {
     "data": {
      "text/plain": [
       "ID        object\n",
       "M/F       object\n",
       "Hand      object\n",
       "Age        int64\n",
       "Educ     float64\n",
       "SES      float64\n",
       "MMSE     float64\n",
       "CDR      float64\n",
       "eTIV       int64\n",
       "nWBV     float64\n",
       "ASF      float64\n",
       "Delay    float64\n",
       "dtype: object"
      ]
     },
     "execution_count": 6,
     "metadata": {},
     "output_type": "execute_result"
    }
   ],
   "source": [
    "oasis_cross_sectional.dtypes"
   ]
  },
  {
   "cell_type": "code",
   "execution_count": 7,
   "metadata": {
    "scrolled": true
   },
   "outputs": [
    {
     "data": {
      "text/html": [
       "<div>\n",
       "<style scoped>\n",
       "    .dataframe tbody tr th:only-of-type {\n",
       "        vertical-align: middle;\n",
       "    }\n",
       "\n",
       "    .dataframe tbody tr th {\n",
       "        vertical-align: top;\n",
       "    }\n",
       "\n",
       "    .dataframe thead th {\n",
       "        text-align: right;\n",
       "    }\n",
       "</style>\n",
       "<table border=\"1\" class=\"dataframe\">\n",
       "  <thead>\n",
       "    <tr style=\"text-align: right;\">\n",
       "      <th></th>\n",
       "      <th>Age</th>\n",
       "      <th>Educ</th>\n",
       "      <th>SES</th>\n",
       "      <th>MMSE</th>\n",
       "      <th>CDR</th>\n",
       "      <th>eTIV</th>\n",
       "      <th>nWBV</th>\n",
       "      <th>ASF</th>\n",
       "      <th>Delay</th>\n",
       "    </tr>\n",
       "  </thead>\n",
       "  <tbody>\n",
       "    <tr>\n",
       "      <th>count</th>\n",
       "      <td>436.000000</td>\n",
       "      <td>235.000000</td>\n",
       "      <td>216.000000</td>\n",
       "      <td>235.00000</td>\n",
       "      <td>235.000000</td>\n",
       "      <td>436.000000</td>\n",
       "      <td>436.000000</td>\n",
       "      <td>436.000000</td>\n",
       "      <td>20.00000</td>\n",
       "    </tr>\n",
       "    <tr>\n",
       "      <th>mean</th>\n",
       "      <td>51.357798</td>\n",
       "      <td>3.178723</td>\n",
       "      <td>2.490741</td>\n",
       "      <td>27.06383</td>\n",
       "      <td>0.285106</td>\n",
       "      <td>1481.919725</td>\n",
       "      <td>0.791670</td>\n",
       "      <td>1.198894</td>\n",
       "      <td>20.55000</td>\n",
       "    </tr>\n",
       "    <tr>\n",
       "      <th>std</th>\n",
       "      <td>25.269862</td>\n",
       "      <td>1.311510</td>\n",
       "      <td>1.120593</td>\n",
       "      <td>3.69687</td>\n",
       "      <td>0.383405</td>\n",
       "      <td>158.740866</td>\n",
       "      <td>0.059937</td>\n",
       "      <td>0.128682</td>\n",
       "      <td>23.86249</td>\n",
       "    </tr>\n",
       "    <tr>\n",
       "      <th>min</th>\n",
       "      <td>18.000000</td>\n",
       "      <td>1.000000</td>\n",
       "      <td>1.000000</td>\n",
       "      <td>14.00000</td>\n",
       "      <td>0.000000</td>\n",
       "      <td>1123.000000</td>\n",
       "      <td>0.644000</td>\n",
       "      <td>0.881000</td>\n",
       "      <td>1.00000</td>\n",
       "    </tr>\n",
       "    <tr>\n",
       "      <th>25%</th>\n",
       "      <td>23.000000</td>\n",
       "      <td>2.000000</td>\n",
       "      <td>2.000000</td>\n",
       "      <td>26.00000</td>\n",
       "      <td>0.000000</td>\n",
       "      <td>1367.750000</td>\n",
       "      <td>0.742750</td>\n",
       "      <td>1.111750</td>\n",
       "      <td>2.75000</td>\n",
       "    </tr>\n",
       "    <tr>\n",
       "      <th>50%</th>\n",
       "      <td>54.000000</td>\n",
       "      <td>3.000000</td>\n",
       "      <td>2.000000</td>\n",
       "      <td>29.00000</td>\n",
       "      <td>0.000000</td>\n",
       "      <td>1475.500000</td>\n",
       "      <td>0.809000</td>\n",
       "      <td>1.190000</td>\n",
       "      <td>11.00000</td>\n",
       "    </tr>\n",
       "    <tr>\n",
       "      <th>75%</th>\n",
       "      <td>74.000000</td>\n",
       "      <td>4.000000</td>\n",
       "      <td>3.000000</td>\n",
       "      <td>30.00000</td>\n",
       "      <td>0.500000</td>\n",
       "      <td>1579.250000</td>\n",
       "      <td>0.842000</td>\n",
       "      <td>1.284250</td>\n",
       "      <td>30.75000</td>\n",
       "    </tr>\n",
       "    <tr>\n",
       "      <th>max</th>\n",
       "      <td>96.000000</td>\n",
       "      <td>5.000000</td>\n",
       "      <td>5.000000</td>\n",
       "      <td>30.00000</td>\n",
       "      <td>2.000000</td>\n",
       "      <td>1992.000000</td>\n",
       "      <td>0.893000</td>\n",
       "      <td>1.563000</td>\n",
       "      <td>89.00000</td>\n",
       "    </tr>\n",
       "  </tbody>\n",
       "</table>\n",
       "</div>"
      ],
      "text/plain": [
       "              Age        Educ         SES       MMSE         CDR         eTIV  \\\n",
       "count  436.000000  235.000000  216.000000  235.00000  235.000000   436.000000   \n",
       "mean    51.357798    3.178723    2.490741   27.06383    0.285106  1481.919725   \n",
       "std     25.269862    1.311510    1.120593    3.69687    0.383405   158.740866   \n",
       "min     18.000000    1.000000    1.000000   14.00000    0.000000  1123.000000   \n",
       "25%     23.000000    2.000000    2.000000   26.00000    0.000000  1367.750000   \n",
       "50%     54.000000    3.000000    2.000000   29.00000    0.000000  1475.500000   \n",
       "75%     74.000000    4.000000    3.000000   30.00000    0.500000  1579.250000   \n",
       "max     96.000000    5.000000    5.000000   30.00000    2.000000  1992.000000   \n",
       "\n",
       "             nWBV         ASF     Delay  \n",
       "count  436.000000  436.000000  20.00000  \n",
       "mean     0.791670    1.198894  20.55000  \n",
       "std      0.059937    0.128682  23.86249  \n",
       "min      0.644000    0.881000   1.00000  \n",
       "25%      0.742750    1.111750   2.75000  \n",
       "50%      0.809000    1.190000  11.00000  \n",
       "75%      0.842000    1.284250  30.75000  \n",
       "max      0.893000    1.563000  89.00000  "
      ]
     },
     "execution_count": 7,
     "metadata": {},
     "output_type": "execute_result"
    }
   ],
   "source": [
    "oasis_cross_sectional.describe()"
   ]
  },
  {
   "cell_type": "code",
   "execution_count": 8,
   "metadata": {
    "scrolled": true
   },
   "outputs": [
    {
     "data": {
      "text/html": [
       "<div>\n",
       "<style scoped>\n",
       "    .dataframe tbody tr th:only-of-type {\n",
       "        vertical-align: middle;\n",
       "    }\n",
       "\n",
       "    .dataframe tbody tr th {\n",
       "        vertical-align: top;\n",
       "    }\n",
       "\n",
       "    .dataframe thead th {\n",
       "        text-align: right;\n",
       "    }\n",
       "</style>\n",
       "<table border=\"1\" class=\"dataframe\">\n",
       "  <thead>\n",
       "    <tr style=\"text-align: right;\">\n",
       "      <th></th>\n",
       "      <th>ID</th>\n",
       "      <th>M/F</th>\n",
       "      <th>nWBV</th>\n",
       "    </tr>\n",
       "  </thead>\n",
       "  <tbody>\n",
       "    <tr>\n",
       "      <th>134</th>\n",
       "      <td>OAS1_0144_MR1</td>\n",
       "      <td>M</td>\n",
       "      <td>0.865</td>\n",
       "    </tr>\n",
       "    <tr>\n",
       "      <th>119</th>\n",
       "      <td>OAS1_0129_MR1</td>\n",
       "      <td>M</td>\n",
       "      <td>0.846</td>\n",
       "    </tr>\n",
       "    <tr>\n",
       "      <th>121</th>\n",
       "      <td>OAS1_0131_MR1</td>\n",
       "      <td>M</td>\n",
       "      <td>0.824</td>\n",
       "    </tr>\n",
       "    <tr>\n",
       "      <th>122</th>\n",
       "      <td>OAS1_0132_MR1</td>\n",
       "      <td>M</td>\n",
       "      <td>0.850</td>\n",
       "    </tr>\n",
       "    <tr>\n",
       "      <th>300</th>\n",
       "      <td>OAS1_0332_MR1</td>\n",
       "      <td>M</td>\n",
       "      <td>0.762</td>\n",
       "    </tr>\n",
       "  </tbody>\n",
       "</table>\n",
       "</div>"
      ],
      "text/plain": [
       "                ID M/F   nWBV\n",
       "134  OAS1_0144_MR1   M  0.865\n",
       "119  OAS1_0129_MR1   M  0.846\n",
       "121  OAS1_0131_MR1   M  0.824\n",
       "122  OAS1_0132_MR1   M  0.850\n",
       "300  OAS1_0332_MR1   M  0.762"
      ]
     },
     "execution_count": 8,
     "metadata": {},
     "output_type": "execute_result"
    }
   ],
   "source": [
    "# Since we only care about sex and brain volume, we will drop all other columns\n",
    "# We will also arrange our dataset on the 'M/F' column for easier merging\n",
    "\n",
    "oasis_cross_sectional=oasis_cross_sectional.drop(columns=['Age','Hand', 'Educ', 'SES', 'MMSE', 'CDR', 'ASF', 'Delay', 'eTIV'])\n",
    "oasis_cross_sectional=oasis_cross_sectional.sort_values('M/F', ascending=False)\n",
    "oasis_cross_sectional.head()"
   ]
  },
  {
   "cell_type": "code",
   "execution_count": 9,
   "metadata": {},
   "outputs": [
    {
     "data": {
      "text/html": [
       "<div>\n",
       "<style scoped>\n",
       "    .dataframe tbody tr th:only-of-type {\n",
       "        vertical-align: middle;\n",
       "    }\n",
       "\n",
       "    .dataframe tbody tr th {\n",
       "        vertical-align: top;\n",
       "    }\n",
       "\n",
       "    .dataframe thead th {\n",
       "        text-align: right;\n",
       "    }\n",
       "</style>\n",
       "<table border=\"1\" class=\"dataframe\">\n",
       "  <thead>\n",
       "    <tr style=\"text-align: right;\">\n",
       "      <th></th>\n",
       "      <th>nWBV</th>\n",
       "    </tr>\n",
       "  </thead>\n",
       "  <tbody>\n",
       "    <tr>\n",
       "      <th>count</th>\n",
       "      <td>436.000000</td>\n",
       "    </tr>\n",
       "    <tr>\n",
       "      <th>mean</th>\n",
       "      <td>0.791670</td>\n",
       "    </tr>\n",
       "    <tr>\n",
       "      <th>std</th>\n",
       "      <td>0.059937</td>\n",
       "    </tr>\n",
       "    <tr>\n",
       "      <th>min</th>\n",
       "      <td>0.644000</td>\n",
       "    </tr>\n",
       "    <tr>\n",
       "      <th>25%</th>\n",
       "      <td>0.742750</td>\n",
       "    </tr>\n",
       "    <tr>\n",
       "      <th>50%</th>\n",
       "      <td>0.809000</td>\n",
       "    </tr>\n",
       "    <tr>\n",
       "      <th>75%</th>\n",
       "      <td>0.842000</td>\n",
       "    </tr>\n",
       "    <tr>\n",
       "      <th>max</th>\n",
       "      <td>0.893000</td>\n",
       "    </tr>\n",
       "  </tbody>\n",
       "</table>\n",
       "</div>"
      ],
      "text/plain": [
       "             nWBV\n",
       "count  436.000000\n",
       "mean     0.791670\n",
       "std      0.059937\n",
       "min      0.644000\n",
       "25%      0.742750\n",
       "50%      0.809000\n",
       "75%      0.842000\n",
       "max      0.893000"
      ]
     },
     "execution_count": 9,
     "metadata": {},
     "output_type": "execute_result"
    }
   ],
   "source": [
    "# Descriptive statistics for nWBV\n",
    "# Note the lowest brain volume detected was 0.644 and the max was 0.89 between male and female\n",
    "\n",
    "oasis_cross_sectional.describe(include=[np.number])"
   ]
  },
  {
   "cell_type": "markdown",
   "metadata": {},
   "source": [
    "#### Dataset #2\n",
    "- Name: Oasis_longitudinal_demographics\n",
    "- Link to dataset: https://sites.wustl.edu/oasisbrains/home/oasis-2/\n",
    "- Number of observations: 373\n",
    "- Number of variables: 15\n",
    "- Variables of interst: demented/nondemented (Group), gender (M/F), age (Age), volume (eTIV, nWBV)"
   ]
  },
  {
   "cell_type": "code",
   "execution_count": 10,
   "metadata": {},
   "outputs": [],
   "source": [
    "oasis_longitudinal_demographics=pd.read_csv('Datasets/oasis_longitudinal_demographics.csv')"
   ]
  },
  {
   "cell_type": "code",
   "execution_count": 11,
   "metadata": {
    "scrolled": false
   },
   "outputs": [
    {
     "data": {
      "text/html": [
       "<div>\n",
       "<style scoped>\n",
       "    .dataframe tbody tr th:only-of-type {\n",
       "        vertical-align: middle;\n",
       "    }\n",
       "\n",
       "    .dataframe tbody tr th {\n",
       "        vertical-align: top;\n",
       "    }\n",
       "\n",
       "    .dataframe thead th {\n",
       "        text-align: right;\n",
       "    }\n",
       "</style>\n",
       "<table border=\"1\" class=\"dataframe\">\n",
       "  <thead>\n",
       "    <tr style=\"text-align: right;\">\n",
       "      <th></th>\n",
       "      <th>Subject ID</th>\n",
       "      <th>MRI ID</th>\n",
       "      <th>Group</th>\n",
       "      <th>Visit</th>\n",
       "      <th>MR Delay</th>\n",
       "      <th>M/F</th>\n",
       "      <th>Hand</th>\n",
       "      <th>Age</th>\n",
       "      <th>EDUC</th>\n",
       "      <th>SES</th>\n",
       "      <th>MMSE</th>\n",
       "      <th>CDR</th>\n",
       "      <th>eTIV</th>\n",
       "      <th>nWBV</th>\n",
       "      <th>ASF</th>\n",
       "    </tr>\n",
       "  </thead>\n",
       "  <tbody>\n",
       "    <tr>\n",
       "      <th>0</th>\n",
       "      <td>OAS2_0001</td>\n",
       "      <td>OAS2_0001_MR1</td>\n",
       "      <td>Nondemented</td>\n",
       "      <td>1</td>\n",
       "      <td>0</td>\n",
       "      <td>M</td>\n",
       "      <td>R</td>\n",
       "      <td>87</td>\n",
       "      <td>14</td>\n",
       "      <td>2.0</td>\n",
       "      <td>27.0</td>\n",
       "      <td>0.0</td>\n",
       "      <td>1987</td>\n",
       "      <td>0.696</td>\n",
       "      <td>0.883</td>\n",
       "    </tr>\n",
       "    <tr>\n",
       "      <th>1</th>\n",
       "      <td>OAS2_0001</td>\n",
       "      <td>OAS2_0001_MR2</td>\n",
       "      <td>Nondemented</td>\n",
       "      <td>2</td>\n",
       "      <td>457</td>\n",
       "      <td>M</td>\n",
       "      <td>R</td>\n",
       "      <td>88</td>\n",
       "      <td>14</td>\n",
       "      <td>2.0</td>\n",
       "      <td>30.0</td>\n",
       "      <td>0.0</td>\n",
       "      <td>2004</td>\n",
       "      <td>0.681</td>\n",
       "      <td>0.876</td>\n",
       "    </tr>\n",
       "    <tr>\n",
       "      <th>2</th>\n",
       "      <td>OAS2_0002</td>\n",
       "      <td>OAS2_0002_MR1</td>\n",
       "      <td>Demented</td>\n",
       "      <td>1</td>\n",
       "      <td>0</td>\n",
       "      <td>M</td>\n",
       "      <td>R</td>\n",
       "      <td>75</td>\n",
       "      <td>12</td>\n",
       "      <td>NaN</td>\n",
       "      <td>23.0</td>\n",
       "      <td>0.5</td>\n",
       "      <td>1678</td>\n",
       "      <td>0.736</td>\n",
       "      <td>1.046</td>\n",
       "    </tr>\n",
       "    <tr>\n",
       "      <th>3</th>\n",
       "      <td>OAS2_0002</td>\n",
       "      <td>OAS2_0002_MR2</td>\n",
       "      <td>Demented</td>\n",
       "      <td>2</td>\n",
       "      <td>560</td>\n",
       "      <td>M</td>\n",
       "      <td>R</td>\n",
       "      <td>76</td>\n",
       "      <td>12</td>\n",
       "      <td>NaN</td>\n",
       "      <td>28.0</td>\n",
       "      <td>0.5</td>\n",
       "      <td>1738</td>\n",
       "      <td>0.713</td>\n",
       "      <td>1.010</td>\n",
       "    </tr>\n",
       "    <tr>\n",
       "      <th>4</th>\n",
       "      <td>OAS2_0002</td>\n",
       "      <td>OAS2_0002_MR3</td>\n",
       "      <td>Demented</td>\n",
       "      <td>3</td>\n",
       "      <td>1895</td>\n",
       "      <td>M</td>\n",
       "      <td>R</td>\n",
       "      <td>80</td>\n",
       "      <td>12</td>\n",
       "      <td>NaN</td>\n",
       "      <td>22.0</td>\n",
       "      <td>0.5</td>\n",
       "      <td>1698</td>\n",
       "      <td>0.701</td>\n",
       "      <td>1.034</td>\n",
       "    </tr>\n",
       "  </tbody>\n",
       "</table>\n",
       "</div>"
      ],
      "text/plain": [
       "  Subject ID         MRI ID        Group  Visit  MR Delay M/F Hand  Age  EDUC  \\\n",
       "0  OAS2_0001  OAS2_0001_MR1  Nondemented      1         0   M    R   87    14   \n",
       "1  OAS2_0001  OAS2_0001_MR2  Nondemented      2       457   M    R   88    14   \n",
       "2  OAS2_0002  OAS2_0002_MR1     Demented      1         0   M    R   75    12   \n",
       "3  OAS2_0002  OAS2_0002_MR2     Demented      2       560   M    R   76    12   \n",
       "4  OAS2_0002  OAS2_0002_MR3     Demented      3      1895   M    R   80    12   \n",
       "\n",
       "   SES  MMSE  CDR  eTIV   nWBV    ASF  \n",
       "0  2.0  27.0  0.0  1987  0.696  0.883  \n",
       "1  2.0  30.0  0.0  2004  0.681  0.876  \n",
       "2  NaN  23.0  0.5  1678  0.736  1.046  \n",
       "3  NaN  28.0  0.5  1738  0.713  1.010  \n",
       "4  NaN  22.0  0.5  1698  0.701  1.034  "
      ]
     },
     "execution_count": 11,
     "metadata": {},
     "output_type": "execute_result"
    }
   ],
   "source": [
    "oasis_longitudinal_demographics.head()"
   ]
  },
  {
   "cell_type": "code",
   "execution_count": 12,
   "metadata": {
    "scrolled": true
   },
   "outputs": [
    {
     "data": {
      "text/plain": [
       "(373, 15)"
      ]
     },
     "execution_count": 12,
     "metadata": {},
     "output_type": "execute_result"
    }
   ],
   "source": [
    "oasis_longitudinal_demographics.shape"
   ]
  },
  {
   "cell_type": "code",
   "execution_count": 13,
   "metadata": {
    "scrolled": true
   },
   "outputs": [
    {
     "data": {
      "text/plain": [
       "Subject ID     object\n",
       "MRI ID         object\n",
       "Group          object\n",
       "Visit           int64\n",
       "MR Delay        int64\n",
       "M/F            object\n",
       "Hand           object\n",
       "Age             int64\n",
       "EDUC            int64\n",
       "SES           float64\n",
       "MMSE          float64\n",
       "CDR           float64\n",
       "eTIV            int64\n",
       "nWBV          float64\n",
       "ASF           float64\n",
       "dtype: object"
      ]
     },
     "execution_count": 13,
     "metadata": {},
     "output_type": "execute_result"
    }
   ],
   "source": [
    "oasis_longitudinal_demographics.dtypes"
   ]
  },
  {
   "cell_type": "code",
   "execution_count": 14,
   "metadata": {
    "scrolled": true
   },
   "outputs": [
    {
     "data": {
      "text/html": [
       "<div>\n",
       "<style scoped>\n",
       "    .dataframe tbody tr th:only-of-type {\n",
       "        vertical-align: middle;\n",
       "    }\n",
       "\n",
       "    .dataframe tbody tr th {\n",
       "        vertical-align: top;\n",
       "    }\n",
       "\n",
       "    .dataframe thead th {\n",
       "        text-align: right;\n",
       "    }\n",
       "</style>\n",
       "<table border=\"1\" class=\"dataframe\">\n",
       "  <thead>\n",
       "    <tr style=\"text-align: right;\">\n",
       "      <th></th>\n",
       "      <th>Visit</th>\n",
       "      <th>MR Delay</th>\n",
       "      <th>Age</th>\n",
       "      <th>EDUC</th>\n",
       "      <th>SES</th>\n",
       "      <th>MMSE</th>\n",
       "      <th>CDR</th>\n",
       "      <th>eTIV</th>\n",
       "      <th>nWBV</th>\n",
       "      <th>ASF</th>\n",
       "    </tr>\n",
       "  </thead>\n",
       "  <tbody>\n",
       "    <tr>\n",
       "      <th>count</th>\n",
       "      <td>373.000000</td>\n",
       "      <td>373.000000</td>\n",
       "      <td>373.000000</td>\n",
       "      <td>373.000000</td>\n",
       "      <td>354.000000</td>\n",
       "      <td>371.000000</td>\n",
       "      <td>373.000000</td>\n",
       "      <td>373.000000</td>\n",
       "      <td>373.000000</td>\n",
       "      <td>373.000000</td>\n",
       "    </tr>\n",
       "    <tr>\n",
       "      <th>mean</th>\n",
       "      <td>1.882038</td>\n",
       "      <td>595.104558</td>\n",
       "      <td>77.013405</td>\n",
       "      <td>14.597855</td>\n",
       "      <td>2.460452</td>\n",
       "      <td>27.342318</td>\n",
       "      <td>0.290885</td>\n",
       "      <td>1488.128686</td>\n",
       "      <td>0.729568</td>\n",
       "      <td>1.195461</td>\n",
       "    </tr>\n",
       "    <tr>\n",
       "      <th>std</th>\n",
       "      <td>0.922843</td>\n",
       "      <td>635.485118</td>\n",
       "      <td>7.640957</td>\n",
       "      <td>2.876339</td>\n",
       "      <td>1.134005</td>\n",
       "      <td>3.683244</td>\n",
       "      <td>0.374557</td>\n",
       "      <td>176.139286</td>\n",
       "      <td>0.037135</td>\n",
       "      <td>0.138092</td>\n",
       "    </tr>\n",
       "    <tr>\n",
       "      <th>min</th>\n",
       "      <td>1.000000</td>\n",
       "      <td>0.000000</td>\n",
       "      <td>60.000000</td>\n",
       "      <td>6.000000</td>\n",
       "      <td>1.000000</td>\n",
       "      <td>4.000000</td>\n",
       "      <td>0.000000</td>\n",
       "      <td>1106.000000</td>\n",
       "      <td>0.644000</td>\n",
       "      <td>0.876000</td>\n",
       "    </tr>\n",
       "    <tr>\n",
       "      <th>25%</th>\n",
       "      <td>1.000000</td>\n",
       "      <td>0.000000</td>\n",
       "      <td>71.000000</td>\n",
       "      <td>12.000000</td>\n",
       "      <td>2.000000</td>\n",
       "      <td>27.000000</td>\n",
       "      <td>0.000000</td>\n",
       "      <td>1357.000000</td>\n",
       "      <td>0.700000</td>\n",
       "      <td>1.099000</td>\n",
       "    </tr>\n",
       "    <tr>\n",
       "      <th>50%</th>\n",
       "      <td>2.000000</td>\n",
       "      <td>552.000000</td>\n",
       "      <td>77.000000</td>\n",
       "      <td>15.000000</td>\n",
       "      <td>2.000000</td>\n",
       "      <td>29.000000</td>\n",
       "      <td>0.000000</td>\n",
       "      <td>1470.000000</td>\n",
       "      <td>0.729000</td>\n",
       "      <td>1.194000</td>\n",
       "    </tr>\n",
       "    <tr>\n",
       "      <th>75%</th>\n",
       "      <td>2.000000</td>\n",
       "      <td>873.000000</td>\n",
       "      <td>82.000000</td>\n",
       "      <td>16.000000</td>\n",
       "      <td>3.000000</td>\n",
       "      <td>30.000000</td>\n",
       "      <td>0.500000</td>\n",
       "      <td>1597.000000</td>\n",
       "      <td>0.756000</td>\n",
       "      <td>1.293000</td>\n",
       "    </tr>\n",
       "    <tr>\n",
       "      <th>max</th>\n",
       "      <td>5.000000</td>\n",
       "      <td>2639.000000</td>\n",
       "      <td>98.000000</td>\n",
       "      <td>23.000000</td>\n",
       "      <td>5.000000</td>\n",
       "      <td>30.000000</td>\n",
       "      <td>2.000000</td>\n",
       "      <td>2004.000000</td>\n",
       "      <td>0.837000</td>\n",
       "      <td>1.587000</td>\n",
       "    </tr>\n",
       "  </tbody>\n",
       "</table>\n",
       "</div>"
      ],
      "text/plain": [
       "            Visit     MR Delay         Age        EDUC         SES  \\\n",
       "count  373.000000   373.000000  373.000000  373.000000  354.000000   \n",
       "mean     1.882038   595.104558   77.013405   14.597855    2.460452   \n",
       "std      0.922843   635.485118    7.640957    2.876339    1.134005   \n",
       "min      1.000000     0.000000   60.000000    6.000000    1.000000   \n",
       "25%      1.000000     0.000000   71.000000   12.000000    2.000000   \n",
       "50%      2.000000   552.000000   77.000000   15.000000    2.000000   \n",
       "75%      2.000000   873.000000   82.000000   16.000000    3.000000   \n",
       "max      5.000000  2639.000000   98.000000   23.000000    5.000000   \n",
       "\n",
       "             MMSE         CDR         eTIV        nWBV         ASF  \n",
       "count  371.000000  373.000000   373.000000  373.000000  373.000000  \n",
       "mean    27.342318    0.290885  1488.128686    0.729568    1.195461  \n",
       "std      3.683244    0.374557   176.139286    0.037135    0.138092  \n",
       "min      4.000000    0.000000  1106.000000    0.644000    0.876000  \n",
       "25%     27.000000    0.000000  1357.000000    0.700000    1.099000  \n",
       "50%     29.000000    0.000000  1470.000000    0.729000    1.194000  \n",
       "75%     30.000000    0.500000  1597.000000    0.756000    1.293000  \n",
       "max     30.000000    2.000000  2004.000000    0.837000    1.587000  "
      ]
     },
     "execution_count": 14,
     "metadata": {},
     "output_type": "execute_result"
    }
   ],
   "source": [
    "oasis_longitudinal_demographics.describe()"
   ]
  },
  {
   "cell_type": "code",
   "execution_count": 15,
   "metadata": {
    "scrolled": false
   },
   "outputs": [
    {
     "data": {
      "text/html": [
       "<div>\n",
       "<style scoped>\n",
       "    .dataframe tbody tr th:only-of-type {\n",
       "        vertical-align: middle;\n",
       "    }\n",
       "\n",
       "    .dataframe tbody tr th {\n",
       "        vertical-align: top;\n",
       "    }\n",
       "\n",
       "    .dataframe thead th {\n",
       "        text-align: right;\n",
       "    }\n",
       "</style>\n",
       "<table border=\"1\" class=\"dataframe\">\n",
       "  <thead>\n",
       "    <tr style=\"text-align: right;\">\n",
       "      <th></th>\n",
       "      <th>MRI ID</th>\n",
       "      <th>M/F</th>\n",
       "      <th>nWBV</th>\n",
       "    </tr>\n",
       "  </thead>\n",
       "  <tbody>\n",
       "    <tr>\n",
       "      <th>2</th>\n",
       "      <td>OAS2_0002_MR1</td>\n",
       "      <td>M</td>\n",
       "      <td>0.736</td>\n",
       "    </tr>\n",
       "    <tr>\n",
       "      <th>123</th>\n",
       "      <td>OAS2_0058_MR1</td>\n",
       "      <td>M</td>\n",
       "      <td>0.707</td>\n",
       "    </tr>\n",
       "    <tr>\n",
       "      <th>261</th>\n",
       "      <td>OAS2_0127_MR1</td>\n",
       "      <td>M</td>\n",
       "      <td>0.729</td>\n",
       "    </tr>\n",
       "    <tr>\n",
       "      <th>257</th>\n",
       "      <td>OAS2_0124_MR2</td>\n",
       "      <td>M</td>\n",
       "      <td>0.750</td>\n",
       "    </tr>\n",
       "    <tr>\n",
       "      <th>256</th>\n",
       "      <td>OAS2_0124_MR1</td>\n",
       "      <td>M</td>\n",
       "      <td>0.749</td>\n",
       "    </tr>\n",
       "  </tbody>\n",
       "</table>\n",
       "</div>"
      ],
      "text/plain": [
       "            MRI ID M/F   nWBV\n",
       "2    OAS2_0002_MR1   M  0.736\n",
       "123  OAS2_0058_MR1   M  0.707\n",
       "261  OAS2_0127_MR1   M  0.729\n",
       "257  OAS2_0124_MR2   M  0.750\n",
       "256  OAS2_0124_MR1   M  0.749"
      ]
     },
     "execution_count": 15,
     "metadata": {},
     "output_type": "execute_result"
    }
   ],
   "source": [
    "# Since we only care about sex and brain volume, we will drop all other columns\n",
    "# Removing rows of nondemented patients, as our focus is on people who are already demented\n",
    "# We will also arrange our dataset on the 'M/F' column for easier merging\n",
    "\n",
    "oasis_longitudinal_demographics=oasis_longitudinal_demographics[oasis_longitudinal_demographics['Group'] != 'Nondemented']\n",
    "oasis_longitudinal_demographics=oasis_longitudinal_demographics.drop(columns=['Subject ID', 'Group','Age', 'Visit', 'MR Delay', 'Hand', 'EDUC', 'SES', 'MMSE', 'CDR', 'ASF', 'eTIV'])\n",
    "oasis_longitudinal_demographics=oasis_longitudinal_demographics.sort_values('M/F', ascending=False)\n",
    "oasis_longitudinal_demographics.head()"
   ]
  },
  {
   "cell_type": "code",
   "execution_count": 16,
   "metadata": {},
   "outputs": [],
   "source": [
    "# Renaming columns to match\n",
    "\n",
    "oasis_longitudinal_demographics=oasis_longitudinal_demographics.rename(columns={'MRI ID':'ID'})"
   ]
  },
  {
   "cell_type": "code",
   "execution_count": 17,
   "metadata": {
    "scrolled": false
   },
   "outputs": [
    {
     "data": {
      "text/html": [
       "<div>\n",
       "<style scoped>\n",
       "    .dataframe tbody tr th:only-of-type {\n",
       "        vertical-align: middle;\n",
       "    }\n",
       "\n",
       "    .dataframe tbody tr th {\n",
       "        vertical-align: top;\n",
       "    }\n",
       "\n",
       "    .dataframe thead th {\n",
       "        text-align: right;\n",
       "    }\n",
       "</style>\n",
       "<table border=\"1\" class=\"dataframe\">\n",
       "  <thead>\n",
       "    <tr style=\"text-align: right;\">\n",
       "      <th></th>\n",
       "      <th>nWBV</th>\n",
       "    </tr>\n",
       "  </thead>\n",
       "  <tbody>\n",
       "    <tr>\n",
       "      <th>count</th>\n",
       "      <td>183.000000</td>\n",
       "    </tr>\n",
       "    <tr>\n",
       "      <th>mean</th>\n",
       "      <td>0.717803</td>\n",
       "    </tr>\n",
       "    <tr>\n",
       "      <th>std</th>\n",
       "      <td>0.032696</td>\n",
       "    </tr>\n",
       "    <tr>\n",
       "      <th>min</th>\n",
       "      <td>0.646000</td>\n",
       "    </tr>\n",
       "    <tr>\n",
       "      <th>25%</th>\n",
       "      <td>0.695000</td>\n",
       "    </tr>\n",
       "    <tr>\n",
       "      <th>50%</th>\n",
       "      <td>0.713000</td>\n",
       "    </tr>\n",
       "    <tr>\n",
       "      <th>75%</th>\n",
       "      <td>0.738000</td>\n",
       "    </tr>\n",
       "    <tr>\n",
       "      <th>max</th>\n",
       "      <td>0.806000</td>\n",
       "    </tr>\n",
       "  </tbody>\n",
       "</table>\n",
       "</div>"
      ],
      "text/plain": [
       "             nWBV\n",
       "count  183.000000\n",
       "mean     0.717803\n",
       "std      0.032696\n",
       "min      0.646000\n",
       "25%      0.695000\n",
       "50%      0.713000\n",
       "75%      0.738000\n",
       "max      0.806000"
      ]
     },
     "execution_count": 17,
     "metadata": {},
     "output_type": "execute_result"
    }
   ],
   "source": [
    "# Descriptive statistics for nWBV\n",
    "# Note the lowest brain volume detected was 0.646 and the max was 0.81 between male and female\n",
    "\n",
    "oasis_longitudinal_demographics.describe(include=[np.number])"
   ]
  },
  {
   "cell_type": "markdown",
   "metadata": {},
   "source": [
    "In the cell below, to make the dataset easier to work with, we will merge the dataset between the 'M/F' and 'nWBV' columns. This will give us a combined view fo teh gender and normalied brain volume data, allowing streamlined analysis and comparisons across these attributes."
   ]
  },
  {
   "cell_type": "code",
   "execution_count": 18,
   "metadata": {
    "scrolled": false
   },
   "outputs": [
    {
     "data": {
      "text/html": [
       "<div>\n",
       "<style scoped>\n",
       "    .dataframe tbody tr th:only-of-type {\n",
       "        vertical-align: middle;\n",
       "    }\n",
       "\n",
       "    .dataframe tbody tr th {\n",
       "        vertical-align: top;\n",
       "    }\n",
       "\n",
       "    .dataframe thead th {\n",
       "        text-align: right;\n",
       "    }\n",
       "</style>\n",
       "<table border=\"1\" class=\"dataframe\">\n",
       "  <thead>\n",
       "    <tr style=\"text-align: right;\">\n",
       "      <th></th>\n",
       "      <th>ID_x</th>\n",
       "      <th>M/F</th>\n",
       "      <th>nWBV</th>\n",
       "      <th>ID_y</th>\n",
       "    </tr>\n",
       "  </thead>\n",
       "  <tbody>\n",
       "    <tr>\n",
       "      <th>0</th>\n",
       "      <td>OAS1_0134_MR1</td>\n",
       "      <td>M</td>\n",
       "      <td>0.665</td>\n",
       "      <td>OAS2_0162_MR2</td>\n",
       "    </tr>\n",
       "    <tr>\n",
       "      <th>1</th>\n",
       "      <td>OAS1_0399_MR1</td>\n",
       "      <td>M</td>\n",
       "      <td>0.706</td>\n",
       "      <td>OAS2_0058_MR2</td>\n",
       "    </tr>\n",
       "    <tr>\n",
       "      <th>2</th>\n",
       "      <td>OAS1_0399_MR1</td>\n",
       "      <td>M</td>\n",
       "      <td>0.706</td>\n",
       "      <td>OAS2_0037_MR4</td>\n",
       "    </tr>\n",
       "    <tr>\n",
       "      <th>3</th>\n",
       "      <td>OAS1_0398_MR1</td>\n",
       "      <td>M</td>\n",
       "      <td>0.716</td>\n",
       "      <td>OAS2_0144_MR1</td>\n",
       "    </tr>\n",
       "    <tr>\n",
       "      <th>4</th>\n",
       "      <td>OAS1_0138_MR1</td>\n",
       "      <td>M</td>\n",
       "      <td>0.706</td>\n",
       "      <td>OAS2_0058_MR2</td>\n",
       "    </tr>\n",
       "    <tr>\n",
       "      <th>...</th>\n",
       "      <td>...</td>\n",
       "      <td>...</td>\n",
       "      <td>...</td>\n",
       "      <td>...</td>\n",
       "    </tr>\n",
       "    <tr>\n",
       "      <th>121</th>\n",
       "      <td>OAS1_0220_MR1</td>\n",
       "      <td>F</td>\n",
       "      <td>0.742</td>\n",
       "      <td>OAS2_0039_MR1</td>\n",
       "    </tr>\n",
       "    <tr>\n",
       "      <th>122</th>\n",
       "      <td>OAS1_0210_MR1</td>\n",
       "      <td>F</td>\n",
       "      <td>0.722</td>\n",
       "      <td>OAS2_0106_MR1</td>\n",
       "    </tr>\n",
       "    <tr>\n",
       "      <th>123</th>\n",
       "      <td>OAS1_0210_MR1</td>\n",
       "      <td>F</td>\n",
       "      <td>0.722</td>\n",
       "      <td>OAS2_0103_MR2</td>\n",
       "    </tr>\n",
       "    <tr>\n",
       "      <th>124</th>\n",
       "      <td>OAS1_0201_MR1</td>\n",
       "      <td>F</td>\n",
       "      <td>0.754</td>\n",
       "      <td>OAS2_0131_MR1</td>\n",
       "    </tr>\n",
       "    <tr>\n",
       "      <th>125</th>\n",
       "      <td>OAS1_0195_MR1</td>\n",
       "      <td>F</td>\n",
       "      <td>0.766</td>\n",
       "      <td>OAS2_0139_MR1</td>\n",
       "    </tr>\n",
       "  </tbody>\n",
       "</table>\n",
       "<p>126 rows × 4 columns</p>\n",
       "</div>"
      ],
      "text/plain": [
       "              ID_x M/F   nWBV           ID_y\n",
       "0    OAS1_0134_MR1   M  0.665  OAS2_0162_MR2\n",
       "1    OAS1_0399_MR1   M  0.706  OAS2_0058_MR2\n",
       "2    OAS1_0399_MR1   M  0.706  OAS2_0037_MR4\n",
       "3    OAS1_0398_MR1   M  0.716  OAS2_0144_MR1\n",
       "4    OAS1_0138_MR1   M  0.706  OAS2_0058_MR2\n",
       "..             ...  ..    ...            ...\n",
       "121  OAS1_0220_MR1   F  0.742  OAS2_0039_MR1\n",
       "122  OAS1_0210_MR1   F  0.722  OAS2_0106_MR1\n",
       "123  OAS1_0210_MR1   F  0.722  OAS2_0103_MR2\n",
       "124  OAS1_0201_MR1   F  0.754  OAS2_0131_MR1\n",
       "125  OAS1_0195_MR1   F  0.766  OAS2_0139_MR1\n",
       "\n",
       "[126 rows x 4 columns]"
      ]
     },
     "execution_count": 18,
     "metadata": {},
     "output_type": "execute_result"
    }
   ],
   "source": [
    "# Merging the two datasets on sex and brain volume\n",
    "\n",
    "brain_volume = pd.merge(oasis_cross_sectional, oasis_longitudinal_demographics, on=['M/F', 'nWBV'])\n",
    "brain_volume"
   ]
  },
  {
   "cell_type": "code",
   "execution_count": 19,
   "metadata": {},
   "outputs": [
    {
     "data": {
      "text/html": [
       "<div>\n",
       "<style scoped>\n",
       "    .dataframe tbody tr th:only-of-type {\n",
       "        vertical-align: middle;\n",
       "    }\n",
       "\n",
       "    .dataframe tbody tr th {\n",
       "        vertical-align: top;\n",
       "    }\n",
       "\n",
       "    .dataframe thead th {\n",
       "        text-align: right;\n",
       "    }\n",
       "</style>\n",
       "<table border=\"1\" class=\"dataframe\">\n",
       "  <thead>\n",
       "    <tr style=\"text-align: right;\">\n",
       "      <th></th>\n",
       "      <th>Subject ID</th>\n",
       "      <th>MRI ID</th>\n",
       "      <th>Group</th>\n",
       "      <th>Visit</th>\n",
       "      <th>MR Delay</th>\n",
       "      <th>M/F</th>\n",
       "      <th>Hand</th>\n",
       "      <th>Age</th>\n",
       "      <th>EDUC</th>\n",
       "      <th>SES</th>\n",
       "      <th>MMSE</th>\n",
       "      <th>CDR</th>\n",
       "      <th>eTIV</th>\n",
       "      <th>nWBV</th>\n",
       "      <th>ASF</th>\n",
       "    </tr>\n",
       "  </thead>\n",
       "  <tbody>\n",
       "    <tr>\n",
       "      <th>0</th>\n",
       "      <td>OAS2_0001</td>\n",
       "      <td>OAS2_0001_MR1</td>\n",
       "      <td>Nondemented</td>\n",
       "      <td>1</td>\n",
       "      <td>0</td>\n",
       "      <td>M</td>\n",
       "      <td>R</td>\n",
       "      <td>87</td>\n",
       "      <td>14</td>\n",
       "      <td>2.0</td>\n",
       "      <td>27.0</td>\n",
       "      <td>0.0</td>\n",
       "      <td>1987</td>\n",
       "      <td>0.696</td>\n",
       "      <td>0.883</td>\n",
       "    </tr>\n",
       "    <tr>\n",
       "      <th>1</th>\n",
       "      <td>OAS2_0001</td>\n",
       "      <td>OAS2_0001_MR2</td>\n",
       "      <td>Nondemented</td>\n",
       "      <td>2</td>\n",
       "      <td>457</td>\n",
       "      <td>M</td>\n",
       "      <td>R</td>\n",
       "      <td>88</td>\n",
       "      <td>14</td>\n",
       "      <td>2.0</td>\n",
       "      <td>30.0</td>\n",
       "      <td>0.0</td>\n",
       "      <td>2004</td>\n",
       "      <td>0.681</td>\n",
       "      <td>0.876</td>\n",
       "    </tr>\n",
       "    <tr>\n",
       "      <th>2</th>\n",
       "      <td>OAS2_0002</td>\n",
       "      <td>OAS2_0002_MR1</td>\n",
       "      <td>Demented</td>\n",
       "      <td>1</td>\n",
       "      <td>0</td>\n",
       "      <td>M</td>\n",
       "      <td>R</td>\n",
       "      <td>75</td>\n",
       "      <td>12</td>\n",
       "      <td>NaN</td>\n",
       "      <td>23.0</td>\n",
       "      <td>0.5</td>\n",
       "      <td>1678</td>\n",
       "      <td>0.736</td>\n",
       "      <td>1.046</td>\n",
       "    </tr>\n",
       "    <tr>\n",
       "      <th>3</th>\n",
       "      <td>OAS2_0002</td>\n",
       "      <td>OAS2_0002_MR2</td>\n",
       "      <td>Demented</td>\n",
       "      <td>2</td>\n",
       "      <td>560</td>\n",
       "      <td>M</td>\n",
       "      <td>R</td>\n",
       "      <td>76</td>\n",
       "      <td>12</td>\n",
       "      <td>NaN</td>\n",
       "      <td>28.0</td>\n",
       "      <td>0.5</td>\n",
       "      <td>1738</td>\n",
       "      <td>0.713</td>\n",
       "      <td>1.010</td>\n",
       "    </tr>\n",
       "    <tr>\n",
       "      <th>4</th>\n",
       "      <td>OAS2_0002</td>\n",
       "      <td>OAS2_0002_MR3</td>\n",
       "      <td>Demented</td>\n",
       "      <td>3</td>\n",
       "      <td>1895</td>\n",
       "      <td>M</td>\n",
       "      <td>R</td>\n",
       "      <td>80</td>\n",
       "      <td>12</td>\n",
       "      <td>NaN</td>\n",
       "      <td>22.0</td>\n",
       "      <td>0.5</td>\n",
       "      <td>1698</td>\n",
       "      <td>0.701</td>\n",
       "      <td>1.034</td>\n",
       "    </tr>\n",
       "  </tbody>\n",
       "</table>\n",
       "</div>"
      ],
      "text/plain": [
       "  Subject ID         MRI ID        Group  Visit  MR Delay M/F Hand  Age  EDUC  \\\n",
       "0  OAS2_0001  OAS2_0001_MR1  Nondemented      1         0   M    R   87    14   \n",
       "1  OAS2_0001  OAS2_0001_MR2  Nondemented      2       457   M    R   88    14   \n",
       "2  OAS2_0002  OAS2_0002_MR1     Demented      1         0   M    R   75    12   \n",
       "3  OAS2_0002  OAS2_0002_MR2     Demented      2       560   M    R   76    12   \n",
       "4  OAS2_0002  OAS2_0002_MR3     Demented      3      1895   M    R   80    12   \n",
       "\n",
       "   SES  MMSE  CDR  eTIV   nWBV    ASF  \n",
       "0  2.0  27.0  0.0  1987  0.696  0.883  \n",
       "1  2.0  30.0  0.0  2004  0.681  0.876  \n",
       "2  NaN  23.0  0.5  1678  0.736  1.046  \n",
       "3  NaN  28.0  0.5  1738  0.713  1.010  \n",
       "4  NaN  22.0  0.5  1698  0.701  1.034  "
      ]
     },
     "execution_count": 19,
     "metadata": {},
     "output_type": "execute_result"
    }
   ],
   "source": [
    "dementia_dataset = pd.read_csv('Datasets/dementia_dataset.csv') \n",
    "dementia_dataset.head()"
   ]
  },
  {
   "cell_type": "code",
   "execution_count": 20,
   "metadata": {},
   "outputs": [],
   "source": [
    "# moderate demented: \n",
    "for filename in os.listdir('Datasets/Moderate_Demented'):\n",
    "    if filename.endswith('.jpg'):\n",
    "        #print(filename)\n",
    "        pass"
   ]
  },
  {
   "cell_type": "code",
   "execution_count": 21,
   "metadata": {},
   "outputs": [],
   "source": [
    "# moderate demented: \n",
    "for filename in os.listdir('Datasets/Non_Demented'):\n",
    "    if filename.endswith('.jpg'):\n",
    "        #print(filename)\n",
    "        pass"
   ]
  },
  {
   "cell_type": "markdown",
   "metadata": {},
   "source": [
    "## Exploratory Analysis"
   ]
  },
  {
   "cell_type": "code",
   "execution_count": 22,
   "metadata": {},
   "outputs": [
    {
     "data": {
      "image/png": "[encoded data removed]",
      "text/plain": [
       "<Figure size 1000x600 with 1 Axes>"
      ]
     },
     "metadata": {},
     "output_type": "display_data"
    }
   ],
   "source": [
    "male_data=brain_volume[brain_volume['M/F']=='M']\n",
    "mean_nWBV=male_data.groupby(['ID_x', 'ID_y'])['nWBV'].mean()\n",
    "plt.figure(figsize=(10, 6))\n",
    "mean_nWBV.plot(kind='hist', edgecolor='black')\n",
    "plt.xlabel('ID')\n",
    "plt.ylabel('Mean Brain Volume')\n",
    "plt.title('Mean Brain Volume in Males by ID')\n",
    "plt.xticks(rotation=45, ha='right')\n",
    "plt.tight_layout()\n",
    "plt.show()"
   ]
  },
  {
   "cell_type": "code",
   "execution_count": 23,
   "metadata": {
    "scrolled": false
   },
   "outputs": [
    {
     "data": {
      "image/png": "[encoded data removed]",
      "text/plain": [
       "<Figure size 1000x600 with 1 Axes>"
      ]
     },
     "metadata": {},
     "output_type": "display_data"
    }
   ],
   "source": [
    "female_data=brain_volume[brain_volume['M/F']=='F']\n",
    "mean_nWBV=female_data.groupby(['ID_x', 'ID_y'])['nWBV'].mean()\n",
    "plt.figure(figsize=(10, 6))\n",
    "mean_nWBV.plot(kind='hist', edgecolor='black')\n",
    "plt.xlabel('ID')\n",
    "plt.ylabel('Mean Brain Volume')\n",
    "plt.title('Mean Brain Volume in Females by ID')\n",
    "plt.xticks(rotation=45, ha='right')\n",
    "plt.tight_layout()\n",
    "plt.show()"
   ]
  },
  {
   "cell_type": "code",
   "execution_count": 24,
   "metadata": {},
   "outputs": [],
   "source": [
    "# Plotting distribution of SES\n",
    "def univariate_mul(var):\n",
    "    fig = plt.figure(figsize=(16,12))\n",
    "    cmap=plt.cm.Blues\n",
    "    cmap1=plt.cm.coolwarm_r\n",
    "    ax1 = fig.add_subplot(221)\n",
    "    ax2 = fig.add_subplot(212)\n",
    "    brain_volume[var].plot(kind='hist',ax=ax1, grid=True)\n",
    "    ax1.set_title('Histogram of '+var, fontsize=14)\n",
    "    \n",
    "    ax2=sns.distplot(brain_volume[[var]],hist=False)\n",
    "    ax2.set_title('Distribution of '+ var)\n",
    "    plt.show()"
   ]
  },
  {
   "cell_type": "code",
   "execution_count": 25,
   "metadata": {},
   "outputs": [
    {
     "name": "stderr",
     "output_type": "stream",
     "text": [
      "/var/folders/8t/lwxcj5gx513cjy7fr6l1ljx80000gn/T/ipykernel_38258/1187809244.py:11: UserWarning: \n",
      "\n",
      "`distplot` is a deprecated function and will be removed in seaborn v0.14.0.\n",
      "\n",
      "Please adapt your code to use either `displot` (a figure-level function with\n",
      "similar flexibility) or `kdeplot` (an axes-level function for kernel density plots).\n",
      "\n",
      "For a guide to updating your code to use the new functions, please see\n",
      "https://gist.github.com/mwaskom/de44147ed2974457ad6372750bbe5751\n",
      "\n",
      "  ax2=sns.distplot(brain_volume[[var]],hist=False)\n"
     ]
    },
    {
     "data": {
      "image/png": "[encoded data removed]",
      "text/plain": [
       "<Figure size 1600x1200 with 2 Axes>"
      ]
     },
     "metadata": {},
     "output_type": "display_data"
    },
    {
     "data": {
      "text/plain": [
       "count    52.000000\n",
       "mean      0.711327\n",
       "std       0.025152\n",
       "min       0.665000\n",
       "25%       0.695000\n",
       "50%       0.709000\n",
       "75%       0.728000\n",
       "max       0.783000\n",
       "Name: nWBV, dtype: float64"
      ]
     },
     "execution_count": 25,
     "metadata": {},
     "output_type": "execute_result"
    }
   ],
   "source": [
    "# From the univariate analysis, we can see that males with dementia commonly have a brain volume of 0.70 +/- (x)\n",
    "\n",
    "univariate_mul('nWBV')\n",
    "male_data['nWBV'].describe()"
   ]
  },
  {
   "cell_type": "code",
   "execution_count": 26,
   "metadata": {},
   "outputs": [
    {
     "name": "stderr",
     "output_type": "stream",
     "text": [
      "/var/folders/8t/lwxcj5gx513cjy7fr6l1ljx80000gn/T/ipykernel_38258/1187809244.py:11: UserWarning: \n",
      "\n",
      "`distplot` is a deprecated function and will be removed in seaborn v0.14.0.\n",
      "\n",
      "Please adapt your code to use either `displot` (a figure-level function with\n",
      "similar flexibility) or `kdeplot` (an axes-level function for kernel density plots).\n",
      "\n",
      "For a guide to updating your code to use the new functions, please see\n",
      "https://gist.github.com/mwaskom/de44147ed2974457ad6372750bbe5751\n",
      "\n",
      "  ax2=sns.distplot(brain_volume[[var]],hist=False)\n"
     ]
    },
    {
     "data": {
      "image/png": "[encoded data removed]",
      "text/plain": [
       "<Figure size 1600x1200 with 2 Axes>"
      ]
     },
     "metadata": {},
     "output_type": "display_data"
    },
    {
     "data": {
      "text/plain": [
       "count    74.000000\n",
       "mean      0.730446\n",
       "std       0.025915\n",
       "min       0.683000\n",
       "25%       0.708000\n",
       "50%       0.733000\n",
       "75%       0.751000\n",
       "max       0.777000\n",
       "Name: nWBV, dtype: float64"
      ]
     },
     "execution_count": 26,
     "metadata": {},
     "output_type": "execute_result"
    }
   ],
   "source": [
    "# From the univariate analysis, we can see that females with dementia commonly have a brain volume of 0.70 +/- (x)\n",
    "\n",
    "univariate_mul('nWBV')\n",
    "female_data['nWBV'].describe()"
   ]
  },
  {
   "cell_type": "code",
   "execution_count": 27,
   "metadata": {},
   "outputs": [],
   "source": [
    "# ## derived from -- https://medium.com/@mangesh8374/working-with-image-dataset-to-build-cnn-model-in-tensorflow-f3dba0f72bfa\n",
    "\n",
    "# data_dir = 'Datasets/Mild_Demented_Dataset'\n",
    "# file_extensions = [\".png\", \".jpg\", \".jpeg\"]  # image file extensions from the downloaded images\n",
    "# file_types_accepted_by_tf = [\"bmp\", \"gif\", \"jpeg\", \"png\"] # image extensions accepted by TensorFlow\n",
    "# for filepath in Path(data_dir).rglob(\"*\"):\n",
    "#     if filepath.suffix.lower() in file_extensions:\n",
    "#         img_type = imghdr.what(filepath)\n",
    "#         if img_type is None:\n",
    "#             print(f\"{filepath} is not an image\")\n",
    "#         elif img_type not in file_types_accepted_by_tf:\n",
    "#             print(f\"{filepath} is a {img_type}, not accepted by TensorFlow\")\n",
    "            \n",
    "# def jpg_to_jpeg(data_dir):\n",
    "#     for dir_name in os.listdir(data_dir):\n",
    "#         files = os.path.join(data_dir,dir_name)\n",
    "#         for filepaths in os.listdir(files):\n",
    "#             file_names = os.path.join(files,filepaths)\n",
    "#             if file_names.endswith(\".jpg\") or file_names.endswith(\".JPG\"):\n",
    "#                 img = cv2.imread(str(file_names))\n",
    "#                 cv2.imwrite(file_names[0:-4]+\".jpeg\", img)\n",
    "#                 os.remove(file_names)"
   ]
  },
  {
   "cell_type": "markdown",
   "metadata": {},
   "source": [
    "##### source: \n",
    "https://stackoverflow.com/questions/51178166/iterate-through-folder-with-pillow-image-open"
   ]
  },
  {
   "cell_type": "markdown",
   "metadata": {},
   "source": [
    "save below for when images are finished uploading"
   ]
  },
  {
   "cell_type": "code",
   "execution_count": 28,
   "metadata": {},
   "outputs": [],
   "source": [
    "#directory_path_1='oasis_cross_section.csv'\n",
    "#for filename in os.listdir(directory_path_1):\n",
    "#    if filename.endswith('.jpg'):\n",
    "#        print(filename)\n",
    "        \n",
    "#directory_path_2='oasis_longitudinal_demographics.csv'\n",
    "#for filename in os.listdir(directory_path_2):\n",
    "#    if filename.endswith('.jpg'):\n",
    "#        print(filename)"
   ]
  },
  {
   "cell_type": "markdown",
   "metadata": {},
   "source": [
    "##### source: \n",
    "https://stackoverflow.com/questions/51178166/iterate-through-folder-with-pillow-image-open\n",
    "\n",
    "!! CAUTION !!\n",
    "\n",
    "Need to remove the # from img.show() and all files from the folder will open"
   ]
  },
  {
   "cell_type": "code",
   "execution_count": 29,
   "metadata": {},
   "outputs": [],
   "source": [
    "images = glob.glob('Datasets/Moderate_Demented/*.jpg')\n",
    "for image in images:\n",
    "    with open(image, 'rb') as file:\n",
    "        img = Image.open(file)\n",
    "        # img.show()"
   ]
  },
  {
   "cell_type": "code",
   "execution_count": 30,
   "metadata": {},
   "outputs": [
    {
     "name": "stdout",
     "output_type": "stream",
     "text": [
      "JPEG (128, 128) L\n",
      "16384 [[0 0 0 ... 0 0 0]\n",
      " [0 0 0 ... 0 0 0]\n",
      " [0 0 0 ... 0 0 0]\n",
      " ...\n",
      " [0 0 0 ... 0 0 0]\n",
      " [0 0 0 ... 0 0 0]\n",
      " [0 0 0 ... 0 0 0]]\n",
      "<class 'numpy.ndarray'>\n"
     ]
    }
   ],
   "source": [
    "# https://www.tensorflow.org/api_docs/python/tf/keras/utils/img_to_array\n",
    "# https://www.pluralsight.com/resources/blog/guides/importing-image-data-into-numpy-arrays\n",
    "\n",
    "# test to see if I can do one image \n",
    "img_path = 'Datasets/Moderate_Demented/moderate.jpg'  # Replace 'path/to/your/image.jpg' with the actual path to your image\n",
    "image = Image.open(img_path)\n",
    "data = asarray(image)\n",
    "\n",
    "\n",
    "# test: \n",
    "print(image.format, image.size, image.mode)\n",
    "print(data.size, data)\n",
    "print(type(data)) #check to see if this is now an array "
   ]
  },
  {
   "cell_type": "code",
   "execution_count": 31,
   "metadata": {},
   "outputs": [
    {
     "name": "stdout",
     "output_type": "stream",
     "text": [
      "['moderate_55.jpg', 'moderate_41.jpg', 'moderate_40.jpg', 'moderate_54.jpg', 'moderate_42.jpg', 'moderate_56.jpg', 'moderate_57.jpg', 'moderate_43.jpg', 'moderate_47.jpg', 'moderate_53.jpg', 'moderate_52.jpg', 'moderate_46.jpg', 'moderate.jpg', 'moderate_50.jpg', 'moderate_44.jpg', 'moderate_45.jpg', 'moderate_51.jpg', 'moderate_7.jpg', 'moderate_36.jpg', 'moderate_22.jpg', 'moderate_23.jpg', 'moderate_37.jpg', 'moderate_6.jpg', 'moderate_4.jpg', 'moderate_21.jpg', 'moderate_35.jpg', 'moderate_34.jpg', 'moderate_20.jpg', 'moderate_5.jpg', 'moderate_18.jpg', 'moderate_24.jpg', 'moderate_30.jpg', 'moderate_31.jpg', 'moderate_25.jpg', 'moderate_19.jpg', 'moderate_2.jpg', 'moderate_33.jpg', 'moderate_27.jpg', 'moderate_26.jpg', 'moderate_32.jpg', 'moderate_3.jpg', 'moderate_17.jpg', 'moderate_16.jpg', 'moderate_14.jpg', 'moderate_28.jpg', 'moderate_29.jpg', 'moderate_15.jpg', 'moderate_8.jpg', 'moderate_39.jpg', 'moderate_11.jpg', 'moderate_10.jpg', 'moderate_38.jpg', 'moderate_9.jpg', 'moderate_12.jpg', 'moderate_13.jpg', 'moderate_60.jpg', 'moderate_48.jpg', 'moderate_49.jpg', 'moderate_61.jpg', 'moderate_63.jpg', 'moderate_62.jpg', 'moderate_59.jpg', 'moderate_64.jpg', 'moderate_58.jpg']\n"
     ]
    }
   ],
   "source": [
    "# about os.listdir: https://www.geeksforgeeks.org/python-os-listdir-method/\n",
    "\n",
    "moderate_demented_folder = 'Datasets/Moderate_Demented'\n",
    "\n",
    "img = os.listdir(moderate_demented_folder) \n",
    "moderate_demented_array = [] #create an array with all of the images \n",
    "for i in img:\n",
    "    if i.endswith('.jpg') or i.endswith('.jpeg'):\n",
    "        moderate_demented_array.append(i) #add each of the img in files into the array of all the images \n",
    "        img = load_img(os.path.join(moderate_demented_folder, i))\n",
    "        img_array = img_to_array(img)     \n",
    "        # print(\"Processed\", i, \"with shape:\", img_array.shape) #test\n",
    "print(moderate_demented_array)"
   ]
  },
  {
   "cell_type": "code",
   "execution_count": 32,
   "metadata": {},
   "outputs": [
    {
     "name": "stdout",
     "output_type": "stream",
     "text": [
      "['non_731.jpg', 'non_1815.jpg', 'non_1801.jpg', 'non_725.jpg', 'non_1829.jpg', 'non_719.jpg', 'non_2461.jpg', 'non_2307.jpg', 'non_3019.jpg', 'non_2313.jpg', 'non_2475.jpg', 'non_916.jpg', 'non_3025.jpg', 'non_3031.jpg', 'non_902.jpg', 'non_2449.jpg', 'non_255.jpg', 'non_533.jpg', 'non_2878.jpg', 'non_5.jpg', 'non_527.jpg', 'non_241.jpg', 'non_2844.jpg', 'non_2850.jpg', 'non_296.jpg', 'non_2105.jpg', 'non_2663.jpg', 'non_2677.jpg', 'non_2111.jpg', 'non_282.jpg', 'non_2139.jpg', 'non_2887.jpg', 'non_2893.jpg', 'non_321.jpg', 'non_447.jpg', 'non_2918.jpg', 'non_453.jpg', 'non_335.jpg', 'non_2930.jpg', 'non_2924.jpg', 'non_309.jpg', 'non_2071.jpg', 'non_2717.jpg', 'non_484.jpg', 'non_490.jpg', 'non_2065.jpg', 'non_2059.jpg', 'non_645.jpg', 'non_1961.jpg', 'non_1975.jpg', 'non_651.jpg', 'non_889.jpg', 'non_679.jpg', 'non_20.jpg', 'non_3192.jpg', 'non_1785.jpg', 'non_1949.jpg', 'non_1791.jpg', 'non_2298.jpg', 'non_3186.jpg', 'non_34.jpg', 'non_686.jpg', 'non_2515.jpg', 'non_2273.jpg', 'non_3179.jpg', 'non_2267.jpg', 'non_2501.jpg', 'non_692.jpg', 'non_2529.jpg', 'non_862.jpg', 'non_1746.jpg', 'non_3151.jpg', 'non_3145.jpg', 'non_1752.jpg', 'non_876.jpg', 'non_1753.jpg', 'non_3144.jpg', 'non_877.jpg', 'non_863.jpg', 'non_2528.jpg', 'non_3150.jpg', 'non_1747.jpg', 'non_2266.jpg', 'non_3178.jpg', 'non_693.jpg', 'non_2500.jpg', 'non_2514.jpg', 'non_687.jpg', 'non_2272.jpg', 'non_3187.jpg', 'non_2299.jpg', 'non_1790.jpg', 'non_1948.jpg', 'non_35.jpg', 'non_21.jpg', 'non_678.jpg', 'non_1784.jpg', 'non_3193.jpg', 'non_1974.jpg', 'non_888.jpg', 'non_650.jpg', 'non_644.jpg', 'non_1960.jpg', 'non_2058.jpg', 'non_491.jpg', 'non_2064.jpg', 'non_2070.jpg', 'non_485.jpg', 'non_2716.jpg', 'non_2925.jpg', 'non_308.jpg', 'non_2931.jpg', 'non_452.jpg', 'non_2919.jpg', 'non_334.jpg', 'non_320.jpg', 'non_446.jpg', 'non_2892.jpg', 'non_2138.jpg', 'non_2886.jpg', 'non_2676.jpg', 'non_283.jpg', 'non_2110.jpg', 'non_2104.jpg', 'non_297.jpg', 'non_2662.jpg', 'non_2851.jpg', 'non_2845.jpg', 'non_526.jpg', 'non_240.jpg', 'non_254.jpg', 'non_4.jpg', 'non_2879.jpg', 'non_532.jpg', 'non_3030.jpg', 'non_2448.jpg', 'non_903.jpg', 'non_917.jpg', 'non_3024.jpg', 'non_2312.jpg', 'non_2474.jpg', 'non_2460.jpg', 'non_3018.jpg', 'non_2306.jpg', 'non_718.jpg', 'non_1828.jpg', 'non_1800.jpg', 'non_724.jpg', 'non_730.jpg', 'non_1814.jpg', 'non_726.jpg', 'non_1802.jpg', 'non_1816.jpg', 'non_732.jpg', 'non_2489.jpg', 'non_2476.jpg', 'non_2310.jpg', 'non_2304.jpg', 'non_929.jpg', 'non_2462.jpg', 'non_901.jpg', 'non_3032.jpg', 'non_2338.jpg', 'non_3026.jpg', 'non_915.jpg', 'non_242.jpg', 'non_524.jpg', 'non_530.jpg', 'non_6.jpg', 'non_256.jpg', 'non_518.jpg', 'non_2853.jpg', 'non_2847.jpg', 'non_2112.jpg', 'non_281.jpg', 'non_2674.jpg', 'non_2660.jpg', 'non_295.jpg', 'non_2106.jpg', 'non_2648.jpg', 'non_2890.jpg', 'non_2884.jpg', 'non_336.jpg', 'non_450.jpg', 'non_444.jpg', 'non_322.jpg', 'non_2099.jpg', 'non_2927.jpg', 'non_2933.jpg', 'non_478.jpg', 'non_2066.jpg', 'non_493.jpg', 'non_2714.jpg', 'non_487.jpg', 'non_2072.jpg', 'non_2728.jpg', 'non_652.jpg', 'non_1976.jpg', 'non_1962.jpg', 'non_646.jpg', 'non_37.jpg', 'non_1792.jpg', 'non_3185.jpg', 'non_3191.jpg', 'non_1786.jpg', 'non_23.jpg', 'non_2502.jpg', 'non_849.jpg', 'non_691.jpg', 'non_2264.jpg', 'non_2270.jpg', 'non_1779.jpg', 'non_685.jpg', 'non_2516.jpg', 'non_875.jpg', 'non_3146.jpg', 'non_2258.jpg', 'non_1751.jpg', 'non_1989.jpg', 'non_1745.jpg', 'non_3152.jpg', 'non_861.jpg', 'non_3153.jpg', 'non_1744.jpg', 'non_860.jpg', 'non_874.jpg', 'non_1988.jpg', 'non_1750.jpg', 'non_2259.jpg', 'non_3147.jpg', 'non_1778.jpg', 'non_2271.jpg', 'non_2517.jpg', 'non_684.jpg', 'non_690.jpg', 'non_848.jpg', 'non_2503.jpg', 'non_2265.jpg', 'non_1787.jpg', 'non_3190.jpg', 'non_22.jpg', 'non_36.jpg', 'non_3184.jpg', 'non_1793.jpg', 'non_1963.jpg', 'non_647.jpg', 'non_653.jpg', 'non_1977.jpg', 'non_2729.jpg', 'non_486.jpg', 'non_2715.jpg', 'non_2073.jpg', 'non_2067.jpg', 'non_492.jpg', 'non_479.jpg', 'non_2932.jpg', 'non_2098.jpg', 'non_2926.jpg', 'non_445.jpg', 'non_323.jpg', 'non_337.jpg', 'non_451.jpg', 'non_2885.jpg', 'non_2891.jpg', 'non_2649.jpg', 'non_2661.jpg', 'non_2107.jpg', 'non_294.jpg', 'non_280.jpg', 'non_2113.jpg', 'non_2675.jpg', 'non_2846.jpg', 'non_2852.jpg', 'non_519.jpg', 'non_7.jpg', 'non_531.jpg', 'non_257.jpg', 'non_243.jpg', 'non_525.jpg', 'non_3027.jpg', 'non_2339.jpg', 'non_914.jpg', 'non_900.jpg', 'non_3033.jpg', 'non_2305.jpg', 'non_2463.jpg', 'non_928.jpg', 'non_2477.jpg', 'non_2311.jpg', 'non_2488.jpg', 'non_1817.jpg', 'non_733.jpg', 'non_727.jpg', 'non_1803.jpg', 'non_2498.jpg', 'non_1807.jpg', 'non_723.jpg', 'non_737.jpg', 'non_1813.jpg', 'non_2329.jpg', 'non_3037.jpg', 'non_904.jpg', 'non_910.jpg', 'non_3023.jpg', 'non_2315.jpg', 'non_2473.jpg', 'non_938.jpg', 'non_2467.jpg', 'non_2301.jpg', 'non_2856.jpg', 'non_2842.jpg', 'non_509.jpg', 'non_521.jpg', 'non_247.jpg', 'non_253.jpg', 'non_535.jpg', 'non_3.jpg', 'non_2895.jpg', 'non_2659.jpg', 'non_2881.jpg', 'non_2671.jpg', 'non_2117.jpg', 'non_284.jpg', 'non_290.jpg', 'non_2103.jpg', 'non_2665.jpg', 'non_469.jpg', 'non_2922.jpg', 'non_2088.jpg', 'non_2936.jpg', 'non_455.jpg', 'non_333.jpg', 'non_327.jpg', 'non_441.jpg', 'non_2739.jpg', 'non_496.jpg', 'non_2063.jpg', 'non_2077.jpg', 'non_2711.jpg', 'non_482.jpg', 'non_1797.jpg', 'non_3180.jpg', 'non_32.jpg', 'non_26.jpg', 'non_3194.jpg', 'non_1783.jpg', 'non_1973.jpg', 'non_657.jpg', 'non_643.jpg', 'non_1967.jpg', 'non_3143.jpg', 'non_1754.jpg', 'non_870.jpg', 'non_864.jpg', 'non_1740.jpg', 'non_1998.jpg', 'non_3157.jpg', 'non_2249.jpg', 'non_1768.jpg', 'non_2261.jpg', 'non_2507.jpg', 'non_694.jpg', 'non_858.jpg', 'non_680.jpg', 'non_2513.jpg', 'non_2275.jpg', 'non_2512.jpg', 'non_681.jpg', 'non_859.jpg', 'non_2274.jpg', 'non_2260.jpg', 'non_1769.jpg', 'non_695.jpg', 'non_2506.jpg', 'non_865.jpg', 'non_2248.jpg', 'non_3156.jpg', 'non_1999.jpg', 'non_1741.jpg', 'non_1755.jpg', 'non_3142.jpg', 'non_871.jpg', 'non_642.jpg', 'non_1966.jpg', 'non_1972.jpg', 'non_656.jpg', 'non_1782.jpg', 'non_3195.jpg', 'non_3181.jpg', 'non_1796.jpg', 'non_33.jpg', 'non_2076.jpg', 'non_483.jpg', 'non_2710.jpg', 'non_497.jpg', 'non_2062.jpg', 'non_2738.jpg', 'non_326.jpg', 'non_440.jpg', 'non_454.jpg', 'non_332.jpg', 'non_2089.jpg', 'non_2937.jpg', 'non_2923.jpg', 'non_468.jpg', 'non_2102.jpg', 'non_291.jpg', 'non_2664.jpg', 'non_2670.jpg', 'non_285.jpg', 'non_2116.jpg', 'non_2880.jpg', 'non_2658.jpg', 'non_2894.jpg', 'non_252.jpg', 'non_2.jpg', 'non_534.jpg', 'non_520.jpg', 'non_246.jpg', 'non_508.jpg', 'non_2843.jpg', 'non_2857.jpg', 'non_2466.jpg', 'non_2300.jpg', 'non_2314.jpg', 'non_939.jpg', 'non_2472.jpg', 'non_911.jpg', 'non_3022.jpg', 'non_3036.jpg', 'non_2328.jpg', 'non_905.jpg', 'non_736.jpg', 'non_1812.jpg', 'non_1806.jpg', 'non_722.jpg', 'non_2499.jpg', 'non_708.jpg', 'non_1838.jpg', 'non_1810.jpg', 'non_734.jpg', 'non_720.jpg', 'non_1804.jpg', 'non_3020.jpg', 'non_2458.jpg', 'non_913.jpg', 'non_907.jpg', 'non_3034.jpg', 'non_2302.jpg', 'non_2464.jpg', 'non_2470.jpg', 'non_2316.jpg', 'non_3008.jpg', 'non_2841.jpg', 'non_278.jpg', 'non_2855.jpg', 'non_536.jpg', 'non_250.jpg', 'non_244.jpg', 'non_2869.jpg', 'non_522.jpg', 'non_2882.jpg', 'non_2128.jpg', 'non_2896.jpg', 'non_2666.jpg', 'non_293.jpg', 'non_2100.jpg', 'non_2114.jpg', 'non_287.jpg', 'non_2672.jpg', 'non_2935.jpg', 'non_318.jpg', 'non_2921.jpg', 'non_442.jpg', 'non_2909.jpg', 'non_324.jpg', 'non_330.jpg', 'non_456.jpg', 'non_2048.jpg', 'non_2712.jpg', 'non_481.jpg', 'non_2074.jpg', 'non_2060.jpg', 'non_495.jpg', 'non_2289.jpg', 'non_3197.jpg', 'non_1958.jpg', 'non_1780.jpg', 'non_25.jpg', 'non_668.jpg', 'non_31.jpg', 'non_1794.jpg', 'non_3183.jpg', 'non_1964.jpg', 'non_640.jpg', 'non_19.jpg', 'non_898.jpg', 'non_654.jpg', 'non_1970.jpg', 'non_1743.jpg', 'non_3154.jpg', 'non_867.jpg', 'non_873.jpg', 'non_2538.jpg', 'non_3140.jpg', 'non_1757.jpg', 'non_3168.jpg', 'non_2276.jpg', 'non_683.jpg', 'non_2510.jpg', 'non_2504.jpg', 'non_697.jpg', 'non_2262.jpg', 'non_696.jpg', 'non_2505.jpg', 'non_2263.jpg', 'non_2277.jpg', 'non_3169.jpg', 'non_2511.jpg', 'non_682.jpg', 'non_2539.jpg', 'non_872.jpg', 'non_1756.jpg', 'non_3141.jpg', 'non_3155.jpg', 'non_1742.jpg', 'non_866.jpg', 'non_655.jpg', 'non_1971.jpg', 'non_1965.jpg', 'non_899.jpg', 'non_18.jpg', 'non_641.jpg', 'non_30.jpg', 'non_669.jpg', 'non_3182.jpg', 'non_1795.jpg', 'non_1781.jpg', 'non_1959.jpg', 'non_3196.jpg', 'non_2288.jpg', 'non_24.jpg', 'non_2061.jpg', 'non_494.jpg', 'non_480.jpg', 'non_2713.jpg', 'non_2075.jpg', 'non_2049.jpg', 'non_331.jpg', 'non_457.jpg', 'non_2908.jpg', 'non_443.jpg', 'non_325.jpg', 'non_2920.jpg', 'non_2934.jpg', 'non_319.jpg', 'non_286.jpg', 'non_2115.jpg', 'non_2673.jpg', 'non_2667.jpg', 'non_2101.jpg', 'non_292.jpg', 'non_2129.jpg', 'non_2897.jpg', 'non_2883.jpg', 'non_245.jpg', 'non_523.jpg', 'non_2868.jpg', 'non_537.jpg', 'non_251.jpg', 'non_279.jpg', 'non_2854.jpg', 'non_2840.jpg', 'non_2471.jpg', 'non_3009.jpg', 'non_2317.jpg', 'non_2303.jpg', 'non_2465.jpg', 'non_906.jpg', 'non_3035.jpg', 'non_3021.jpg', 'non_912.jpg', 'non_2459.jpg', 'non_721.jpg', 'non_1805.jpg', 'non_1811.jpg', 'non_735.jpg', 'non_1839.jpg', 'non_709.jpg', 'non_1876.jpg', 'non_752.jpg', 'non_746.jpg', 'non_1862.jpg', 'non_1692.jpg', 'non_3085.jpg', 'non_3091.jpg', 'non_1686.jpg', 'non_2364.jpg', 'non_2402.jpg', 'non_791.jpg', 'non_949.jpg', 'non_785.jpg', 'non_2416.jpg', 'non_2370.jpg', 'non_1679.jpg', 'non_2358.jpg', 'non_3046.jpg', 'non_1889.jpg', 'non_975.jpg', 'non_961.jpg', 'non_3052.jpg', 'non_550.jpg', 'non_236.jpg', 'non_222.jpg', 'non_544.jpg', 'non_2827.jpg', 'non_2199.jpg', 'non_2833.jpg', 'non_578.jpg', 'non_593.jpg', 'non_2600.jpg', 'non_2166.jpg', 'non_2172.jpg', 'non_2614.jpg', 'non_587.jpg', 'non_2628.jpg', 'non_424.jpg', 'non_342.jpg', 'non_356.jpg', 'non_430.jpg', 'non_418.jpg', 'non_2953.jpg', 'non_2947.jpg', 'non_2774.jpg', 'non_2012.jpg', 'non_381.jpg', 'non_395.jpg', 'non_2006.jpg', 'non_2760.jpg', 'non_2990.jpg', 'non_2748.jpg', 'non_2984.jpg', 'non_1902.jpg', 'non_626.jpg', 'non_632.jpg', 'non_1916.jpg', 'non_2589.jpg', 'non_43.jpg', 'non_57.jpg', 'non_168.jpg', 'non_1719.jpg', 'non_183.jpg', 'non_2210.jpg', 'non_2576.jpg', 'non_829.jpg', 'non_2562.jpg', 'non_2204.jpg', 'non_197.jpg', 'non_3132.jpg', 'non_1725.jpg', 'non_801.jpg', 'non_80.jpg', 'non_94.jpg', 'non_815.jpg', 'non_1731.jpg', 'non_3126.jpg', 'non_2238.jpg', 'non_814.jpg', 'non_95.jpg', 'non_2239.jpg', 'non_3127.jpg', 'non_1730.jpg', 'non_1724.jpg', 'non_3133.jpg', 'non_81.jpg', 'non_800.jpg', 'non_2563.jpg', 'non_828.jpg', 'non_196.jpg', 'non_2205.jpg', 'non_2211.jpg', 'non_1718.jpg', 'non_182.jpg', 'non_2577.jpg', 'non_56.jpg', 'non_169.jpg', 'non_42.jpg', 'non_2588.jpg', 'non_633.jpg', 'non_1917.jpg', 'non_1903.jpg', 'non_627.jpg', 'non_2985.jpg', 'non_2749.jpg', 'non_2991.jpg', 'non_2007.jpg', 'non_394.jpg', 'non_2761.jpg', 'non_2775.jpg', 'non_380.jpg', 'non_2013.jpg', 'non_2946.jpg', 'non_2952.jpg', 'non_419.jpg', 'non_357.jpg', 'non_431.jpg', 'non_425.jpg', 'non_343.jpg', 'non_2629.jpg', 'non_2173.jpg', 'non_586.jpg', 'non_2615.jpg', 'non_2601.jpg', 'non_592.jpg', 'non_2167.jpg', 'non_579.jpg', 'non_2832.jpg', 'non_2826.jpg', 'non_2198.jpg', 'non_223.jpg', 'non_545.jpg', 'non_551.jpg', 'non_237.jpg', 'non_960.jpg', 'non_3053.jpg', 'non_1888.jpg', 'non_3047.jpg', 'non_2359.jpg', 'non_974.jpg', 'non_2417.jpg', 'non_784.jpg', 'non_1678.jpg', 'non_2371.jpg', 'non_2365.jpg', 'non_948.jpg', 'non_790.jpg', 'non_2403.jpg', 'non_1687.jpg', 'non_3090.jpg', 'non_3084.jpg', 'non_1693.jpg', 'non_747.jpg', 'non_1863.jpg', 'non_1877.jpg', 'non_753.jpg', 'non_1861.jpg', 'non_745.jpg', 'non_989.jpg', 'non_751.jpg', 'non_1875.jpg', 'non_3092.jpg', 'non_1685.jpg', 'non_779.jpg', 'non_1691.jpg', 'non_1849.jpg', 'non_3086.jpg', 'non_2398.jpg', 'non_2373.jpg', 'non_786.jpg', 'non_2415.jpg', 'non_2401.jpg', 'non_792.jpg', 'non_2367.jpg', 'non_3079.jpg', 'non_3051.jpg', 'non_2429.jpg', 'non_962.jpg', 'non_976.jpg', 'non_3045.jpg', 'non_547.jpg', 'non_221.jpg', 'non_235.jpg', 'non_2818.jpg', 'non_553.jpg', 'non_2830.jpg', 'non_209.jpg', 'non_2824.jpg', 'non_2617.jpg', 'non_584.jpg', 'non_2171.jpg', 'non_2165.jpg', 'non_590.jpg', 'non_2603.jpg', 'non_2159.jpg', 'non_433.jpg', 'non_2978.jpg', 'non_355.jpg', 'non_341.jpg', 'non_427.jpg', 'non_2944.jpg', 'non_369.jpg', 'non_2788.jpg', 'non_2950.jpg', 'non_2763.jpg', 'non_396.jpg', 'non_2005.jpg', 'non_2011.jpg', 'non_382.jpg', 'non_2777.jpg', 'non_2987.jpg', 'non_2039.jpg', 'non_2993.jpg', 'non_1915.jpg', 'non_631.jpg', 'non_68.jpg', 'non_625.jpg', 'non_1901.jpg', 'non_1929.jpg', 'non_54.jpg', 'non_619.jpg', 'non_40.jpg', 'non_3119.jpg', 'non_2207.jpg', 'non_194.jpg', 'non_2561.jpg', 'non_2575.jpg', 'non_180.jpg', 'non_2213.jpg', 'non_1732.jpg', 'non_3125.jpg', 'non_97.jpg', 'non_816.jpg', 'non_802.jpg', 'non_83.jpg', 'non_2549.jpg', 'non_3131.jpg', 'non_1726.jpg', 'non_2548.jpg', 'non_82.jpg', 'non_803.jpg', 'non_1727.jpg', 'non_3130.jpg', 'non_3124.jpg', 'non_1733.jpg', 'non_817.jpg', 'non_96.jpg', 'non_2574.jpg', 'non_2212.jpg', 'non_181.jpg', 'non_195.jpg', 'non_2206.jpg', 'non_3118.jpg', 'non_2560.jpg', 'non_41.jpg', 'non_618.jpg', 'non_1928.jpg', 'non_55.jpg', 'non_624.jpg', 'non_1900.jpg', 'non_1914.jpg', 'non_69.jpg', 'non_630.jpg', 'non_2992.jpg', 'non_2986.jpg', 'non_2038.jpg', 'non_383.jpg', 'non_2010.jpg', 'non_2776.jpg', 'non_2762.jpg', 'non_2004.jpg', 'non_397.jpg', 'non_2951.jpg', 'non_2789.jpg', 'non_2945.jpg', 'non_368.jpg', 'non_340.jpg', 'non_426.jpg', 'non_2979.jpg', 'non_432.jpg', 'non_354.jpg', 'non_2158.jpg', 'non_2164.jpg', 'non_2602.jpg', 'non_591.jpg', 'non_585.jpg', 'non_2616.jpg', 'non_2170.jpg', 'non_208.jpg', 'non_2825.jpg', 'non_2831.jpg', 'non_234.jpg', 'non_552.jpg', 'non_2819.jpg', 'non_546.jpg', 'non_220.jpg', 'non_977.jpg', 'non_3044.jpg', 'non_3050.jpg', 'non_963.jpg', 'non_2428.jpg', 'non_793.jpg', 'non_2400.jpg', 'non_3078.jpg', 'non_2366.jpg', 'non_2372.jpg', 'non_2414.jpg', 'non_787.jpg', 'non_2399.jpg', 'non_3087.jpg', 'non_1848.jpg', 'non_1690.jpg', 'non_1684.jpg', 'non_3093.jpg', 'non_778.jpg', 'non_750.jpg', 'non_988.jpg', 'non_1874.jpg', 'non_1860.jpg', 'non_744.jpg', 'non_3097.jpg', 'non_2389.jpg', 'non_1680.jpg', 'non_1858.jpg', 'non_1694.jpg', 'non_3083.jpg', 'non_768.jpg', 'non_998.jpg', 'non_740.jpg', 'non_1864.jpg', 'non_1870.jpg', 'non_754.jpg', 'non_967.jpg', 'non_3054.jpg', 'non_3040.jpg', 'non_973.jpg', 'non_2438.jpg', 'non_783.jpg', 'non_2410.jpg', 'non_2376.jpg', 'non_3068.jpg', 'non_2362.jpg', 'non_2404.jpg', 'non_797.jpg', 'non_218.jpg', 'non_2835.jpg', 'non_2821.jpg', 'non_224.jpg', 'non_542.jpg', 'non_2809.jpg', 'non_556.jpg', 'non_230.jpg', 'non_2148.jpg', 'non_2174.jpg', 'non_2612.jpg', 'non_581.jpg', 'non_595.jpg', 'non_2606.jpg', 'non_2160.jpg', 'non_2799.jpg', 'non_2941.jpg', 'non_2955.jpg', 'non_378.jpg', 'non_350.jpg', 'non_436.jpg', 'non_2969.jpg', 'non_422.jpg', 'non_344.jpg', 'non_2982.jpg', 'non_2996.jpg', 'non_2028.jpg', 'non_393.jpg', 'non_2000.jpg', 'non_2766.jpg', 'non_2772.jpg', 'non_2014.jpg', 'non_387.jpg', 'non_608.jpg', 'non_51.jpg', 'non_1938.jpg', 'non_45.jpg', 'non_634.jpg', 'non_1910.jpg', 'non_1904.jpg', 'non_620.jpg', 'non_79.jpg', 'non_2558.jpg', 'non_92.jpg', 'non_813.jpg', 'non_1737.jpg', 'non_3120.jpg', 'non_3134.jpg', 'non_1723.jpg', 'non_807.jpg', 'non_86.jpg', 'non_2564.jpg', 'non_2202.jpg', 'non_191.jpg', 'non_185.jpg', 'non_3108.jpg', 'non_2216.jpg', 'non_2570.jpg', 'non_2217.jpg', 'non_3109.jpg', 'non_184.jpg', 'non_2571.jpg', 'non_2565.jpg', 'non_190.jpg', 'non_2203.jpg', 'non_1722.jpg', 'non_3135.jpg', 'non_87.jpg', 'non_806.jpg', 'non_812.jpg', 'non_93.jpg', 'non_2559.jpg', 'non_3121.jpg', 'non_1736.jpg', 'non_1905.jpg', 'non_78.jpg', 'non_621.jpg', 'non_635.jpg', 'non_1911.jpg', 'non_1939.jpg', 'non_44.jpg', 'non_50.jpg', 'non_609.jpg', 'non_2773.jpg', 'non_386.jpg', 'non_2015.jpg', 'non_2001.jpg', 'non_392.jpg', 'non_2767.jpg', 'non_2997.jpg', 'non_2029.jpg', 'non_2983.jpg', 'non_423.jpg', 'non_2968.jpg', 'non_345.jpg', 'non_351.jpg', 'non_437.jpg', 'non_2954.jpg', 'non_379.jpg', 'non_2940.jpg', 'non_2798.jpg', 'non_2607.jpg', 'non_594.jpg', 'non_2161.jpg', 'non_2175.jpg', 'non_580.jpg', 'non_2613.jpg', 'non_2149.jpg', 'non_557.jpg', 'non_231.jpg', 'non_225.jpg', 'non_2808.jpg', 'non_543.jpg', 'non_2820.jpg', 'non_219.jpg', 'non_2834.jpg', 'non_2363.jpg', 'non_796.jpg', 'non_2405.jpg', 'non_2411.jpg', 'non_782.jpg', 'non_3069.jpg', 'non_2377.jpg', 'non_3041.jpg', 'non_2439.jpg', 'non_972.jpg', 'non_966.jpg', 'non_3055.jpg', 'non_1871.jpg', 'non_755.jpg', 'non_741.jpg', 'non_999.jpg', 'non_1865.jpg', 'non_3082.jpg', 'non_1695.jpg', 'non_769.jpg', 'non_1859.jpg', 'non_1681.jpg', 'non_2388.jpg', 'non_3096.jpg', 'non_1697.jpg', 'non_3080.jpg', 'non_3094.jpg', 'non_1683.jpg', 'non_757.jpg', 'non_1873.jpg', 'non_1867.jpg', 'non_743.jpg', 'non_970.jpg', 'non_3043.jpg', 'non_1898.jpg', 'non_2349.jpg', 'non_3057.jpg', 'non_964.jpg', 'non_2407.jpg', 'non_794.jpg', 'non_2361.jpg', 'non_2375.jpg', 'non_780.jpg', 'non_958.jpg', 'non_2413.jpg', 'non_569.jpg', 'non_2822.jpg', 'non_2836.jpg', 'non_2188.jpg', 'non_233.jpg', 'non_555.jpg', 'non_541.jpg', 'non_227.jpg', 'non_2639.jpg', 'non_2163.jpg', 'non_596.jpg', 'non_2605.jpg', 'non_2611.jpg', 'non_582.jpg', 'non_2177.jpg', 'non_2956.jpg', 'non_2942.jpg', 'non_409.jpg', 'non_347.jpg', 'non_421.jpg', 'non_435.jpg', 'non_353.jpg', 'non_2995.jpg', 'non_2981.jpg', 'non_2759.jpg', 'non_2017.jpg', 'non_384.jpg', 'non_2771.jpg', 'non_2765.jpg', 'non_390.jpg', 'non_2003.jpg', 'non_46.jpg', 'non_179.jpg', 'non_52.jpg', 'non_2598.jpg', 'non_623.jpg', 'non_1907.jpg', 'non_1913.jpg', 'non_637.jpg', 'non_804.jpg', 'non_85.jpg', 'non_3137.jpg', 'non_2229.jpg', 'non_1720.jpg', 'non_1734.jpg', 'non_3123.jpg', 'non_91.jpg', 'non_810.jpg', 'non_2573.jpg', 'non_838.jpg', 'non_186.jpg', 'non_2215.jpg', 'non_2201.jpg', 'non_1708.jpg', 'non_192.jpg', 'non_2567.jpg', 'non_1709.jpg', 'non_193.jpg', 'non_2200.jpg', 'non_2566.jpg', 'non_839.jpg', 'non_2572.jpg', 'non_2214.jpg', 'non_187.jpg', 'non_3122.jpg', 'non_1735.jpg', 'non_811.jpg', 'non_90.jpg', 'non_84.jpg', 'non_805.jpg', 'non_1721.jpg', 'non_2228.jpg', 'non_3136.jpg', 'non_1912.jpg', 'non_636.jpg', 'non_622.jpg', 'non_1906.jpg', 'non_2599.jpg', 'non_53.jpg', 'non_47.jpg', 'non_178.jpg', 'non_2764.jpg', 'non_2002.jpg', 'non_391.jpg', 'non_385.jpg', 'non_2016.jpg', 'non_2770.jpg', 'non_2758.jpg', 'non_2980.jpg', 'non_2994.jpg', 'non_434.jpg', 'non_352.jpg', 'non_346.jpg', 'non_420.jpg', 'non_408.jpg', 'non_2943.jpg', 'non_2957.jpg', 'non_583.jpg', 'non_2610.jpg', 'non_2176.jpg', 'non_2162.jpg', 'non_2604.jpg', 'non_597.jpg', 'non_2638.jpg', 'non_540.jpg', 'non_226.jpg', 'non_232.jpg', 'non_554.jpg', 'non_2837.jpg', 'non_2189.jpg', 'non_2823.jpg', 'non_568.jpg', 'non_2374.jpg', 'non_2412.jpg', 'non_959.jpg', 'non_781.jpg', 'non_795.jpg', 'non_2406.jpg', 'non_2360.jpg', 'non_3056.jpg', 'non_2348.jpg', 'non_1899.jpg', 'non_965.jpg', 'non_971.jpg', 'non_3042.jpg', 'non_1866.jpg', 'non_742.jpg', 'non_756.jpg', 'non_1872.jpg', 'non_1682.jpg', 'non_3095.jpg', 'non_3081.jpg', 'non_1696.jpg', 'non_1857.jpg', 'non_3098.jpg', 'non_2386.jpg', 'non_773.jpg', 'non_767.jpg', 'non_2392.jpg', 'non_1843.jpg', 'non_997.jpg', 'non_983.jpg', 'non_2345.jpg', 'non_1894.jpg', 'non_968.jpg', 'non_2423.jpg', 'non_2437.jpg', 'non_1880.jpg', 'non_2351.jpg', 'non_1670.jpg', 'non_2379.jpg', 'non_3067.jpg', 'non_954.jpg', 'non_798.jpg', 'non_940.jpg', 'non_3073.jpg', 'non_571.jpg', 'non_2184.jpg', 'non_217.jpg', 'non_203.jpg', 'non_2190.jpg', 'non_565.jpg', 'non_2806.jpg', 'non_559.jpg', 'non_2812.jpg', 'non_2621.jpg', 'non_2147.jpg', 'non_2153.jpg', 'non_2635.jpg', 'non_2609.jpg', 'non_405.jpg', 'non_2796.jpg', 'non_363.jpg', 'non_377.jpg', 'non_2782.jpg', 'non_411.jpg', 'non_2972.jpg', 'non_439.jpg', 'non_2966.jpg', 'non_2755.jpg', 'non_2033.jpg', 'non_2027.jpg', 'non_2999.jpg', 'non_2741.jpg', 'non_2769.jpg', 'non_388.jpg', 'non_1923.jpg', 'non_2594.jpg', 'non_607.jpg', 'non_613.jpg', 'non_2580.jpg', 'non_1937.jpg', 'non_175.jpg', 'non_62.jpg', 'non_76.jpg', 'non_2231.jpg', 'non_1738.jpg', 'non_2557.jpg', 'non_2543.jpg', 'non_89.jpg', 'non_808.jpg', 'non_2225.jpg', 'non_1704.jpg', 'non_3113.jpg', 'non_820.jpg', 'non_834.jpg', 'non_3107.jpg', 'non_2219.jpg', 'non_1710.jpg', 'non_835.jpg', 'non_1711.jpg', 'non_2218.jpg', 'non_3106.jpg', 'non_3112.jpg', 'non_1705.jpg', 'non_821.jpg', 'non_809.jpg', 'non_88.jpg', 'non_2542.jpg', 'non_2224.jpg', 'non_1739.jpg', 'non_2230.jpg', 'non_2556.jpg', 'non_77.jpg', 'non_63.jpg', 'non_2581.jpg', 'non_612.jpg', 'non_174.jpg', 'non_1936.jpg', 'non_1922.jpg', 'non_606.jpg', 'non_2595.jpg', 'non_389.jpg', 'non_2768.jpg', 'non_2026.jpg', 'non_2740.jpg', 'non_2998.jpg', 'non_2754.jpg', 'non_2032.jpg', 'non_2967.jpg', 'non_438.jpg', 'non_2973.jpg', 'non_376.jpg', 'non_410.jpg', 'non_2783.jpg', 'non_2797.jpg', 'non_404.jpg', 'non_362.jpg', 'non_2608.jpg', 'non_2152.jpg', 'non_2634.jpg', 'non_2620.jpg', 'non_2146.jpg', 'non_2813.jpg', 'non_558.jpg', 'non_2807.jpg', 'non_2191.jpg', 'non_202.jpg', 'non_564.jpg', 'non_570.jpg', 'non_216.jpg', 'non_2185.jpg', 'non_941.jpg', 'non_799.jpg', 'non_3072.jpg', 'non_3066.jpg', 'non_2378.jpg', 'non_1671.jpg', 'non_955.jpg', 'non_2436.jpg', 'non_2350.jpg', 'non_1881.jpg', 'non_1895.jpg', 'non_2344.jpg', 'non_2422.jpg', 'non_969.jpg', 'non_982.jpg', 'non_996.jpg', 'non_766.jpg', 'non_1842.jpg', 'non_2393.jpg', 'non_2387.jpg', 'non_3099.jpg', 'non_1856.jpg', 'non_772.jpg', 'non_2391.jpg', 'non_1698.jpg', 'non_1840.jpg', 'non_764.jpg', 'non_770.jpg', 'non_1854.jpg', 'non_2385.jpg', 'non_980.jpg', 'non_758.jpg', 'non_994.jpg', 'non_1868.jpg', 'non_1883.jpg', 'non_2352.jpg', 'non_2434.jpg', 'non_2420.jpg', 'non_2346.jpg', 'non_3058.jpg', 'non_1897.jpg', 'non_3070.jpg', 'non_943.jpg', 'non_2408.jpg', 'non_957.jpg', 'non_1673.jpg', 'non_3064.jpg', 'non_566.jpg', 'non_200.jpg', 'non_2193.jpg', 'non_2187.jpg', 'non_214.jpg', 'non_572.jpg', 'non_2839.jpg', 'non_2811.jpg', 'non_228.jpg', 'non_2805.jpg', 'non_2636.jpg', 'non_2150.jpg', 'non_2144.jpg', 'non_2622.jpg', 'non_599.jpg', 'non_2178.jpg', 'non_2781.jpg', 'non_2959.jpg', 'non_412.jpg', 'non_374.jpg', 'non_360.jpg', 'non_406.jpg', 'non_2795.jpg', 'non_2965.jpg', 'non_348.jpg', 'non_2971.jpg', 'non_2742.jpg', 'non_2024.jpg', 'non_2030.jpg', 'non_2756.jpg', 'non_2018.jpg', 'non_1934.jpg', 'non_176.jpg', 'non_610.jpg', 'non_49.jpg', 'non_2583.jpg', 'non_2597.jpg', 'non_604.jpg', 'non_1920.jpg', 'non_1908.jpg', 'non_75.jpg', 'non_638.jpg', 'non_61.jpg', 'non_3138.jpg', 'non_2226.jpg', 'non_2540.jpg', 'non_2554.jpg', 'non_2232.jpg', 'non_3104.jpg', 'non_189.jpg', 'non_1713.jpg', 'non_837.jpg', 'non_2568.jpg', 'non_823.jpg', 'non_1707.jpg', 'non_3110.jpg', 'non_822.jpg', 'non_2569.jpg', 'non_3111.jpg', 'non_1706.jpg', 'non_188.jpg', 'non_1712.jpg', 'non_3105.jpg', 'non_836.jpg', 'non_2555.jpg', 'non_2233.jpg', 'non_2227.jpg', 'non_3139.jpg', 'non_2541.jpg', 'non_60.jpg', 'non_639.jpg', 'non_1909.jpg', 'non_74.jpg', 'non_605.jpg', 'non_2596.jpg', 'non_1921.jpg', 'non_177.jpg', 'non_1935.jpg', 'non_2582.jpg', 'non_48.jpg', 'non_611.jpg', 'non_2019.jpg', 'non_2031.jpg', 'non_2757.jpg', 'non_2743.jpg', 'non_2025.jpg', 'non_2970.jpg', 'non_2964.jpg', 'non_349.jpg', 'non_361.jpg', 'non_2794.jpg', 'non_407.jpg', 'non_413.jpg', 'non_2958.jpg', 'non_2780.jpg', 'non_375.jpg', 'non_2179.jpg', 'non_598.jpg', 'non_2145.jpg', 'non_2623.jpg', 'non_2637.jpg', 'non_2151.jpg', 'non_229.jpg', 'non_2804.jpg', 'non_2810.jpg', 'non_215.jpg', 'non_2186.jpg', 'non_2838.jpg', 'non_573.jpg', 'non_567.jpg', 'non_2192.jpg', 'non_201.jpg', 'non_956.jpg', 'non_3065.jpg', 'non_1672.jpg', 'non_3071.jpg', 'non_2409.jpg', 'non_942.jpg', 'non_2421.jpg', 'non_1896.jpg', 'non_3059.jpg', 'non_2347.jpg', 'non_2353.jpg', 'non_1882.jpg', 'non_2435.jpg', 'non_995.jpg', 'non_1869.jpg', 'non_759.jpg', 'non_981.jpg', 'non_771.jpg', 'non_2384.jpg', 'non_1855.jpg', 'non_1841.jpg', 'non_1699.jpg', 'non_2390.jpg', 'non_765.jpg', 'non_985.jpg', 'non_1879.jpg', 'non_991.jpg', 'non_749.jpg', 'non_761.jpg', 'non_2394.jpg', 'non_1845.jpg', 'non_1689.jpg', 'non_1851.jpg', 'non_2380.jpg', 'non_775.jpg', 'non_946.jpg', 'non_3075.jpg', 'non_1676.jpg', 'non_3061.jpg', 'non_2419.jpg', 'non_952.jpg', 'non_2431.jpg', 'non_1886.jpg', 'non_2357.jpg', 'non_3049.jpg', 'non_2343.jpg', 'non_1892.jpg', 'non_2425.jpg', 'non_239.jpg', 'non_2814.jpg', 'non_2800.jpg', 'non_205.jpg', 'non_2196.jpg', 'non_2828.jpg', 'non_563.jpg', 'non_577.jpg', 'non_2182.jpg', 'non_211.jpg', 'non_2169.jpg', 'non_588.jpg', 'non_2155.jpg', 'non_2633.jpg', 'non_2627.jpg', 'non_2141.jpg', 'non_2960.jpg', 'non_2974.jpg', 'non_359.jpg', 'non_371.jpg', 'non_2784.jpg', 'non_417.jpg', 'non_403.jpg', 'non_2790.jpg', 'non_2948.jpg', 'non_365.jpg', 'non_2009.jpg', 'non_2021.jpg', 'non_2747.jpg', 'non_2753.jpg', 'non_2035.jpg', 'non_629.jpg', 'non_70.jpg', 'non_1919.jpg', 'non_64.jpg', 'non_615.jpg', 'non_2586.jpg', 'non_1931.jpg', 'non_173.jpg', 'non_1925.jpg', 'non_167.jpg', 'non_2592.jpg', 'non_601.jpg', 'non_58.jpg', 'non_832.jpg', 'non_2579.jpg', 'non_3101.jpg', 'non_1716.jpg', 'non_198.jpg', 'non_1702.jpg', 'non_3115.jpg', 'non_826.jpg', 'non_2545.jpg', 'non_2223.jpg', 'non_3129.jpg', 'non_2237.jpg', 'non_2551.jpg', 'non_2236.jpg', 'non_3128.jpg', 'non_2550.jpg', 'non_2544.jpg', 'non_2222.jpg', 'non_3114.jpg', 'non_199.jpg', 'non_1703.jpg', 'non_827.jpg', 'non_2578.jpg', 'non_833.jpg', 'non_1717.jpg', 'non_3100.jpg', 'non_1924.jpg', 'non_59.jpg', 'non_600.jpg', 'non_2593.jpg', 'non_2587.jpg', 'non_614.jpg', 'non_172.jpg', 'non_1930.jpg', 'non_1918.jpg', 'non_65.jpg', 'non_71.jpg', 'non_628.jpg', 'non_2752.jpg', 'non_2034.jpg', 'non_2020.jpg', 'non_2746.jpg', 'non_2008.jpg', 'non_2949.jpg', 'non_2791.jpg', 'non_402.jpg', 'non_364.jpg', 'non_370.jpg', 'non_416.jpg', 'non_2785.jpg', 'non_2975.jpg', 'non_358.jpg', 'non_2961.jpg', 'non_2626.jpg', 'non_2140.jpg', 'non_2154.jpg', 'non_2632.jpg', 'non_589.jpg', 'non_2168.jpg', 'non_576.jpg', 'non_210.jpg', 'non_2183.jpg', 'non_2197.jpg', 'non_204.jpg', 'non_562.jpg', 'non_2829.jpg', 'non_2801.jpg', 'non_238.jpg', 'non_2815.jpg', 'non_1893.jpg', 'non_2342.jpg', 'non_2424.jpg', 'non_2430.jpg', 'non_3048.jpg', 'non_2356.jpg', 'non_1887.jpg', 'non_3060.jpg', 'non_1677.jpg', 'non_953.jpg', 'non_2418.jpg', 'non_947.jpg', 'non_3074.jpg', 'non_2381.jpg', 'non_1850.jpg', 'non_1688.jpg', 'non_774.jpg', 'non_760.jpg', 'non_1844.jpg', 'non_2395.jpg', 'non_748.jpg', 'non_990.jpg', 'non_984.jpg', 'non_1878.jpg', 'non_992.jpg', 'non_986.jpg', 'non_776.jpg', 'non_1852.jpg', 'non_2383.jpg', 'non_3089.jpg', 'non_2397.jpg', 'non_1846.jpg', 'non_762.jpg', 'non_789.jpg', 'non_951.jpg', 'non_1675.jpg', 'non_3062.jpg', 'non_2368.jpg', 'non_3076.jpg', 'non_945.jpg', 'non_2426.jpg', 'non_2340.jpg', 'non_1891.jpg', 'non_1885.jpg', 'non_2354.jpg', 'non_2432.jpg', 'non_979.jpg', 'non_2803.jpg', 'non_548.jpg', 'non_2817.jpg', 'non_2181.jpg', 'non_212.jpg', 'non_574.jpg', 'non_560.jpg', 'non_206.jpg', 'non_2195.jpg', 'non_2618.jpg', 'non_2142.jpg', 'non_2624.jpg', 'non_2630.jpg', 'non_2156.jpg', 'non_2977.jpg', 'non_428.jpg', 'non_2963.jpg', 'non_366.jpg', 'non_400.jpg', 'non_2793.jpg', 'non_2787.jpg', 'non_414.jpg', 'non_372.jpg', 'non_399.jpg', 'non_2778.jpg', 'non_2036.jpg', 'non_2988.jpg', 'non_2750.jpg', 'non_2744.jpg', 'non_2022.jpg', 'non_67.jpg', 'non_73.jpg', 'non_2591.jpg', 'non_602.jpg', 'non_1926.jpg', 'non_1932.jpg', 'non_170.jpg', 'non_616.jpg', 'non_2585.jpg', 'non_825.jpg', 'non_1701.jpg', 'non_3116.jpg', 'non_2208.jpg', 'non_3102.jpg', 'non_1715.jpg', 'non_831.jpg', 'non_819.jpg', 'non_98.jpg', 'non_2552.jpg', 'non_2234.jpg', 'non_1729.jpg', 'non_2220.jpg', 'non_2546.jpg', 'non_2221.jpg', 'non_1728.jpg', 'non_2547.jpg', 'non_2553.jpg', 'non_99.jpg', 'non_818.jpg', 'non_2235.jpg', 'non_1714.jpg', 'non_3103.jpg', 'non_830.jpg', 'non_824.jpg', 'non_2209.jpg', 'non_3117.jpg', 'non_1700.jpg', 'non_171.jpg', 'non_1933.jpg', 'non_2584.jpg', 'non_617.jpg', 'non_603.jpg', 'non_2590.jpg', 'non_1927.jpg', 'non_72.jpg', 'non_66.jpg', 'non_2745.jpg', 'non_2023.jpg', 'non_2037.jpg', 'non_2751.jpg', 'non_2989.jpg', 'non_2779.jpg', 'non_398.jpg', 'non_415.jpg', 'non_2786.jpg', 'non_373.jpg', 'non_367.jpg', 'non_2792.jpg', 'non_401.jpg', 'non_2962.jpg', 'non_429.jpg', 'non_2976.jpg', 'non_2631.jpg', 'non_2157.jpg', 'non_2143.jpg', 'non_2625.jpg', 'non_2619.jpg', 'non_561.jpg', 'non_2194.jpg', 'non_207.jpg', 'non_213.jpg', 'non_2180.jpg', 'non_575.jpg', 'non_2816.jpg', 'non_549.jpg', 'non_2802.jpg', 'non_2355.jpg', 'non_1884.jpg', 'non_978.jpg', 'non_2433.jpg', 'non_2427.jpg', 'non_1890.jpg', 'non_2341.jpg', 'non_3077.jpg', 'non_2369.jpg', 'non_944.jpg', 'non_950.jpg', 'non_788.jpg', 'non_3063.jpg', 'non_1674.jpg', 'non_1847.jpg', 'non_2396.jpg', 'non_3088.jpg', 'non_763.jpg', 'non_777.jpg', 'non_2382.jpg', 'non_1853.jpg', 'non_987.jpg', 'non_993.jpg', 'non_710.jpg', 'non_2483.jpg', 'non_1834.jpg', 'non_1820.jpg', 'non_2497.jpg', 'non_704.jpg', 'non_1808.jpg', 'non_738.jpg', 'non_2440.jpg', 'non_2326.jpg', 'non_3038.jpg', 'non_2332.jpg', 'non_2454.jpg', 'non_937.jpg', 'non_3004.jpg', 'non_3010.jpg', 'non_2468.jpg', 'non_923.jpg', 'non_274.jpg', 'non_2859.jpg', 'non_512.jpg', 'non_506.jpg', 'non_260.jpg', 'non_248.jpg', 'non_2865.jpg', 'non_2871.jpg', 'non_2124.jpg', 'non_2642.jpg', 'non_2656.jpg', 'non_2130.jpg', 'non_2118.jpg', 'non_300.jpg', 'non_2093.jpg', 'non_466.jpg', 'non_472.jpg', 'non_2939.jpg', 'non_2087.jpg', 'non_314.jpg', 'non_2911.jpg', 'non_2905.jpg', 'non_328.jpg', 'non_2050.jpg', 'non_2736.jpg', 'non_2722.jpg', 'non_2044.jpg', 'non_499.jpg', 'non_2078.jpg', 'non_664.jpg', 'non_2291.jpg', 'non_1940.jpg', 'non_1798.jpg', 'non_1954.jpg', 'non_2285.jpg', 'non_670.jpg', 'non_29.jpg', 'non_658.jpg', 'non_880.jpg', 'non_1968.jpg', 'non_894.jpg', 'non_2534.jpg', 'non_1983.jpg', 'non_2252.jpg', 'non_3158.jpg', 'non_2246.jpg', 'non_1997.jpg', 'non_2520.jpg', 'non_843.jpg', 'non_2508.jpg', 'non_3170.jpg', 'non_1767.jpg', 'non_1773.jpg', 'non_3164.jpg', 'non_857.jpg', 'non_3165.jpg', 'non_1772.jpg', 'non_856.jpg', 'non_2509.jpg', 'non_842.jpg', 'non_1766.jpg', 'non_3171.jpg', 'non_1996.jpg', 'non_2247.jpg', 'non_3159.jpg', 'non_2521.jpg', 'non_2535.jpg', 'non_2253.jpg', 'non_1982.jpg', 'non_1969.jpg', 'non_895.jpg', 'non_881.jpg', 'non_659.jpg', 'non_2284.jpg', 'non_1955.jpg', 'non_28.jpg', 'non_671.jpg', 'non_665.jpg', 'non_1799.jpg', 'non_1941.jpg', 'non_2290.jpg', 'non_2079.jpg', 'non_498.jpg', 'non_2723.jpg', 'non_2045.jpg', 'non_2051.jpg', 'non_2737.jpg', 'non_2904.jpg', 'non_329.jpg', 'non_2910.jpg', 'non_2938.jpg', 'non_473.jpg', 'non_315.jpg', 'non_2086.jpg', 'non_2092.jpg', 'non_301.jpg', 'non_467.jpg', 'non_2119.jpg', 'non_2657.jpg', 'non_2131.jpg', 'non_2125.jpg', 'non_2643.jpg', 'non_2870.jpg', 'non_249.jpg', 'non_2864.jpg', 'non_507.jpg', 'non_261.jpg', 'non_275.jpg', 'non_513.jpg', 'non_2858.jpg', 'non_3011.jpg', 'non_922.jpg', 'non_2469.jpg', 'non_936.jpg', 'non_3005.jpg', 'non_2333.jpg', 'non_2455.jpg', 'non_2441.jpg', 'non_3039.jpg', 'non_2327.jpg', 'non_739.jpg', 'non_1809.jpg', 'non_1821.jpg', 'non_705.jpg', 'non_2496.jpg', 'non_2482.jpg', 'non_711.jpg', 'non_1835.jpg', 'non_2494.jpg', 'non_707.jpg', 'non_1823.jpg', 'non_1837.jpg', 'non_713.jpg', 'non_2480.jpg', 'non_2457.jpg', 'non_2331.jpg', 'non_2325.jpg', 'non_2443.jpg', 'non_908.jpg', 'non_920.jpg', 'non_3013.jpg', 'non_2319.jpg', 'non_3007.jpg', 'non_934.jpg', 'non_263.jpg', 'non_505.jpg', 'non_511.jpg', 'non_277.jpg', 'non_2872.jpg', 'non_539.jpg', 'non_2866.jpg', 'non_2133.jpg', 'non_2655.jpg', 'non_2641.jpg', 'non_2899.jpg', 'non_2127.jpg', 'non_2669.jpg', 'non_288.jpg', 'non_2084.jpg', 'non_317.jpg', 'non_471.jpg', 'non_465.jpg', 'non_303.jpg', 'non_2090.jpg', 'non_2906.jpg', 'non_459.jpg', 'non_2912.jpg', 'non_2047.jpg', 'non_2721.jpg', 'non_2735.jpg', 'non_2053.jpg', 'non_673.jpg', 'non_1957.jpg', 'non_2286.jpg', 'non_3198.jpg', 'non_2292.jpg', 'non_1943.jpg', 'non_667.jpg', 'non_897.jpg', 'non_883.jpg', 'non_868.jpg', 'non_2523.jpg', 'non_2245.jpg', 'non_1994.jpg', 'non_1758.jpg', 'non_1980.jpg', 'non_2251.jpg', 'non_2537.jpg', 'non_854.jpg', 'non_1770.jpg', 'non_3167.jpg', 'non_2279.jpg', 'non_3173.jpg', 'non_1764.jpg', 'non_840.jpg', 'non_698.jpg', 'non_1765.jpg', 'non_3172.jpg', 'non_699.jpg', 'non_841.jpg', 'non_855.jpg', 'non_2278.jpg', 'non_3166.jpg', 'non_1771.jpg', 'non_2250.jpg', 'non_1981.jpg', 'non_1759.jpg', 'non_2536.jpg', 'non_2522.jpg', 'non_869.jpg', 'non_1995.jpg', 'non_2244.jpg', 'non_882.jpg', 'non_17.jpg', 'non_896.jpg', 'non_1942.jpg', 'non_2293.jpg', 'non_666.jpg', 'non_672.jpg', 'non_3199.jpg', 'non_2287.jpg', 'non_1956.jpg', 'non_2734.jpg', 'non_2052.jpg', 'non_2046.jpg', 'non_2720.jpg', 'non_2913.jpg', 'non_458.jpg', 'non_2907.jpg', 'non_464.jpg', 'non_2091.jpg', 'non_302.jpg', 'non_316.jpg', 'non_2085.jpg', 'non_470.jpg', 'non_289.jpg', 'non_2668.jpg', 'non_2898.jpg', 'non_2640.jpg', 'non_2126.jpg', 'non_2132.jpg', 'non_2654.jpg', 'non_2867.jpg', 'non_538.jpg', 'non_2873.jpg', 'non_510.jpg', 'non_276.jpg', 'non_262.jpg', 'non_504.jpg', 'non_3006.jpg', 'non_2318.jpg', 'non_935.jpg', 'non_921.jpg', 'non_3012.jpg', 'non_2324.jpg', 'non_909.jpg', 'non_2442.jpg', 'non_2456.jpg', 'non_2330.jpg', 'non_1836.jpg', 'non_2481.jpg', 'non_712.jpg', 'non_706.jpg', 'non_2495.jpg', 'non_1822.jpg', 'non_1826.jpg', 'non_2491.jpg', 'non_702.jpg', 'non_716.jpg', 'non_2485.jpg', 'non_1832.jpg', 'non_2308.jpg', 'non_3016.jpg', 'non_925.jpg', 'non_931.jpg', 'non_3002.jpg', 'non_2334.jpg', 'non_919.jpg', 'non_2452.jpg', 'non_2446.jpg', 'non_2320.jpg', 'non_2877.jpg', 'non_528.jpg', 'non_2863.jpg', 'non_500.jpg', 'non_266.jpg', 'non_272.jpg', 'non_514.jpg', 'non_299.jpg', 'non_3200.jpg', 'non_2650.jpg', 'non_2888.jpg', 'non_2136.jpg', 'non_2122.jpg', 'non_2644.jpg', 'non_2903.jpg', 'non_448.jpg', 'non_2917.jpg', 'non_474.jpg', 'non_2081.jpg', 'non_312.jpg', 'non_306.jpg', 'non_2095.jpg', 'non_460.jpg', 'non_2718.jpg', 'non_2724.jpg', 'non_2042.jpg', 'non_2056.jpg', 'non_2730.jpg', 'non_892.jpg', 'non_886.jpg', 'non_1952.jpg', 'non_2283.jpg', 'non_676.jpg', 'non_662.jpg', 'non_2297.jpg', 'non_3189.jpg', 'non_1946.jpg', 'non_1775.jpg', 'non_3162.jpg', 'non_851.jpg', 'non_689.jpg', 'non_845.jpg', 'non_3176.jpg', 'non_2268.jpg', 'non_1761.jpg', 'non_2240.jpg', 'non_1749.jpg', 'non_1991.jpg', 'non_2526.jpg', 'non_2532.jpg', 'non_879.jpg', 'non_1985.jpg', 'non_2254.jpg', 'non_878.jpg', 'non_2533.jpg', 'non_2255.jpg', 'non_1984.jpg', 'non_1990.jpg', 'non_1748.jpg', 'non_2241.jpg', 'non_2527.jpg', 'non_844.jpg', 'non_1760.jpg', 'non_2269.jpg', 'non_3177.jpg', 'non_3163.jpg', 'non_1774.jpg', 'non_688.jpg', 'non_850.jpg', 'non_663.jpg', 'non_1947.jpg', 'non_3188.jpg', 'non_2296.jpg', 'non_2282.jpg', 'non_1953.jpg', 'non_677.jpg', 'non_887.jpg', 'non_893.jpg', 'non_2057.jpg', 'non_2731.jpg', 'non_2725.jpg', 'non_2043.jpg', 'non_2719.jpg', 'non_2094.jpg', 'non_307.jpg', 'non_461.jpg', 'non_475.jpg', 'non_313.jpg', 'non_2080.jpg', 'non_2916.jpg', 'non_449.jpg', 'non_2902.jpg', 'non_2123.jpg', 'non_2645.jpg', 'non_2889.jpg', 'non_2651.jpg', 'non_2137.jpg', 'non_298.jpg', 'non_273.jpg', 'non_515.jpg', 'non_501.jpg', 'non_267.jpg', 'non_2862.jpg', 'non_529.jpg', 'non_2876.jpg', 'non_2447.jpg', 'non_2321.jpg', 'non_2335.jpg', 'non_2453.jpg', 'non_918.jpg', 'non_930.jpg', 'non_3003.jpg', 'non_3017.jpg', 'non_2309.jpg', 'non_924.jpg', 'non_2484.jpg', 'non_717.jpg', 'non_1833.jpg', 'non_1827.jpg', 'non_703.jpg', 'non_2490.jpg', 'non_729.jpg', 'non_1819.jpg', 'non_1831.jpg', 'non_715.jpg', 'non_2486.jpg', 'non_2492.jpg', 'non_701.jpg', 'non_1825.jpg', 'non_3001.jpg', 'non_932.jpg', 'non_2479.jpg', 'non_926.jpg', 'non_3015.jpg', 'non_2323.jpg', 'non_2445.jpg', 'non_2451.jpg', 'non_2337.jpg', 'non_3029.jpg', 'non_2860.jpg', 'non_259.jpg', 'non_2874.jpg', 'non_9.jpg', 'non_517.jpg', 'non_265.jpg', 'non_503.jpg', 'non_2848.jpg', 'non_2109.jpg', 'non_2647.jpg', 'non_2121.jpg', 'non_2135.jpg', 'non_2653.jpg', 'non_2914.jpg', 'non_339.jpg', 'non_2900.jpg', 'non_2928.jpg', 'non_463.jpg', 'non_305.jpg', 'non_2096.jpg', 'non_2082.jpg', 'non_311.jpg', 'non_477.jpg', 'non_2069.jpg', 'non_488.jpg', 'non_2733.jpg', 'non_2055.jpg', 'non_2041.jpg', 'non_2727.jpg', 'non_1979.jpg', 'non_885.jpg', 'non_649.jpg', 'non_891.jpg', 'non_2294.jpg', 'non_1945.jpg', 'non_661.jpg', 'non_38.jpg', 'non_675.jpg', 'non_1951.jpg', 'non_1789.jpg', 'non_2280.jpg', 'non_3175.jpg', 'non_1762.jpg', 'non_846.jpg', 'non_2519.jpg', 'non_852.jpg', 'non_1776.jpg', 'non_3161.jpg', 'non_1986.jpg', 'non_3149.jpg', 'non_2257.jpg', 'non_2531.jpg', 'non_2525.jpg', 'non_2243.jpg', 'non_1992.jpg', 'non_2524.jpg', 'non_1993.jpg', 'non_2242.jpg', 'non_2256.jpg', 'non_3148.jpg', 'non_1987.jpg', 'non_2530.jpg', 'non_853.jpg', 'non_2518.jpg', 'non_3160.jpg', 'non_1777.jpg', 'non_1763.jpg', 'non_3174.jpg', 'non_847.jpg', 'non_674.jpg', 'non_2281.jpg', 'non_1788.jpg', 'non_1950.jpg', 'non_1944.jpg', 'non_2295.jpg', 'non_39.jpg', 'non_660.jpg', 'non_890.jpg', 'non_648.jpg', 'non_1978.jpg', 'non_884.jpg', 'non_2040.jpg', 'non_2726.jpg', 'non_2732.jpg', 'non_2054.jpg', 'non_489.jpg', 'non_2068.jpg', 'non_310.jpg', 'non_2083.jpg', 'non_476.jpg', 'non_462.jpg', 'non_2929.jpg', 'non_2097.jpg', 'non_304.jpg', 'non_2901.jpg', 'non_2915.jpg', 'non_338.jpg', 'non_2134.jpg', 'non_2652.jpg', 'non_2646.jpg', 'non_2120.jpg', 'non_2108.jpg', 'non_264.jpg', 'non_2849.jpg', 'non_502.jpg', 'non_516.jpg', 'non_258.jpg', 'non_8.jpg', 'non_2875.jpg', 'non_2861.jpg', 'non_2450.jpg', 'non_3028.jpg', 'non_2336.jpg', 'non_2322.jpg', 'non_2444.jpg', 'non_927.jpg', 'non_3014.jpg', 'non_3000.jpg', 'non_2478.jpg', 'non_933.jpg', 'non_700.jpg', 'non_2493.jpg', 'non_1824.jpg', 'non_1830.jpg', 'non_2487.jpg', 'non_714.jpg', 'non_1818.jpg', 'non_728.jpg']\n"
     ]
    }
   ],
   "source": [
    "Non_demented_folder = 'Datasets/Non_Demented'\n",
    "\n",
    "img = os.listdir(Non_demented_folder) \n",
    "Non_demented_array = [] #create an array with all of the images \n",
    "for i in img:\n",
    "    if i.endswith('.jpg') or i.endswith('.jpeg'):\n",
    "        Non_demented_array.append(i) #add each of the img in files into the array of all the images \n",
    "        img = load_img(os.path.join(Non_demented_folder, i))\n",
    "        img_array = img_to_array(img)     \n",
    "        # print(\"Processed\", i, \"with shape:\", img_array.shape) #test\n",
    "print(Non_demented_array)"
   ]
  },
  {
   "cell_type": "code",
   "execution_count": 33,
   "metadata": {},
   "outputs": [
    {
     "name": "stdout",
     "output_type": "stream",
     "text": [
      "['verymild_271.jpg', 'verymild_517.jpg', 'verymild_1090.jpg', 'verymild_503.jpg', 'verymild_1084.jpg', 'verymild_265.jpg', 'verymild_1912.jpg', 'verymild_259.jpg', 'verymild_1906.jpg', 'verymild_1735.jpg', 'verymild_1053.jpg', 'verymild_1047.jpg', 'verymild_1721.jpg', 'verymild_2228.jpg', 'verymild_1709.jpg', 'verymild_2200.jpg', 'verymild_2214.jpg', 'verymild_1292.jpg', 'verymild_715.jpg', 'verymild_1286.jpg', 'verymild_701.jpg', 'verymild_729.jpg', 'verymild_1251.jpg', 'verymild_1537.jpg', 'verymild_1523.jpg', 'verymild_1245.jpg', 'verymild_932.jpg', 'verymild_2002.jpg', 'verymild_2016.jpg', 'verymild_1279.jpg', 'verymild_926.jpg', 'verymild_661.jpg', 'verymild_2189.jpg', 'verymild_1480.jpg', 'verymild_107.jpg', 'verymild_1494.jpg', 'verymild_113.jpg', 'verymild_675.jpg', 'verymild_885.jpg', 'verymild_649.jpg', 'verymild_891.jpg', 'verymild_1325.jpg', 'verymild_1443.jpg', 'verymild_1457.jpg', 'verymild_1331.jpg', 'verymild_1319.jpg', 'verymild_846.jpg', 'verymild_2176.jpg', 'verymild_2162.jpg', 'verymild_852.jpg', 'verymild_305.jpg', 'verymild_1682.jpg', 'verymild_76.jpg', 'verymild_463.jpg', 'verymild_477.jpg', 'verymild_62.jpg', 'verymild_311.jpg', 'verymild_1696.jpg', 'verymild_339.jpg', 'verymild_1866.jpg', 'verymild_1872.jpg', 'verymild_1641.jpg', 'verymild_1899.jpg', 'verymild_1127.jpg', 'verymild_1133.jpg', 'verymild_1655.jpg', 'verymild_89.jpg', 'verymild_488.jpg', 'verymild_1669.jpg', 'verymild_489.jpg', 'verymild_1668.jpg', 'verymild_88.jpg', 'verymild_1132.jpg', 'verymild_1654.jpg', 'verymild_1898.jpg', 'verymild_1640.jpg', 'verymild_1126.jpg', 'verymild_1873.jpg', 'verymild_1867.jpg', 'verymild_338.jpg', 'verymild_476.jpg', 'verymild_1697.jpg', 'verymild_310.jpg', 'verymild_63.jpg', 'verymild_77.jpg', 'verymild_1683.jpg', 'verymild_304.jpg', 'verymild_462.jpg', 'verymild_2163.jpg', 'verymild_853.jpg', 'verymild_847.jpg', 'verymild_1318.jpg', 'verymild_2177.jpg', 'verymild_1456.jpg', 'verymild_1330.jpg', 'verymild_1324.jpg', 'verymild_1442.jpg', 'verymild_890.jpg', 'verymild_648.jpg', 'verymild_884.jpg', 'verymild_112.jpg', 'verymild_1495.jpg', 'verymild_674.jpg', 'verymild_660.jpg', 'verymild_106.jpg', 'verymild_1481.jpg', 'verymild_2188.jpg', 'verymild_2017.jpg', 'verymild_927.jpg', 'verymild_1278.jpg', 'verymild_933.jpg', 'verymild_2003.jpg', 'verymild_1522.jpg', 'verymild_1244.jpg', 'verymild_1250.jpg', 'verymild_1536.jpg', 'verymild_728.jpg', 'verymild_700.jpg', 'verymild_1287.jpg', 'verymild_714.jpg', 'verymild_1293.jpg', 'verymild_2215.jpg', 'verymild_2201.jpg', 'verymild_1708.jpg', 'verymild_1046.jpg', 'verymild_2229.jpg', 'verymild_1720.jpg', 'verymild_1734.jpg', 'verymild_1052.jpg', 'verymild_1907.jpg', 'verymild_258.jpg', 'verymild_1913.jpg', 'verymild_1085.jpg', 'verymild_502.jpg', 'verymild_264.jpg', 'verymild_270.jpg', 'verymild_1091.jpg', 'verymild_516.jpg', 'verymild_266.jpg', 'verymild_1939.jpg', 'verymild_500.jpg', 'verymild_1087.jpg', 'verymild_514.jpg', 'verymild_1093.jpg', 'verymild_272.jpg', 'verymild_1905.jpg', 'verymild_528.jpg', 'verymild_1911.jpg', 'verymild_1722.jpg', 'verymild_1044.jpg', 'verymild_1050.jpg', 'verymild_1736.jpg', 'verymild_2217.jpg', 'verymild_299.jpg', 'verymild_1078.jpg', 'verymild_2203.jpg', 'verymild_1285.jpg', 'verymild_702.jpg', 'verymild_1291.jpg', 'verymild_716.jpg', 'verymild_1246.jpg', 'verymild_919.jpg', 'verymild_2029.jpg', 'verymild_1520.jpg', 'verymild_1534.jpg', 'verymild_1252.jpg', 'verymild_925.jpg', 'verymild_2015.jpg', 'verymild_2001.jpg', 'verymild_1508.jpg', 'verymild_931.jpg', 'verymild_676.jpg', 'verymild_1497.jpg', 'verymild_110.jpg', 'verymild_1483.jpg', 'verymild_104.jpg', 'verymild_662.jpg', 'verymild_892.jpg', 'verymild_138.jpg', 'verymild_886.jpg', 'verymild_1332.jpg', 'verymild_1454.jpg', 'verymild_1440.jpg', 'verymild_2149.jpg', 'verymild_1326.jpg', 'verymild_879.jpg', 'verymild_851.jpg', 'verymild_689.jpg', 'verymild_1468.jpg', 'verymild_2161.jpg', 'verymild_2175.jpg', 'verymild_845.jpg', 'verymild_61.jpg', 'verymild_312.jpg', 'verymild_1695.jpg', 'verymild_474.jpg', 'verymild_460.jpg', 'verymild_306.jpg', 'verymild_1859.jpg', 'verymild_1681.jpg', 'verymild_75.jpg', 'verymild_1871.jpg', 'verymild_448.jpg', 'verymild_49.jpg', 'verymild_1865.jpg', 'verymild_1656.jpg', 'verymild_1130.jpg', 'verymild_1124.jpg', 'verymild_1642.jpg', 'verymild_1118.jpg', 'verymild_1119.jpg', 'verymild_1125.jpg', 'verymild_1643.jpg', 'verymild_1657.jpg', 'verymild_1131.jpg', 'verymild_1864.jpg', 'verymild_48.jpg', 'verymild_1870.jpg', 'verymild_449.jpg', 'verymild_461.jpg', 'verymild_74.jpg', 'verymild_1680.jpg', 'verymild_1858.jpg', 'verymild_307.jpg', 'verymild_1694.jpg', 'verymild_313.jpg', 'verymild_60.jpg', 'verymild_475.jpg', 'verymild_2174.jpg', 'verymild_844.jpg', 'verymild_688.jpg', 'verymild_850.jpg', 'verymild_2160.jpg', 'verymild_1469.jpg', 'verymild_2148.jpg', 'verymild_1441.jpg', 'verymild_878.jpg', 'verymild_1327.jpg', 'verymild_1333.jpg', 'verymild_1455.jpg', 'verymild_3.jpg', 'verymild_139.jpg', 'verymild_887.jpg', 'verymild_893.jpg', 'verymild_105.jpg', 'verymild_1482.jpg', 'verymild_663.jpg', 'verymild_677.jpg', 'verymild_111.jpg', 'verymild_1496.jpg', 'verymild_1509.jpg', 'verymild_2000.jpg', 'verymild_930.jpg', 'verymild_924.jpg', 'verymild_2014.jpg', 'verymild_1535.jpg', 'verymild_1253.jpg', 'verymild_918.jpg', 'verymild_1247.jpg', 'verymild_1521.jpg', 'verymild_2028.jpg', 'verymild_717.jpg', 'verymild_1290.jpg', 'verymild_703.jpg', 'verymild_1284.jpg', 'verymild_2202.jpg', 'verymild_298.jpg', 'verymild_2216.jpg', 'verymild_1079.jpg', 'verymild_1051.jpg', 'verymild_1737.jpg', 'verymild_1723.jpg', 'verymild_1045.jpg', 'verymild_529.jpg', 'verymild_1910.jpg', 'verymild_1904.jpg', 'verymild_1092.jpg', 'verymild_515.jpg', 'verymild_273.jpg', 'verymild_1938.jpg', 'verymild_267.jpg', 'verymild_1086.jpg', 'verymild_501.jpg', 'verymild_539.jpg', 'verymild_1900.jpg', 'verymild_1914.jpg', 'verymild_505.jpg', 'verymild_1082.jpg', 'verymild_263.jpg', 'verymild_1928.jpg', 'verymild_277.jpg', 'verymild_511.jpg', 'verymild_1096.jpg', 'verymild_2212.jpg', 'verymild_288.jpg', 'verymild_2206.jpg', 'verymild_1069.jpg', 'verymild_1041.jpg', 'verymild_1727.jpg', 'verymild_1733.jpg', 'verymild_1055.jpg', 'verymild_1280.jpg', 'verymild_707.jpg', 'verymild_1294.jpg', 'verymild_713.jpg', 'verymild_1519.jpg', 'verymild_2010.jpg', 'verymild_920.jpg', 'verymild_934.jpg', 'verymild_2004.jpg', 'verymild_1525.jpg', 'verymild_1243.jpg', 'verymild_908.jpg', 'verymild_1257.jpg', 'verymild_1531.jpg', 'verymild_2038.jpg', 'verymild_129.jpg', 'verymild_897.jpg', 'verymild_883.jpg', 'verymild_7.jpg', 'verymild_1492.jpg', 'verymild_115.jpg', 'verymild_673.jpg', 'verymild_667.jpg', 'verymild_1486.jpg', 'verymild_101.jpg', 'verymild_2164.jpg', 'verymild_854.jpg', 'verymild_840.jpg', 'verymild_698.jpg', 'verymild_2170.jpg', 'verymild_1479.jpg', 'verymild_2158.jpg', 'verymild_1451.jpg', 'verymild_868.jpg', 'verymild_1337.jpg', 'verymild_1323.jpg', 'verymild_1445.jpg', 'verymild_1874.jpg', 'verymild_58.jpg', 'verymild_1860.jpg', 'verymild_459.jpg', 'verymild_471.jpg', 'verymild_64.jpg', 'verymild_1848.jpg', 'verymild_317.jpg', 'verymild_1690.jpg', 'verymild_303.jpg', 'verymild_1684.jpg', 'verymild_70.jpg', 'verymild_465.jpg', 'verymild_1109.jpg', 'verymild_1135.jpg', 'verymild_1653.jpg', 'verymild_1647.jpg', 'verymild_1121.jpg', 'verymild_1646.jpg', 'verymild_1120.jpg', 'verymild_1134.jpg', 'verymild_1652.jpg', 'verymild_1108.jpg', 'verymild_71.jpg', 'verymild_1685.jpg', 'verymild_302.jpg', 'verymild_464.jpg', 'verymild_470.jpg', 'verymild_1691.jpg', 'verymild_316.jpg', 'verymild_1849.jpg', 'verymild_65.jpg', 'verymild_1861.jpg', 'verymild_458.jpg', 'verymild_59.jpg', 'verymild_1875.jpg', 'verymild_1322.jpg', 'verymild_1444.jpg', 'verymild_1450.jpg', 'verymild_2159.jpg', 'verymild_1336.jpg', 'verymild_869.jpg', 'verymild_699.jpg', 'verymild_841.jpg', 'verymild_1478.jpg', 'verymild_2171.jpg', 'verymild_2165.jpg', 'verymild_855.jpg', 'verymild_666.jpg', 'verymild_100.jpg', 'verymild_1487.jpg', 'verymild_114.jpg', 'verymild_1493.jpg', 'verymild_672.jpg', 'verymild_882.jpg', 'verymild_6.jpg', 'verymild_128.jpg', 'verymild_896.jpg', 'verymild_1256.jpg', 'verymild_909.jpg', 'verymild_2039.jpg', 'verymild_1530.jpg', 'verymild_1524.jpg', 'verymild_1242.jpg', 'verymild_935.jpg', 'verymild_2005.jpg', 'verymild_2011.jpg', 'verymild_1518.jpg', 'verymild_921.jpg', 'verymild_712.jpg', 'verymild_1295.jpg', 'verymild_706.jpg', 'verymild_1281.jpg', 'verymild_1732.jpg', 'verymild_1054.jpg', 'verymild_1040.jpg', 'verymild_1726.jpg', 'verymild_2207.jpg', 'verymild_289.jpg', 'verymild_1068.jpg', 'verymild_2213.jpg', 'verymild_276.jpg', 'verymild_1929.jpg', 'verymild_1097.jpg', 'verymild_510.jpg', 'verymild_1083.jpg', 'verymild_504.jpg', 'verymild_262.jpg', 'verymild_1915.jpg', 'verymild_538.jpg', 'verymild_1901.jpg', 'verymild_1917.jpg', 'verymild_248.jpg', 'verymild_1903.jpg', 'verymild_512.jpg', 'verymild_1095.jpg', 'verymild_274.jpg', 'verymild_260.jpg', 'verymild_506.jpg', 'verymild_1081.jpg', 'verymild_2205.jpg', 'verymild_2211.jpg', 'verymild_1718.jpg', 'verymild_1056.jpg', 'verymild_2239.jpg', 'verymild_1730.jpg', 'verymild_1724.jpg', 'verymild_1042.jpg', 'verymild_738.jpg', 'verymild_1297.jpg', 'verymild_710.jpg', 'verymild_1283.jpg', 'verymild_704.jpg', 'verymild_2007.jpg', 'verymild_937.jpg', 'verymild_1268.jpg', 'verymild_923.jpg', 'verymild_2013.jpg', 'verymild_1532.jpg', 'verymild_1254.jpg', 'verymild_1240.jpg', 'verymild_1526.jpg', 'verymild_4.jpg', 'verymild_658.jpg', 'verymild_880.jpg', 'verymild_894.jpg', 'verymild_1485.jpg', 'verymild_102.jpg', 'verymild_664.jpg', 'verymild_670.jpg', 'verymild_1491.jpg', 'verymild_116.jpg', 'verymild_2198.jpg', 'verymild_2173.jpg', 'verymild_843.jpg', 'verymild_857.jpg', 'verymild_1308.jpg', 'verymild_2167.jpg', 'verymild_1446.jpg', 'verymild_1320.jpg', 'verymild_1334.jpg', 'verymild_1452.jpg', 'verymild_1863.jpg', 'verymild_1877.jpg', 'verymild_328.jpg', 'verymild_466.jpg', 'verymild_300.jpg', 'verymild_1687.jpg', 'verymild_73.jpg', 'verymild_67.jpg', 'verymild_314.jpg', 'verymild_1693.jpg', 'verymild_472.jpg', 'verymild_499.jpg', 'verymild_1678.jpg', 'verymild_98.jpg', 'verymild_1122.jpg', 'verymild_1644.jpg', 'verymild_1650.jpg', 'verymild_1888.jpg', 'verymild_1136.jpg', 'verymild_1889.jpg', 'verymild_1651.jpg', 'verymild_1137.jpg', 'verymild_1123.jpg', 'verymild_1645.jpg', 'verymild_99.jpg', 'verymild_498.jpg', 'verymild_1679.jpg', 'verymild_1692.jpg', 'verymild_315.jpg', 'verymild_66.jpg', 'verymild_473.jpg', 'verymild_467.jpg', 'verymild_72.jpg', 'verymild_1686.jpg', 'verymild_301.jpg', 'verymild_329.jpg', 'verymild_1876.jpg', 'verymild_1862.jpg', 'verymild_1335.jpg', 'verymild_1453.jpg', 'verymild_1447.jpg', 'verymild_1321.jpg', 'verymild_1309.jpg', 'verymild_856.jpg', 'verymild_2166.jpg', 'verymild_2172.jpg', 'verymild_842.jpg', 'verymild_671.jpg', 'verymild_2199.jpg', 'verymild_117.jpg', 'verymild_1490.jpg', 'verymild_103.jpg', 'verymild_1484.jpg', 'verymild_665.jpg', 'verymild_895.jpg', 'verymild_5.jpg', 'verymild_881.jpg', 'verymild_659.jpg', 'verymild_1241.jpg', 'verymild_1527.jpg', 'verymild_1533.jpg', 'verymild_1255.jpg', 'verymild_922.jpg', 'verymild_2012.jpg', 'verymild_2006.jpg', 'verymild_1269.jpg', 'verymild_936.jpg', 'verymild_705.jpg', 'verymild_1282.jpg', 'verymild_711.jpg', 'verymild_1296.jpg', 'verymild_739.jpg', 'verymild_1725.jpg', 'verymild_1043.jpg', 'verymild_1057.jpg', 'verymild_1731.jpg', 'verymild_2238.jpg', 'verymild_1719.jpg', 'verymild_2210.jpg', 'verymild_2204.jpg', 'verymild_261.jpg', 'verymild_1080.jpg', 'verymild_507.jpg', 'verymild_1094.jpg', 'verymild_513.jpg', 'verymild_275.jpg', 'verymild_1902.jpg', 'verymild_249.jpg', 'verymild_1916.jpg', 'verymild_574.jpg', 'verymild_1795.jpg', 'verymild_212.jpg', 'verymild_1781.jpg', 'verymild_1959.jpg', 'verymild_206.jpg', 'verymild_560.jpg', 'verymild_548.jpg', 'verymild_1971.jpg', 'verymild_1965.jpg', 'verymild_1030.jpg', 'verymild_1756.jpg', 'verymild_1742.jpg', 'verymild_1024.jpg', 'verymild_1018.jpg', 'verymild_1597.jpg', 'verymild_776.jpg', 'verymild_762.jpg', 'verymild_1583.jpg', 'verymild_992.jpg', 'verymild_986.jpg', 'verymild_1554.jpg', 'verymild_1232.jpg', 'verymild_979.jpg', 'verymild_1226.jpg', 'verymild_1540.jpg', 'verymild_2049.jpg', 'verymild_1568.jpg', 'verymild_2061.jpg', 'verymild_789.jpg', 'verymild_951.jpg', 'verymild_945.jpg', 'verymild_2075.jpg', 'verymild_164.jpg', 'verymild_602.jpg', 'verymild_1385.jpg', 'verymild_616.jpg', 'verymild_1391.jpg', 'verymild_170.jpg', 'verymild_158.jpg', 'verymild_2129.jpg', 'verymild_1420.jpg', 'verymild_819.jpg', 'verymild_1346.jpg', 'verymild_1352.jpg', 'verymild_1434.jpg', 'verymild_2115.jpg', 'verymild_825.jpg', 'verymild_831.jpg', 'verymild_2101.jpg', 'verymild_1408.jpg', 'verymild_1187.jpg', 'verymild_400.jpg', 'verymild_15.jpg', 'verymild_1839.jpg', 'verymild_366.jpg', 'verymild_372.jpg', 'verymild_1193.jpg', 'verymild_414.jpg', 'verymild_1805.jpg', 'verymild_29.jpg', 'verymild_1811.jpg', 'verymild_428.jpg', 'verymild_1144.jpg', 'verymild_1622.jpg', 'verymild_1636.jpg', 'verymild_1150.jpg', 'verymild_1178.jpg', 'verymild_399.jpg', 'verymild_1179.jpg', 'verymild_398.jpg', 'verymild_1637.jpg', 'verymild_1151.jpg', 'verymild_1145.jpg', 'verymild_1623.jpg', 'verymild_1810.jpg', 'verymild_429.jpg', 'verymild_28.jpg', 'verymild_1804.jpg', 'verymild_373.jpg', 'verymild_415.jpg', 'verymild_1192.jpg', 'verymild_401.jpg', 'verymild_1186.jpg', 'verymild_367.jpg', 'verymild_1838.jpg', 'verymild_14.jpg', 'verymild_830.jpg', 'verymild_1409.jpg', 'verymild_2100.jpg', 'verymild_2114.jpg', 'verymild_824.jpg', 'verymild_1353.jpg', 'verymild_1435.jpg', 'verymild_1421.jpg', 'verymild_2128.jpg', 'verymild_1347.jpg', 'verymild_818.jpg', 'verymild_159.jpg', 'verymild_1390.jpg', 'verymild_617.jpg', 'verymild_171.jpg', 'verymild_165.jpg', 'verymild_1384.jpg', 'verymild_603.jpg', 'verymild_944.jpg', 'verymild_2074.jpg', 'verymild_2060.jpg', 'verymild_1569.jpg', 'verymild_950.jpg', 'verymild_788.jpg', 'verymild_1227.jpg', 'verymild_978.jpg', 'verymild_2048.jpg', 'verymild_1541.jpg', 'verymild_1555.jpg', 'verymild_1233.jpg', 'verymild_987.jpg', 'verymild_993.jpg', 'verymild_763.jpg', 'verymild_1582.jpg', 'verymild_1596.jpg', 'verymild_777.jpg', 'verymild_1019.jpg', 'verymild_1743.jpg', 'verymild_1025.jpg', 'verymild_1031.jpg', 'verymild_1757.jpg', 'verymild_1964.jpg', 'verymild_549.jpg', 'verymild_1970.jpg', 'verymild_207.jpg', 'verymild_1958.jpg', 'verymild_1780.jpg', 'verymild_561.jpg', 'verymild_575.jpg', 'verymild_213.jpg', 'verymild_1794.jpg', 'verymild_563.jpg', 'verymild_1782.jpg', 'verymild_205.jpg', 'verymild_1796.jpg', 'verymild_211.jpg', 'verymild_577.jpg', 'verymild_1966.jpg', 'verymild_239.jpg', 'verymild_1972.jpg', 'verymild_1027.jpg', 'verymild_1999.jpg', 'verymild_1741.jpg', 'verymild_1755.jpg', 'verymild_1033.jpg', 'verymild_1769.jpg', 'verymild_588.jpg', 'verymild_2089.jpg', 'verymild_1580.jpg', 'verymild_761.jpg', 'verymild_775.jpg', 'verymild_1594.jpg', 'verymild_985.jpg', 'verymild_991.jpg', 'verymild_749.jpg', 'verymild_1543.jpg', 'verymild_1225.jpg', 'verymild_1231.jpg', 'verymild_1557.jpg', 'verymild_2076.jpg', 'verymild_946.jpg', 'verymild_1219.jpg', 'verymild_952.jpg', 'verymild_2062.jpg', 'verymild_173.jpg', 'verymild_615.jpg', 'verymild_1392.jpg', 'verymild_601.jpg', 'verymild_1386.jpg', 'verymild_167.jpg', 'verymild_629.jpg', 'verymild_1437.jpg', 'verymild_1351.jpg', 'verymild_1345.jpg', 'verymild_1423.jpg', 'verymild_2102.jpg', 'verymild_832.jpg', 'verymild_826.jpg', 'verymild_1379.jpg', 'verymild_198.jpg', 'verymild_2116.jpg', 'verymild_1190.jpg', 'verymild_417.jpg', 'verymild_371.jpg', 'verymild_16.jpg', 'verymild_365.jpg', 'verymild_1184.jpg', 'verymild_403.jpg', 'verymild_1812.jpg', 'verymild_1806.jpg', 'verymild_359.jpg', 'verymild_1153.jpg', 'verymild_1635.jpg', 'verymild_1621.jpg', 'verymild_1147.jpg', 'verymild_1609.jpg', 'verymild_1608.jpg', 'verymild_1620.jpg', 'verymild_1146.jpg', 'verymild_1152.jpg', 'verymild_1634.jpg', 'verymild_358.jpg', 'verymild_1807.jpg', 'verymild_1813.jpg', 'verymild_364.jpg', 'verymild_17.jpg', 'verymild_402.jpg', 'verymild_1185.jpg', 'verymild_416.jpg', 'verymild_1191.jpg', 'verymild_370.jpg', 'verymild_1378.jpg', 'verymild_827.jpg', 'verymild_2117.jpg', 'verymild_199.jpg', 'verymild_2103.jpg', 'verymild_833.jpg', 'verymild_1344.jpg', 'verymild_1422.jpg', 'verymild_1436.jpg', 'verymild_1350.jpg', 'verymild_628.jpg', 'verymild_1387.jpg', 'verymild_600.jpg', 'verymild_166.jpg', 'verymild_172.jpg', 'verymild_1393.jpg', 'verymild_614.jpg', 'verymild_953.jpg', 'verymild_2063.jpg', 'verymild_2077.jpg', 'verymild_1218.jpg', 'verymild_947.jpg', 'verymild_1230.jpg', 'verymild_1556.jpg', 'verymild_1542.jpg', 'verymild_1224.jpg', 'verymild_748.jpg', 'verymild_990.jpg', 'verymild_984.jpg', 'verymild_774.jpg', 'verymild_1595.jpg', 'verymild_1581.jpg', 'verymild_2088.jpg', 'verymild_760.jpg', 'verymild_1768.jpg', 'verymild_589.jpg', 'verymild_1754.jpg', 'verymild_1032.jpg', 'verymild_1026.jpg', 'verymild_1740.jpg', 'verymild_1998.jpg', 'verymild_1973.jpg', 'verymild_238.jpg', 'verymild_1967.jpg', 'verymild_210.jpg', 'verymild_1797.jpg', 'verymild_576.jpg', 'verymild_562.jpg', 'verymild_204.jpg', 'verymild_1783.jpg', 'verymild_1963.jpg', 'verymild_228.jpg', 'verymild_1977.jpg', 'verymild_1787.jpg', 'verymild_200.jpg', 'verymild_566.jpg', 'verymild_572.jpg', 'verymild_1793.jpg', 'verymild_214.jpg', 'verymild_1778.jpg', 'verymild_599.jpg', 'verymild_1744.jpg', 'verymild_1022.jpg', 'verymild_1036.jpg', 'verymild_1988.jpg', 'verymild_1750.jpg', 'verymild_980.jpg', 'verymild_758.jpg', 'verymild_994.jpg', 'verymild_764.jpg', 'verymild_1585.jpg', 'verymild_1591.jpg', 'verymild_2098.jpg', 'verymild_770.jpg', 'verymild_943.jpg', 'verymild_2073.jpg', 'verymild_2067.jpg', 'verymild_1208.jpg', 'verymild_957.jpg', 'verymild_1220.jpg', 'verymild_1546.jpg', 'verymild_1552.jpg', 'verymild_1234.jpg', 'verymild_638.jpg', 'verymild_610.jpg', 'verymild_1397.jpg', 'verymild_176.jpg', 'verymild_162.jpg', 'verymild_604.jpg', 'verymild_1383.jpg', 'verymild_1368.jpg', 'verymild_837.jpg', 'verymild_2107.jpg', 'verymild_189.jpg', 'verymild_2113.jpg', 'verymild_823.jpg', 'verymild_1354.jpg', 'verymild_1432.jpg', 'verymild_1426.jpg', 'verymild_1340.jpg', 'verymild_348.jpg', 'verymild_1817.jpg', 'verymild_1803.jpg', 'verymild_374.jpg', 'verymild_1195.jpg', 'verymild_412.jpg', 'verymild_1181.jpg', 'verymild_406.jpg', 'verymild_13.jpg', 'verymild_360.jpg', 'verymild_1618.jpg', 'verymild_1630.jpg', 'verymild_1156.jpg', 'verymild_1142.jpg', 'verymild_1624.jpg', 'verymild_1143.jpg', 'verymild_1625.jpg', 'verymild_1631.jpg', 'verymild_1157.jpg', 'verymild_1619.jpg', 'verymild_407.jpg', 'verymild_1180.jpg', 'verymild_361.jpg', 'verymild_12.jpg', 'verymild_375.jpg', 'verymild_413.jpg', 'verymild_1194.jpg', 'verymild_1802.jpg', 'verymild_1816.jpg', 'verymild_349.jpg', 'verymild_1427.jpg', 'verymild_1341.jpg', 'verymild_1355.jpg', 'verymild_1433.jpg', 'verymild_2112.jpg', 'verymild_822.jpg', 'verymild_836.jpg', 'verymild_1369.jpg', 'verymild_188.jpg', 'verymild_2106.jpg', 'verymild_163.jpg', 'verymild_1382.jpg', 'verymild_605.jpg', 'verymild_1396.jpg', 'verymild_611.jpg', 'verymild_177.jpg', 'verymild_639.jpg', 'verymild_1553.jpg', 'verymild_1235.jpg', 'verymild_1221.jpg', 'verymild_1547.jpg', 'verymild_2066.jpg', 'verymild_956.jpg', 'verymild_1209.jpg', 'verymild_942.jpg', 'verymild_2072.jpg', 'verymild_2099.jpg', 'verymild_1590.jpg', 'verymild_771.jpg', 'verymild_765.jpg', 'verymild_1584.jpg', 'verymild_995.jpg', 'verymild_759.jpg', 'verymild_981.jpg', 'verymild_1037.jpg', 'verymild_1751.jpg', 'verymild_1989.jpg', 'verymild_1745.jpg', 'verymild_1023.jpg', 'verymild_1779.jpg', 'verymild_598.jpg', 'verymild_573.jpg', 'verymild_215.jpg', 'verymild_1792.jpg', 'verymild_201.jpg', 'verymild_1786.jpg', 'verymild_567.jpg', 'verymild_1976.jpg', 'verymild_229.jpg', 'verymild_1962.jpg', 'verymild_1974.jpg', 'verymild_559.jpg', 'verymild_1960.jpg', 'verymild_1790.jpg', 'verymild_217.jpg', 'verymild_1948.jpg', 'verymild_571.jpg', 'verymild_565.jpg', 'verymild_1784.jpg', 'verymild_203.jpg', 'verymild_1009.jpg', 'verymild_1753.jpg', 'verymild_1035.jpg', 'verymild_1021.jpg', 'verymild_1747.jpg', 'verymild_997.jpg', 'verymild_983.jpg', 'verymild_773.jpg', 'verymild_1592.jpg', 'verymild_1586.jpg', 'verymild_767.jpg', 'verymild_954.jpg', 'verymild_2064.jpg', 'verymild_2070.jpg', 'verymild_1579.jpg', 'verymild_798.jpg', 'verymild_940.jpg', 'verymild_1237.jpg', 'verymild_968.jpg', 'verymild_2058.jpg', 'verymild_1551.jpg', 'verymild_1545.jpg', 'verymild_1223.jpg', 'verymild_149.jpg', 'verymild_607.jpg', 'verymild_1380.jpg', 'verymild_161.jpg', 'verymild_175.jpg', 'verymild_613.jpg', 'verymild_1394.jpg', 'verymild_820.jpg', 'verymild_1419.jpg', 'verymild_2110.jpg', 'verymild_2104.jpg', 'verymild_834.jpg', 'verymild_1343.jpg', 'verymild_1425.jpg', 'verymild_1431.jpg', 'verymild_2138.jpg', 'verymild_1357.jpg', 'verymild_808.jpg', 'verymild_1800.jpg', 'verymild_439.jpg', 'verymild_38.jpg', 'verymild_1814.jpg', 'verymild_10.jpg', 'verymild_363.jpg', 'verymild_1182.jpg', 'verymild_405.jpg', 'verymild_1196.jpg', 'verymild_411.jpg', 'verymild_377.jpg', 'verymild_1828.jpg', 'verymild_1169.jpg', 'verymild_388.jpg', 'verymild_1627.jpg', 'verymild_1141.jpg', 'verymild_1155.jpg', 'verymild_1633.jpg', 'verymild_1154.jpg', 'verymild_1632.jpg', 'verymild_1626.jpg', 'verymild_1140.jpg', 'verymild_1168.jpg', 'verymild_389.jpg', 'verymild_410.jpg', 'verymild_1197.jpg', 'verymild_1829.jpg', 'verymild_376.jpg', 'verymild_362.jpg', 'verymild_11.jpg', 'verymild_404.jpg', 'verymild_1183.jpg', 'verymild_1815.jpg', 'verymild_39.jpg', 'verymild_1801.jpg', 'verymild_438.jpg', 'verymild_2139.jpg', 'verymild_1430.jpg', 'verymild_809.jpg', 'verymild_1356.jpg', 'verymild_1342.jpg', 'verymild_1424.jpg', 'verymild_2105.jpg', 'verymild_835.jpg', 'verymild_821.jpg', 'verymild_2111.jpg', 'verymild_1418.jpg', 'verymild_174.jpg', 'verymild_1395.jpg', 'verymild_612.jpg', 'verymild_1381.jpg', 'verymild_606.jpg', 'verymild_160.jpg', 'verymild_148.jpg', 'verymild_1544.jpg', 'verymild_1222.jpg', 'verymild_969.jpg', 'verymild_1236.jpg', 'verymild_1550.jpg', 'verymild_2059.jpg', 'verymild_1578.jpg', 'verymild_2071.jpg', 'verymild_941.jpg', 'verymild_799.jpg', 'verymild_955.jpg', 'verymild_2065.jpg', 'verymild_1587.jpg', 'verymild_766.jpg', 'verymild_772.jpg', 'verymild_1593.jpg', 'verymild_982.jpg', 'verymild_996.jpg', 'verymild_1020.jpg', 'verymild_1746.jpg', 'verymild_1752.jpg', 'verymild_1034.jpg', 'verymild_1008.jpg', 'verymild_564.jpg', 'verymild_202.jpg', 'verymild_1785.jpg', 'verymild_1949.jpg', 'verymild_216.jpg', 'verymild_1791.jpg', 'verymild_570.jpg', 'verymild_558.jpg', 'verymild_1961.jpg', 'verymild_1975.jpg', 'verymild_555.jpg', 'verymild_233.jpg', 'verymild_1978.jpg', 'verymild_227.jpg', 'verymild_541.jpg', 'verymild_569.jpg', 'verymild_1788.jpg', 'verymild_1950.jpg', 'verymild_1944.jpg', 'verymild_1011.jpg', 'verymild_596.jpg', 'verymild_1777.jpg', 'verymild_1763.jpg', 'verymild_1005.jpg', 'verymild_582.jpg', 'verymild_1993.jpg', 'verymild_1987.jpg', 'verymild_1039.jpg', 'verymild_757.jpg', 'verymild_743.jpg', 'verymild_2083.jpg', 'verymild_2097.jpg', 'verymild_1575.jpg', 'verymild_794.jpg', 'verymild_1213.jpg', 'verymild_780.jpg', 'verymild_958.jpg', 'verymild_1207.jpg', 'verymild_2068.jpg', 'verymild_1561.jpg', 'verymild_2040.jpg', 'verymild_1549.jpg', 'verymild_970.jpg', 'verymild_964.jpg', 'verymild_2054.jpg', 'verymild_145.jpg', 'verymild_623.jpg', 'verymild_637.jpg', 'verymild_151.jpg', 'verymild_179.jpg', 'verymild_1398.jpg', 'verymild_186.jpg', 'verymild_1401.jpg', 'verymild_2108.jpg', 'verymild_838.jpg', 'verymild_1367.jpg', 'verymild_1373.jpg', 'verymild_192.jpg', 'verymild_1415.jpg', 'verymild_2134.jpg', 'verymild_804.jpg', 'verymild_810.jpg', 'verymild_1429.jpg', 'verymild_2120.jpg', 'verymild_421.jpg', 'verymild_1818.jpg', 'verymild_347.jpg', 'verymild_34.jpg', 'verymild_20.jpg', 'verymild_353.jpg', 'verymild_435.jpg', 'verymild_1824.jpg', 'verymild_1830.jpg', 'verymild_409.jpg', 'verymild_1165.jpg', 'verymild_1603.jpg', 'verymild_384.jpg', 'verymild_1617.jpg', 'verymild_390.jpg', 'verymild_1171.jpg', 'verymild_1159.jpg', 'verymild_1158.jpg', 'verymild_391.jpg', 'verymild_1616.jpg', 'verymild_1170.jpg', 'verymild_1164.jpg', 'verymild_385.jpg', 'verymild_1602.jpg', 'verymild_1831.jpg', 'verymild_408.jpg', 'verymild_1825.jpg', 'verymild_352.jpg', 'verymild_21.jpg', 'verymild_434.jpg', 'verymild_420.jpg', 'verymild_35.jpg', 'verymild_346.jpg', 'verymild_1819.jpg', 'verymild_811.jpg', 'verymild_2121.jpg', 'verymild_1428.jpg', 'verymild_2135.jpg', 'verymild_805.jpg', 'verymild_1372.jpg', 'verymild_1414.jpg', 'verymild_193.jpg', 'verymild_2109.jpg', 'verymild_1400.jpg', 'verymild_187.jpg', 'verymild_1366.jpg', 'verymild_839.jpg', 'verymild_178.jpg', 'verymild_1399.jpg', 'verymild_636.jpg', 'verymild_150.jpg', 'verymild_144.jpg', 'verymild_622.jpg', 'verymild_965.jpg', 'verymild_2055.jpg', 'verymild_1548.jpg', 'verymild_2041.jpg', 'verymild_971.jpg', 'verymild_1206.jpg', 'verymild_959.jpg', 'verymild_781.jpg', 'verymild_1560.jpg', 'verymild_2069.jpg', 'verymild_1574.jpg', 'verymild_1212.jpg', 'verymild_795.jpg', 'verymild_2096.jpg', 'verymild_2082.jpg', 'verymild_742.jpg', 'verymild_756.jpg', 'verymild_1986.jpg', 'verymild_1038.jpg', 'verymild_1992.jpg', 'verymild_1762.jpg', 'verymild_583.jpg', 'verymild_1004.jpg', 'verymild_597.jpg', 'verymild_1010.jpg', 'verymild_1776.jpg', 'verymild_1945.jpg', 'verymild_568.jpg', 'verymild_1951.jpg', 'verymild_1789.jpg', 'verymild_226.jpg', 'verymild_1979.jpg', 'verymild_540.jpg', 'verymild_554.jpg', 'verymild_232.jpg', 'verymild_542.jpg', 'verymild_224.jpg', 'verymild_230.jpg', 'verymild_556.jpg', 'verymild_1947.jpg', 'verymild_218.jpg', 'verymild_1953.jpg', 'verymild_1006.jpg', 'verymild_581.jpg', 'verymild_1760.jpg', 'verymild_1774.jpg', 'verymild_1012.jpg', 'verymild_595.jpg', 'verymild_1984.jpg', 'verymild_1990.jpg', 'verymild_1748.jpg', 'verymild_998.jpg', 'verymild_740.jpg', 'verymild_754.jpg', 'verymild_2094.jpg', 'verymild_768.jpg', 'verymild_1589.jpg', 'verymild_2080.jpg', 'verymild_1562.jpg', 'verymild_783.jpg', 'verymild_1204.jpg', 'verymild_797.jpg', 'verymild_1210.jpg', 'verymild_1576.jpg', 'verymild_2057.jpg', 'verymild_967.jpg', 'verymild_1238.jpg', 'verymild_973.jpg', 'verymild_2043.jpg', 'verymild_152.jpg', 'verymild_634.jpg', 'verymild_620.jpg', 'verymild_146.jpg', 'verymild_608.jpg', 'verymild_191.jpg', 'verymild_1416.jpg', 'verymild_1370.jpg', 'verymild_1364.jpg', 'verymild_185.jpg', 'verymild_1402.jpg', 'verymild_2123.jpg', 'verymild_813.jpg', 'verymild_807.jpg', 'verymild_1358.jpg', 'verymild_2137.jpg', 'verymild_436.jpg', 'verymild_23.jpg', 'verymild_350.jpg', 'verymild_344.jpg', 'verymild_37.jpg', 'verymild_422.jpg', 'verymild_1833.jpg', 'verymild_1827.jpg', 'verymild_378.jpg', 'verymild_1199.jpg', 'verymild_1172.jpg', 'verymild_1614.jpg', 'verymild_393.jpg', 'verymild_1600.jpg', 'verymild_387.jpg', 'verymild_1166.jpg', 'verymild_1628.jpg', 'verymild_1629.jpg', 'verymild_386.jpg', 'verymild_1601.jpg', 'verymild_1167.jpg', 'verymild_1173.jpg', 'verymild_392.jpg', 'verymild_1615.jpg', 'verymild_379.jpg', 'verymild_1826.jpg', 'verymild_1198.jpg', 'verymild_1832.jpg', 'verymild_36.jpg', 'verymild_345.jpg', 'verymild_423.jpg', 'verymild_437.jpg', 'verymild_351.jpg', 'verymild_22.jpg', 'verymild_1359.jpg', 'verymild_806.jpg', 'verymild_2136.jpg', 'verymild_2122.jpg', 'verymild_812.jpg', 'verymild_1365.jpg', 'verymild_1403.jpg', 'verymild_184.jpg', 'verymild_1417.jpg', 'verymild_190.jpg', 'verymild_1371.jpg', 'verymild_609.jpg', 'verymild_621.jpg', 'verymild_147.jpg', 'verymild_153.jpg', 'verymild_635.jpg', 'verymild_972.jpg', 'verymild_2042.jpg', 'verymild_2056.jpg', 'verymild_1239.jpg', 'verymild_966.jpg', 'verymild_1211.jpg', 'verymild_796.jpg', 'verymild_1577.jpg', 'verymild_1563.jpg', 'verymild_1205.jpg', 'verymild_782.jpg', 'verymild_769.jpg', 'verymild_2081.jpg', 'verymild_1588.jpg', 'verymild_2095.jpg', 'verymild_755.jpg', 'verymild_741.jpg', 'verymild_999.jpg', 'verymild_2240.jpg', 'verymild_1749.jpg', 'verymild_1991.jpg', 'verymild_1985.jpg', 'verymild_1775.jpg', 'verymild_594.jpg', 'verymild_1013.jpg', 'verymild_580.jpg', 'verymild_1007.jpg', 'verymild_1761.jpg', 'verymild_1952.jpg', 'verymild_219.jpg', 'verymild_1946.jpg', 'verymild_231.jpg', 'verymild_557.jpg', 'verymild_543.jpg', 'verymild_225.jpg', 'verymild_1942.jpg', 'verymild_209.jpg', 'verymild_1956.jpg', 'verymild_221.jpg', 'verymild_547.jpg', 'verymild_553.jpg', 'verymild_235.jpg', 'verymild_1981.jpg', 'verymild_1759.jpg', 'verymild_1995.jpg', 'verymild_1765.jpg', 'verymild_1003.jpg', 'verymild_584.jpg', 'verymild_1017.jpg', 'verymild_590.jpg', 'verymild_1771.jpg', 'verymild_779.jpg', 'verymild_2091.jpg', 'verymild_1598.jpg', 'verymild_2085.jpg', 'verymild_745.jpg', 'verymild_989.jpg', 'verymild_751.jpg', 'verymild_962.jpg', 'verymild_2052.jpg', 'verymild_2046.jpg', 'verymild_1229.jpg', 'verymild_976.jpg', 'verymild_786.jpg', 'verymild_1201.jpg', 'verymild_1567.jpg', 'verymild_1573.jpg', 'verymild_792.jpg', 'verymild_1215.jpg', 'verymild_619.jpg', 'verymild_631.jpg', 'verymild_157.jpg', 'verymild_143.jpg', 'verymild_625.jpg', 'verymild_1349.jpg', 'verymild_816.jpg', 'verymild_2126.jpg', 'verymild_2132.jpg', 'verymild_802.jpg', 'verymild_1375.jpg', 'verymild_194.jpg', 'verymild_1413.jpg', 'verymild_180.jpg', 'verymild_1407.jpg', 'verymild_1361.jpg', 'verymild_369.jpg', 'verymild_1836.jpg', 'verymild_1188.jpg', 'verymild_1822.jpg', 'verymild_26.jpg', 'verymild_355.jpg', 'verymild_433.jpg', 'verymild_427.jpg', 'verymild_341.jpg', 'verymild_32.jpg', 'verymild_1639.jpg', 'verymild_1611.jpg', 'verymild_396.jpg', 'verymild_1177.jpg', 'verymild_1163.jpg', 'verymild_1605.jpg', 'verymild_382.jpg', 'verymild_1162.jpg', 'verymild_383.jpg', 'verymild_1604.jpg', 'verymild_397.jpg', 'verymild_1610.jpg', 'verymild_1176.jpg', 'verymild_1638.jpg', 'verymild_426.jpg', 'verymild_33.jpg', 'verymild_340.jpg', 'verymild_354.jpg', 'verymild_27.jpg', 'verymild_432.jpg', 'verymild_1823.jpg', 'verymild_1837.jpg', 'verymild_368.jpg', 'verymild_1189.jpg', 'verymild_1406.jpg', 'verymild_181.jpg', 'verymild_1360.jpg', 'verymild_1374.jpg', 'verymild_1412.jpg', 'verymild_195.jpg', 'verymild_2133.jpg', 'verymild_803.jpg', 'verymild_817.jpg', 'verymild_1348.jpg', 'verymild_2127.jpg', 'verymild_142.jpg', 'verymild_624.jpg', 'verymild_630.jpg', 'verymild_156.jpg', 'verymild_618.jpg', 'verymild_1572.jpg', 'verymild_1214.jpg', 'verymild_793.jpg', 'verymild_1200.jpg', 'verymild_787.jpg', 'verymild_1566.jpg', 'verymild_2047.jpg', 'verymild_977.jpg', 'verymild_1228.jpg', 'verymild_963.jpg', 'verymild_2053.jpg', 'verymild_750.jpg', 'verymild_988.jpg', 'verymild_744.jpg', 'verymild_2084.jpg', 'verymild_778.jpg', 'verymild_1599.jpg', 'verymild_2090.jpg', 'verymild_591.jpg', 'verymild_1016.jpg', 'verymild_1770.jpg', 'verymild_1764.jpg', 'verymild_585.jpg', 'verymild_1002.jpg', 'verymild_1994.jpg', 'verymild_1758.jpg', 'verymild_1980.jpg', 'verymild_552.jpg', 'verymild_234.jpg', 'verymild_220.jpg', 'verymild_546.jpg', 'verymild_1957.jpg', 'verymild_208.jpg', 'verymild_1943.jpg', 'verymild_1955.jpg', 'verymild_578.jpg', 'verymild_1799.jpg', 'verymild_1941.jpg', 'verymild_236.jpg', 'verymild_1969.jpg', 'verymild_550.jpg', 'verymild_544.jpg', 'verymild_222.jpg', 'verymild_1996.jpg', 'verymild_1028.jpg', 'verymild_1982.jpg', 'verymild_1772.jpg', 'verymild_1014.jpg', 'verymild_593.jpg', 'verymild_1000.jpg', 'verymild_587.jpg', 'verymild_1766.jpg', 'verymild_2086.jpg', 'verymild_2092.jpg', 'verymild_752.jpg', 'verymild_746.jpg', 'verymild_975.jpg', 'verymild_2045.jpg', 'verymild_1558.jpg', 'verymild_2051.jpg', 'verymild_961.jpg', 'verymild_791.jpg', 'verymild_1216.jpg', 'verymild_949.jpg', 'verymild_1570.jpg', 'verymild_2079.jpg', 'verymild_1564.jpg', 'verymild_785.jpg', 'verymild_1202.jpg', 'verymild_168.jpg', 'verymild_1389.jpg', 'verymild_626.jpg', 'verymild_140.jpg', 'verymild_154.jpg', 'verymild_632.jpg', 'verymild_801.jpg', 'verymild_2131.jpg', 'verymild_1438.jpg', 'verymild_2125.jpg', 'verymild_815.jpg', 'verymild_1362.jpg', 'verymild_183.jpg', 'verymild_1404.jpg', 'verymild_2119.jpg', 'verymild_197.jpg', 'verymild_1410.jpg', 'verymild_1376.jpg', 'verymild_829.jpg', 'verymild_1821.jpg', 'verymild_418.jpg', 'verymild_1835.jpg', 'verymild_19.jpg', 'verymild_342.jpg', 'verymild_31.jpg', 'verymild_424.jpg', 'verymild_430.jpg', 'verymild_25.jpg', 'verymild_356.jpg', 'verymild_1809.jpg', 'verymild_1148.jpg', 'verymild_1606.jpg', 'verymild_381.jpg', 'verymild_1160.jpg', 'verymild_1174.jpg', 'verymild_1612.jpg', 'verymild_395.jpg', 'verymild_1175.jpg', 'verymild_394.jpg', 'verymild_1613.jpg', 'verymild_380.jpg', 'verymild_1607.jpg', 'verymild_1161.jpg', 'verymild_1149.jpg', 'verymild_431.jpg', 'verymild_1808.jpg', 'verymild_357.jpg', 'verymild_24.jpg', 'verymild_30.jpg', 'verymild_343.jpg', 'verymild_425.jpg', 'verymild_18.jpg', 'verymild_1834.jpg', 'verymild_1820.jpg', 'verymild_419.jpg', 'verymild_1411.jpg', 'verymild_196.jpg', 'verymild_2118.jpg', 'verymild_828.jpg', 'verymild_1377.jpg', 'verymild_1363.jpg', 'verymild_1405.jpg', 'verymild_182.jpg', 'verymild_2124.jpg', 'verymild_814.jpg', 'verymild_800.jpg', 'verymild_1439.jpg', 'verymild_2130.jpg', 'verymild_155.jpg', 'verymild_633.jpg', 'verymild_627.jpg', 'verymild_141.jpg', 'verymild_169.jpg', 'verymild_1388.jpg', 'verymild_1565.jpg', 'verymild_1203.jpg', 'verymild_784.jpg', 'verymild_948.jpg', 'verymild_1217.jpg', 'verymild_790.jpg', 'verymild_2078.jpg', 'verymild_1571.jpg', 'verymild_2050.jpg', 'verymild_1559.jpg', 'verymild_960.jpg', 'verymild_974.jpg', 'verymild_2044.jpg', 'verymild_747.jpg', 'verymild_753.jpg', 'verymild_2093.jpg', 'verymild_2087.jpg', 'verymild_586.jpg', 'verymild_1001.jpg', 'verymild_1767.jpg', 'verymild_1773.jpg', 'verymild_592.jpg', 'verymild_1015.jpg', 'verymild_1983.jpg', 'verymild_1997.jpg', 'verymild_1029.jpg', 'verymild_545.jpg', 'verymild_223.jpg', 'verymild_1968.jpg', 'verymild_237.jpg', 'verymild_551.jpg', 'verymild_579.jpg', 'verymild_1940.jpg', 'verymild_1798.jpg', 'verymild_1954.jpg', 'verymild_250.jpg', 'verymild_536.jpg', 'verymild_522.jpg', 'verymild_244.jpg', 'verymild_1933.jpg', 'verymild_1099.jpg', 'verymild_278.jpg', 'verymild_1927.jpg', 'verymild_293.jpg', 'verymild_1714.jpg', 'verymild_1072.jpg', 'verymild_1066.jpg', 'verymild_2209.jpg', 'verymild_287.jpg', 'verymild_1700.jpg', 'verymild_2221.jpg', 'verymild_1728.jpg', 'verymild_2235.jpg', 'verymild_734.jpg', 'verymild_720.jpg', 'verymild_708.jpg', 'verymild_1270.jpg', 'verymild_1516.jpg', 'verymild_1502.jpg', 'verymild_1264.jpg', 'verymild_913.jpg', 'verymild_2023.jpg', 'verymild_2037.jpg', 'verymild_1258.jpg', 'verymild_907.jpg', 'verymild_640.jpg', 'verymild_898.jpg', 'verymild_126.jpg', 'verymild_8.jpg', 'verymild_132.jpg', 'verymild_654.jpg', 'verymild_2194.jpg', 'verymild_1489.jpg', 'verymild_2180.jpg', 'verymild_668.jpg', 'verymild_1304.jpg', 'verymild_683.jpg', 'verymild_1462.jpg', 'verymild_1476.jpg', 'verymild_1310.jpg', 'verymild_697.jpg', 'verymild_1338.jpg', 'verymild_867.jpg', 'verymild_2157.jpg', 'verymild_2143.jpg', 'verymild_873.jpg', 'verymild_57.jpg', 'verymild_324.jpg', 'verymild_442.jpg', 'verymild_456.jpg', 'verymild_330.jpg', 'verymild_43.jpg', 'verymild_318.jpg', 'verymild_1847.jpg', 'verymild_1853.jpg', 'verymild_1660.jpg', 'verymild_94.jpg', 'verymild_481.jpg', 'verymild_1106.jpg', 'verymild_495.jpg', 'verymild_1112.jpg', 'verymild.jpg', 'verymild_80.jpg', 'verymild_1674.jpg', 'verymild_1884.jpg', 'verymild_1648.jpg', 'verymild_1890.jpg', 'verymild_1891.jpg', 'verymild_1649.jpg', 'verymild_1885.jpg', 'verymild_1113.jpg', 'verymild_494.jpg', 'verymild_1675.jpg', 'verymild_81.jpg', 'verymild_95.jpg', 'verymild_1661.jpg', 'verymild_1107.jpg', 'verymild_480.jpg', 'verymild_1852.jpg', 'verymild_1846.jpg', 'verymild_319.jpg', 'verymild_457.jpg', 'verymild_42.jpg', 'verymild_331.jpg', 'verymild_325.jpg', 'verymild_56.jpg', 'verymild_443.jpg', 'verymild_2142.jpg', 'verymild_872.jpg', 'verymild_866.jpg', 'verymild_1339.jpg', 'verymild_2156.jpg', 'verymild_1477.jpg', 'verymild_696.jpg', 'verymild_1311.jpg', 'verymild_682.jpg', 'verymild_1305.jpg', 'verymild_1463.jpg', 'verymild_2181.jpg', 'verymild_1488.jpg', 'verymild_669.jpg', 'verymild_2195.jpg', 'verymild_133.jpg', 'verymild_9.jpg', 'verymild_655.jpg', 'verymild_899.jpg', 'verymild_641.jpg', 'verymild_127.jpg', 'verymild_2036.jpg', 'verymild_906.jpg', 'verymild_1259.jpg', 'verymild_912.jpg', 'verymild_2022.jpg', 'verymild_1503.jpg', 'verymild_1265.jpg', 'verymild_1271.jpg', 'verymild_1517.jpg', 'verymild_709.jpg', 'verymild_721.jpg', 'verymild_735.jpg', 'verymild_2234.jpg', 'verymild_1729.jpg', 'verymild_2220.jpg', 'verymild_1067.jpg', 'verymild_1701.jpg', 'verymild_286.jpg', 'verymild_2208.jpg', 'verymild_1715.jpg', 'verymild_292.jpg', 'verymild_1073.jpg', 'verymild_1098.jpg', 'verymild_1926.jpg', 'verymild_279.jpg', 'verymild_1932.jpg', 'verymild_523.jpg', 'verymild_245.jpg', 'verymild_251.jpg', 'verymild_537.jpg', 'verymild_247.jpg', 'verymild_1918.jpg', 'verymild_521.jpg', 'verymild_535.jpg', 'verymild_253.jpg', 'verymild_1924.jpg', 'verymild_509.jpg', 'verymild_1930.jpg', 'verymild_284.jpg', 'verymild_1703.jpg', 'verymild_1065.jpg', 'verymild_1071.jpg', 'verymild_290.jpg', 'verymild_1717.jpg', 'verymild_2236.jpg', 'verymild_1059.jpg', 'verymild_2222.jpg', 'verymild_723.jpg', 'verymild_737.jpg', 'verymild_1298.jpg', 'verymild_1267.jpg', 'verymild_938.jpg', 'verymild_1501.jpg', 'verymild_2008.jpg', 'verymild_1515.jpg', 'verymild_1273.jpg', 'verymild_904.jpg', 'verymild_2034.jpg', 'verymild_1529.jpg', 'verymild_2020.jpg', 'verymild_910.jpg', 'verymild_657.jpg', 'verymild_131.jpg', 'verymild_125.jpg', 'verymild_643.jpg', 'verymild_2183.jpg', 'verymild_2197.jpg', 'verymild_119.jpg', 'verymild_1313.jpg', 'verymild_694.jpg', 'verymild_1475.jpg', 'verymild_2168.jpg', 'verymild_1461.jpg', 'verymild_1307.jpg', 'verymild_858.jpg', 'verymild_680.jpg', 'verymild_870.jpg', 'verymild_2140.jpg', 'verymild_1449.jpg', 'verymild_2154.jpg', 'verymild_864.jpg', 'verymild_333.jpg', 'verymild_40.jpg', 'verymild_455.jpg', 'verymild_441.jpg', 'verymild_54.jpg', 'verymild_327.jpg', 'verymild_1878.jpg', 'verymild_1850.jpg', 'verymild_1688.jpg', 'verymild_469.jpg', 'verymild_1844.jpg', 'verymild_68.jpg', 'verymild_83.jpg', 'verymild_1677.jpg', 'verymild_496.jpg', 'verymild_1111.jpg', 'verymild_482.jpg', 'verymild_1105.jpg', 'verymild_1663.jpg', 'verymild_97.jpg', 'verymild_1893.jpg', 'verymild_1139.jpg', 'verymild_1887.jpg', 'verymild_1138.jpg', 'verymild_1886.jpg', 'verymild_1892.jpg', 'verymild_1104.jpg', 'verymild_483.jpg', 'verymild_96.jpg', 'verymild_1662.jpg', 'verymild_1676.jpg', 'verymild_82.jpg', 'verymild_1110.jpg', 'verymild_497.jpg', 'verymild_69.jpg', 'verymild_1845.jpg', 'verymild_1689.jpg', 'verymild_1851.jpg', 'verymild_468.jpg', 'verymild_440.jpg', 'verymild_1879.jpg', 'verymild_326.jpg', 'verymild_55.jpg', 'verymild_41.jpg', 'verymild_332.jpg', 'verymild_454.jpg', 'verymild_2155.jpg', 'verymild_865.jpg', 'verymild_871.jpg', 'verymild_1448.jpg', 'verymild_2141.jpg', 'verymild_1460.jpg', 'verymild_2169.jpg', 'verymild_681.jpg', 'verymild_859.jpg', 'verymild_1306.jpg', 'verymild_695.jpg', 'verymild_1312.jpg', 'verymild_1474.jpg', 'verymild_118.jpg', 'verymild_2196.jpg', 'verymild_2182.jpg', 'verymild_124.jpg', 'verymild_642.jpg', 'verymild_656.jpg', 'verymild_130.jpg', 'verymild_2021.jpg', 'verymild_1528.jpg', 'verymild_911.jpg', 'verymild_905.jpg', 'verymild_2035.jpg', 'verymild_1514.jpg', 'verymild_1272.jpg', 'verymild_939.jpg', 'verymild_1266.jpg', 'verymild_2009.jpg', 'verymild_1500.jpg', 'verymild_1299.jpg', 'verymild_736.jpg', 'verymild_722.jpg', 'verymild_2223.jpg', 'verymild_2237.jpg', 'verymild_1058.jpg', 'verymild_1070.jpg', 'verymild_1716.jpg', 'verymild_291.jpg', 'verymild_1702.jpg', 'verymild_285.jpg', 'verymild_1064.jpg', 'verymild_508.jpg', 'verymild_1931.jpg', 'verymild_1925.jpg', 'verymild_534.jpg', 'verymild_252.jpg', 'verymild_1919.jpg', 'verymild_246.jpg', 'verymild_520.jpg', 'verymild_518.jpg', 'verymild_1921.jpg', 'verymild_1935.jpg', 'verymild_524.jpg', 'verymild_242.jpg', 'verymild_1909.jpg', 'verymild_256.jpg', 'verymild_530.jpg', 'verymild_2233.jpg', 'verymild_2227.jpg', 'verymild_1048.jpg', 'verymild_1060.jpg', 'verymild_281.jpg', 'verymild_1706.jpg', 'verymild_295.jpg', 'verymild_1712.jpg', 'verymild_1074.jpg', 'verymild_1289.jpg', 'verymild_726.jpg', 'verymild_732.jpg', 'verymild_2031.jpg', 'verymild_1538.jpg', 'verymild_901.jpg', 'verymild_915.jpg', 'verymild_2025.jpg', 'verymild_1504.jpg', 'verymild_1262.jpg', 'verymild_929.jpg', 'verymild_1276.jpg', 'verymild_2019.jpg', 'verymild_1510.jpg', 'verymild_108.jpg', 'verymild_2186.jpg', 'verymild_2192.jpg', 'verymild_134.jpg', 'verymild_652.jpg', 'verymild_646.jpg', 'verymild_120.jpg', 'verymild_2145.jpg', 'verymild_875.jpg', 'verymild_861.jpg', 'verymild_1458.jpg', 'verymild_2151.jpg', 'verymild_1470.jpg', 'verymild_2179.jpg', 'verymild_849.jpg', 'verymild_1316.jpg', 'verymild_691.jpg', 'verymild_1302.jpg', 'verymild_685.jpg', 'verymild_1464.jpg', 'verymild_79.jpg', 'verymild_1855.jpg', 'verymild_1841.jpg', 'verymild_1699.jpg', 'verymild_478.jpg', 'verymild_450.jpg', 'verymild_1869.jpg', 'verymild_336.jpg', 'verymild_45.jpg', 'verymild_51.jpg', 'verymild_322.jpg', 'verymild_444.jpg', 'verymild_1128.jpg', 'verymild_1896.jpg', 'verymild_1882.jpg', 'verymild_493.jpg', 'verymild_1114.jpg', 'verymild_86.jpg', 'verymild_1672.jpg', 'verymild_1666.jpg', 'verymild_92.jpg', 'verymild_487.jpg', 'verymild_1100.jpg', 'verymild_93.jpg', 'verymild_1667.jpg', 'verymild_1101.jpg', 'verymild_486.jpg', 'verymild_1115.jpg', 'verymild_492.jpg', 'verymild_1673.jpg', 'verymild_87.jpg', 'verymild_1883.jpg', 'verymild_1129.jpg', 'verymild_1897.jpg', 'verymild_323.jpg', 'verymild_50.jpg', 'verymild_445.jpg', 'verymild_451.jpg', 'verymild_44.jpg', 'verymild_337.jpg', 'verymild_1868.jpg', 'verymild_1698.jpg', 'verymild_1840.jpg', 'verymild_479.jpg', 'verymild_1854.jpg', 'verymild_78.jpg', 'verymild_684.jpg', 'verymild_1303.jpg', 'verymild_1465.jpg', 'verymild_2178.jpg', 'verymild_1471.jpg', 'verymild_690.jpg', 'verymild_1317.jpg', 'verymild_848.jpg', 'verymild_860.jpg', 'verymild_2150.jpg', 'verymild_1459.jpg', 'verymild_2144.jpg', 'verymild_874.jpg', 'verymild_647.jpg', 'verymild_121.jpg', 'verymild_135.jpg', 'verymild_653.jpg', 'verymild_2193.jpg', 'verymild_2187.jpg', 'verymild_109.jpg', 'verymild_1277.jpg', 'verymild_928.jpg', 'verymild_1511.jpg', 'verymild_2018.jpg', 'verymild_1505.jpg', 'verymild_1263.jpg', 'verymild_914.jpg', 'verymild_2024.jpg', 'verymild_1539.jpg', 'verymild_2030.jpg', 'verymild_900.jpg', 'verymild_733.jpg', 'verymild_727.jpg', 'verymild_1288.jpg', 'verymild_1713.jpg', 'verymild_294.jpg', 'verymild_1075.jpg', 'verymild_1061.jpg', 'verymild_1707.jpg', 'verymild_280.jpg', 'verymild_2226.jpg', 'verymild_1049.jpg', 'verymild_2232.jpg', 'verymild_257.jpg', 'verymild_1908.jpg', 'verymild_531.jpg', 'verymild_525.jpg', 'verymild_243.jpg', 'verymild_1934.jpg', 'verymild_519.jpg', 'verymild_1920.jpg', 'verymild_1088.jpg', 'verymild_1936.jpg', 'verymild_269.jpg', 'verymild_1922.jpg', 'verymild_533.jpg', 'verymild_255.jpg', 'verymild_241.jpg', 'verymild_527.jpg', 'verymild_2224.jpg', 'verymild_1739.jpg', 'verymild_2230.jpg', 'verymild_1077.jpg', 'verymild_296.jpg', 'verymild_1711.jpg', 'verymild_2218.jpg', 'verymild_282.jpg', 'verymild_1705.jpg', 'verymild_1063.jpg', 'verymild_719.jpg', 'verymild_731.jpg', 'verymild_725.jpg', 'verymild_2026.jpg', 'verymild_916.jpg', 'verymild_1249.jpg', 'verymild_902.jpg', 'verymild_2032.jpg', 'verymild_1513.jpg', 'verymild_1275.jpg', 'verymild_1261.jpg', 'verymild_1507.jpg', 'verymild_2191.jpg', 'verymild_1498.jpg', 'verymild_679.jpg', 'verymild_2185.jpg', 'verymild_123.jpg', 'verymild_645.jpg', 'verymild_651.jpg', 'verymild_889.jpg', 'verymild_137.jpg', 'verymild_2152.jpg', 'verymild_862.jpg', 'verymild_876.jpg', 'verymild_1329.jpg', 'verymild_2146.jpg', 'verymild_1467.jpg', 'verymild_1301.jpg', 'verymild_686.jpg', 'verymild_1315.jpg', 'verymild_692.jpg', 'verymild_1473.jpg', 'verymild_1842.jpg', 'verymild_1856.jpg', 'verymild_309.jpg', 'verymild_447.jpg', 'verymild_52.jpg', 'verymild_321.jpg', 'verymild_335.jpg', 'verymild_46.jpg', 'verymild_453.jpg', 'verymild_1659.jpg', 'verymild_1881.jpg', 'verymild_1895.jpg', 'verymild_484.jpg', 'verymild_1103.jpg', 'verymild_1665.jpg', 'verymild_91.jpg', 'verymild_85.jpg', 'verymild_1671.jpg', 'verymild_490.jpg', 'verymild_1117.jpg', 'verymild_1670.jpg', 'verymild_84.jpg', 'verymild_1116.jpg', 'verymild_491.jpg', 'verymild_1102.jpg', 'verymild_485.jpg', 'verymild_90.jpg', 'verymild_1664.jpg', 'verymild_1894.jpg', 'verymild_1880.jpg', 'verymild_1658.jpg', 'verymild_47.jpg', 'verymild_334.jpg', 'verymild_452.jpg', 'verymild_446.jpg', 'verymild_320.jpg', 'verymild_53.jpg', 'verymild_308.jpg', 'verymild_1857.jpg', 'verymild_1843.jpg', 'verymild_693.jpg', 'verymild_1314.jpg', 'verymild_1472.jpg', 'verymild_1466.jpg', 'verymild_687.jpg', 'verymild_1300.jpg', 'verymild_1328.jpg', 'verymild_877.jpg', 'verymild_2147.jpg', 'verymild_2153.jpg', 'verymild_863.jpg', 'verymild_888.jpg', 'verymild_650.jpg', 'verymild_136.jpg', 'verymild_122.jpg', 'verymild_644.jpg', 'verymild_2184.jpg', 'verymild_1499.jpg', 'verymild_2190.jpg', 'verymild_678.jpg', 'verymild_1260.jpg', 'verymild_1506.jpg', 'verymild_1512.jpg', 'verymild_1274.jpg', 'verymild_903.jpg', 'verymild_2033.jpg', 'verymild_2027.jpg', 'verymild_1248.jpg', 'verymild_917.jpg', 'verymild_724.jpg', 'verymild_730.jpg', 'verymild_718.jpg', 'verymild_1704.jpg', 'verymild_283.jpg', 'verymild_1062.jpg', 'verymild_1076.jpg', 'verymild_2219.jpg', 'verymild_1710.jpg', 'verymild_297.jpg', 'verymild_2231.jpg', 'verymild_1738.jpg', 'verymild_2225.jpg', 'verymild_240.jpg', 'verymild_526.jpg', 'verymild_532.jpg', 'verymild_254.jpg', 'verymild_1923.jpg', 'verymild_1089.jpg', 'verymild_268.jpg', 'verymild_1937.jpg']\n"
     ]
    }
   ],
   "source": [
    "very_mild_demented_folder = 'Datasets/Very_Mild_Demented'\n",
    "\n",
    "img = os.listdir(very_mild_demented_folder) \n",
    "very_mild_demented_array = [] #create an array with all of the images \n",
    "for i in img:\n",
    "    if i.endswith('.jpg') or i.endswith('.jpeg'):\n",
    "        very_mild_demented_array.append(i) #add each of the img in files into the array of all the images \n",
    "        img = load_img(os.path.join(very_mild_demented_folder, i))\n",
    "        img_array = img_to_array(img)     \n",
    "        # print(\"Processed\", i, \"with shape:\", img_array.shape) #test\n",
    "print(very_mild_demented_array)"
   ]
  },
  {
   "cell_type": "code",
   "execution_count": 35,
   "metadata": {},
   "outputs": [
    {
     "name": "stdout",
     "output_type": "stream",
     "text": [
      "['mild_578.jpg', 'mild_550.jpg', 'mild_236.jpg', 'mild_222.jpg', 'mild_544.jpg', 'mild_29.jpg', 'mild_593.jpg', 'mild_15.jpg', 'mild_587.jpg', 'mild_752.jpg', 'mild_746.jpg', 'mild_168.jpg', 'mild_140.jpg', 'mild_626.jpg', 'mild_632.jpg', 'mild_154.jpg', 'mild_815.jpg', 'mild_183.jpg', 'mild_829.jpg', 'mild_197.jpg', 'mild_418.jpg', 'mild_424.jpg', 'mild_342.jpg', 'mild_430.jpg', 'mild_6.jpg', 'mild_395.jpg', 'mild_394.jpg', 'mild_7.jpg', 'mild_431.jpg', 'mild_425.jpg', 'mild_343.jpg', 'mild_419.jpg', 'mild_828.jpg', 'mild_196.jpg', 'mild_182.jpg', 'mild_814.jpg', 'mild_633.jpg', 'mild_155.jpg', 'mild_141.jpg', 'mild_627.jpg', 'mild_169.jpg', 'mild_747.jpg', 'mild_753.jpg', 'mild_586.jpg', 'mild_592.jpg', 'mild_14.jpg', 'mild_28.jpg', 'mild_223.jpg', 'mild_545.jpg', 'mild_551.jpg', 'mild_237.jpg', 'mild_579.jpg', 'mild_209.jpg', 'mild_547.jpg', 'mild_221.jpg', 'mild_235.jpg', 'mild_553.jpg', 'mild_584.jpg', 'mild_16.jpg', 'mild_590.jpg', 'mild_745.jpg', 'mild_751.jpg', 'mild_619.jpg', 'mild_157.jpg', 'mild_631.jpg', 'mild_625.jpg', 'mild_143.jpg', 'mild_816.jpg', 'mild_194.jpg', 'mild_180.jpg', 'mild_433.jpg', 'mild_355.jpg', 'mild_341.jpg', 'mild_427.jpg', 'mild_5.jpg', 'mild_396.jpg', 'mild_397.jpg', 'mild_4.jpg', 'mild_340.jpg', 'mild_426.jpg', 'mild_432.jpg', 'mild_354.jpg', 'mild_181.jpg', 'mild_195.jpg', 'mild_817.jpg', 'mild_624.jpg', 'mild_142.jpg', 'mild_156.jpg', 'mild_630.jpg', 'mild_618.jpg', 'mild_750.jpg', 'mild_744.jpg', 'mild_17.jpg', 'mild_591.jpg', 'mild_585.jpg', 'mild_234.jpg', 'mild_552.jpg', 'mild_546.jpg', 'mild_220.jpg', 'mild_208.jpg', 'mild_224.jpg', 'mild_542.jpg', 'mild_556.jpg', 'mild_230.jpg', 'mild_218.jpg', 'mild_581.jpg', 'mild_595.jpg', 'mild_13.jpg', 'mild_740.jpg', 'mild_754.jpg', 'mild_634.jpg', 'mild_152.jpg', 'mild_146.jpg', 'mild_620.jpg', 'mild_608.jpg', 'mild_191.jpg', 'mild_185.jpg', 'mild_813.jpg', 'mild_350.jpg', 'mild_436.jpg', 'mild_422.jpg', 'mild_344.jpg', 'mild_393.jpg', 'mild_387.jpg', 'mild_386.jpg', 'mild_392.jpg', 'mild_423.jpg', 'mild_345.jpg', 'mild_351.jpg', 'mild_437.jpg', 'mild_184.jpg', 'mild_190.jpg', 'mild_609.jpg', 'mild_147.jpg', 'mild_621.jpg', 'mild_635.jpg', 'mild_153.jpg', 'mild_755.jpg', 'mild_741.jpg', 'mild_594.jpg', 'mild_12.jpg', 'mild_580.jpg', 'mild_219.jpg', 'mild_557.jpg', 'mild_231.jpg', 'mild_225.jpg', 'mild_543.jpg', 'mild_233.jpg', 'mild_555.jpg', 'mild_541.jpg', 'mild_227.jpg', 'mild_569.jpg', 'mild_10.jpg', 'mild_596.jpg', 'mild_582.jpg', 'mild_38.jpg', 'mild_757.jpg', 'mild_743.jpg', 'mild_623.jpg', 'mild_145.jpg', 'mild_151.jpg', 'mild_637.jpg', 'mild_179.jpg', 'mild_838.jpg', 'mild_186.jpg', 'mild_192.jpg', 'mild_347.jpg', 'mild_421.jpg', 'mild_435.jpg', 'mild_353.jpg', 'mild_409.jpg', 'mild_390.jpg', 'mild_3.jpg', 'mild_2.jpg', 'mild_391.jpg', 'mild_408.jpg', 'mild_434.jpg', 'mild_352.jpg', 'mild_346.jpg', 'mild_420.jpg', 'mild_193.jpg', 'mild_839.jpg', 'mild_187.jpg', 'mild_178.jpg', 'mild_150.jpg', 'mild_636.jpg', 'mild_622.jpg', 'mild_144.jpg', 'mild_742.jpg', 'mild_756.jpg', 'mild_39.jpg', 'mild_583.jpg', 'mild_11.jpg', 'mild_597.jpg', 'mild_568.jpg', 'mild_540.jpg', 'mild_226.jpg', 'mild_232.jpg', 'mild_554.jpg', 'mild_89.jpg', 'mild_269.jpg', 'mild_255.jpg', 'mild_533.jpg', 'mild_527.jpg', 'mild_241.jpg', 'mild_76.jpg', 'mild_296.jpg', 'mild_62.jpg', 'mild_282.jpg', 'mild_719.jpg', 'mild_731.jpg', 'mild_725.jpg', 'mild_679.jpg', 'mild_645.jpg', 'mild_123.jpg', 'mild_137.jpg', 'mild_889.jpg', 'mild_651.jpg', 'mild_862.jpg', 'mild_876.jpg', 'mild_686.jpg', 'mild_692.jpg', 'mild_309.jpg', 'mild_321.jpg', 'mild_447.jpg', 'mild_453.jpg', 'mild_335.jpg', 'mild_484.jpg', 'mild_490.jpg', 'mild_491.jpg', 'mild_485.jpg', 'mild_452.jpg', 'mild_334.jpg', 'mild_320.jpg', 'mild_446.jpg', 'mild_308.jpg', 'mild_693.jpg', 'mild_687.jpg', 'mild_877.jpg', 'mild_863.jpg', 'mild_136.jpg', 'mild_650.jpg', 'mild_888.jpg', 'mild_644.jpg', 'mild_122.jpg', 'mild_678.jpg', 'mild_724.jpg', 'mild_730.jpg', 'mild_718.jpg', 'mild_283.jpg', 'mild_63.jpg', 'mild_297.jpg', 'mild_77.jpg', 'mild_526.jpg', 'mild_240.jpg', 'mild_254.jpg', 'mild_532.jpg', 'mild_268.jpg', 'mild_88.jpg', 'mild_518.jpg', 'mild_242.jpg', 'mild_524.jpg', 'mild_530.jpg', 'mild_256.jpg', 'mild_49.jpg', 'mild_61.jpg', 'mild_281.jpg', 'mild_75.jpg', 'mild_295.jpg', 'mild_726.jpg', 'mild_732.jpg', 'mild_108.jpg', 'mild_652.jpg', 'mild_134.jpg', 'mild_120.jpg', 'mild_646.jpg', 'mild_875.jpg', 'mild_861.jpg', 'mild_691.jpg', 'mild_849.jpg', 'mild_685.jpg', 'mild_478.jpg', 'mild_336.jpg', 'mild_450.jpg', 'mild_444.jpg', 'mild_322.jpg', 'mild_493.jpg', 'mild_487.jpg', 'mild_486.jpg', 'mild_492.jpg', 'mild_445.jpg', 'mild_323.jpg', 'mild_337.jpg', 'mild_451.jpg', 'mild_479.jpg', 'mild_684.jpg', 'mild_848.jpg', 'mild_690.jpg', 'mild_860.jpg', 'mild_874.jpg', 'mild_121.jpg', 'mild_647.jpg', 'mild_653.jpg', 'mild_135.jpg', 'mild_109.jpg', 'mild_733.jpg', 'mild_727.jpg', 'mild_294.jpg', 'mild_74.jpg', 'mild_280.jpg', 'mild_60.jpg', 'mild_48.jpg', 'mild_531.jpg', 'mild_257.jpg', 'mild_243.jpg', 'mild_525.jpg', 'mild_519.jpg', 'mild_521.jpg', 'mild_247.jpg', 'mild_253.jpg', 'mild_535.jpg', 'mild_509.jpg', 'mild_284.jpg', 'mild_64.jpg', 'mild_290.jpg', 'mild_70.jpg', 'mild_58.jpg', 'mild_723.jpg', 'mild_737.jpg', 'mild_131.jpg', 'mild_657.jpg', 'mild_643.jpg', 'mild_125.jpg', 'mild_119.jpg', 'mild_694.jpg', 'mild_680.jpg', 'mild_858.jpg', 'mild_870.jpg', 'mild_864.jpg', 'mild_455.jpg', 'mild_333.jpg', 'mild_327.jpg', 'mild_441.jpg', 'mild_469.jpg', 'mild_496.jpg', 'mild_482.jpg', 'mild_483.jpg', 'mild_497.jpg', 'mild_468.jpg', 'mild_326.jpg', 'mild_440.jpg', 'mild_454.jpg', 'mild_332.jpg', 'mild_865.jpg', 'mild_871.jpg', 'mild_859.jpg', 'mild_681.jpg', 'mild_695.jpg', 'mild_118.jpg', 'mild_642.jpg', 'mild_124.jpg', 'mild_130.jpg', 'mild_656.jpg', 'mild_736.jpg', 'mild_722.jpg', 'mild_59.jpg', 'mild_71.jpg', 'mild_291.jpg', 'mild_65.jpg', 'mild_285.jpg', 'mild_508.jpg', 'mild_252.jpg', 'mild_534.jpg', 'mild_520.jpg', 'mild_246.jpg', 'mild_536.jpg', 'mild_250.jpg', 'mild_244.jpg', 'mild_522.jpg', 'mild_278.jpg', 'mild_98.jpg', 'mild_293.jpg', 'mild_73.jpg', 'mild_287.jpg', 'mild_67.jpg', 'mild_734.jpg', 'mild_720.jpg', 'mild_708.jpg', 'mild_126.jpg', 'mild_640.jpg', 'mild_654.jpg', 'mild_132.jpg', 'mild_668.jpg', 'mild_683.jpg', 'mild_697.jpg', 'mild_867.jpg', 'mild_873.jpg', 'mild_442.jpg', 'mild_324.jpg', 'mild_330.jpg', 'mild_456.jpg', 'mild_318.jpg', 'mild_481.jpg', 'mild_495.jpg', 'mild_494.jpg', 'mild_480.jpg', 'mild_319.jpg', 'mild_331.jpg', 'mild_457.jpg', 'mild_443.jpg', 'mild_325.jpg', 'mild_872.jpg', 'mild_866.jpg', 'mild_696.jpg', 'mild_682.jpg', 'mild_669.jpg', 'mild_655.jpg', 'mild_133.jpg', 'mild_127.jpg', 'mild_641.jpg', 'mild_709.jpg', 'mild_721.jpg', 'mild_735.jpg', 'mild_66.jpg', 'mild_286.jpg', 'mild_72.jpg', 'mild_292.jpg', 'mild_99.jpg', 'mild_279.jpg', 'mild_245.jpg', 'mild_523.jpg', 'mild_537.jpg', 'mild_251.jpg', 'mild_248.jpg', 'mild_94.jpg', 'mild_274.jpg', 'mild_512.jpg', 'mild_506.jpg', 'mild_80.jpg', 'mild_260.jpg', 'mild.jpg', 'mild_57.jpg', 'mild_43.jpg', 'mild_738.jpg', 'mild_710.jpg', 'mild_704.jpg', 'mild_880.jpg', 'mild_658.jpg', 'mild_894.jpg', 'mild_664.jpg', 'mild_102.jpg', 'mild_116.jpg', 'mild_670.jpg', 'mild_843.jpg', 'mild_857.jpg', 'mild_328.jpg', 'mild_300.jpg', 'mild_466.jpg', 'mild_472.jpg', 'mild_314.jpg', 'mild_499.jpg', 'mild_498.jpg', 'mild_473.jpg', 'mild_315.jpg', 'mild_301.jpg', 'mild_467.jpg', 'mild_329.jpg', 'mild_856.jpg', 'mild_842.jpg', 'mild_117.jpg', 'mild_671.jpg', 'mild_665.jpg', 'mild_103.jpg', 'mild_895.jpg', 'mild_659.jpg', 'mild_881.jpg', 'mild_705.jpg', 'mild_711.jpg', 'mild_739.jpg', 'mild_42.jpg', 'mild_56.jpg', 'mild_507.jpg', 'mild_261.jpg', 'mild_81.jpg', 'mild_275.jpg', 'mild_95.jpg', 'mild_513.jpg', 'mild_249.jpg', 'mild_539.jpg', 'mild_83.jpg', 'mild_263.jpg', 'mild_505.jpg', 'mild_511.jpg', 'mild_97.jpg', 'mild_277.jpg', 'mild_68.jpg', 'mild_288.jpg', 'mild_40.jpg', 'mild_54.jpg', 'mild_707.jpg', 'mild_713.jpg', 'mild_129.jpg', 'mild_883.jpg', 'mild_673.jpg', 'mild_115.jpg', 'mild_101.jpg', 'mild_667.jpg', 'mild_854.jpg', 'mild_698.jpg', 'mild_840.jpg', 'mild_868.jpg', 'mild_459.jpg', 'mild_317.jpg', 'mild_471.jpg', 'mild_465.jpg', 'mild_303.jpg', 'mild_464.jpg', 'mild_302.jpg', 'mild_316.jpg', 'mild_470.jpg', 'mild_458.jpg', 'mild_869.jpg', 'mild_841.jpg', 'mild_699.jpg', 'mild_855.jpg', 'mild_100.jpg', 'mild_666.jpg', 'mild_672.jpg', 'mild_114.jpg', 'mild_882.jpg', 'mild_896.jpg', 'mild_128.jpg', 'mild_712.jpg', 'mild_706.jpg', 'mild_55.jpg', 'mild_41.jpg', 'mild_289.jpg', 'mild_69.jpg', 'mild_510.jpg', 'mild_276.jpg', 'mild_96.jpg', 'mild_262.jpg', 'mild_82.jpg', 'mild_504.jpg', 'mild_538.jpg', 'mild_500.jpg', 'mild_266.jpg', 'mild_86.jpg', 'mild_272.jpg', 'mild_92.jpg', 'mild_514.jpg', 'mild_528.jpg', 'mild_45.jpg', 'mild_51.jpg', 'mild_299.jpg', 'mild_79.jpg', 'mild_702.jpg', 'mild_716.jpg', 'mild_110.jpg', 'mild_676.jpg', 'mild_662.jpg', 'mild_104.jpg', 'mild_892.jpg', 'mild_886.jpg', 'mild_138.jpg', 'mild_879.jpg', 'mild_689.jpg', 'mild_851.jpg', 'mild_845.jpg', 'mild_474.jpg', 'mild_312.jpg', 'mild_306.jpg', 'mild_460.jpg', 'mild_448.jpg', 'mild_449.jpg', 'mild_307.jpg', 'mild_461.jpg', 'mild_475.jpg', 'mild_313.jpg', 'mild_844.jpg', 'mild_850.jpg', 'mild_688.jpg', 'mild_878.jpg', 'mild_887.jpg', 'mild_139.jpg', 'mild_893.jpg', 'mild_663.jpg', 'mild_105.jpg', 'mild_111.jpg', 'mild_677.jpg', 'mild_717.jpg', 'mild_703.jpg', 'mild_78.jpg', 'mild_298.jpg', 'mild_50.jpg', 'mild_44.jpg', 'mild_529.jpg', 'mild_93.jpg', 'mild_273.jpg', 'mild_515.jpg', 'mild_501.jpg', 'mild_87.jpg', 'mild_267.jpg', 'mild_517.jpg', 'mild_271.jpg', 'mild_91.jpg', 'mild_265.jpg', 'mild_85.jpg', 'mild_503.jpg', 'mild_259.jpg', 'mild_52.jpg', 'mild_46.jpg', 'mild_715.jpg', 'mild_701.jpg', 'mild_729.jpg', 'mild_107.jpg', 'mild_661.jpg', 'mild_675.jpg', 'mild_113.jpg', 'mild_885.jpg', 'mild_891.jpg', 'mild_649.jpg', 'mild_846.jpg', 'mild_852.jpg', 'mild_463.jpg', 'mild_305.jpg', 'mild_311.jpg', 'mild_477.jpg', 'mild_339.jpg', 'mild_488.jpg', 'mild_489.jpg', 'mild_338.jpg', 'mild_310.jpg', 'mild_476.jpg', 'mild_462.jpg', 'mild_304.jpg', 'mild_853.jpg', 'mild_847.jpg', 'mild_648.jpg', 'mild_890.jpg', 'mild_884.jpg', 'mild_674.jpg', 'mild_112.jpg', 'mild_106.jpg', 'mild_660.jpg', 'mild_728.jpg', 'mild_700.jpg', 'mild_714.jpg', 'mild_47.jpg', 'mild_53.jpg', 'mild_258.jpg', 'mild_84.jpg', 'mild_264.jpg', 'mild_502.jpg', 'mild_516.jpg', 'mild_90.jpg', 'mild_270.jpg', 'mild_559.jpg', 'mild_571.jpg', 'mild_217.jpg', 'mild_203.jpg', 'mild_565.jpg', 'mild_34.jpg', 'mild_20.jpg', 'mild_149.jpg', 'mild_161.jpg', 'mild_607.jpg', 'mild_613.jpg', 'mild_175.jpg', 'mild_820.jpg', 'mild_834.jpg', 'mild_439.jpg', 'mild_405.jpg', 'mild_411.jpg', 'mild_388.jpg', 'mild_389.jpg', 'mild_410.jpg', 'mild_404.jpg', 'mild_438.jpg', 'mild_835.jpg', 'mild_821.jpg', 'mild_612.jpg', 'mild_174.jpg', 'mild_160.jpg', 'mild_606.jpg', 'mild_148.jpg', 'mild_21.jpg', 'mild_35.jpg', 'mild_202.jpg', 'mild_564.jpg', 'mild_570.jpg', 'mild_216.jpg', 'mild_558.jpg', 'mild_228.jpg', 'mild_566.jpg', 'mild_200.jpg', 'mild_214.jpg', 'mild_572.jpg', 'mild_599.jpg', 'mild_23.jpg', 'mild_37.jpg', 'mild_758.jpg', 'mild_638.jpg', 'mild_176.jpg', 'mild_610.jpg', 'mild_604.jpg', 'mild_162.jpg', 'mild_189.jpg', 'mild_837.jpg', 'mild_823.jpg', 'mild_348.jpg', 'mild_412.jpg', 'mild_406.jpg', 'mild_407.jpg', 'mild_413.jpg', 'mild_349.jpg', 'mild_822.jpg', 'mild_188.jpg', 'mild_836.jpg', 'mild_605.jpg', 'mild_163.jpg', 'mild_177.jpg', 'mild_611.jpg', 'mild_639.jpg', 'mild_759.jpg', 'mild_36.jpg', 'mild_22.jpg', 'mild_598.jpg', 'mild_215.jpg', 'mild_573.jpg', 'mild_567.jpg', 'mild_201.jpg', 'mild_229.jpg', 'mild_205.jpg', 'mild_563.jpg', 'mild_577.jpg', 'mild_211.jpg', 'mild_239.jpg', 'mild_26.jpg', 'mild_32.jpg', 'mild_588.jpg', 'mild_761.jpg', 'mild_749.jpg', 'mild_615.jpg', 'mild_173.jpg', 'mild_167.jpg', 'mild_601.jpg', 'mild_629.jpg', 'mild_832.jpg', 'mild_198.jpg', 'mild_826.jpg', 'mild_417.jpg', 'mild_403.jpg', 'mild_9.jpg', 'mild_8.jpg', 'mild_402.jpg', 'mild_416.jpg', 'mild_199.jpg', 'mild_827.jpg', 'mild_833.jpg', 'mild_628.jpg', 'mild_166.jpg', 'mild_600.jpg', 'mild_614.jpg', 'mild_172.jpg', 'mild_748.jpg', 'mild_760.jpg', 'mild_589.jpg', 'mild_33.jpg', 'mild_27.jpg', 'mild_238.jpg', 'mild_576.jpg', 'mild_210.jpg', 'mild_204.jpg', 'mild_562.jpg', 'mild_212.jpg', 'mild_574.jpg', 'mild_560.jpg', 'mild_206.jpg', 'mild_548.jpg', 'mild_31.jpg', 'mild_25.jpg', 'mild_19.jpg', 'mild_762.jpg', 'mild_602.jpg', 'mild_164.jpg', 'mild_170.jpg', 'mild_616.jpg', 'mild_158.jpg', 'mild_819.jpg', 'mild_825.jpg', 'mild_831.jpg', 'mild_400.jpg', 'mild_414.jpg', 'mild_428.jpg', 'mild_399.jpg', 'mild_398.jpg', 'mild_429.jpg', 'mild_415.jpg', 'mild_401.jpg', 'mild_830.jpg', 'mild_824.jpg', 'mild_818.jpg', 'mild_159.jpg', 'mild_171.jpg', 'mild_617.jpg', 'mild_603.jpg', 'mild_165.jpg', 'mild_18.jpg', 'mild_24.jpg', 'mild_30.jpg', 'mild_549.jpg', 'mild_561.jpg', 'mild_207.jpg', 'mild_213.jpg', 'mild_575.jpg']\n"
     ]
    }
   ],
   "source": [
    "mild_demented = 'Datasets/Mild_Demented_2'\n",
    "\n",
    "img = os.listdir(mild_demented) \n",
    "mild_demented_array = [] #create an array with all of the images \n",
    "for i in img:\n",
    "    if i.endswith('.jpg') or i.endswith('.jpeg'):\n",
    "        mild_demented_array.append(i) #add each of the img in files into the array of all the images \n",
    "        img = load_img(os.path.join(mild_demented, i))\n",
    "        img_array = img_to_array(img)     \n",
    "        # print(\"Processed\", i, \"with shape:\", img_array.shape) #test\n",
    "print(mild_demented_array)"
   ]
  },
  {
   "cell_type": "code",
   "execution_count": 36,
   "metadata": {},
   "outputs": [],
   "source": [
    "all_demented_datasets_array = very_mild_demented_array + Non_demented_array + moderate_demented_array\n",
    "\n",
    "# note: need to turn these arrays and perhaps turn the images into one huge dataset ? \n",
    "# https://www.tensorflow.org/tutorials/images/cnn"
   ]
  },
  {
   "cell_type": "code",
   "execution_count": 41,
   "metadata": {},
   "outputs": [
    {
     "ename": "DatasetNotFoundError",
     "evalue": "Dataset 'Mild_Demented_2' doesn't exist on the Hub or cannot be accessed. If the dataset is private or gated, make sure to log in with `huggingface-cli login` or visit the dataset page at https://huggingface.co/datasets/Mild_Demented_2 to ask for access.",
     "output_type": "error",
     "traceback": [
      "\u001b[0;31m---------------------------------------------------------------------------\u001b[0m",
      "\u001b[0;31mDatasetNotFoundError\u001b[0m                      Traceback (most recent call last)",
      "Cell \u001b[0;32mIn[41], line 4\u001b[0m\n\u001b[1;32m      1\u001b[0m \u001b[38;5;66;03m# https://huggingface.co/docs/datasets/en/image_load\u001b[39;00m\n\u001b[1;32m      3\u001b[0m \u001b[38;5;28;01mfrom\u001b[39;00m \u001b[38;5;21;01mdatasets\u001b[39;00m \u001b[38;5;28;01mimport\u001b[39;00m load_dataset, Image \n\u001b[0;32m----> 4\u001b[0m dataset \u001b[38;5;241m=\u001b[39m \u001b[43mload_dataset\u001b[49m\u001b[43m(\u001b[49m\u001b[38;5;124;43m'\u001b[39;49m\u001b[38;5;124;43mMild_Demented_2\u001b[39;49m\u001b[38;5;124;43m'\u001b[39;49m\u001b[43m,\u001b[49m\u001b[43m \u001b[49m\u001b[43mdata_dir\u001b[49m\u001b[38;5;241;43m=\u001b[39;49m\u001b[38;5;124;43m'\u001b[39;49m\u001b[38;5;124;43mDatasets/Mild_Demented_2\u001b[39;49m\u001b[38;5;124;43m'\u001b[39;49m\u001b[43m,\u001b[49m\u001b[43m \u001b[49m\u001b[43mdrop_labels\u001b[49m\u001b[38;5;241;43m=\u001b[39;49m\u001b[38;5;28;43;01mFalse\u001b[39;49;00m\u001b[43m)\u001b[49m\n",
      "File \u001b[0;32m/Library/Frameworks/Python.framework/Versions/3.11/lib/python3.11/site-packages/datasets/load.py:2587\u001b[0m, in \u001b[0;36mload_dataset\u001b[0;34m(path, name, data_dir, data_files, split, cache_dir, features, download_config, download_mode, verification_mode, ignore_verifications, keep_in_memory, save_infos, revision, token, use_auth_token, task, streaming, num_proc, storage_options, trust_remote_code, **config_kwargs)\u001b[0m\n\u001b[1;32m   2582\u001b[0m verification_mode \u001b[38;5;241m=\u001b[39m VerificationMode(\n\u001b[1;32m   2583\u001b[0m     (verification_mode \u001b[38;5;129;01mor\u001b[39;00m VerificationMode\u001b[38;5;241m.\u001b[39mBASIC_CHECKS) \u001b[38;5;28;01mif\u001b[39;00m \u001b[38;5;129;01mnot\u001b[39;00m save_infos \u001b[38;5;28;01melse\u001b[39;00m VerificationMode\u001b[38;5;241m.\u001b[39mALL_CHECKS\n\u001b[1;32m   2584\u001b[0m )\n\u001b[1;32m   2586\u001b[0m \u001b[38;5;66;03m# Create a dataset builder\u001b[39;00m\n\u001b[0;32m-> 2587\u001b[0m builder_instance \u001b[38;5;241m=\u001b[39m \u001b[43mload_dataset_builder\u001b[49m\u001b[43m(\u001b[49m\n\u001b[1;32m   2588\u001b[0m \u001b[43m    \u001b[49m\u001b[43mpath\u001b[49m\u001b[38;5;241;43m=\u001b[39;49m\u001b[43mpath\u001b[49m\u001b[43m,\u001b[49m\n\u001b[1;32m   2589\u001b[0m \u001b[43m    \u001b[49m\u001b[43mname\u001b[49m\u001b[38;5;241;43m=\u001b[39;49m\u001b[43mname\u001b[49m\u001b[43m,\u001b[49m\n\u001b[1;32m   2590\u001b[0m \u001b[43m    \u001b[49m\u001b[43mdata_dir\u001b[49m\u001b[38;5;241;43m=\u001b[39;49m\u001b[43mdata_dir\u001b[49m\u001b[43m,\u001b[49m\n\u001b[1;32m   2591\u001b[0m \u001b[43m    \u001b[49m\u001b[43mdata_files\u001b[49m\u001b[38;5;241;43m=\u001b[39;49m\u001b[43mdata_files\u001b[49m\u001b[43m,\u001b[49m\n\u001b[1;32m   2592\u001b[0m \u001b[43m    \u001b[49m\u001b[43mcache_dir\u001b[49m\u001b[38;5;241;43m=\u001b[39;49m\u001b[43mcache_dir\u001b[49m\u001b[43m,\u001b[49m\n\u001b[1;32m   2593\u001b[0m \u001b[43m    \u001b[49m\u001b[43mfeatures\u001b[49m\u001b[38;5;241;43m=\u001b[39;49m\u001b[43mfeatures\u001b[49m\u001b[43m,\u001b[49m\n\u001b[1;32m   2594\u001b[0m \u001b[43m    \u001b[49m\u001b[43mdownload_config\u001b[49m\u001b[38;5;241;43m=\u001b[39;49m\u001b[43mdownload_config\u001b[49m\u001b[43m,\u001b[49m\n\u001b[1;32m   2595\u001b[0m \u001b[43m    \u001b[49m\u001b[43mdownload_mode\u001b[49m\u001b[38;5;241;43m=\u001b[39;49m\u001b[43mdownload_mode\u001b[49m\u001b[43m,\u001b[49m\n\u001b[1;32m   2596\u001b[0m \u001b[43m    \u001b[49m\u001b[43mrevision\u001b[49m\u001b[38;5;241;43m=\u001b[39;49m\u001b[43mrevision\u001b[49m\u001b[43m,\u001b[49m\n\u001b[1;32m   2597\u001b[0m \u001b[43m    \u001b[49m\u001b[43mtoken\u001b[49m\u001b[38;5;241;43m=\u001b[39;49m\u001b[43mtoken\u001b[49m\u001b[43m,\u001b[49m\n\u001b[1;32m   2598\u001b[0m \u001b[43m    \u001b[49m\u001b[43mstorage_options\u001b[49m\u001b[38;5;241;43m=\u001b[39;49m\u001b[43mstorage_options\u001b[49m\u001b[43m,\u001b[49m\n\u001b[1;32m   2599\u001b[0m \u001b[43m    \u001b[49m\u001b[43mtrust_remote_code\u001b[49m\u001b[38;5;241;43m=\u001b[39;49m\u001b[43mtrust_remote_code\u001b[49m\u001b[43m,\u001b[49m\n\u001b[1;32m   2600\u001b[0m \u001b[43m    \u001b[49m\u001b[43m_require_default_config_name\u001b[49m\u001b[38;5;241;43m=\u001b[39;49m\u001b[43mname\u001b[49m\u001b[43m \u001b[49m\u001b[38;5;129;43;01mis\u001b[39;49;00m\u001b[43m \u001b[49m\u001b[38;5;28;43;01mNone\u001b[39;49;00m\u001b[43m,\u001b[49m\n\u001b[1;32m   2601\u001b[0m \u001b[43m    \u001b[49m\u001b[38;5;241;43m*\u001b[39;49m\u001b[38;5;241;43m*\u001b[39;49m\u001b[43mconfig_kwargs\u001b[49m\u001b[43m,\u001b[49m\n\u001b[1;32m   2602\u001b[0m \u001b[43m\u001b[49m\u001b[43m)\u001b[49m\n\u001b[1;32m   2604\u001b[0m \u001b[38;5;66;03m# Return iterable dataset in case of streaming\u001b[39;00m\n\u001b[1;32m   2605\u001b[0m \u001b[38;5;28;01mif\u001b[39;00m streaming:\n",
      "File \u001b[0;32m/Library/Frameworks/Python.framework/Versions/3.11/lib/python3.11/site-packages/datasets/load.py:2259\u001b[0m, in \u001b[0;36mload_dataset_builder\u001b[0;34m(path, name, data_dir, data_files, cache_dir, features, download_config, download_mode, revision, token, use_auth_token, storage_options, trust_remote_code, _require_default_config_name, **config_kwargs)\u001b[0m\n\u001b[1;32m   2257\u001b[0m     download_config \u001b[38;5;241m=\u001b[39m download_config\u001b[38;5;241m.\u001b[39mcopy() \u001b[38;5;28;01mif\u001b[39;00m download_config \u001b[38;5;28;01melse\u001b[39;00m DownloadConfig()\n\u001b[1;32m   2258\u001b[0m     download_config\u001b[38;5;241m.\u001b[39mstorage_options\u001b[38;5;241m.\u001b[39mupdate(storage_options)\n\u001b[0;32m-> 2259\u001b[0m dataset_module \u001b[38;5;241m=\u001b[39m \u001b[43mdataset_module_factory\u001b[49m\u001b[43m(\u001b[49m\n\u001b[1;32m   2260\u001b[0m \u001b[43m    \u001b[49m\u001b[43mpath\u001b[49m\u001b[43m,\u001b[49m\n\u001b[1;32m   2261\u001b[0m \u001b[43m    \u001b[49m\u001b[43mrevision\u001b[49m\u001b[38;5;241;43m=\u001b[39;49m\u001b[43mrevision\u001b[49m\u001b[43m,\u001b[49m\n\u001b[1;32m   2262\u001b[0m \u001b[43m    \u001b[49m\u001b[43mdownload_config\u001b[49m\u001b[38;5;241;43m=\u001b[39;49m\u001b[43mdownload_config\u001b[49m\u001b[43m,\u001b[49m\n\u001b[1;32m   2263\u001b[0m \u001b[43m    \u001b[49m\u001b[43mdownload_mode\u001b[49m\u001b[38;5;241;43m=\u001b[39;49m\u001b[43mdownload_mode\u001b[49m\u001b[43m,\u001b[49m\n\u001b[1;32m   2264\u001b[0m \u001b[43m    \u001b[49m\u001b[43mdata_dir\u001b[49m\u001b[38;5;241;43m=\u001b[39;49m\u001b[43mdata_dir\u001b[49m\u001b[43m,\u001b[49m\n\u001b[1;32m   2265\u001b[0m \u001b[43m    \u001b[49m\u001b[43mdata_files\u001b[49m\u001b[38;5;241;43m=\u001b[39;49m\u001b[43mdata_files\u001b[49m\u001b[43m,\u001b[49m\n\u001b[1;32m   2266\u001b[0m \u001b[43m    \u001b[49m\u001b[43mcache_dir\u001b[49m\u001b[38;5;241;43m=\u001b[39;49m\u001b[43mcache_dir\u001b[49m\u001b[43m,\u001b[49m\n\u001b[1;32m   2267\u001b[0m \u001b[43m    \u001b[49m\u001b[43mtrust_remote_code\u001b[49m\u001b[38;5;241;43m=\u001b[39;49m\u001b[43mtrust_remote_code\u001b[49m\u001b[43m,\u001b[49m\n\u001b[1;32m   2268\u001b[0m \u001b[43m    \u001b[49m\u001b[43m_require_default_config_name\u001b[49m\u001b[38;5;241;43m=\u001b[39;49m\u001b[43m_require_default_config_name\u001b[49m\u001b[43m,\u001b[49m\n\u001b[1;32m   2269\u001b[0m \u001b[43m    \u001b[49m\u001b[43m_require_custom_configs\u001b[49m\u001b[38;5;241;43m=\u001b[39;49m\u001b[38;5;28;43mbool\u001b[39;49m\u001b[43m(\u001b[49m\u001b[43mconfig_kwargs\u001b[49m\u001b[43m)\u001b[49m\u001b[43m,\u001b[49m\n\u001b[1;32m   2270\u001b[0m \u001b[43m\u001b[49m\u001b[43m)\u001b[49m\n\u001b[1;32m   2271\u001b[0m \u001b[38;5;66;03m# Get dataset builder class from the processing script\u001b[39;00m\n\u001b[1;32m   2272\u001b[0m builder_kwargs \u001b[38;5;241m=\u001b[39m dataset_module\u001b[38;5;241m.\u001b[39mbuilder_kwargs\n",
      "File \u001b[0;32m/Library/Frameworks/Python.framework/Versions/3.11/lib/python3.11/site-packages/datasets/load.py:1904\u001b[0m, in \u001b[0;36mdataset_module_factory\u001b[0;34m(path, revision, download_config, download_mode, dynamic_modules_path, data_dir, data_files, cache_dir, trust_remote_code, _require_default_config_name, _require_custom_configs, **download_kwargs)\u001b[0m\n\u001b[1;32m   1902\u001b[0m     \u001b[38;5;28;01mraise\u001b[39;00m \u001b[38;5;167;01mConnectionError\u001b[39;00m(\u001b[38;5;124mf\u001b[39m\u001b[38;5;124m\"\u001b[39m\u001b[38;5;124mCouldn\u001b[39m\u001b[38;5;124m'\u001b[39m\u001b[38;5;124mt reach the Hugging Face Hub for dataset \u001b[39m\u001b[38;5;124m'\u001b[39m\u001b[38;5;132;01m{\u001b[39;00mpath\u001b[38;5;132;01m}\u001b[39;00m\u001b[38;5;124m'\u001b[39m\u001b[38;5;124m: \u001b[39m\u001b[38;5;132;01m{\u001b[39;00me1\u001b[38;5;132;01m}\u001b[39;00m\u001b[38;5;124m\"\u001b[39m) \u001b[38;5;28;01mfrom\u001b[39;00m \u001b[38;5;28;01mNone\u001b[39;00m\n\u001b[1;32m   1903\u001b[0m \u001b[38;5;28;01mif\u001b[39;00m \u001b[38;5;28misinstance\u001b[39m(e1, (DataFilesNotFoundError, DatasetNotFoundError, EmptyDatasetError)):\n\u001b[0;32m-> 1904\u001b[0m     \u001b[38;5;28;01mraise\u001b[39;00m e1 \u001b[38;5;28;01mfrom\u001b[39;00m \u001b[38;5;28;01mNone\u001b[39;00m\n\u001b[1;32m   1905\u001b[0m \u001b[38;5;28;01mif\u001b[39;00m \u001b[38;5;28misinstance\u001b[39m(e1, \u001b[38;5;167;01mFileNotFoundError\u001b[39;00m):\n\u001b[1;32m   1906\u001b[0m     \u001b[38;5;28;01mraise\u001b[39;00m \u001b[38;5;167;01mFileNotFoundError\u001b[39;00m(\n\u001b[1;32m   1907\u001b[0m         \u001b[38;5;124mf\u001b[39m\u001b[38;5;124m\"\u001b[39m\u001b[38;5;124mCouldn\u001b[39m\u001b[38;5;124m'\u001b[39m\u001b[38;5;124mt find a dataset script at \u001b[39m\u001b[38;5;132;01m{\u001b[39;00mrelative_to_absolute_path(combined_path)\u001b[38;5;132;01m}\u001b[39;00m\u001b[38;5;124m or any data file in the same directory. \u001b[39m\u001b[38;5;124m\"\u001b[39m\n\u001b[1;32m   1908\u001b[0m         \u001b[38;5;124mf\u001b[39m\u001b[38;5;124m\"\u001b[39m\u001b[38;5;124mCouldn\u001b[39m\u001b[38;5;124m'\u001b[39m\u001b[38;5;124mt find \u001b[39m\u001b[38;5;124m'\u001b[39m\u001b[38;5;132;01m{\u001b[39;00mpath\u001b[38;5;132;01m}\u001b[39;00m\u001b[38;5;124m'\u001b[39m\u001b[38;5;124m on the Hugging Face Hub either: \u001b[39m\u001b[38;5;132;01m{\u001b[39;00m\u001b[38;5;28mtype\u001b[39m(e1)\u001b[38;5;241m.\u001b[39m\u001b[38;5;18m__name__\u001b[39m\u001b[38;5;132;01m}\u001b[39;00m\u001b[38;5;124m: \u001b[39m\u001b[38;5;132;01m{\u001b[39;00me1\u001b[38;5;132;01m}\u001b[39;00m\u001b[38;5;124m\"\u001b[39m\n\u001b[1;32m   1909\u001b[0m     ) \u001b[38;5;28;01mfrom\u001b[39;00m \u001b[38;5;28;01mNone\u001b[39;00m\n",
      "File \u001b[0;32m/Library/Frameworks/Python.framework/Versions/3.11/lib/python3.11/site-packages/datasets/load.py:1850\u001b[0m, in \u001b[0;36mdataset_module_factory\u001b[0;34m(path, revision, download_config, download_mode, dynamic_modules_path, data_dir, data_files, cache_dir, trust_remote_code, _require_default_config_name, _require_custom_configs, **download_kwargs)\u001b[0m\n\u001b[1;32m   1848\u001b[0m     msg \u001b[38;5;241m=\u001b[39m \u001b[38;5;124mf\u001b[39m\u001b[38;5;124m\"\u001b[39m\u001b[38;5;124mDataset \u001b[39m\u001b[38;5;124m'\u001b[39m\u001b[38;5;132;01m{\u001b[39;00mpath\u001b[38;5;132;01m}\u001b[39;00m\u001b[38;5;124m'\u001b[39m\u001b[38;5;124m doesn\u001b[39m\u001b[38;5;124m'\u001b[39m\u001b[38;5;124mt exist on the Hub or cannot be accessed\u001b[39m\u001b[38;5;124m\"\u001b[39m\n\u001b[1;32m   1849\u001b[0m     msg \u001b[38;5;241m=\u001b[39m msg \u001b[38;5;241m+\u001b[39m \u001b[38;5;124mf\u001b[39m\u001b[38;5;124m\"\u001b[39m\u001b[38;5;124m at revision \u001b[39m\u001b[38;5;124m'\u001b[39m\u001b[38;5;132;01m{\u001b[39;00mrevision\u001b[38;5;132;01m}\u001b[39;00m\u001b[38;5;124m'\u001b[39m\u001b[38;5;124m\"\u001b[39m \u001b[38;5;28;01mif\u001b[39;00m revision \u001b[38;5;28;01melse\u001b[39;00m msg\n\u001b[0;32m-> 1850\u001b[0m     \u001b[38;5;28;01mraise\u001b[39;00m DatasetNotFoundError(\n\u001b[1;32m   1851\u001b[0m         msg\n\u001b[1;32m   1852\u001b[0m         \u001b[38;5;241m+\u001b[39m \u001b[38;5;124mf\u001b[39m\u001b[38;5;124m\"\u001b[39m\u001b[38;5;124m. If the dataset is private or gated, make sure to log in with `huggingface-cli login` or visit the dataset page at https://huggingface.co/datasets/\u001b[39m\u001b[38;5;132;01m{\u001b[39;00mpath\u001b[38;5;132;01m}\u001b[39;00m\u001b[38;5;124m to ask for access.\u001b[39m\u001b[38;5;124m\"\u001b[39m\n\u001b[1;32m   1853\u001b[0m     )\n\u001b[1;32m   1854\u001b[0m \u001b[38;5;28;01melse\u001b[39;00m:\n\u001b[1;32m   1855\u001b[0m     \u001b[38;5;28;01mraise\u001b[39;00m e\n",
      "\u001b[0;31mDatasetNotFoundError\u001b[0m: Dataset 'Mild_Demented_2' doesn't exist on the Hub or cannot be accessed. If the dataset is private or gated, make sure to log in with `huggingface-cli login` or visit the dataset page at https://huggingface.co/datasets/Mild_Demented_2 to ask for access."
     ]
    }
   ],
   "source": [
    "# https://huggingface.co/docs/datasets/en/image_load\n",
    "\n",
    "from datasets import load_dataset, Image \n",
    "dataset = load_dataset('Mild_Demented_2', data_dir='Datasets/Mild_Demented_2', drop_labels=False)\n"
   ]
  },
  {
   "cell_type": "code",
   "execution_count": 58,
   "metadata": {},
   "outputs": [
    {
     "name": "stdout",
     "output_type": "stream",
     "text": [
      "Found 0 files belonging to 0 classes.\n"
     ]
    },
    {
     "ename": "ValueError",
     "evalue": "No images found in directory Datasets/Mild_Demented_2. Allowed formats: ('.bmp', '.gif', '.jpeg', '.jpg', '.png')",
     "output_type": "error",
     "traceback": [
      "\u001b[0;31m---------------------------------------------------------------------------\u001b[0m",
      "\u001b[0;31mValueError\u001b[0m                                Traceback (most recent call last)",
      "Cell \u001b[0;32mIn[58], line 4\u001b[0m\n\u001b[1;32m      2\u001b[0m data_dir \u001b[38;5;241m=\u001b[39m \u001b[38;5;124m'\u001b[39m\u001b[38;5;124mDatasets/Mild_Demented_2\u001b[39m\u001b[38;5;124m'\u001b[39m \n\u001b[1;32m      3\u001b[0m image_exts \u001b[38;5;241m=\u001b[39m [\u001b[38;5;124m'\u001b[39m\u001b[38;5;124m.jpg\u001b[39m\u001b[38;5;124m'\u001b[39m]\n\u001b[0;32m----> 4\u001b[0m dataset_neural_img \u001b[38;5;241m=\u001b[39m \u001b[43mtf\u001b[49m\u001b[38;5;241;43m.\u001b[39;49m\u001b[43mkeras\u001b[49m\u001b[38;5;241;43m.\u001b[39;49m\u001b[43mutils\u001b[49m\u001b[38;5;241;43m.\u001b[39;49m\u001b[43mimage_dataset_from_directory\u001b[49m\u001b[43m(\u001b[49m\u001b[43mdata_dir\u001b[49m\u001b[43m)\u001b[49m\n",
      "File \u001b[0;32m/Library/Frameworks/Python.framework/Versions/3.11/lib/python3.11/site-packages/keras/src/utils/image_dataset_utils.py:320\u001b[0m, in \u001b[0;36mimage_dataset_from_directory\u001b[0;34m(directory, labels, label_mode, class_names, color_mode, batch_size, image_size, shuffle, seed, validation_split, subset, interpolation, follow_links, crop_to_aspect_ratio, pad_to_aspect_ratio, data_format, verbose)\u001b[0m\n\u001b[1;32m    316\u001b[0m image_paths, labels \u001b[38;5;241m=\u001b[39m dataset_utils\u001b[38;5;241m.\u001b[39mget_training_or_validation_split(\n\u001b[1;32m    317\u001b[0m     image_paths, labels, validation_split, subset\n\u001b[1;32m    318\u001b[0m )\n\u001b[1;32m    319\u001b[0m \u001b[38;5;28;01mif\u001b[39;00m \u001b[38;5;129;01mnot\u001b[39;00m image_paths:\n\u001b[0;32m--> 320\u001b[0m     \u001b[38;5;28;01mraise\u001b[39;00m \u001b[38;5;167;01mValueError\u001b[39;00m(\n\u001b[1;32m    321\u001b[0m         \u001b[38;5;124mf\u001b[39m\u001b[38;5;124m\"\u001b[39m\u001b[38;5;124mNo images found in directory \u001b[39m\u001b[38;5;132;01m{\u001b[39;00mdirectory\u001b[38;5;132;01m}\u001b[39;00m\u001b[38;5;124m. \u001b[39m\u001b[38;5;124m\"\u001b[39m\n\u001b[1;32m    322\u001b[0m         \u001b[38;5;124mf\u001b[39m\u001b[38;5;124m\"\u001b[39m\u001b[38;5;124mAllowed formats: \u001b[39m\u001b[38;5;132;01m{\u001b[39;00mALLOWLIST_FORMATS\u001b[38;5;132;01m}\u001b[39;00m\u001b[38;5;124m\"\u001b[39m\n\u001b[1;32m    323\u001b[0m     )\n\u001b[1;32m    325\u001b[0m dataset \u001b[38;5;241m=\u001b[39m paths_and_labels_to_dataset(\n\u001b[1;32m    326\u001b[0m     image_paths\u001b[38;5;241m=\u001b[39mimage_paths,\n\u001b[1;32m    327\u001b[0m     image_size\u001b[38;5;241m=\u001b[39mimage_size,\n\u001b[0;32m   (...)\u001b[0m\n\u001b[1;32m    338\u001b[0m     seed\u001b[38;5;241m=\u001b[39mseed,\n\u001b[1;32m    339\u001b[0m )\n\u001b[1;32m    341\u001b[0m \u001b[38;5;28;01mif\u001b[39;00m batch_size \u001b[38;5;129;01mis\u001b[39;00m \u001b[38;5;129;01mnot\u001b[39;00m \u001b[38;5;28;01mNone\u001b[39;00m:\n",
      "\u001b[0;31mValueError\u001b[0m: No images found in directory Datasets/Mild_Demented_2. Allowed formats: ('.bmp', '.gif', '.jpeg', '.jpg', '.png')"
     ]
    }
   ],
   "source": [
    "# https://medium.com/codex/learning-image-classification-with-cnn-using-tensorflow-4875fdd3ce62\n",
    "data_dir = 'Datasets/Mild_Demented_2' \n",
    "dataset_neural_img = tf.keras.utils.image_dataset_from_directory(data_dir)"
   ]
  },
  {
   "cell_type": "markdown",
   "metadata": {},
   "source": []
  },
  {
   "cell_type": "code",
   "execution_count": null,
   "metadata": {},
   "outputs": [],
   "source": []
  },
  {
   "cell_type": "code",
   "execution_count": null,
   "metadata": {},
   "outputs": [],
   "source": []
  }
 ],
 "metadata": {
  "kernelspec": {
   "display_name": "Python 3 (ipykernel)",
   "language": "python",
   "name": "python3"
  },
  "language_info": {
   "codemirror_mode": {
    "name": "ipython",
    "version": 3
   },
   "file_extension": ".py",
   "mimetype": "text/x-python",
   "name": "python",
   "nbconvert_exporter": "python",
   "pygments_lexer": "ipython3",
   "version": "3.11.4"
  }
 },
 "nbformat": 4,
 "nbformat_minor": 2
}
