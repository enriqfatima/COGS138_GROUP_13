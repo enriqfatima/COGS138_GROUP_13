{
 "cells": [
  {
   "cell_type": "markdown",
   "metadata": {},
   "source": [
    "## Installations: "
   ]
  },
  {
   "cell_type": "code",
   "execution_count": 1,
   "metadata": {},
   "outputs": [],
   "source": [
    "# pip install Pillow"
   ]
  },
  {
   "cell_type": "markdown",
   "metadata": {},
   "source": [
    "## Imports: "
   ]
  },
  {
   "cell_type": "code",
   "execution_count": 2,
   "metadata": {},
   "outputs": [],
   "source": [
    "import pandas as pd\n",
    "import numpy as np\n",
    "import matplotlib.pyplot as plt\n",
    "import sklearn\n",
    "\n",
    "from PIL import Image\n",
    "import glob, os\n"
   ]
  },
  {
   "cell_type": "markdown",
   "metadata": {},
   "source": [
    "## Load Datasets: "
   ]
  },
  {
   "cell_type": "code",
   "execution_count": 30,
   "metadata": {
    "scrolled": true
   },
   "outputs": [
    {
     "data": {
      "text/html": [
       "<div>\n",
       "<style scoped>\n",
       "    .dataframe tbody tr th:only-of-type {\n",
       "        vertical-align: middle;\n",
       "    }\n",
       "\n",
       "    .dataframe tbody tr th {\n",
       "        vertical-align: top;\n",
       "    }\n",
       "\n",
       "    .dataframe thead th {\n",
       "        text-align: right;\n",
       "    }\n",
       "</style>\n",
       "<table border=\"1\" class=\"dataframe\">\n",
       "  <thead>\n",
       "    <tr style=\"text-align: right;\">\n",
       "      <th></th>\n",
       "      <th>Subject ID</th>\n",
       "      <th>MRI ID</th>\n",
       "      <th>Group</th>\n",
       "      <th>M/F</th>\n",
       "      <th>Age</th>\n",
       "      <th>eTIV</th>\n",
       "      <th>nWBV</th>\n",
       "    </tr>\n",
       "  </thead>\n",
       "  <tbody>\n",
       "    <tr>\n",
       "      <th>0</th>\n",
       "      <td>OAS2_0001</td>\n",
       "      <td>OAS2_0001_MR1</td>\n",
       "      <td>Nondemented</td>\n",
       "      <td>M</td>\n",
       "      <td>87</td>\n",
       "      <td>1987</td>\n",
       "      <td>0.696</td>\n",
       "    </tr>\n",
       "    <tr>\n",
       "      <th>129</th>\n",
       "      <td>OAS2_0061</td>\n",
       "      <td>OAS2_0061_MR2</td>\n",
       "      <td>Nondemented</td>\n",
       "      <td>M</td>\n",
       "      <td>70</td>\n",
       "      <td>1660</td>\n",
       "      <td>0.738</td>\n",
       "    </tr>\n",
       "    <tr>\n",
       "      <th>182</th>\n",
       "      <td>OAS2_0086</td>\n",
       "      <td>OAS2_0086_MR2</td>\n",
       "      <td>Nondemented</td>\n",
       "      <td>F</td>\n",
       "      <td>65</td>\n",
       "      <td>1542</td>\n",
       "      <td>0.792</td>\n",
       "    </tr>\n",
       "    <tr>\n",
       "      <th>1</th>\n",
       "      <td>OAS2_0001</td>\n",
       "      <td>OAS2_0001_MR2</td>\n",
       "      <td>Nondemented</td>\n",
       "      <td>M</td>\n",
       "      <td>88</td>\n",
       "      <td>2004</td>\n",
       "      <td>0.681</td>\n",
       "    </tr>\n",
       "    <tr>\n",
       "      <th>189</th>\n",
       "      <td>OAS2_0090</td>\n",
       "      <td>OAS2_0090_MR1</td>\n",
       "      <td>Nondemented</td>\n",
       "      <td>M</td>\n",
       "      <td>73</td>\n",
       "      <td>1548</td>\n",
       "      <td>0.773</td>\n",
       "    </tr>\n",
       "    <tr>\n",
       "      <th>...</th>\n",
       "      <td>...</td>\n",
       "      <td>...</td>\n",
       "      <td>...</td>\n",
       "      <td>...</td>\n",
       "      <td>...</td>\n",
       "      <td>...</td>\n",
       "      <td>...</td>\n",
       "    </tr>\n",
       "    <tr>\n",
       "      <th>348</th>\n",
       "      <td>OAS2_0176</td>\n",
       "      <td>OAS2_0176_MR3</td>\n",
       "      <td>Converted</td>\n",
       "      <td>M</td>\n",
       "      <td>89</td>\n",
       "      <td>1408</td>\n",
       "      <td>0.679</td>\n",
       "    </tr>\n",
       "    <tr>\n",
       "      <th>81</th>\n",
       "      <td>OAS2_0041</td>\n",
       "      <td>OAS2_0041_MR1</td>\n",
       "      <td>Converted</td>\n",
       "      <td>F</td>\n",
       "      <td>71</td>\n",
       "      <td>1289</td>\n",
       "      <td>0.771</td>\n",
       "    </tr>\n",
       "    <tr>\n",
       "      <th>38</th>\n",
       "      <td>OAS2_0020</td>\n",
       "      <td>OAS2_0020_MR3</td>\n",
       "      <td>Converted</td>\n",
       "      <td>M</td>\n",
       "      <td>84</td>\n",
       "      <td>1597</td>\n",
       "      <td>0.666</td>\n",
       "    </tr>\n",
       "    <tr>\n",
       "      <th>37</th>\n",
       "      <td>OAS2_0020</td>\n",
       "      <td>OAS2_0020_MR2</td>\n",
       "      <td>Converted</td>\n",
       "      <td>M</td>\n",
       "      <td>82</td>\n",
       "      <td>1606</td>\n",
       "      <td>0.677</td>\n",
       "    </tr>\n",
       "    <tr>\n",
       "      <th>58</th>\n",
       "      <td>OAS2_0031</td>\n",
       "      <td>OAS2_0031_MR2</td>\n",
       "      <td>Converted</td>\n",
       "      <td>F</td>\n",
       "      <td>88</td>\n",
       "      <td>1445</td>\n",
       "      <td>0.719</td>\n",
       "    </tr>\n",
       "  </tbody>\n",
       "</table>\n",
       "<p>373 rows × 7 columns</p>\n",
       "</div>"
      ],
      "text/plain": [
       "    Subject ID         MRI ID        Group M/F  Age  eTIV   nWBV\n",
       "0    OAS2_0001  OAS2_0001_MR1  Nondemented   M   87  1987  0.696\n",
       "129  OAS2_0061  OAS2_0061_MR2  Nondemented   M   70  1660  0.738\n",
       "182  OAS2_0086  OAS2_0086_MR2  Nondemented   F   65  1542  0.792\n",
       "1    OAS2_0001  OAS2_0001_MR2  Nondemented   M   88  2004  0.681\n",
       "189  OAS2_0090  OAS2_0090_MR1  Nondemented   M   73  1548  0.773\n",
       "..         ...            ...          ...  ..  ...   ...    ...\n",
       "348  OAS2_0176  OAS2_0176_MR3    Converted   M   89  1408  0.679\n",
       "81   OAS2_0041  OAS2_0041_MR1    Converted   F   71  1289  0.771\n",
       "38   OAS2_0020  OAS2_0020_MR3    Converted   M   84  1597  0.666\n",
       "37   OAS2_0020  OAS2_0020_MR2    Converted   M   82  1606  0.677\n",
       "58   OAS2_0031  OAS2_0031_MR2    Converted   F   88  1445  0.719\n",
       "\n",
       "[373 rows x 7 columns]"
      ]
     },
     "execution_count": 30,
     "metadata": {},
     "output_type": "execute_result"
    }
   ],
   "source": [
    "dementia_dataset=pd.read_csv('dementia_dataset.csv') \n",
    "dementia_dataset=dementia_dataset.drop(columns=['Visit', 'Hand', 'MR Delay', 'SES', 'MMSE', 'EDUC', 'CDR', 'ASF'])\n",
    "dementia_dataset.sort_values('Group', ascending=False)"
   ]
  },
  {
   "cell_type": "code",
   "execution_count": 37,
   "metadata": {},
   "outputs": [
    {
     "name": "stdout",
     "output_type": "stream",
     "text": [
      "Defaulting to user installation because normal site-packages is not writeable\n",
      "Collecting opencv-python\n",
      "  Downloading opencv_python-4.9.0.80-cp37-abi3-manylinux_2_17_x86_64.manylinux2014_x86_64.whl (62.2 MB)\n",
      "\u001b[K     |████████████████████████████████| 62.2 MB 35 kB/s s eta 0:00:01\n",
      "\u001b[?25hRequirement already satisfied: numpy>=1.19.3 in /opt/conda/lib/python3.9/site-packages (from opencv-python) (1.22.4)\n",
      "Installing collected packages: opencv-python\n",
      "Successfully installed opencv-python-4.9.0.80\n",
      "Note: you may need to restart the kernel to use updated packages.\n"
     ]
    }
   ],
   "source": [
    "pip install opencv-python"
   ]
  },
  {
   "cell_type": "code",
   "execution_count": 39,
   "metadata": {},
   "outputs": [],
   "source": [
    "from pathlib import Path\n",
    "import imghdr\n",
    "\n",
    "data_dir = 'D:\\Millet Classification\\Millet_Dataset'\n",
    "file_extensions = [\".png\", \".jpg\", \".jpeg\"]  # image file extensions from the downloaded images\n",
    "file_types_accepted_by_tf = [\"bmp\", \"gif\", \"jpeg\", \"png\"] # image extensions accepted by TensorFlow\n",
    "for filepath in Path(data_dir).rglob(\"*\"):\n",
    "    if filepath.suffix.lower() in file_extensions:\n",
    "        img_type = imghdr.what(filepath)\n",
    "        if img_type is None:\n",
    "            print(f\"{filepath} is not an image\")\n",
    "        elif img_type not in file_types_accepted_by_tf:\n",
    "            print(f\"{filepath} is a {img_type}, not accepted by TensorFlow\")\n",
    "            \n",
    "import cv2\n",
    "import os\n",
    "from pathlib import Path\n",
    "data_dir = 'D:\\Millet Classification\\Millet_Dataset'\n",
    "\n",
    "def jpg_to_jpeg(data_dir):\n",
    "    for dir_name in os.listdir(data_dir):\n",
    "        files = os.path.join(data_dir,dir_name)\n",
    "        for filepaths in os.listdir(files):\n",
    "            file_names = os.path.join(files,filepaths)\n",
    "            if file_names.endswith(\".jpg\") or file_names.endswith(\".JPG\"):\n",
    "                img = cv2.imread(str(file_names))\n",
    "                cv2.imwrite(file_names[0:-4]+\".jpeg\", img)\n",
    "                os.remove(file_names)"
   ]
  },
  {
   "cell_type": "markdown",
   "metadata": {},
   "source": [
    "##### source: \n",
    "https://stackoverflow.com/questions/51178166/iterate-through-folder-with-pillow-image-open"
   ]
  },
  {
   "cell_type": "code",
   "execution_count": 40,
   "metadata": {},
   "outputs": [
    {
     "ename": "NotADirectoryError",
     "evalue": "[Errno 20] Not a directory: 'dementia_dataset.csv'",
     "output_type": "error",
     "traceback": [
      "\u001b[0;31m---------------------------------------------------------------------------\u001b[0m",
      "\u001b[0;31mNotADirectoryError\u001b[0m                        Traceback (most recent call last)",
      "\u001b[0;32m/tmp/ipykernel_160/431960148.py\u001b[0m in \u001b[0;36m<module>\u001b[0;34m\u001b[0m\n\u001b[0;32m----> 1\u001b[0;31m \u001b[0;32mfor\u001b[0m \u001b[0mfilename\u001b[0m \u001b[0;32min\u001b[0m \u001b[0mos\u001b[0m\u001b[0;34m.\u001b[0m\u001b[0mlistdir\u001b[0m\u001b[0;34m(\u001b[0m\u001b[0;34m'dementia_dataset.csv'\u001b[0m\u001b[0;34m)\u001b[0m\u001b[0;34m:\u001b[0m\u001b[0;34m\u001b[0m\u001b[0;34m\u001b[0m\u001b[0m\n\u001b[0m\u001b[1;32m      2\u001b[0m     \u001b[0;32mif\u001b[0m \u001b[0mfilename\u001b[0m\u001b[0;34m.\u001b[0m\u001b[0mendswith\u001b[0m\u001b[0;34m(\u001b[0m\u001b[0;34m'.jpg'\u001b[0m\u001b[0;34m)\u001b[0m\u001b[0;34m:\u001b[0m\u001b[0;34m\u001b[0m\u001b[0;34m\u001b[0m\u001b[0m\n\u001b[1;32m      3\u001b[0m         \u001b[0mprint\u001b[0m\u001b[0;34m(\u001b[0m\u001b[0mfilename\u001b[0m\u001b[0;34m)\u001b[0m\u001b[0;34m\u001b[0m\u001b[0;34m\u001b[0m\u001b[0m\n",
      "\u001b[0;31mNotADirectoryError\u001b[0m: [Errno 20] Not a directory: 'dementia_dataset.csv'"
     ]
    }
   ],
   "source": [
    "for filename in os.listdir('dementia_dataset.csv'):\n",
    "    if filename.endswith('.jpg'):\n",
    "        print(filename)"
   ]
  },
  {
   "cell_type": "markdown",
   "metadata": {},
   "source": [
    "##### source: \n",
    "https://stackoverflow.com/questions/51178166/iterate-through-folder-with-pillow-image-open\n",
    "\n",
    "!! CAUTION !!\n",
    "\n",
    "Need to remove the # from img.show() and all files from the folder will open"
   ]
  },
  {
   "cell_type": "code",
   "execution_count": null,
   "metadata": {},
   "outputs": [],
   "source": [
    "images = glob.glob(\"Datasets/Moderate_Demented/*.jpg\")\n",
    "for image in images:\n",
    "    with open(image, 'rb') as file:\n",
    "        img = Image.open(file)\n",
    "        # img.show()\n"
   ]
  }
 ],
 "metadata": {
  "kernelspec": {
   "display_name": "Python 3 (ipykernel)",
   "language": "python",
   "name": "python3"
  },
  "language_info": {
   "codemirror_mode": {
    "name": "ipython",
    "version": 3
   },
   "file_extension": ".py",
   "mimetype": "text/x-python",
   "name": "python",
   "nbconvert_exporter": "python",
   "pygments_lexer": "ipython3",
   "version": "3.9.5"
  }
 },
 "nbformat": 4,
 "nbformat_minor": 2
}
