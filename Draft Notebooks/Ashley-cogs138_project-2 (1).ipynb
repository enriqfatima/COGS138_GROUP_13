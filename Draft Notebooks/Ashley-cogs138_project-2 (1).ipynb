{
 "cells": [
  {
   "cell_type": "markdown",
   "metadata": {},
   "source": [
    "# COGS 138 Final Project\n",
    "\n",
    "## Permissions\n",
    "\n",
    "Place an `X` in the appropriate bracket below to specify if you would like your group's project to be made available to the public. (Note that student names will be included (but PIDs will be scraped from any groups who include their PIDs).\n",
    "\n",
    "* [  ] YES - make available\n",
    "* [  ] NO - keep private\n",
    "\n",
    "# Overview\n",
    "\n",
    "Though research dementia has been conducted many times throughout science history, we would like to explore this world ourselves. We have taken two datasets from a public source that include many demographic factors about demented and nondemented patients, and we will use those datasets to perform an exploratory analysis of fluctuations in brain volume. Additionally, using numerical values of normal brain volume in male and female patients, we want to perform an Pearson's Correlation Coefficient to compare normal brain volume to the brain volume of someone who has dementia separated by gender. Moving forward into our project, we will prototype a predicitive model to predict dementia using various images found on a publicly available dataset. Using computer vision with a python package called 'tensorflow', we will demo our predicitve model using images ranging from nondemented, very mild demented, and mild demented. Our purpose for using not as severe case images for diagnoses dementia patients is because we want to analyze whether dementia can be predicted and caught early on. Which, in turn, could create new opportunities for better treatment plans and diagnosis."
   ]
  },
  {
   "cell_type": "markdown",
   "metadata": {},
   "source": [
    "## Names"
   ]
  },
  {
   "cell_type": "markdown",
   "metadata": {},
   "source": [
    "- Fatima Enriquez\n",
    "- Tiffany Gunawan\n",
    "- Hiroki Ito\n",
    "- Ashley Chavarria"
   ]
  },
  {
   "cell_type": "markdown",
   "metadata": {},
   "source": [
    "# Reseach Question"
   ]
  },
  {
   "cell_type": "markdown",
   "metadata": {},
   "source": [
    "What are the distinct patterns of brain volume that differentiate patients with dementia from healthy controls, distinctively between gender and their level of dementia? Can these identified differences be utilized to develop a predictive model for disease progression in dementia patients?"
   ]
  },
  {
   "cell_type": "markdown",
   "metadata": {},
   "source": [
    "# Background & Prior Work"
   ]
  },
  {
   "cell_type": "markdown",
   "metadata": {},
   "source": [
    "### Introduction\n",
    "In this project, our group wants to explore the differences between demented and nondemented patients. This topic piqued our interest particularly because it is a very common symptom that a lot of people and it has been widely studied by other scientist. As a result, creating better diagnostic tools and improving treatment plans and management. We also take into consideration those who take care of loved ones with dimentia, as it has been discussed by many people as a physicall and mentally exhausting event. There are a plethora of Reddit posts we have found in our research of this topic of people describing the saddness, anger, and frustration that comes along with treating dementia - some even finding humour in their situations.</a>[<sup>1</sup>](#cite_note-1) After our findings via the internet, we grew sympathy and a greater understanding of the effects of dementia on not just patients who have it, but those around them as well. \n",
    "\n",
    "1. <a name=\"cite_note-1\"></a>[^](#cite_ref-1) lottieslady (Dec, 2023) Those who have had a parent/friend/loved one with dementia, how did you help them? How did you help yourself cope with their declining state? *Reddit*. https://www.reddit.com/r/AskOldPeople/comments/190u5qt/those_who_have_had_a_parentfriendloved_one_with/\n",
    "\n",
    "\n",
    "\n",
    "\n",
    "### Background Work\n",
    "\n",
    "According to the Alzheimer's Association, Demetia is a general term for loss of memory, language, problem-solving and other thinking abilites that can vary in severity, overall interfering with a person's daily life. It's not a single disease, rather this umbrella term to describe a collection of symptoms if they are living with a disease, most notably Alzheimer's Disease. </a>[<sup>1</sup>](#cite_note-1) Alzheimer's is a very common type of dementia with progressive symptoms, starting with mild memory loss and possibly leading to the loss of ability to carry on a conversation and respond to your general surroundings. According to the CDC, scientists do not fully know what causes Alzheimer’s disease, but there are multiple factors that can affect each person differently: age, family history, changes in the brain, and possibly education, diet, and environment. Most of what is known are the symptoms of Alzheimer’s, typically regarding memory problems being the first warning sign followed by difficulty completing familiar tasks, misplacing things, and changes in mood and behavior. </a>[<sup>2</sup>](#cite_note-2) Our group’s decision to focus on brain atrophy in Dementia patients is per our discussion for a need to create better diagnostic and prognostic tools in managing this debilitating condition.\n",
    "\n",
    "From what we knew before, there is no single test that can determine if a person is living with Dementia. Recently, however, there has been a new usage of biomarkers to help diagnose Alzheimer’s disease, particularly focusing on brain imaging. According to the National Institute on Aging, brain scans are allowing doctors to see different factors that may help in diagnosis via CT, MRI, and PET scan. </a>[<sup>3</sup>](#cite_note-3) Our group specifically wanted to focus on MRI for this project due to its versatility. MRIs can show areas of the brain that have shrunk and repeated MRIs can show a person's brain changes over time, which may lead to evidence of shrinkage and can be use in many diagnoses. </a>[<sup>3</sup>](#cite_note-3)\n",
    "\n",
    "Magnetic resonance imaging is a noninvasive technique that uses magnetic fields and radio waves to produce detailed images of body structures, and similar to CT scans, MRIs can show areas of the brain that have shrunk. Additionally, repeated MRIs can show a person’s brain changes over time, which may lead to evidence of shrinkage and can be used in many diagnoses. </a>[<sup>4</sup>](#cite_note-4) This has our group wondering, if MRIs can be used to note shrinkage in the brain, and according to the NIA, Alzheimer’s results as neuronal death which can affect the brain via tissue death and shrinkage, then we can possibly use MRI as a predictive method for Dementia. \n",
    "\n",
    "In a logitudinal OHSU study done to analyze the rate of brain volume loss in Dementia patients, it was found that the rate of brain volume loss differed greatly among those with intact cognition and stable mild cognitive impairment. It was suggested that monitoring brain volume loss is a key indicator in predicting dementia before symptoms appear. </a>[<sup>5</sup>](#cite_note-5) Additionally, in a prior study done in Sporadic Alzheimer's Disease, it was found that volume loss across the brain can predict the likelihood of developing dementia. </a>[<sup>6</sup>](#cite_note-6) Essentially, the quantification of volume loss across the brain might provide a good prediction of who is in the early stages of diseases like Alzheimer's. \n",
    "\n",
    "\n",
    "\n",
    "1. <a name=\"cite_note-1\"></a>[^](#cite_ref-1) Centers for Disease Control and Prevention. (2020, October 26) Alzheimer’s Disease and Related Dementias. *Alzheimer's Disease and Healthy Aging*. https://www.alz.org/alzheimers-dementia/what-is-dementia\n",
    "\n",
    "2. <a name=\"cite_note-2\"></a>[^](#cite_ref-2) Alzheimer's Society. (n.d.) What is Dementia? *Alzheimer's Disease and Dementia*. https://www.alz.org/alzheimers-dementia/what-is-dementia\n",
    "\n",
    "3. <a name=\"cite_note-3\"></a>[^](#cite_ref-3) National Institute on Aging. (2022, January 21) How Biomarkers Help Diagnose Dementia.  *Alzheimer's symptoms and diagnosis*. https://www.alz.org/alzheimers-dementia/what-is-dementia\n",
    "\n",
    "4. <a name=\"cite_note-4\"></a>[^](#cite_ref-4) John Hopkins Medicine. (n.d.) Magnetic Resonance Imaging (MRI). *Treatments, Tests and Therapies*. https://www.hopkinsmedicine.org/health/treatment-tests-and-therapies/magnetic-resonance-imaging-mri\n",
    " \n",
    "5. <a name=\"cite_note-5\"></a>[^](#cite_ref-5) Oregon Health & Science University. (2004, April 28). OHSU Study:Rate of Brain Volume Loss Predicts Dementia. *OHSU News*. https://news.ohsu.edu/2004/04/28/ohsu-study:rate-of-brain-volume-loss-predicts-dementia\n",
    "\n",
    "6. <a name=\"cite_note-6\"></a>[^](#cite_ref-6) National Library of Medicine. (2013, October 11). Biomarker-based prediction of progression in MCI: Comparison of AD signature and hippocampal volume with spinal fluid amyloid-β and tau. *Front Aging Neuroscience*. https://pubmed.ncbi.nlm.nih.gov/24130528/\n"
   ]
  },
  {
   "cell_type": "markdown",
   "metadata": {},
   "source": [
    "Therefore, quantifying volume loss throughout the brain could offer valuable insights into identifying individuals in the early stages of diseases like Alzheimer's, aiding in early intervention and management strategies. For this project, we would like to take into account the possibility of a differece between gender in Dementia diagnosis. This is especially so since women have a higher risk of developing Dementia during their lifetime where around twice as many women have Alzheimer's Disease compared to men. </a>[<sup>1</sup>](#cite_note-1)\n",
    "\n",
    "Thus, for this project, we chose to separate it into two parts. \n",
    "\n",
    "1. Comparisons in normal brain volume and demented brain volume between males and females\n",
    "2. Computer vision application of multiple fMRI images of patients to prototype a predictive model for the prediction of Alzheimer's Disease\n",
    "\n",
    "\n",
    "1. <a name=\"cite_note-1\"></a>[^](#cite_ref-1) Alzheimer's Society. (2024, March 8). Why is dementia different for women?. *About Dementia*. https://www.alzheimers.org.uk/blog/why-dementia-different-women#:~:text=Women%20have%20a%20greater%20risk,of%20dementia%20–%20compared%20to%20men."
   ]
  },
  {
   "cell_type": "markdown",
   "metadata": {},
   "source": [
    "# Hypothesis"
   ]
  },
  {
   "cell_type": "markdown",
   "metadata": {},
   "source": [
    "We hypothesize that there are significant differences in brain volume between patients with dementia and healthy controls, particularly when considering gender and the level of dementia. Specifically, we expect to observe a decrease in brain volume in dementia patients compared to healthy controls. Since in previous work done by scientists at John Hopkins as mentioned in our writing above, we know that generally brain structures generally do shirnk in patients with dementia, noted via CT scans and MRIs. Additionally from the Alzheimer's society in the UK, we know that women are 2x likely to develop the disease in their lifetime. We believe that in additinon to hypothesizing the general decrease in brain volume, we expect to see larger numerical differences between male and female diagnosed patients. With a potentially more pronounced difference in brain volume women more than men, they can be utilized to develop a predictive model for disease progression in dementia patients, allowing for early detection and improved treatment plans."
   ]
  },
  {
   "cell_type": "markdown",
   "metadata": {},
   "source": [
    "## Installations"
   ]
  },
  {
   "cell_type": "code",
   "execution_count": 1,
   "metadata": {
    "scrolled": true
   },
   "outputs": [],
   "source": [
    "#pip install Pillow"
   ]
  },
  {
   "cell_type": "code",
   "execution_count": 2,
   "metadata": {},
   "outputs": [
    {
     "name": "stdout",
     "output_type": "stream",
     "text": [
      "Defaulting to user installation because normal site-packages is not writeable\n",
      "Requirement already satisfied: opencv-python in ./.local/lib/python3.9/site-packages (4.9.0.80)\n",
      "Requirement already satisfied: numpy>=1.17.0 in ./.local/lib/python3.9/site-packages (from opencv-python) (1.26.4)\n",
      "Note: you may need to restart the kernel to use updated packages.\n"
     ]
    }
   ],
   "source": [
    "pip install opencv-python"
   ]
  },
  {
   "cell_type": "markdown",
   "metadata": {},
   "source": [
    "## Imports: "
   ]
  },
  {
   "cell_type": "code",
   "execution_count": 3,
   "metadata": {},
   "outputs": [
    {
     "name": "stderr",
     "output_type": "stream",
     "text": [
      "/opt/conda/lib/python3.9/site-packages/scipy/__init__.py:146: UserWarning: A NumPy version >=1.16.5 and <1.23.0 is required for this version of SciPy (detected version 1.26.4\n",
      "  warnings.warn(f\"A NumPy version >={np_minversion} and <{np_maxversion}\"\n"
     ]
    }
   ],
   "source": [
    "import pandas as pd\n",
    "import numpy as np\n",
    "import matplotlib.pyplot as plt\n",
    "import sklearn\n",
    "import seaborn as sns\n",
    "\n",
    "from PIL import Image\n",
    "import glob, os\n",
    "\n",
    "from pathlib import Path\n",
    "import imghdr\n",
    "\n",
    "import cv2\n",
    "import os\n",
    "from pathlib import Path"
   ]
  },
  {
   "cell_type": "markdown",
   "metadata": {},
   "source": [
    "# Part 1: Whole Brain Volume Test"
   ]
  },
  {
   "cell_type": "markdown",
   "metadata": {},
   "source": [
    "In the first part of our project, we will be focusing on 2 datasets taken form Oasis, a publicly available source for data on demented and nondemented patients.</a>[<sup>1</sup>](#cite_note-1) In the next parts, we will clean the data perform an exploratory analysis to better understand what the data is demonstrating.\n",
    "\n",
    "1. <a name=\"cite_note-1\"></a>[^](#cite_ref-1) Open access series of imaging studies (OASIS). (n.d.). https://sites.wustl.edu/oasisbrains/ "
   ]
  },
  {
   "cell_type": "markdown",
   "metadata": {},
   "source": [
    "# Data Overview: Wrangling & Cleaning "
   ]
  },
  {
   "cell_type": "markdown",
   "metadata": {},
   "source": [
    "### Dataset #1\n",
    "- Name: Oasis_cross_sectional\n",
    "- Link to dataset: https://sites.wustl.edu/oasisbrains/home/oasis-1/\n",
    "- Number of observations: 436\n",
    "- Number of variables: 12\n",
    "\n",
    "For this dataset, we will be particularly focused on gender (M/F), Estimated total Intracranial volume measured in mm3 (eTIV), and the Clinical Dementia Rating (CDR) - (0 = no dementia, 0.5 = very mild AD, 1 = mild AD, 2 = moderate AD). The dataset also includes other demographics such as:\n",
    "- Handedness (Hand)\n",
    "- Age (Age)\n",
    "- Years of Educaiton (EDUC)\n",
    "- Socioeconomic status (SES)\n",
    "\n",
    "And clinical information:\n",
    "- Mini-Mental State Examination Score (MMSE)\n",
    "- Estimated total intracranial volume (eTIV)\n",
    "- Atlas Scaling Factor (ASF)\n",
    "- Normalized Whole-Brain Volume (nWBV)\n",
    "\n",
    "As we delve into exploratory analysis, we really only care about the gender of the patient and their normalized whole-brain volume. With this dataset, we will clean it and merge it with Dataset #2 to create a larger dataset to perform more analysis."
   ]
  },
  {
   "cell_type": "code",
   "execution_count": 4,
   "metadata": {},
   "outputs": [],
   "source": [
    "oasis_cross_sectional=pd.read_csv('oasis_cross-sectional.csv')"
   ]
  },
  {
   "cell_type": "code",
   "execution_count": 5,
   "metadata": {
    "scrolled": true
   },
   "outputs": [
    {
     "data": {
      "text/html": [
       "<div>\n",
       "<style scoped>\n",
       "    .dataframe tbody tr th:only-of-type {\n",
       "        vertical-align: middle;\n",
       "    }\n",
       "\n",
       "    .dataframe tbody tr th {\n",
       "        vertical-align: top;\n",
       "    }\n",
       "\n",
       "    .dataframe thead th {\n",
       "        text-align: right;\n",
       "    }\n",
       "</style>\n",
       "<table border=\"1\" class=\"dataframe\">\n",
       "  <thead>\n",
       "    <tr style=\"text-align: right;\">\n",
       "      <th></th>\n",
       "      <th>ID</th>\n",
       "      <th>M/F</th>\n",
       "      <th>Hand</th>\n",
       "      <th>Age</th>\n",
       "      <th>Educ</th>\n",
       "      <th>SES</th>\n",
       "      <th>MMSE</th>\n",
       "      <th>CDR</th>\n",
       "      <th>eTIV</th>\n",
       "      <th>nWBV</th>\n",
       "      <th>ASF</th>\n",
       "      <th>Delay</th>\n",
       "    </tr>\n",
       "  </thead>\n",
       "  <tbody>\n",
       "    <tr>\n",
       "      <th>0</th>\n",
       "      <td>OAS1_0001_MR1</td>\n",
       "      <td>F</td>\n",
       "      <td>R</td>\n",
       "      <td>74</td>\n",
       "      <td>2.0</td>\n",
       "      <td>3.0</td>\n",
       "      <td>29.0</td>\n",
       "      <td>0.0</td>\n",
       "      <td>1344</td>\n",
       "      <td>0.743</td>\n",
       "      <td>1.306</td>\n",
       "      <td>NaN</td>\n",
       "    </tr>\n",
       "    <tr>\n",
       "      <th>1</th>\n",
       "      <td>OAS1_0002_MR1</td>\n",
       "      <td>F</td>\n",
       "      <td>R</td>\n",
       "      <td>55</td>\n",
       "      <td>4.0</td>\n",
       "      <td>1.0</td>\n",
       "      <td>29.0</td>\n",
       "      <td>0.0</td>\n",
       "      <td>1147</td>\n",
       "      <td>0.810</td>\n",
       "      <td>1.531</td>\n",
       "      <td>NaN</td>\n",
       "    </tr>\n",
       "    <tr>\n",
       "      <th>2</th>\n",
       "      <td>OAS1_0003_MR1</td>\n",
       "      <td>F</td>\n",
       "      <td>R</td>\n",
       "      <td>73</td>\n",
       "      <td>4.0</td>\n",
       "      <td>3.0</td>\n",
       "      <td>27.0</td>\n",
       "      <td>0.5</td>\n",
       "      <td>1454</td>\n",
       "      <td>0.708</td>\n",
       "      <td>1.207</td>\n",
       "      <td>NaN</td>\n",
       "    </tr>\n",
       "    <tr>\n",
       "      <th>3</th>\n",
       "      <td>OAS1_0004_MR1</td>\n",
       "      <td>M</td>\n",
       "      <td>R</td>\n",
       "      <td>28</td>\n",
       "      <td>NaN</td>\n",
       "      <td>NaN</td>\n",
       "      <td>NaN</td>\n",
       "      <td>NaN</td>\n",
       "      <td>1588</td>\n",
       "      <td>0.803</td>\n",
       "      <td>1.105</td>\n",
       "      <td>NaN</td>\n",
       "    </tr>\n",
       "    <tr>\n",
       "      <th>4</th>\n",
       "      <td>OAS1_0005_MR1</td>\n",
       "      <td>M</td>\n",
       "      <td>R</td>\n",
       "      <td>18</td>\n",
       "      <td>NaN</td>\n",
       "      <td>NaN</td>\n",
       "      <td>NaN</td>\n",
       "      <td>NaN</td>\n",
       "      <td>1737</td>\n",
       "      <td>0.848</td>\n",
       "      <td>1.010</td>\n",
       "      <td>NaN</td>\n",
       "    </tr>\n",
       "  </tbody>\n",
       "</table>\n",
       "</div>"
      ],
      "text/plain": [
       "              ID M/F Hand  Age  Educ  SES  MMSE  CDR  eTIV   nWBV    ASF  \\\n",
       "0  OAS1_0001_MR1   F    R   74   2.0  3.0  29.0  0.0  1344  0.743  1.306   \n",
       "1  OAS1_0002_MR1   F    R   55   4.0  1.0  29.0  0.0  1147  0.810  1.531   \n",
       "2  OAS1_0003_MR1   F    R   73   4.0  3.0  27.0  0.5  1454  0.708  1.207   \n",
       "3  OAS1_0004_MR1   M    R   28   NaN  NaN   NaN  NaN  1588  0.803  1.105   \n",
       "4  OAS1_0005_MR1   M    R   18   NaN  NaN   NaN  NaN  1737  0.848  1.010   \n",
       "\n",
       "   Delay  \n",
       "0    NaN  \n",
       "1    NaN  \n",
       "2    NaN  \n",
       "3    NaN  \n",
       "4    NaN  "
      ]
     },
     "execution_count": 5,
     "metadata": {},
     "output_type": "execute_result"
    }
   ],
   "source": [
    "oasis_cross_sectional.head()"
   ]
  },
  {
   "cell_type": "code",
   "execution_count": 6,
   "metadata": {
    "scrolled": false
   },
   "outputs": [
    {
     "data": {
      "text/plain": [
       "(436, 12)"
      ]
     },
     "execution_count": 6,
     "metadata": {},
     "output_type": "execute_result"
    }
   ],
   "source": [
    "oasis_cross_sectional.shape"
   ]
  },
  {
   "cell_type": "code",
   "execution_count": 7,
   "metadata": {
    "scrolled": true
   },
   "outputs": [
    {
     "data": {
      "text/plain": [
       "ID        object\n",
       "M/F       object\n",
       "Hand      object\n",
       "Age        int64\n",
       "Educ     float64\n",
       "SES      float64\n",
       "MMSE     float64\n",
       "CDR      float64\n",
       "eTIV       int64\n",
       "nWBV     float64\n",
       "ASF      float64\n",
       "Delay    float64\n",
       "dtype: object"
      ]
     },
     "execution_count": 7,
     "metadata": {},
     "output_type": "execute_result"
    }
   ],
   "source": [
    "oasis_cross_sectional.dtypes"
   ]
  },
  {
   "cell_type": "code",
   "execution_count": 8,
   "metadata": {
    "scrolled": true
   },
   "outputs": [
    {
     "data": {
      "text/html": [
       "<div>\n",
       "<style scoped>\n",
       "    .dataframe tbody tr th:only-of-type {\n",
       "        vertical-align: middle;\n",
       "    }\n",
       "\n",
       "    .dataframe tbody tr th {\n",
       "        vertical-align: top;\n",
       "    }\n",
       "\n",
       "    .dataframe thead th {\n",
       "        text-align: right;\n",
       "    }\n",
       "</style>\n",
       "<table border=\"1\" class=\"dataframe\">\n",
       "  <thead>\n",
       "    <tr style=\"text-align: right;\">\n",
       "      <th></th>\n",
       "      <th>Age</th>\n",
       "      <th>Educ</th>\n",
       "      <th>SES</th>\n",
       "      <th>MMSE</th>\n",
       "      <th>CDR</th>\n",
       "      <th>eTIV</th>\n",
       "      <th>nWBV</th>\n",
       "      <th>ASF</th>\n",
       "      <th>Delay</th>\n",
       "    </tr>\n",
       "  </thead>\n",
       "  <tbody>\n",
       "    <tr>\n",
       "      <th>count</th>\n",
       "      <td>436.000000</td>\n",
       "      <td>235.000000</td>\n",
       "      <td>216.000000</td>\n",
       "      <td>235.00000</td>\n",
       "      <td>235.000000</td>\n",
       "      <td>436.000000</td>\n",
       "      <td>436.000000</td>\n",
       "      <td>436.000000</td>\n",
       "      <td>20.00000</td>\n",
       "    </tr>\n",
       "    <tr>\n",
       "      <th>mean</th>\n",
       "      <td>51.357798</td>\n",
       "      <td>3.178723</td>\n",
       "      <td>2.490741</td>\n",
       "      <td>27.06383</td>\n",
       "      <td>0.285106</td>\n",
       "      <td>1481.919725</td>\n",
       "      <td>0.791670</td>\n",
       "      <td>1.198894</td>\n",
       "      <td>20.55000</td>\n",
       "    </tr>\n",
       "    <tr>\n",
       "      <th>std</th>\n",
       "      <td>25.269862</td>\n",
       "      <td>1.311510</td>\n",
       "      <td>1.120593</td>\n",
       "      <td>3.69687</td>\n",
       "      <td>0.383405</td>\n",
       "      <td>158.740866</td>\n",
       "      <td>0.059937</td>\n",
       "      <td>0.128682</td>\n",
       "      <td>23.86249</td>\n",
       "    </tr>\n",
       "    <tr>\n",
       "      <th>min</th>\n",
       "      <td>18.000000</td>\n",
       "      <td>1.000000</td>\n",
       "      <td>1.000000</td>\n",
       "      <td>14.00000</td>\n",
       "      <td>0.000000</td>\n",
       "      <td>1123.000000</td>\n",
       "      <td>0.644000</td>\n",
       "      <td>0.881000</td>\n",
       "      <td>1.00000</td>\n",
       "    </tr>\n",
       "    <tr>\n",
       "      <th>25%</th>\n",
       "      <td>23.000000</td>\n",
       "      <td>2.000000</td>\n",
       "      <td>2.000000</td>\n",
       "      <td>26.00000</td>\n",
       "      <td>0.000000</td>\n",
       "      <td>1367.750000</td>\n",
       "      <td>0.742750</td>\n",
       "      <td>1.111750</td>\n",
       "      <td>2.75000</td>\n",
       "    </tr>\n",
       "    <tr>\n",
       "      <th>50%</th>\n",
       "      <td>54.000000</td>\n",
       "      <td>3.000000</td>\n",
       "      <td>2.000000</td>\n",
       "      <td>29.00000</td>\n",
       "      <td>0.000000</td>\n",
       "      <td>1475.500000</td>\n",
       "      <td>0.809000</td>\n",
       "      <td>1.190000</td>\n",
       "      <td>11.00000</td>\n",
       "    </tr>\n",
       "    <tr>\n",
       "      <th>75%</th>\n",
       "      <td>74.000000</td>\n",
       "      <td>4.000000</td>\n",
       "      <td>3.000000</td>\n",
       "      <td>30.00000</td>\n",
       "      <td>0.500000</td>\n",
       "      <td>1579.250000</td>\n",
       "      <td>0.842000</td>\n",
       "      <td>1.284250</td>\n",
       "      <td>30.75000</td>\n",
       "    </tr>\n",
       "    <tr>\n",
       "      <th>max</th>\n",
       "      <td>96.000000</td>\n",
       "      <td>5.000000</td>\n",
       "      <td>5.000000</td>\n",
       "      <td>30.00000</td>\n",
       "      <td>2.000000</td>\n",
       "      <td>1992.000000</td>\n",
       "      <td>0.893000</td>\n",
       "      <td>1.563000</td>\n",
       "      <td>89.00000</td>\n",
       "    </tr>\n",
       "  </tbody>\n",
       "</table>\n",
       "</div>"
      ],
      "text/plain": [
       "              Age        Educ         SES       MMSE         CDR         eTIV  \\\n",
       "count  436.000000  235.000000  216.000000  235.00000  235.000000   436.000000   \n",
       "mean    51.357798    3.178723    2.490741   27.06383    0.285106  1481.919725   \n",
       "std     25.269862    1.311510    1.120593    3.69687    0.383405   158.740866   \n",
       "min     18.000000    1.000000    1.000000   14.00000    0.000000  1123.000000   \n",
       "25%     23.000000    2.000000    2.000000   26.00000    0.000000  1367.750000   \n",
       "50%     54.000000    3.000000    2.000000   29.00000    0.000000  1475.500000   \n",
       "75%     74.000000    4.000000    3.000000   30.00000    0.500000  1579.250000   \n",
       "max     96.000000    5.000000    5.000000   30.00000    2.000000  1992.000000   \n",
       "\n",
       "             nWBV         ASF     Delay  \n",
       "count  436.000000  436.000000  20.00000  \n",
       "mean     0.791670    1.198894  20.55000  \n",
       "std      0.059937    0.128682  23.86249  \n",
       "min      0.644000    0.881000   1.00000  \n",
       "25%      0.742750    1.111750   2.75000  \n",
       "50%      0.809000    1.190000  11.00000  \n",
       "75%      0.842000    1.284250  30.75000  \n",
       "max      0.893000    1.563000  89.00000  "
      ]
     },
     "execution_count": 8,
     "metadata": {},
     "output_type": "execute_result"
    }
   ],
   "source": [
    "oasis_cross_sectional.describe()"
   ]
  },
  {
   "cell_type": "code",
   "execution_count": 9,
   "metadata": {
    "scrolled": true
   },
   "outputs": [
    {
     "data": {
      "text/html": [
       "<div>\n",
       "<style scoped>\n",
       "    .dataframe tbody tr th:only-of-type {\n",
       "        vertical-align: middle;\n",
       "    }\n",
       "\n",
       "    .dataframe tbody tr th {\n",
       "        vertical-align: top;\n",
       "    }\n",
       "\n",
       "    .dataframe thead th {\n",
       "        text-align: right;\n",
       "    }\n",
       "</style>\n",
       "<table border=\"1\" class=\"dataframe\">\n",
       "  <thead>\n",
       "    <tr style=\"text-align: right;\">\n",
       "      <th></th>\n",
       "      <th>ID</th>\n",
       "      <th>M/F</th>\n",
       "      <th>CDR</th>\n",
       "      <th>eTIV</th>\n",
       "    </tr>\n",
       "  </thead>\n",
       "  <tbody>\n",
       "    <tr>\n",
       "      <th>134</th>\n",
       "      <td>OAS1_0144_MR1</td>\n",
       "      <td>M</td>\n",
       "      <td>NaN</td>\n",
       "      <td>1799</td>\n",
       "    </tr>\n",
       "    <tr>\n",
       "      <th>119</th>\n",
       "      <td>OAS1_0129_MR1</td>\n",
       "      <td>M</td>\n",
       "      <td>NaN</td>\n",
       "      <td>1514</td>\n",
       "    </tr>\n",
       "    <tr>\n",
       "      <th>121</th>\n",
       "      <td>OAS1_0131_MR1</td>\n",
       "      <td>M</td>\n",
       "      <td>NaN</td>\n",
       "      <td>1637</td>\n",
       "    </tr>\n",
       "    <tr>\n",
       "      <th>122</th>\n",
       "      <td>OAS1_0132_MR1</td>\n",
       "      <td>M</td>\n",
       "      <td>NaN</td>\n",
       "      <td>1596</td>\n",
       "    </tr>\n",
       "    <tr>\n",
       "      <th>300</th>\n",
       "      <td>OAS1_0332_MR1</td>\n",
       "      <td>M</td>\n",
       "      <td>0.0</td>\n",
       "      <td>1734</td>\n",
       "    </tr>\n",
       "  </tbody>\n",
       "</table>\n",
       "</div>"
      ],
      "text/plain": [
       "                ID M/F  CDR  eTIV\n",
       "134  OAS1_0144_MR1   M  NaN  1799\n",
       "119  OAS1_0129_MR1   M  NaN  1514\n",
       "121  OAS1_0131_MR1   M  NaN  1637\n",
       "122  OAS1_0132_MR1   M  NaN  1596\n",
       "300  OAS1_0332_MR1   M  0.0  1734"
      ]
     },
     "execution_count": 9,
     "metadata": {},
     "output_type": "execute_result"
    }
   ],
   "source": [
    "# Since we only care about sex and brain volume, we will drop all other columns\n",
    "# We will also arrange our dataset on the 'M/F' column for easier merging\n",
    "\n",
    "oasis_cross_sectional=oasis_cross_sectional.drop(columns=['Age','Hand', 'Educ', 'SES', 'MMSE', 'ASF', 'Delay', 'nWBV'])\n",
    "oasis_cross_sectional=oasis_cross_sectional.sort_values('M/F', ascending=False)\n",
    "oasis_cross_sectional.head()"
   ]
  },
  {
   "cell_type": "code",
   "execution_count": 10,
   "metadata": {},
   "outputs": [
    {
     "data": {
      "text/html": [
       "<div>\n",
       "<style scoped>\n",
       "    .dataframe tbody tr th:only-of-type {\n",
       "        vertical-align: middle;\n",
       "    }\n",
       "\n",
       "    .dataframe tbody tr th {\n",
       "        vertical-align: top;\n",
       "    }\n",
       "\n",
       "    .dataframe thead th {\n",
       "        text-align: right;\n",
       "    }\n",
       "</style>\n",
       "<table border=\"1\" class=\"dataframe\">\n",
       "  <thead>\n",
       "    <tr style=\"text-align: right;\">\n",
       "      <th></th>\n",
       "      <th>ID</th>\n",
       "      <th>M/F</th>\n",
       "      <th>CDR</th>\n",
       "      <th>eTIV</th>\n",
       "    </tr>\n",
       "  </thead>\n",
       "  <tbody>\n",
       "    <tr>\n",
       "      <th>300</th>\n",
       "      <td>OAS1_0332_MR1</td>\n",
       "      <td>M</td>\n",
       "      <td>0.0</td>\n",
       "      <td>1734</td>\n",
       "    </tr>\n",
       "    <tr>\n",
       "      <th>124</th>\n",
       "      <td>OAS1_0134_MR1</td>\n",
       "      <td>M</td>\n",
       "      <td>1.0</td>\n",
       "      <td>1494</td>\n",
       "    </tr>\n",
       "    <tr>\n",
       "      <th>125</th>\n",
       "      <td>OAS1_0135_MR1</td>\n",
       "      <td>M</td>\n",
       "      <td>0.0</td>\n",
       "      <td>1561</td>\n",
       "    </tr>\n",
       "    <tr>\n",
       "      <th>361</th>\n",
       "      <td>OAS1_0399_MR1</td>\n",
       "      <td>M</td>\n",
       "      <td>1.0</td>\n",
       "      <td>1569</td>\n",
       "    </tr>\n",
       "    <tr>\n",
       "      <th>360</th>\n",
       "      <td>OAS1_0398_MR1</td>\n",
       "      <td>M</td>\n",
       "      <td>0.0</td>\n",
       "      <td>1769</td>\n",
       "    </tr>\n",
       "    <tr>\n",
       "      <th>...</th>\n",
       "      <td>...</td>\n",
       "      <td>...</td>\n",
       "      <td>...</td>\n",
       "      <td>...</td>\n",
       "    </tr>\n",
       "    <tr>\n",
       "      <th>185</th>\n",
       "      <td>OAS1_0203_MR1</td>\n",
       "      <td>F</td>\n",
       "      <td>0.0</td>\n",
       "      <td>1360</td>\n",
       "    </tr>\n",
       "    <tr>\n",
       "      <th>183</th>\n",
       "      <td>OAS1_0201_MR1</td>\n",
       "      <td>F</td>\n",
       "      <td>0.0</td>\n",
       "      <td>1460</td>\n",
       "    </tr>\n",
       "    <tr>\n",
       "      <th>182</th>\n",
       "      <td>OAS1_0200_MR1</td>\n",
       "      <td>F</td>\n",
       "      <td>0.0</td>\n",
       "      <td>1366</td>\n",
       "    </tr>\n",
       "    <tr>\n",
       "      <th>179</th>\n",
       "      <td>OAS1_0197_MR1</td>\n",
       "      <td>F</td>\n",
       "      <td>0.0</td>\n",
       "      <td>1154</td>\n",
       "    </tr>\n",
       "    <tr>\n",
       "      <th>178</th>\n",
       "      <td>OAS1_0195_MR1</td>\n",
       "      <td>F</td>\n",
       "      <td>0.0</td>\n",
       "      <td>1346</td>\n",
       "    </tr>\n",
       "  </tbody>\n",
       "</table>\n",
       "<p>235 rows × 4 columns</p>\n",
       "</div>"
      ],
      "text/plain": [
       "                ID M/F  CDR  eTIV\n",
       "300  OAS1_0332_MR1   M  0.0  1734\n",
       "124  OAS1_0134_MR1   M  1.0  1494\n",
       "125  OAS1_0135_MR1   M  0.0  1561\n",
       "361  OAS1_0399_MR1   M  1.0  1569\n",
       "360  OAS1_0398_MR1   M  0.0  1769\n",
       "..             ...  ..  ...   ...\n",
       "185  OAS1_0203_MR1   F  0.0  1360\n",
       "183  OAS1_0201_MR1   F  0.0  1460\n",
       "182  OAS1_0200_MR1   F  0.0  1366\n",
       "179  OAS1_0197_MR1   F  0.0  1154\n",
       "178  OAS1_0195_MR1   F  0.0  1346\n",
       "\n",
       "[235 rows x 4 columns]"
      ]
     },
     "execution_count": 10,
     "metadata": {},
     "output_type": "execute_result"
    }
   ],
   "source": [
    "# Removing observations without a CDR measurement\n",
    "oasis_cross_sectional = oasis_cross_sectional.dropna(subset=['CDR'])\n",
    "oasis_cross_sectional"
   ]
  },
  {
   "cell_type": "code",
   "execution_count": 11,
   "metadata": {},
   "outputs": [
    {
     "data": {
      "text/html": [
       "<div>\n",
       "<style scoped>\n",
       "    .dataframe tbody tr th:only-of-type {\n",
       "        vertical-align: middle;\n",
       "    }\n",
       "\n",
       "    .dataframe tbody tr th {\n",
       "        vertical-align: top;\n",
       "    }\n",
       "\n",
       "    .dataframe thead th {\n",
       "        text-align: right;\n",
       "    }\n",
       "</style>\n",
       "<table border=\"1\" class=\"dataframe\">\n",
       "  <thead>\n",
       "    <tr style=\"text-align: right;\">\n",
       "      <th></th>\n",
       "      <th>CDR</th>\n",
       "      <th>eTIV</th>\n",
       "    </tr>\n",
       "  </thead>\n",
       "  <tbody>\n",
       "    <tr>\n",
       "      <th>count</th>\n",
       "      <td>235.000000</td>\n",
       "      <td>235.000000</td>\n",
       "    </tr>\n",
       "    <tr>\n",
       "      <th>mean</th>\n",
       "      <td>0.285106</td>\n",
       "      <td>1459.497872</td>\n",
       "    </tr>\n",
       "    <tr>\n",
       "      <th>std</th>\n",
       "      <td>0.383405</td>\n",
       "      <td>160.368070</td>\n",
       "    </tr>\n",
       "    <tr>\n",
       "      <th>min</th>\n",
       "      <td>0.000000</td>\n",
       "      <td>1123.000000</td>\n",
       "    </tr>\n",
       "    <tr>\n",
       "      <th>25%</th>\n",
       "      <td>0.000000</td>\n",
       "      <td>1348.000000</td>\n",
       "    </tr>\n",
       "    <tr>\n",
       "      <th>50%</th>\n",
       "      <td>0.000000</td>\n",
       "      <td>1447.000000</td>\n",
       "    </tr>\n",
       "    <tr>\n",
       "      <th>75%</th>\n",
       "      <td>0.500000</td>\n",
       "      <td>1548.000000</td>\n",
       "    </tr>\n",
       "    <tr>\n",
       "      <th>max</th>\n",
       "      <td>2.000000</td>\n",
       "      <td>1992.000000</td>\n",
       "    </tr>\n",
       "  </tbody>\n",
       "</table>\n",
       "</div>"
      ],
      "text/plain": [
       "              CDR         eTIV\n",
       "count  235.000000   235.000000\n",
       "mean     0.285106  1459.497872\n",
       "std      0.383405   160.368070\n",
       "min      0.000000  1123.000000\n",
       "25%      0.000000  1348.000000\n",
       "50%      0.000000  1447.000000\n",
       "75%      0.500000  1548.000000\n",
       "max      2.000000  1992.000000"
      ]
     },
     "execution_count": 11,
     "metadata": {},
     "output_type": "execute_result"
    }
   ],
   "source": [
    "# Descriptive statistics for eTIV and CDR\n",
    "# Note the lowest brain volume detected was 1123 mm3 and the max was 1992 mm3 between male and female\n",
    "\n",
    "oasis_cross_sectional.describe(include=[np.number])"
   ]
  },
  {
   "cell_type": "markdown",
   "metadata": {},
   "source": [
    "### Dataset #2\n",
    "- Name: Oasis_longitudinal_demographics\n",
    "- Link to dataset: https://sites.wustl.edu/oasisbrains/home/oasis-2/\n",
    "- Number of observations: 373\n",
    "- Number of variables: 15\n",
    "\n",
    "Simiarly with the first dataset, we will be particularly focused on gender (M/F), Estimated total Intracranial volume measured in mm3 (eTIV) and the Clinical Dementia Rating (CDR) - (0 = no dementia, 0.5 = very mild AD, 1 = mild AD, 2 = moderate AD). \n",
    "\n",
    "\n",
    "The dataset also includes other demographics such as:\n",
    "- Handedness (Hand)\n",
    "- Age (Age)\n",
    "- Years of Educaiton (EDUC)\n",
    "- Socioeconomic status (SES)\n",
    "\n",
    "And clinical information:\n",
    "- Mini-Mental State Examination Score (MMSE)\n",
    "- Atlas Scaling Factor (ASF)\n",
    "- Normalized Whole-Brain Volume (nWBV)\n",
    "\n",
    "After cleaning the data below, we will merge this dataset with Dataset #1 by their Clinical Dementia Rating (CDR). "
   ]
  },
  {
   "cell_type": "code",
   "execution_count": 12,
   "metadata": {},
   "outputs": [],
   "source": [
    "oasis_longitudinal_demographics=pd.read_csv('oasis_longitudinal_demographics.csv')"
   ]
  },
  {
   "cell_type": "code",
   "execution_count": 13,
   "metadata": {
    "scrolled": false
   },
   "outputs": [
    {
     "data": {
      "text/html": [
       "<div>\n",
       "<style scoped>\n",
       "    .dataframe tbody tr th:only-of-type {\n",
       "        vertical-align: middle;\n",
       "    }\n",
       "\n",
       "    .dataframe tbody tr th {\n",
       "        vertical-align: top;\n",
       "    }\n",
       "\n",
       "    .dataframe thead th {\n",
       "        text-align: right;\n",
       "    }\n",
       "</style>\n",
       "<table border=\"1\" class=\"dataframe\">\n",
       "  <thead>\n",
       "    <tr style=\"text-align: right;\">\n",
       "      <th></th>\n",
       "      <th>Subject ID</th>\n",
       "      <th>MRI ID</th>\n",
       "      <th>Group</th>\n",
       "      <th>Visit</th>\n",
       "      <th>MR Delay</th>\n",
       "      <th>M/F</th>\n",
       "      <th>Hand</th>\n",
       "      <th>Age</th>\n",
       "      <th>EDUC</th>\n",
       "      <th>SES</th>\n",
       "      <th>MMSE</th>\n",
       "      <th>CDR</th>\n",
       "      <th>eTIV</th>\n",
       "      <th>nWBV</th>\n",
       "      <th>ASF</th>\n",
       "    </tr>\n",
       "  </thead>\n",
       "  <tbody>\n",
       "    <tr>\n",
       "      <th>0</th>\n",
       "      <td>OAS2_0001</td>\n",
       "      <td>OAS2_0001_MR1</td>\n",
       "      <td>Nondemented</td>\n",
       "      <td>1</td>\n",
       "      <td>0</td>\n",
       "      <td>M</td>\n",
       "      <td>R</td>\n",
       "      <td>87</td>\n",
       "      <td>14</td>\n",
       "      <td>2.0</td>\n",
       "      <td>27.0</td>\n",
       "      <td>0.0</td>\n",
       "      <td>1987</td>\n",
       "      <td>0.696</td>\n",
       "      <td>0.883</td>\n",
       "    </tr>\n",
       "    <tr>\n",
       "      <th>1</th>\n",
       "      <td>OAS2_0001</td>\n",
       "      <td>OAS2_0001_MR2</td>\n",
       "      <td>Nondemented</td>\n",
       "      <td>2</td>\n",
       "      <td>457</td>\n",
       "      <td>M</td>\n",
       "      <td>R</td>\n",
       "      <td>88</td>\n",
       "      <td>14</td>\n",
       "      <td>2.0</td>\n",
       "      <td>30.0</td>\n",
       "      <td>0.0</td>\n",
       "      <td>2004</td>\n",
       "      <td>0.681</td>\n",
       "      <td>0.876</td>\n",
       "    </tr>\n",
       "    <tr>\n",
       "      <th>2</th>\n",
       "      <td>OAS2_0002</td>\n",
       "      <td>OAS2_0002_MR1</td>\n",
       "      <td>Demented</td>\n",
       "      <td>1</td>\n",
       "      <td>0</td>\n",
       "      <td>M</td>\n",
       "      <td>R</td>\n",
       "      <td>75</td>\n",
       "      <td>12</td>\n",
       "      <td>NaN</td>\n",
       "      <td>23.0</td>\n",
       "      <td>0.5</td>\n",
       "      <td>1678</td>\n",
       "      <td>0.736</td>\n",
       "      <td>1.046</td>\n",
       "    </tr>\n",
       "    <tr>\n",
       "      <th>3</th>\n",
       "      <td>OAS2_0002</td>\n",
       "      <td>OAS2_0002_MR2</td>\n",
       "      <td>Demented</td>\n",
       "      <td>2</td>\n",
       "      <td>560</td>\n",
       "      <td>M</td>\n",
       "      <td>R</td>\n",
       "      <td>76</td>\n",
       "      <td>12</td>\n",
       "      <td>NaN</td>\n",
       "      <td>28.0</td>\n",
       "      <td>0.5</td>\n",
       "      <td>1738</td>\n",
       "      <td>0.713</td>\n",
       "      <td>1.010</td>\n",
       "    </tr>\n",
       "    <tr>\n",
       "      <th>4</th>\n",
       "      <td>OAS2_0002</td>\n",
       "      <td>OAS2_0002_MR3</td>\n",
       "      <td>Demented</td>\n",
       "      <td>3</td>\n",
       "      <td>1895</td>\n",
       "      <td>M</td>\n",
       "      <td>R</td>\n",
       "      <td>80</td>\n",
       "      <td>12</td>\n",
       "      <td>NaN</td>\n",
       "      <td>22.0</td>\n",
       "      <td>0.5</td>\n",
       "      <td>1698</td>\n",
       "      <td>0.701</td>\n",
       "      <td>1.034</td>\n",
       "    </tr>\n",
       "  </tbody>\n",
       "</table>\n",
       "</div>"
      ],
      "text/plain": [
       "  Subject ID         MRI ID        Group  Visit  MR Delay M/F Hand  Age  EDUC  \\\n",
       "0  OAS2_0001  OAS2_0001_MR1  Nondemented      1         0   M    R   87    14   \n",
       "1  OAS2_0001  OAS2_0001_MR2  Nondemented      2       457   M    R   88    14   \n",
       "2  OAS2_0002  OAS2_0002_MR1     Demented      1         0   M    R   75    12   \n",
       "3  OAS2_0002  OAS2_0002_MR2     Demented      2       560   M    R   76    12   \n",
       "4  OAS2_0002  OAS2_0002_MR3     Demented      3      1895   M    R   80    12   \n",
       "\n",
       "   SES  MMSE  CDR  eTIV   nWBV    ASF  \n",
       "0  2.0  27.0  0.0  1987  0.696  0.883  \n",
       "1  2.0  30.0  0.0  2004  0.681  0.876  \n",
       "2  NaN  23.0  0.5  1678  0.736  1.046  \n",
       "3  NaN  28.0  0.5  1738  0.713  1.010  \n",
       "4  NaN  22.0  0.5  1698  0.701  1.034  "
      ]
     },
     "execution_count": 13,
     "metadata": {},
     "output_type": "execute_result"
    }
   ],
   "source": [
    "oasis_longitudinal_demographics.head()"
   ]
  },
  {
   "cell_type": "code",
   "execution_count": 14,
   "metadata": {
    "scrolled": true
   },
   "outputs": [
    {
     "data": {
      "text/plain": [
       "(373, 15)"
      ]
     },
     "execution_count": 14,
     "metadata": {},
     "output_type": "execute_result"
    }
   ],
   "source": [
    "oasis_longitudinal_demographics.shape"
   ]
  },
  {
   "cell_type": "code",
   "execution_count": 15,
   "metadata": {
    "scrolled": true
   },
   "outputs": [
    {
     "data": {
      "text/plain": [
       "Subject ID     object\n",
       "MRI ID         object\n",
       "Group          object\n",
       "Visit           int64\n",
       "MR Delay        int64\n",
       "M/F            object\n",
       "Hand           object\n",
       "Age             int64\n",
       "EDUC            int64\n",
       "SES           float64\n",
       "MMSE          float64\n",
       "CDR           float64\n",
       "eTIV            int64\n",
       "nWBV          float64\n",
       "ASF           float64\n",
       "dtype: object"
      ]
     },
     "execution_count": 15,
     "metadata": {},
     "output_type": "execute_result"
    }
   ],
   "source": [
    "oasis_longitudinal_demographics.dtypes"
   ]
  },
  {
   "cell_type": "code",
   "execution_count": 16,
   "metadata": {
    "scrolled": true
   },
   "outputs": [
    {
     "data": {
      "text/html": [
       "<div>\n",
       "<style scoped>\n",
       "    .dataframe tbody tr th:only-of-type {\n",
       "        vertical-align: middle;\n",
       "    }\n",
       "\n",
       "    .dataframe tbody tr th {\n",
       "        vertical-align: top;\n",
       "    }\n",
       "\n",
       "    .dataframe thead th {\n",
       "        text-align: right;\n",
       "    }\n",
       "</style>\n",
       "<table border=\"1\" class=\"dataframe\">\n",
       "  <thead>\n",
       "    <tr style=\"text-align: right;\">\n",
       "      <th></th>\n",
       "      <th>Visit</th>\n",
       "      <th>MR Delay</th>\n",
       "      <th>Age</th>\n",
       "      <th>EDUC</th>\n",
       "      <th>SES</th>\n",
       "      <th>MMSE</th>\n",
       "      <th>CDR</th>\n",
       "      <th>eTIV</th>\n",
       "      <th>nWBV</th>\n",
       "      <th>ASF</th>\n",
       "    </tr>\n",
       "  </thead>\n",
       "  <tbody>\n",
       "    <tr>\n",
       "      <th>count</th>\n",
       "      <td>373.000000</td>\n",
       "      <td>373.000000</td>\n",
       "      <td>373.000000</td>\n",
       "      <td>373.000000</td>\n",
       "      <td>354.000000</td>\n",
       "      <td>371.000000</td>\n",
       "      <td>373.000000</td>\n",
       "      <td>373.000000</td>\n",
       "      <td>373.000000</td>\n",
       "      <td>373.000000</td>\n",
       "    </tr>\n",
       "    <tr>\n",
       "      <th>mean</th>\n",
       "      <td>1.882038</td>\n",
       "      <td>595.104558</td>\n",
       "      <td>77.013405</td>\n",
       "      <td>14.597855</td>\n",
       "      <td>2.460452</td>\n",
       "      <td>27.342318</td>\n",
       "      <td>0.290885</td>\n",
       "      <td>1488.128686</td>\n",
       "      <td>0.729568</td>\n",
       "      <td>1.195461</td>\n",
       "    </tr>\n",
       "    <tr>\n",
       "      <th>std</th>\n",
       "      <td>0.922843</td>\n",
       "      <td>635.485118</td>\n",
       "      <td>7.640957</td>\n",
       "      <td>2.876339</td>\n",
       "      <td>1.134005</td>\n",
       "      <td>3.683244</td>\n",
       "      <td>0.374557</td>\n",
       "      <td>176.139286</td>\n",
       "      <td>0.037135</td>\n",
       "      <td>0.138092</td>\n",
       "    </tr>\n",
       "    <tr>\n",
       "      <th>min</th>\n",
       "      <td>1.000000</td>\n",
       "      <td>0.000000</td>\n",
       "      <td>60.000000</td>\n",
       "      <td>6.000000</td>\n",
       "      <td>1.000000</td>\n",
       "      <td>4.000000</td>\n",
       "      <td>0.000000</td>\n",
       "      <td>1106.000000</td>\n",
       "      <td>0.644000</td>\n",
       "      <td>0.876000</td>\n",
       "    </tr>\n",
       "    <tr>\n",
       "      <th>25%</th>\n",
       "      <td>1.000000</td>\n",
       "      <td>0.000000</td>\n",
       "      <td>71.000000</td>\n",
       "      <td>12.000000</td>\n",
       "      <td>2.000000</td>\n",
       "      <td>27.000000</td>\n",
       "      <td>0.000000</td>\n",
       "      <td>1357.000000</td>\n",
       "      <td>0.700000</td>\n",
       "      <td>1.099000</td>\n",
       "    </tr>\n",
       "    <tr>\n",
       "      <th>50%</th>\n",
       "      <td>2.000000</td>\n",
       "      <td>552.000000</td>\n",
       "      <td>77.000000</td>\n",
       "      <td>15.000000</td>\n",
       "      <td>2.000000</td>\n",
       "      <td>29.000000</td>\n",
       "      <td>0.000000</td>\n",
       "      <td>1470.000000</td>\n",
       "      <td>0.729000</td>\n",
       "      <td>1.194000</td>\n",
       "    </tr>\n",
       "    <tr>\n",
       "      <th>75%</th>\n",
       "      <td>2.000000</td>\n",
       "      <td>873.000000</td>\n",
       "      <td>82.000000</td>\n",
       "      <td>16.000000</td>\n",
       "      <td>3.000000</td>\n",
       "      <td>30.000000</td>\n",
       "      <td>0.500000</td>\n",
       "      <td>1597.000000</td>\n",
       "      <td>0.756000</td>\n",
       "      <td>1.293000</td>\n",
       "    </tr>\n",
       "    <tr>\n",
       "      <th>max</th>\n",
       "      <td>5.000000</td>\n",
       "      <td>2639.000000</td>\n",
       "      <td>98.000000</td>\n",
       "      <td>23.000000</td>\n",
       "      <td>5.000000</td>\n",
       "      <td>30.000000</td>\n",
       "      <td>2.000000</td>\n",
       "      <td>2004.000000</td>\n",
       "      <td>0.837000</td>\n",
       "      <td>1.587000</td>\n",
       "    </tr>\n",
       "  </tbody>\n",
       "</table>\n",
       "</div>"
      ],
      "text/plain": [
       "            Visit     MR Delay         Age        EDUC         SES  \\\n",
       "count  373.000000   373.000000  373.000000  373.000000  354.000000   \n",
       "mean     1.882038   595.104558   77.013405   14.597855    2.460452   \n",
       "std      0.922843   635.485118    7.640957    2.876339    1.134005   \n",
       "min      1.000000     0.000000   60.000000    6.000000    1.000000   \n",
       "25%      1.000000     0.000000   71.000000   12.000000    2.000000   \n",
       "50%      2.000000   552.000000   77.000000   15.000000    2.000000   \n",
       "75%      2.000000   873.000000   82.000000   16.000000    3.000000   \n",
       "max      5.000000  2639.000000   98.000000   23.000000    5.000000   \n",
       "\n",
       "             MMSE         CDR         eTIV        nWBV         ASF  \n",
       "count  371.000000  373.000000   373.000000  373.000000  373.000000  \n",
       "mean    27.342318    0.290885  1488.128686    0.729568    1.195461  \n",
       "std      3.683244    0.374557   176.139286    0.037135    0.138092  \n",
       "min      4.000000    0.000000  1106.000000    0.644000    0.876000  \n",
       "25%     27.000000    0.000000  1357.000000    0.700000    1.099000  \n",
       "50%     29.000000    0.000000  1470.000000    0.729000    1.194000  \n",
       "75%     30.000000    0.500000  1597.000000    0.756000    1.293000  \n",
       "max     30.000000    2.000000  2004.000000    0.837000    1.587000  "
      ]
     },
     "execution_count": 16,
     "metadata": {},
     "output_type": "execute_result"
    }
   ],
   "source": [
    "oasis_longitudinal_demographics.describe()"
   ]
  },
  {
   "cell_type": "code",
   "execution_count": 17,
   "metadata": {
    "scrolled": false
   },
   "outputs": [
    {
     "data": {
      "text/html": [
       "<div>\n",
       "<style scoped>\n",
       "    .dataframe tbody tr th:only-of-type {\n",
       "        vertical-align: middle;\n",
       "    }\n",
       "\n",
       "    .dataframe tbody tr th {\n",
       "        vertical-align: top;\n",
       "    }\n",
       "\n",
       "    .dataframe thead th {\n",
       "        text-align: right;\n",
       "    }\n",
       "</style>\n",
       "<table border=\"1\" class=\"dataframe\">\n",
       "  <thead>\n",
       "    <tr style=\"text-align: right;\">\n",
       "      <th></th>\n",
       "      <th>MRI ID</th>\n",
       "      <th>M/F</th>\n",
       "      <th>CDR</th>\n",
       "      <th>eTIV</th>\n",
       "    </tr>\n",
       "  </thead>\n",
       "  <tbody>\n",
       "    <tr>\n",
       "      <th>2</th>\n",
       "      <td>OAS2_0002_MR1</td>\n",
       "      <td>M</td>\n",
       "      <td>0.5</td>\n",
       "      <td>1678</td>\n",
       "    </tr>\n",
       "    <tr>\n",
       "      <th>123</th>\n",
       "      <td>OAS2_0058_MR1</td>\n",
       "      <td>M</td>\n",
       "      <td>0.5</td>\n",
       "      <td>1315</td>\n",
       "    </tr>\n",
       "    <tr>\n",
       "      <th>261</th>\n",
       "      <td>OAS2_0127_MR1</td>\n",
       "      <td>M</td>\n",
       "      <td>0.0</td>\n",
       "      <td>1644</td>\n",
       "    </tr>\n",
       "    <tr>\n",
       "      <th>257</th>\n",
       "      <td>OAS2_0124_MR2</td>\n",
       "      <td>M</td>\n",
       "      <td>0.5</td>\n",
       "      <td>1479</td>\n",
       "    </tr>\n",
       "    <tr>\n",
       "      <th>256</th>\n",
       "      <td>OAS2_0124_MR1</td>\n",
       "      <td>M</td>\n",
       "      <td>0.5</td>\n",
       "      <td>1463</td>\n",
       "    </tr>\n",
       "  </tbody>\n",
       "</table>\n",
       "</div>"
      ],
      "text/plain": [
       "            MRI ID M/F  CDR  eTIV\n",
       "2    OAS2_0002_MR1   M  0.5  1678\n",
       "123  OAS2_0058_MR1   M  0.5  1315\n",
       "261  OAS2_0127_MR1   M  0.0  1644\n",
       "257  OAS2_0124_MR2   M  0.5  1479\n",
       "256  OAS2_0124_MR1   M  0.5  1463"
      ]
     },
     "execution_count": 17,
     "metadata": {},
     "output_type": "execute_result"
    }
   ],
   "source": [
    "# Removing rows of nondemented patients, as our focus is on people who are already demented\n",
    "# Since we only care about sex, brain volume and CDR, we will drop all other columns\n",
    "# We will also arrange our dataset on the 'M/F' column for easier merging\n",
    "\n",
    "oasis_longitudinal_demographics=oasis_longitudinal_demographics[oasis_longitudinal_demographics['Group'] != 'Nondemented']\n",
    "oasis_longitudinal_demographics=oasis_longitudinal_demographics.drop(columns=['Subject ID', 'Group', 'Age', 'Visit', 'MR Delay', 'Hand', 'EDUC', 'SES', 'MMSE', 'ASF', 'nWBV'])\n",
    "oasis_longitudinal_demographics=oasis_longitudinal_demographics.sort_values('M/F', ascending=False)\n",
    "oasis_longitudinal_demographics.head()"
   ]
  },
  {
   "cell_type": "code",
   "execution_count": 18,
   "metadata": {},
   "outputs": [],
   "source": [
    "# Renaming columns to match\n",
    "\n",
    "oasis_longitudinal_demographics=oasis_longitudinal_demographics.rename(columns={'MRI ID':'ID'})"
   ]
  },
  {
   "cell_type": "code",
   "execution_count": 19,
   "metadata": {
    "scrolled": true
   },
   "outputs": [
    {
     "data": {
      "text/html": [
       "<div>\n",
       "<style scoped>\n",
       "    .dataframe tbody tr th:only-of-type {\n",
       "        vertical-align: middle;\n",
       "    }\n",
       "\n",
       "    .dataframe tbody tr th {\n",
       "        vertical-align: top;\n",
       "    }\n",
       "\n",
       "    .dataframe thead th {\n",
       "        text-align: right;\n",
       "    }\n",
       "</style>\n",
       "<table border=\"1\" class=\"dataframe\">\n",
       "  <thead>\n",
       "    <tr style=\"text-align: right;\">\n",
       "      <th></th>\n",
       "      <th>CDR</th>\n",
       "      <th>eTIV</th>\n",
       "    </tr>\n",
       "  </thead>\n",
       "  <tbody>\n",
       "    <tr>\n",
       "      <th>count</th>\n",
       "      <td>183.000000</td>\n",
       "      <td>183.000000</td>\n",
       "    </tr>\n",
       "    <tr>\n",
       "      <th>mean</th>\n",
       "      <td>0.587432</td>\n",
       "      <td>1480.475410</td>\n",
       "    </tr>\n",
       "    <tr>\n",
       "      <th>std</th>\n",
       "      <td>0.332334</td>\n",
       "      <td>166.732688</td>\n",
       "    </tr>\n",
       "    <tr>\n",
       "      <th>min</th>\n",
       "      <td>0.000000</td>\n",
       "      <td>1143.000000</td>\n",
       "    </tr>\n",
       "    <tr>\n",
       "      <th>25%</th>\n",
       "      <td>0.500000</td>\n",
       "      <td>1357.000000</td>\n",
       "    </tr>\n",
       "    <tr>\n",
       "      <th>50%</th>\n",
       "      <td>0.500000</td>\n",
       "      <td>1463.000000</td>\n",
       "    </tr>\n",
       "    <tr>\n",
       "      <th>75%</th>\n",
       "      <td>0.500000</td>\n",
       "      <td>1568.500000</td>\n",
       "    </tr>\n",
       "    <tr>\n",
       "      <th>max</th>\n",
       "      <td>2.000000</td>\n",
       "      <td>1957.000000</td>\n",
       "    </tr>\n",
       "  </tbody>\n",
       "</table>\n",
       "</div>"
      ],
      "text/plain": [
       "              CDR         eTIV\n",
       "count  183.000000   183.000000\n",
       "mean     0.587432  1480.475410\n",
       "std      0.332334   166.732688\n",
       "min      0.000000  1143.000000\n",
       "25%      0.500000  1357.000000\n",
       "50%      0.500000  1463.000000\n",
       "75%      0.500000  1568.500000\n",
       "max      2.000000  1957.000000"
      ]
     },
     "execution_count": 19,
     "metadata": {},
     "output_type": "execute_result"
    }
   ],
   "source": [
    "# Descriptive statistics for eTIV and CDR\n",
    "# Note the lowest brain volume detected was 1143 mm3 and the max was 1957 mm3 between male and female\n",
    "\n",
    "oasis_longitudinal_demographics.describe(include=[np.number])"
   ]
  },
  {
   "cell_type": "markdown",
   "metadata": {},
   "source": [
    "In the cell below, to make the dataset easier to work with, we will merge the dataset on their CDR and M/F columns. All columns with '_x' will be data from Dataset #1 and '_y' will be data from Dataset #2. We will be left with a dataset joined together by their clinical ratings to make an easier distinction between, for example, female patients with mild dementia, male patients with moderat dementia, etc. The values will be in descending order from 0.0-2.0. \n",
    "\n",
    "- Name: brain_volume\n",
    "- Number of observations: 6164\n",
    "- Number of variables: 4"
   ]
  },
  {
   "cell_type": "code",
   "execution_count": 20,
   "metadata": {
    "scrolled": false
   },
   "outputs": [
    {
     "data": {
      "text/html": [
       "<div>\n",
       "<style scoped>\n",
       "    .dataframe tbody tr th:only-of-type {\n",
       "        vertical-align: middle;\n",
       "    }\n",
       "\n",
       "    .dataframe tbody tr th {\n",
       "        vertical-align: top;\n",
       "    }\n",
       "\n",
       "    .dataframe thead th {\n",
       "        text-align: right;\n",
       "    }\n",
       "</style>\n",
       "<table border=\"1\" class=\"dataframe\">\n",
       "  <thead>\n",
       "    <tr style=\"text-align: right;\">\n",
       "      <th></th>\n",
       "      <th>ID_x</th>\n",
       "      <th>M/F</th>\n",
       "      <th>CDR</th>\n",
       "      <th>eTIV_x</th>\n",
       "      <th>ID_y</th>\n",
       "      <th>eTIV_y</th>\n",
       "    </tr>\n",
       "  </thead>\n",
       "  <tbody>\n",
       "    <tr>\n",
       "      <th>0</th>\n",
       "      <td>OAS1_0332_MR1</td>\n",
       "      <td>M</td>\n",
       "      <td>0.0</td>\n",
       "      <td>1734</td>\n",
       "      <td>OAS2_0127_MR1</td>\n",
       "      <td>1644</td>\n",
       "    </tr>\n",
       "    <tr>\n",
       "      <th>1</th>\n",
       "      <td>OAS1_0332_MR1</td>\n",
       "      <td>M</td>\n",
       "      <td>0.0</td>\n",
       "      <td>1734</td>\n",
       "      <td>OAS2_0176_MR2</td>\n",
       "      <td>1398</td>\n",
       "    </tr>\n",
       "    <tr>\n",
       "      <th>2</th>\n",
       "      <td>OAS1_0332_MR1</td>\n",
       "      <td>M</td>\n",
       "      <td>0.0</td>\n",
       "      <td>1734</td>\n",
       "      <td>OAS2_0176_MR1</td>\n",
       "      <td>1404</td>\n",
       "    </tr>\n",
       "    <tr>\n",
       "      <th>3</th>\n",
       "      <td>OAS1_0332_MR1</td>\n",
       "      <td>M</td>\n",
       "      <td>0.0</td>\n",
       "      <td>1734</td>\n",
       "      <td>OAS2_0144_MR1</td>\n",
       "      <td>1704</td>\n",
       "    </tr>\n",
       "    <tr>\n",
       "      <th>4</th>\n",
       "      <td>OAS1_0332_MR1</td>\n",
       "      <td>M</td>\n",
       "      <td>0.0</td>\n",
       "      <td>1734</td>\n",
       "      <td>OAS2_0020_MR1</td>\n",
       "      <td>1587</td>\n",
       "    </tr>\n",
       "    <tr>\n",
       "      <th>...</th>\n",
       "      <td>...</td>\n",
       "      <td>...</td>\n",
       "      <td>...</td>\n",
       "      <td>...</td>\n",
       "      <td>...</td>\n",
       "      <td>...</td>\n",
       "    </tr>\n",
       "    <tr>\n",
       "      <th>6159</th>\n",
       "      <td>OAS1_0185_MR1</td>\n",
       "      <td>F</td>\n",
       "      <td>1.0</td>\n",
       "      <td>1314</td>\n",
       "      <td>OAS2_0064_MR1</td>\n",
       "      <td>1462</td>\n",
       "    </tr>\n",
       "    <tr>\n",
       "      <th>6160</th>\n",
       "      <td>OAS1_0185_MR1</td>\n",
       "      <td>F</td>\n",
       "      <td>1.0</td>\n",
       "      <td>1314</td>\n",
       "      <td>OAS2_0120_MR1</td>\n",
       "      <td>1409</td>\n",
       "    </tr>\n",
       "    <tr>\n",
       "      <th>6161</th>\n",
       "      <td>OAS1_0185_MR1</td>\n",
       "      <td>F</td>\n",
       "      <td>1.0</td>\n",
       "      <td>1314</td>\n",
       "      <td>OAS2_0114_MR2</td>\n",
       "      <td>1309</td>\n",
       "    </tr>\n",
       "    <tr>\n",
       "      <th>6162</th>\n",
       "      <td>OAS1_0185_MR1</td>\n",
       "      <td>F</td>\n",
       "      <td>1.0</td>\n",
       "      <td>1314</td>\n",
       "      <td>OAS2_0106_MR2</td>\n",
       "      <td>1489</td>\n",
       "    </tr>\n",
       "    <tr>\n",
       "      <th>6163</th>\n",
       "      <td>OAS1_0185_MR1</td>\n",
       "      <td>F</td>\n",
       "      <td>1.0</td>\n",
       "      <td>1314</td>\n",
       "      <td>OAS2_0106_MR1</td>\n",
       "      <td>1445</td>\n",
       "    </tr>\n",
       "  </tbody>\n",
       "</table>\n",
       "<p>6164 rows × 6 columns</p>\n",
       "</div>"
      ],
      "text/plain": [
       "               ID_x M/F  CDR  eTIV_x           ID_y  eTIV_y\n",
       "0     OAS1_0332_MR1   M  0.0    1734  OAS2_0127_MR1    1644\n",
       "1     OAS1_0332_MR1   M  0.0    1734  OAS2_0176_MR2    1398\n",
       "2     OAS1_0332_MR1   M  0.0    1734  OAS2_0176_MR1    1404\n",
       "3     OAS1_0332_MR1   M  0.0    1734  OAS2_0144_MR1    1704\n",
       "4     OAS1_0332_MR1   M  0.0    1734  OAS2_0020_MR1    1587\n",
       "...             ...  ..  ...     ...            ...     ...\n",
       "6159  OAS1_0185_MR1   F  1.0    1314  OAS2_0064_MR1    1462\n",
       "6160  OAS1_0185_MR1   F  1.0    1314  OAS2_0120_MR1    1409\n",
       "6161  OAS1_0185_MR1   F  1.0    1314  OAS2_0114_MR2    1309\n",
       "6162  OAS1_0185_MR1   F  1.0    1314  OAS2_0106_MR2    1489\n",
       "6163  OAS1_0185_MR1   F  1.0    1314  OAS2_0106_MR1    1445\n",
       "\n",
       "[6164 rows x 6 columns]"
      ]
     },
     "execution_count": 20,
     "metadata": {},
     "output_type": "execute_result"
    }
   ],
   "source": [
    "# Merging the two datasets on sex and brain volume\n",
    "\n",
    "brain_volume = pd.merge(oasis_cross_sectional, oasis_longitudinal_demographics, on=['CDR', 'M/F'])\n",
    "brain_volume"
   ]
  },
  {
   "cell_type": "markdown",
   "metadata": {},
   "source": [
    "# Data Visualization"
   ]
  },
  {
   "attachments": {
    "dimentia.png": {
     "image/png": "[encoded data removed]"
    }
   },
   "cell_type": "markdown",
   "metadata": {},
   "source": [
    "The CDR Scoring Table offers descriptive references to assist clinicians in assigning suitable ratings using interview information and clinical assessment. Alongside domain-specific ratings, an overall CDR™ score can be computed using a CDR™ Scoring Algorithm. </a>[<sup>1</sup>](#cite_note-1) This scoring system is valuable for defining and monitoring a patient's degree of impairment or dementia over time:\n",
    "\n",
    "    0 = Normal\n",
    "    0.5 = Very Mild Dementia or Questionable\n",
    "    1 = Mild Dementia\n",
    "    2 = Moderate Dementia\n",
    "\n",
    "\n",
    "![dimentia.png](attachment:dimentia.png)\n",
    "\n",
    "\n",
    "1. <a name=\"cite_note-1\"></a>[^](#cite_ref-1) Washington University School of Medicine in St. Louis. (n.d.). Knight Alzheimer Disease Research Center. *Department of Neurology* https://knightadrc.wustl.edu/professionals-clinicians/cdr-dementia-staging-instrument/"
   ]
  },
  {
   "cell_type": "markdown",
   "metadata": {},
   "source": [
    "### Histogram for eTIV"
   ]
  },
  {
   "cell_type": "code",
   "execution_count": 21,
   "metadata": {
    "scrolled": true
   },
   "outputs": [
    {
     "data": {
      "image/png": "[encoded data removed]",
      "text/plain": [
       "<Figure size 432x288 with 1 Axes>"
      ]
     },
     "metadata": {
      "needs_background": "light"
     },
     "output_type": "display_data"
    }
   ],
   "source": [
    "# Plotting histogram to show the distribution of brain volume derived from demented patients in Dataset 1\n",
    "plt.hist(brain_volume['eTIV_x'], bins=15, color='blue', edgecolor='black')\n",
    "plt.xlabel('Brain Volume')\n",
    "plt.ylabel('Frequency')\n",
    "plt.title('Histogram of Brain Volumes for Demented Patients')\n",
    "plt.show()"
   ]
  },
  {
   "cell_type": "code",
   "execution_count": 23,
   "metadata": {
    "scrolled": true
   },
   "outputs": [
    {
     "data": {
      "image/png": "[encoded data removed]",
      "text/plain": [
       "<Figure size 432x288 with 1 Axes>"
      ]
     },
     "metadata": {
      "needs_background": "light"
     },
     "output_type": "display_data"
    }
   ],
   "source": [
    "# Plotting histogram to show the distribution of brain volume derived from demented patients in Dataset 2\n",
    "plt.hist(brain_volume['eTIV_y'], bins=15, color='red', edgecolor='black')\n",
    "plt.xlabel('Brain Volume')\n",
    "plt.ylabel('Frequency')\n",
    "plt.title('Histogram of Brain Volumes for Demented Patients')\n",
    "plt.show()"
   ]
  },
  {
   "cell_type": "markdown",
   "metadata": {},
   "source": [
    "For ease of visualization, we will merge the datasets on eTIV to get a general picture of the frequency of brain volumes in our datasets. This method does have limitations which we will explain more in detail later into the project."
   ]
  },
  {
   "cell_type": "code",
   "execution_count": 24,
   "metadata": {},
   "outputs": [
    {
     "data": {
      "image/png": "[encoded data removed]",
      "text/plain": [
       "<Figure size 432x288 with 1 Axes>"
      ]
     },
     "metadata": {
      "needs_background": "light"
     },
     "output_type": "display_data"
    }
   ],
   "source": [
    "# Combine on eTIV\n",
    "eTIV_combined = pd.merge(oasis_cross_sectional, oasis_longitudinal_demographics, on=['CDR', 'M/F', 'eTIV'])\n",
    "\n",
    "plt.hist(eTIV_combined['eTIV'], bins=15, color='salmon', edgecolor='black')\n",
    "plt.xlabel('Brain Volume')\n",
    "plt.ylabel('Frequency')\n",
    "plt.title('Histogram of Brain Volumes for Demented Patients')\n",
    "plt.show()"
   ]
  },
  {
   "cell_type": "markdown",
   "metadata": {},
   "source": [
    "#### Findings:\n",
    "Between the two datasets in their brain volume, their averages lie between 1200 to 1600 mm3. Additionally, it's important to note that the highest values recorded are different and have the potential to average out. In Dataset #1 adn #2, the highest calculated brain volume is 2000 mm3. Using the histogram with combined data, it's much easier to specify that the most frequent brain volume in demented patients is between 1400-1500 mm3. "
   ]
  },
  {
   "cell_type": "markdown",
   "metadata": {},
   "source": [
    "### Bar plot for CDR by Gender"
   ]
  },
  {
   "cell_type": "markdown",
   "metadata": {},
   "source": [
    "A stacked bar plot is effective for comparing the distribution of Clinical Dementia Rating (CDR) across male and female (M/F) categories, allowing clear visualization of differences in dementia severity between genders and providing a comprehensive view of subgroup compositions within each CDR level. You can see below that there are more very mild demented participants that are than female."
   ]
  },
  {
   "cell_type": "code",
   "execution_count": 25,
   "metadata": {
    "scrolled": false
   },
   "outputs": [
    {
     "data": {
      "image/png": "[encoded data removed]",
      "text/plain": [
       "<Figure size 432x288 with 1 Axes>"
      ]
     },
     "metadata": {
      "needs_background": "light"
     },
     "output_type": "display_data"
    }
   ],
   "source": [
    "grouped_data = brain_volume.groupby(['CDR', 'M/F']).size().unstack()\n",
    "\n",
    "colors = ['red', 'blue']\n",
    "grouped_data.plot(kind='bar', stacked=True, color=colors)\n",
    "plt.xlabel('CDR (Clinical Dementia Rating)')\n",
    "plt.ylabel('Count')\n",
    "plt.title('Grouped Bar Chart of CDR by Gender')\n",
    "plt.legend(title='M/F')\n",
    "plt.show()"
   ]
  },
  {
   "cell_type": "code",
   "execution_count": 26,
   "metadata": {},
   "outputs": [
    {
     "data": {
      "text/plain": [
       "(2590, 3574)"
      ]
     },
     "execution_count": 26,
     "metadata": {},
     "output_type": "execute_result"
    }
   ],
   "source": [
    "male_count = brain_volume[brain_volume['M/F'] == 'M'].shape[0]\n",
    "female_count = brain_volume[brain_volume['M/F'] == 'F'].shape[0]\n",
    "\n",
    "male_count, female_count"
   ]
  },
  {
   "cell_type": "markdown",
   "metadata": {},
   "source": [
    "#### Findings\n",
    "There are not very many moderate dementia patients. After performing more intricate analysis, we believe it is important to show the counts of data compiled that are either male or female. This is a possible limitation due to the 984 more female participant data that may skew the visualizations we see above. Overall though, men on average according to the data present very milkd dementia more than any other category, women perform similarly but at a much lower rate."
   ]
  },
  {
   "cell_type": "markdown",
   "metadata": {},
   "source": [
    "### Scatter plot for CDR and eTIV associtation"
   ]
  },
  {
   "cell_type": "code",
   "execution_count": 38,
   "metadata": {
    "scrolled": true
   },
   "outputs": [
    {
     "data": {
      "image/png": "[encoded data removed]",
      "text/plain": [
       "<Figure size 432x288 with 1 Axes>"
      ]
     },
     "metadata": {
      "needs_background": "light"
     },
     "output_type": "display_data"
    }
   ],
   "source": [
    "# Here is a scatter plot for CDR using brain volume data form Dataset #1\n",
    "\n",
    "plt.scatter(brain_volume['CDR'], brain_volume['eTIV_x'], color='blue', label='eTIV vs CDR')\n",
    "plt.xlabel('CDR')\n",
    "plt.ylabel('eTIV')\n",
    "plt.title('Association between CDR and Dataset #1 eTIV')\n",
    "plt.legend()\n",
    "plt.grid(True)\n",
    "plt.show()"
   ]
  },
  {
   "cell_type": "code",
   "execution_count": 39,
   "metadata": {
    "scrolled": true
   },
   "outputs": [
    {
     "data": {
      "image/png": "[encoded data removed]",
      "text/plain": [
       "<Figure size 432x288 with 1 Axes>"
      ]
     },
     "metadata": {
      "needs_background": "light"
     },
     "output_type": "display_data"
    }
   ],
   "source": [
    "# Here is a scatter plot for CDR using brain volume data form Dataset #2\n",
    "\n",
    "plt.scatter(brain_volume['CDR'], brain_volume['eTIV_y'], color='red', label='eTIV vs CDR')\n",
    "plt.xlabel('CDR')\n",
    "plt.ylabel('eTIV')\n",
    "plt.title('Association between CDR and Dataset #2 eTIV')\n",
    "plt.legend()\n",
    "plt.grid(True)\n",
    "plt.show()"
   ]
  },
  {
   "cell_type": "markdown",
   "metadata": {},
   "source": [
    "Just as above, for ease of visualization we will combine both datasets on CDR, M/F, and eTIV to see the averages between the two. This method will decrease our number of observations to 69 total compared to our previous 6164 observations. Later, we will dscuss the limitations of demonstrating our data as such. For now, we will combine the columns to observe the average brain volumes by their Clinical Dementia Rating from 0-2. "
   ]
  },
  {
   "cell_type": "code",
   "execution_count": 29,
   "metadata": {
    "scrolled": true
   },
   "outputs": [
    {
     "data": {
      "image/png": "[encoded data removed]",
      "text/plain": [
       "<Figure size 432x288 with 1 Axes>"
      ]
     },
     "metadata": {
      "needs_background": "light"
     },
     "output_type": "display_data"
    }
   ],
   "source": [
    "plt.scatter(eTIV_combined['CDR'], eTIV_combined['eTIV'], color='salmon', label='eTIV vs CDR')\n",
    "plt.xlabel('CDR')\n",
    "plt.ylabel('eTIV')\n",
    "plt.title('Association between CDR and eTIV')\n",
    "plt.legend()\n",
    "plt.grid(True)\n",
    "plt.show()"
   ]
  },
  {
   "cell_type": "markdown",
   "metadata": {},
   "source": [
    "#### Findings:\n",
    "- There is a very interesting visualization presented in the scatterplot. In Dataset #1, most of the Clinical Dementia Rating is as a value of 0.00 (Normal) while in Dataset #2, the Clinical Dementia Rating is most common at a value of 0.50 (Very Mild Demented). It's important to note there are a few outliers in the data where very few cases present a CDR of 2 (Moderate Dementia). \n",
    "- Taking into account the brain volume, let's separate the analysis for easier understanding:\n",
    "    - Dataset #1: eTIV lowers as the CDR increases. The highest volume was measured at 0.850 with a CDR value of 0.0. Suggesting a negative correlation\n",
    "    - Dataset #2: eTIV lowers as CDR increases. The highest volume was measrued at slightly above 0.80 with a CDR value of 0.50. As well suggesting a negative correlation with some tweaks, but over all it shows a similar trend to that of the first dataset\n",
    "    \n",
    "After combining the datasets, can see one very distinct trend in that patients who have a CDR rating of 0.50. That is, their brain volumes tend to hang around the 1300-1500 value. There are also some peculiarities in the data such taht the CDR rating of 2.0 have a higher brain volume than some of those two have a CDR rating of 0, suggesting there could be some skew in the data."
   ]
  },
  {
   "cell_type": "markdown",
   "metadata": {},
   "source": [
    "# Data Analysis"
   ]
  },
  {
   "cell_type": "markdown",
   "metadata": {},
   "source": [
    "To investigate the relationship between two variables, M/F and eTIV, we will person a bivariate analysis to note any strong connections. Additionally, it will help make the data easier to interpret and understand through data visualization."
   ]
  },
  {
   "cell_type": "code",
   "execution_count": 43,
   "metadata": {
    "scrolled": false
   },
   "outputs": [
    {
     "data": {
      "image/png": "[encoded data removed]",
      "text/plain": [
       "<Figure size 864x576 with 1 Axes>"
      ]
     },
     "metadata": {
      "needs_background": "light"
     },
     "output_type": "display_data"
    }
   ],
   "source": [
    "# Violin plot demonstrating brain volume separating M/F based on their CDR values\n",
    "# This plot is specified for Dataset #1\n",
    "\n",
    "plt.figure(figsize=(12, 8))\n",
    "ax = sns.violinplot(x=\"M/F\", y=\"eTIV_x\",hue=\"CDR\", data=brain_volume)\n",
    "plt.show()"
   ]
  },
  {
   "cell_type": "code",
   "execution_count": 44,
   "metadata": {},
   "outputs": [
    {
     "data": {
      "image/png": "[encoded data removed]",
      "text/plain": [
       "<Figure size 864x576 with 1 Axes>"
      ]
     },
     "metadata": {
      "needs_background": "light"
     },
     "output_type": "display_data"
    }
   ],
   "source": [
    "# Violin plot demonstrating brain volume separating M/F based on their CDR values\n",
    "# This plot is specified for Dataset #2\n",
    "\n",
    "plt.figure(figsize=(12, 8))\n",
    "ax = sns.violinplot(x=\"M/F\", y=\"eTIV_y\",hue=\"CDR\", data=brain_volume)\n",
    "plt.show()"
   ]
  },
  {
   "cell_type": "markdown",
   "metadata": {},
   "source": [
    "Using the combined dataset which merges all columns other than ID, below is a violin plot for the 69 resulting observations. All other variables remain the same with brain volume on the y-axis, gender on the x-axis and CDR as the table which separates the M/F category."
   ]
  },
  {
   "cell_type": "code",
   "execution_count": 42,
   "metadata": {},
   "outputs": [
    {
     "data": {
      "image/png": "[encoded data removed]",
      "text/plain": [
       "<Figure size 864x576 with 1 Axes>"
      ]
     },
     "metadata": {
      "needs_background": "light"
     },
     "output_type": "display_data"
    }
   ],
   "source": [
    "plt.figure(figsize=(12, 8))\n",
    "ax = sns.violinplot(x=\"M/F\", y=\"eTIV\",hue=\"CDR\", data=eTIV_combined)\n",
    "plt.show()"
   ]
  },
  {
   "cell_type": "markdown",
   "metadata": {},
   "source": [
    "What's very interesting is that among all the plots, even when brain volume was not merged, the brain volume demonstrated in demented patients was lower on average for female patients than male patients. In the plot above, we generally have more representation for female patients in the CDR index, showing that their medians are at a lower eTIV value than males. Additionally, there are only median horizontal lines on the plot which represent the 0.0 CDR index for males and the 2.0 CDR index for females. This could suggest there is very minimal data form the merged sets. However, from the plots above, we can see that there is data present for those two ranges in the second dataset. The simplest answer for this observation is that of error in the means when combining the two datasets. "
   ]
  },
  {
   "cell_type": "code",
   "execution_count": 50,
   "metadata": {
    "scrolled": false
   },
   "outputs": [
    {
     "name": "stderr",
     "output_type": "stream",
     "text": [
      "/tmp/ipykernel_991/1674353402.py:5: FutureWarning: Indexing with multiple keys (implicitly converted to a tuple of keys) will be deprecated, use a list instead.\n",
      "  mean_male_eTIV=male_data.groupby(['ID_x', 'ID_y'])['eTIV_y', 'eTIV_x'].mean()\n"
     ]
    },
    {
     "data": {
      "text/plain": [
       "<Figure size 720x432 with 0 Axes>"
      ]
     },
     "metadata": {},
     "output_type": "display_data"
    },
    {
     "data": {
      "image/png": "[encoded data removed]",
      "text/plain": [
       "<Figure size 432x288 with 1 Axes>"
      ]
     },
     "metadata": {
      "needs_background": "light"
     },
     "output_type": "display_data"
    }
   ],
   "source": [
    "# This code segment filters data for males\n",
    "# Then calculates the mean eTIV values for each unique combination of 'ID_x' and 'ID_y' within the male data subset.\n",
    "\n",
    "male_data=brain_volume[brain_volume['M/F']=='M']\n",
    "mean_male_eTIV=male_data.groupby(['ID_x', 'ID_y'])['eTIV_y', 'eTIV_x'].mean()\n",
    "plt.figure(figsize=(10, 6))\n",
    "mean_male_eTIV.plot(kind='hist', edgecolor='black')\n",
    "plt.xlabel('Mean Brain Volume')\n",
    "plt.ylabel('Count')\n",
    "plt.title('Mean Brain Volume in Males')\n",
    "plt.xticks(rotation=45, ha='right')\n",
    "plt.tight_layout()\n",
    "plt.show()"
   ]
  },
  {
   "cell_type": "code",
   "execution_count": 51,
   "metadata": {
    "scrolled": false
   },
   "outputs": [
    {
     "name": "stderr",
     "output_type": "stream",
     "text": [
      "/tmp/ipykernel_991/1307572456.py:4: FutureWarning: Indexing with multiple keys (implicitly converted to a tuple of keys) will be deprecated, use a list instead.\n",
      "  mean_female_eTIV=female_data.groupby(['ID_x', 'ID_y'])['eTIV_y', 'eTIV_x'].mean()\n"
     ]
    },
    {
     "data": {
      "text/plain": [
       "<Figure size 720x432 with 0 Axes>"
      ]
     },
     "metadata": {},
     "output_type": "display_data"
    },
    {
     "data": {
      "image/png": "[encoded data removed]",
      "text/plain": [
       "<Figure size 432x288 with 1 Axes>"
      ]
     },
     "metadata": {
      "needs_background": "light"
     },
     "output_type": "display_data"
    }
   ],
   "source": [
    "# This code segment filters data for females\n",
    "# Then calculates the mean eTIV values for each unique combination of 'ID_x' and 'ID_y' within the female data subset.\n",
    "female_data=brain_volume[brain_volume['M/F']=='F']\n",
    "mean_female_eTIV=female_data.groupby(['ID_x', 'ID_y'])['eTIV_y', 'eTIV_x'].mean()\n",
    "\n",
    "\n",
    "plt.figure(figsize=(10, 6))\n",
    "mean_female_eTIV.plot(kind='hist', edgecolor='black')\n",
    "plt.xlabel('Mean Brain Volume')\n",
    "plt.ylabel('Count')\n",
    "plt.title('Mean Brain Volume in Females')\n",
    "plt.xticks(rotation=45, ha='right')\n",
    "plt.tight_layout()\n",
    "plt.show()"
   ]
  },
  {
   "cell_type": "markdown",
   "metadata": {},
   "source": [
    "Above is a visualizaiton which filters data for males and females respectively. Demonstrated on an overlayed histogram, we can see that between both datasets, there are very few female participatns that have a mean brain volume higher than 1500-1600. The heavier portion of brain volume for males lies skewed to the left as does the data for women, but differingly deomonstrating a strong average fo 1400 mm3 in brain volume.\n",
    "\n",
    "For the sake of accuracy, we will be abandoning our combined dataset 'eTIV_combined' to perform a Pearson Correlation Coefficient task. Our reasoning for a PCC is to determine if there is a linear component associated between our two variables of concern: gender and associated brain volume. In seeing the strength of the correlation, we can make a good deterministic descision that brain volume in demented patients does differ between gender."
   ]
  },
  {
   "cell_type": "code",
   "execution_count": 55,
   "metadata": {
    "scrolled": true
   },
   "outputs": [
    {
     "name": "stdout",
     "output_type": "stream",
     "text": [
      "Pearson correlation coefficient: 0.302982850979866\n"
     ]
    }
   ],
   "source": [
    "correlation = np.corrcoef(brain_volume['eTIV_x'], brain_volume['eTIV_y'])[0, 1]\n",
    "print(f\"Pearson correlation coefficient: {correlation}\")"
   ]
  },
  {
   "cell_type": "markdown",
   "metadata": {},
   "source": [
    "The output Pearson correlation coefficient: 0.302982850979866 indicates a moderate positive correlation between the 'eTIV_x' and 'eTIV_y' columns in the dataset.\n"
   ]
  },
  {
   "cell_type": "code",
   "execution_count": 35,
   "metadata": {},
   "outputs": [
    {
     "name": "stdout",
     "output_type": "stream",
     "text": [
      "Pearson correlation coefficient for males: -0.00029160691475869574\n",
      "Pearson correlation coefficient for females: 0.009529753739218721\n"
     ]
    }
   ],
   "source": [
    "male_brain_volume = brain_volume[brain_volume['M/F'] == 'M']\n",
    "female_brain_volume = brain_volume[brain_volume['M/F'] == 'F']\n",
    "\n",
    "# Calculate Pearson correlation coefficient for male and female groups\n",
    "male_correlation = np.corrcoef(male_brain_volume['eTIV_x'], male_brain_volume['eTIV_y'])[0, 1]\n",
    "female_correlation = np.corrcoef(female_brain_volume['eTIV_x'], female_brain_volume['eTIV_y'])[0, 1]\n",
    "\n",
    "print(f\"Pearson correlation coefficient for males: {male_correlation}\")\n",
    "print(f\"Pearson correlation coefficient for females: {female_correlation}\")"
   ]
  },
  {
   "cell_type": "markdown",
   "metadata": {},
   "source": [
    "The output Pearson correlation coefficient for males: -0.00029160691475869574 indicates a very weak negative correlation (close to zero) for males, and Pearson correlation coefficient for females: 0.009529753739218721 indicates a very weak positive correlation (close to zero) for females. These values suggest that there is almost no linear relationship between the 'eTIV_x' and 'eTIV_y' columns for both males and females in this dataset."
   ]
  },
  {
   "cell_type": "markdown",
   "metadata": {},
   "source": [
    "According to a paper published by the National Library of Medicine, the mean brain volume for men is 1209 mm^3 while for women is is 1056 mm^3.</a>[<sup>1</sup>](#cite_note-1) Using these values, let's create a function that can take an input and determine whether that falls inside or outside the normal range for males or females. If the inputted value is less than the mean brain volume for the respective gender, it will output that it is a possible red flag. Our hope is that our small demo could be used as a small tool in diagnosis. \n",
    "\n",
    "\n",
    "1. <a name=\"cite_note-1\"></a>[^](#cite_ref-1) National Library of Medicine. (2020, May). Aging and the Brain: A Quantitative Study of Clinical CT Images. *National Center for Biotechnology Information* https://www.ncbi.nlm.nih.gov/pmc/articles/PMC7228157/#:~:text=Brain%20Parenchymal%20Volume&text=The%20mean%20brain%20volume%20for,1056%20%C2%B1%20107.4%20cm3)."
   ]
  },
  {
   "cell_type": "code",
   "execution_count": 56,
   "metadata": {},
   "outputs": [
    {
     "name": "stdout",
     "output_type": "stream",
     "text": [
      "Possible red flag: Brain volume for males is below the normal range.\n"
     ]
    }
   ],
   "source": [
    "#    Checks if the brain volume in the input row falls within the normal range for males or females.\n",
    "#    Parameters:\n",
    "#    - row: pandas Series, containing information about a specific row including ID, brain volume, and gender.\n",
    "#    - male_mean_brain_volume: float, mean brain volume for males.\n",
    "#    - female_mean_brain_volume: float, mean brain volume for females.\n",
    "#    Returns:\n",
    "#    - str: A message indicating whether the brain volume is within normal range or a possible red flag\n",
    "\n",
    "def check_brain_volume_normality(row, male_mean_brain_volume, female_mean_brain_volume):\n",
    "    gender = row['M/F']\n",
    "    brain_volume = row['Brain Volume']\n",
    "\n",
    "    if gender == 'M' and brain_volume < male_mean_brain_volume:\n",
    "        return \"Possible red flag: Brain volume for males is below the normal range.\"\n",
    "    elif gender == 'F' and brain_volume < female_mean_brain_volume:\n",
    "        return \"Possible red flag: Brain volume for females is below the normal range.\"\n",
    "    else:\n",
    "        return \"Brain volume is within the normal range.\"\n",
    "\n",
    "# Example usage/example row:\n",
    "input_row = {'ID': 'OAS1_001', 'M/F': 'M', 'Brain Volume': 1180}\n",
    "male_mean_volume = 1209  # Mean brain volume for males\n",
    "female_mean_volume = 1056  # Mean brain volume for females\n",
    "\n",
    "message = check_brain_volume_normality(input_row, male_mean_volume, female_mean_volume)\n",
    "print(message)\n"
   ]
  },
  {
   "cell_type": "markdown",
   "metadata": {},
   "source": [
    "### Summary of Findings\n",
    "\n",
    "The findings from the analysis include:\n",
    "\n",
    "1. **CDR Scoring and Brain Volume Distribution:**\n",
    "   - The CDR Scoring Table helps clinicians assign ratings for dementia severity, with scores ranging from 0 (Normal) to 2 (Moderate Dementia).\n",
    "   - Brain volume distributions in demented patients from two datasets average between 1200 to 1600 mm³, with the highest recorded brain volume reaching 2000 mm³.\n",
    "   - The most frequent brain volume range for demented patients is between 1400-1500 mm³.\n",
    "\n",
    "2. **Gender Differences and Dementia Severity:**\n",
    "   - Visualizations show more very mild dementia cases in males than females, with overall fewer moderate dementia cases observed.\n",
    "   - The analysis reveals differences in brain volume between genders, with males tending to have higher brain volumes, particularly in the 1400 mm³ range.\n",
    "\n",
    "3. **Association between CDR and Brain Volume:**\n",
    "   - Scatter plots demonstrate a negative correlation between Clinical Dementia Rating (CDR) and brain volume, suggesting lower brain volumes with increasing dementia severity.\n",
    "\n",
    "4. **Pearson Correlation Coefficients:**\n",
    "   - A moderate positive correlation is observed between brain volumes from the two datasets.\n",
    "   - When examining male and female subsets separately, very weak correlations (close to zero) are found, indicating almost no linear relationship between brain volumes.\n",
    "\n",
    "5. **Brain Volume Analysis by Gender:**\n",
    "   - Histograms and violin plots show brain volume distributions by gender and CDR levels, indicating variations in brain volumes between males and females across dementia severity levels.\n",
    "\n",
    "These findings suggest significant gender-based differences in brain volume distributions among demented patients, with implications for understanding dementia progression and potential diagnostic insights. Additionally, the function created to check if a patient's brain volume falls within the normal range for males or females based on mean values could suggest a potential diagnostic tool as it provides a possible red flags for volumes below the normal range"
   ]
  },
  {
   "cell_type": "markdown",
   "metadata": {},
   "source": [
    "# Part 2: Preditictive Model Prototype"
   ]
  },
  {
   "cell_type": "markdown",
   "metadata": {},
   "source": [
    "[Repeat a similar layout as above]"
   ]
  },
  {
   "cell_type": "markdown",
   "metadata": {},
   "source": [
    "## Ethics and Privacy"
   ]
  },
  {
   "cell_type": "markdown",
   "metadata": {},
   "source": [
    "lalal"
   ]
  },
  {
   "cell_type": "markdown",
   "metadata": {},
   "source": [
    "# Discussion and Conclusion"
   ]
  },
  {
   "cell_type": "markdown",
   "metadata": {},
   "source": [
    "### Conclusion\n",
    "lalala\n",
    "\n",
    "\n",
    "### Limitations\n",
    "One of the largest limitations we faced in this project was finding data that was numerical and free. The data collected from Oasis required access which was to be requested, it was one of few datasets that were not blocked behind a paywall. If the data was not blocked, it did not include information we were particularly interested in using. There is a larger limitation in the datasets we used and that is they contain age data which varies quite largely. In oasis_cross_sectional, the set consisted of 416 subjects aged between 18 adn 96 while oasis_longitudinal_demographics had 150 subjects ages 60 to 96 which could've skewed our analysis. Additionally, the data cleaning and wrangling performed could have gotten rid of some data that could had similarly skewed our data. \n",
    "\n",
    "This leads us into another limitation which we pointed our earlier in our project and that is the merging of our eTIV column, or our brain volume column. This value was unique to a unique ID to its respective dataset. What occured when we merged was that many of the eTIV values were dropped and as a result significantly reduced the size of our data. This is to say because of the small sample size, we cannot take most of the observations we made as definitively true. Rather, they can be used for further research. In the future, it would be best to strictly work on analysis of these two datasets separately. That is because although they contain very similar data, they reflect different demographics which could alter and misrepresent the possibility for an accurate diagnosis for dementia related illnesses."
   ]
  },
  {
   "cell_type": "code",
   "execution_count": null,
   "metadata": {},
   "outputs": [],
   "source": [
    "## derived from -- https://medium.com/@mangesh8374/working-with-image-dataset-to-build-cnn-model-in-tensorflow-f3dba0f72bfa\n",
    "\n",
    "data_dir = 'D:\\Millet Classification\\Millet_Dataset'\n",
    "file_extensions = [\".png\", \".jpg\", \".jpeg\"]  # image file extensions from the downloaded images\n",
    "file_types_accepted_by_tf = [\"bmp\", \"gif\", \"jpeg\", \"png\"] # image extensions accepted by TensorFlow\n",
    "for filepath in Path(data_dir).rglob(\"*\"):\n",
    "    if filepath.suffix.lower() in file_extensions:\n",
    "        img_type = imghdr.what(filepath)\n",
    "        if img_type is None:\n",
    "            print(f\"{filepath} is not an image\")\n",
    "        elif img_type not in file_types_accepted_by_tf:\n",
    "            print(f\"{filepath} is a {img_type}, not accepted by TensorFlow\")\n",
    "            \n",
    "data_dir = 'D:\\Millet Classification\\Millet_Dataset'\n",
    "\n",
    "def jpg_to_jpeg(data_dir):\n",
    "    for dir_name in os.listdir(data_dir):\n",
    "        files = os.path.join(data_dir,dir_name)\n",
    "        for filepaths in os.listdir(files):\n",
    "            file_names = os.path.join(files,filepaths)\n",
    "            if file_names.endswith(\".jpg\") or file_names.endswith(\".JPG\"):\n",
    "                img = cv2.imread(str(file_names))\n",
    "                cv2.imwrite(file_names[0:-4]+\".jpeg\", img)\n",
    "                os.remove(file_names)"
   ]
  },
  {
   "cell_type": "markdown",
   "metadata": {},
   "source": [
    "##### source: \n",
    "https://stackoverflow.com/questions/51178166/iterate-through-folder-with-pillow-image-open"
   ]
  },
  {
   "cell_type": "markdown",
   "metadata": {},
   "source": [
    "save below for when images are finished uploading"
   ]
  },
  {
   "cell_type": "code",
   "execution_count": null,
   "metadata": {},
   "outputs": [],
   "source": [
    "#directory_path_1='oasis_cross_section.csv'\n",
    "#for filename in os.listdir(directory_path_1):\n",
    "#    if filename.endswith('.jpg'):\n",
    "#        print(filename)\n",
    "        \n",
    "#directory_path_2='oasis_longitudinal_demographics.csv'\n",
    "#for filename in os.listdir(directory_path_2):\n",
    "#    if filename.endswith('.jpg'):\n",
    "#        print(filename)"
   ]
  },
  {
   "cell_type": "markdown",
   "metadata": {},
   "source": [
    "##### source: \n",
    "https://stackoverflow.com/questions/51178166/iterate-through-folder-with-pillow-image-open\n",
    "\n",
    "!! CAUTION !!\n",
    "\n",
    "Need to remove the # from img.show() and all files from the folder will open"
   ]
  },
  {
   "cell_type": "code",
   "execution_count": null,
   "metadata": {},
   "outputs": [],
   "source": [
    "images = glob.glob(\"Datasets/Moderate_Demented/*.jpg\")\n",
    "for image in images:\n",
    "    with open(image, 'rb') as file:\n",
    "        img = Image.open(file)\n",
    "        # img.show()\n"
   ]
  },
  {
   "cell_type": "code",
   "execution_count": null,
   "metadata": {
    "scrolled": true
   },
   "outputs": [],
   "source": [
    "pip install tensorflow"
   ]
  },
  {
   "cell_type": "code",
   "execution_count": null,
   "metadata": {},
   "outputs": [],
   "source": [
    "from tensorflow import keras\n",
    "import keras\n",
    "from keras.datasets import mnist\n",
    "from keras.models import Sequential\n",
    "from keras.layers import Dense, Dropout, Flatten\n",
    "from keras.layers import Conv2D, MaxPooling2D\n",
    "import numpy as np"
   ]
  }
 ],
 "metadata": {
  "kernelspec": {
   "display_name": "Python 3 (ipykernel)",
   "language": "python",
   "name": "python3"
  },
  "language_info": {
   "codemirror_mode": {
    "name": "ipython",
    "version": 3
   },
   "file_extension": ".py",
   "mimetype": "text/x-python",
   "name": "python",
   "nbconvert_exporter": "python",
   "pygments_lexer": "ipython3",
   "version": "3.9.5"
  }
 },
 "nbformat": 4,
 "nbformat_minor": 2
}
